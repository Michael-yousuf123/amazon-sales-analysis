{
 "cells": [
  {
   "cell_type": "code",
   "execution_count": 1,
   "metadata": {},
   "outputs": [],
   "source": [
    "import os\n",
    "import numpy as np\n",
    "import pandas as pd"
   ]
  },
  {
   "cell_type": "code",
   "execution_count": 3,
   "metadata": {},
   "outputs": [],
   "source": [
    "df = pd.read_csv(\"/home/miki/Desktop/Projects/Hamoye/amazon-sales-analysis/data/scraped_data.csv\")"
   ]
  },
  {
   "cell_type": "code",
   "execution_count": 5,
   "metadata": {},
   "outputs": [],
   "source": [
    "df['year'] = 2009"
   ]
  },
  {
   "cell_type": "code",
   "execution_count": 6,
   "metadata": {},
   "outputs": [
    {
     "data": {
      "text/html": [
       "<div>\n",
       "<style scoped>\n",
       "    .dataframe tbody tr th:only-of-type {\n",
       "        vertical-align: middle;\n",
       "    }\n",
       "\n",
       "    .dataframe tbody tr th {\n",
       "        vertical-align: top;\n",
       "    }\n",
       "\n",
       "    .dataframe thead th {\n",
       "        text-align: right;\n",
       "    }\n",
       "</style>\n",
       "<table border=\"1\" class=\"dataframe\">\n",
       "  <thead>\n",
       "    <tr style=\"text-align: right;\">\n",
       "      <th></th>\n",
       "      <th>author</th>\n",
       "      <th>title</th>\n",
       "      <th>types</th>\n",
       "      <th>price</th>\n",
       "      <th>review</th>\n",
       "      <th>rate</th>\n",
       "      <th>year</th>\n",
       "    </tr>\n",
       "  </thead>\n",
       "  <tbody>\n",
       "    <tr>\n",
       "      <th>0</th>\n",
       "      <td>Dan Brown</td>\n",
       "      <td>The Lost Symbol</td>\n",
       "      <td>Hardcover</td>\n",
       "      <td>&lt;span class=\"a-size-base\"&gt;&lt;span class=\"p13n-sc...</td>\n",
       "      <td>16,769</td>\n",
       "      <td>4.4 out of 5 stars</td>\n",
       "      <td>2009</td>\n",
       "    </tr>\n",
       "    <tr>\n",
       "      <th>1</th>\n",
       "      <td>William P. Young</td>\n",
       "      <td>The Shack: Where Tragedy Confronts Eternity</td>\n",
       "      <td>Paperback</td>\n",
       "      <td>&lt;span class=\"a-size-base\"&gt;&lt;span class=\"p13n-sc...</td>\n",
       "      <td>23,634</td>\n",
       "      <td>4.7 out of 5 stars</td>\n",
       "      <td>2009</td>\n",
       "    </tr>\n",
       "    <tr>\n",
       "      <th>2</th>\n",
       "      <td>Mark R. Levin</td>\n",
       "      <td>Liberty and Tyranny: A Conservative Manifesto</td>\n",
       "      <td>Hardcover</td>\n",
       "      <td>&lt;span class=\"a-size-base\"&gt;&lt;span class=\"p13n-sc...</td>\n",
       "      <td>5,063</td>\n",
       "      <td>4.8 out of 5 stars</td>\n",
       "      <td>2009</td>\n",
       "    </tr>\n",
       "    <tr>\n",
       "      <th>3</th>\n",
       "      <td>Stephenie Meyer</td>\n",
       "      <td>Breaking Dawn (The Twilight Saga, Book 4)</td>\n",
       "      <td>Hardcover</td>\n",
       "      <td>&lt;span class=\"a-size-base\"&gt;&lt;span class=\"p13n-sc...</td>\n",
       "      <td>17,355</td>\n",
       "      <td>4.7 out of 5 stars</td>\n",
       "      <td>2009</td>\n",
       "    </tr>\n",
       "    <tr>\n",
       "      <th>4</th>\n",
       "      <td>Sarah Palin</td>\n",
       "      <td>Going Rogue: An American Life</td>\n",
       "      <td>Hardcover</td>\n",
       "      <td>&lt;span class=\"a-size-base\"&gt;&lt;span class=\"p13n-sc...</td>\n",
       "      <td>1,570</td>\n",
       "      <td>4.6 out of 5 stars</td>\n",
       "      <td>2009</td>\n",
       "    </tr>\n",
       "  </tbody>\n",
       "</table>\n",
       "</div>"
      ],
      "text/plain": [
       "             author                                          title      types  \\\n",
       "0         Dan Brown                                The Lost Symbol  Hardcover   \n",
       "1  William P. Young    The Shack: Where Tragedy Confronts Eternity  Paperback   \n",
       "2     Mark R. Levin  Liberty and Tyranny: A Conservative Manifesto  Hardcover   \n",
       "3   Stephenie Meyer      Breaking Dawn (The Twilight Saga, Book 4)  Hardcover   \n",
       "4       Sarah Palin                  Going Rogue: An American Life  Hardcover   \n",
       "\n",
       "                                               price  review  \\\n",
       "0  <span class=\"a-size-base\"><span class=\"p13n-sc...  16,769   \n",
       "1  <span class=\"a-size-base\"><span class=\"p13n-sc...  23,634   \n",
       "2  <span class=\"a-size-base\"><span class=\"p13n-sc...   5,063   \n",
       "3  <span class=\"a-size-base\"><span class=\"p13n-sc...  17,355   \n",
       "4  <span class=\"a-size-base\"><span class=\"p13n-sc...   1,570   \n",
       "\n",
       "                 rate  year  \n",
       "0  4.4 out of 5 stars  2009  \n",
       "1  4.7 out of 5 stars  2009  \n",
       "2  4.8 out of 5 stars  2009  \n",
       "3  4.7 out of 5 stars  2009  \n",
       "4  4.6 out of 5 stars  2009  "
      ]
     },
     "execution_count": 6,
     "metadata": {},
     "output_type": "execute_result"
    }
   ],
   "source": [
    "df.head()"
   ]
  },
  {
   "cell_type": "code",
   "execution_count": 7,
   "metadata": {},
   "outputs": [
    {
     "name": "stdout",
     "output_type": "stream",
     "text": [
      "<class 'pandas.core.frame.DataFrame'>\n",
      "RangeIndex: 133 entries, 0 to 132\n",
      "Data columns (total 7 columns):\n",
      " #   Column  Non-Null Count  Dtype \n",
      "---  ------  --------------  ----- \n",
      " 0   author  133 non-null    object\n",
      " 1   title   133 non-null    object\n",
      " 2   types   133 non-null    object\n",
      " 3   price   133 non-null    object\n",
      " 4   review  133 non-null    object\n",
      " 5   rate    133 non-null    object\n",
      " 6   year    133 non-null    int64 \n",
      "dtypes: int64(1), object(6)\n",
      "memory usage: 7.4+ KB\n"
     ]
    }
   ],
   "source": [
    "df.info()"
   ]
  },
  {
   "cell_type": "code",
   "execution_count": null,
   "metadata": {},
   "outputs": [],
   "source": []
  }
 ],
 "metadata": {
  "kernelspec": {
   "display_name": "Python 3.8.1 ('amazon': venv)",
   "language": "python",
   "name": "python3"
  },
  "language_info": {
   "codemirror_mode": {
    "name": "ipython",
    "version": 3
   },
   "file_extension": ".py",
   "mimetype": "text/x-python",
   "name": "python",
   "nbconvert_exporter": "python",
   "pygments_lexer": "ipython3",
   "version": "3.8.1"
  },
  "orig_nbformat": 4,
  "vscode": {
   "interpreter": {
    "hash": "068ca86f70c17df1f05f00018a7e7387a9394f71473b5c07cdbc37bd01ece31e"
   }
  }
 },
 "nbformat": 4,
 "nbformat_minor": 2
}
