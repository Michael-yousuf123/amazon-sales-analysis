{
 "cells": [
  {
   "cell_type": "code",
   "execution_count": 1,
   "metadata": {},
   "outputs": [],
   "source": [
    "import os\n",
    "import numpy as np\n",
    "import pandas as pd"
   ]
  },
  {
   "cell_type": "code",
   "execution_count": 2,
   "metadata": {},
   "outputs": [],
   "source": [
    "df1 = pd.read_csv(\"/home/miki/Desktop/Projects/Hamoye/amazon-sales-analysis/data/scraped_data2009.csv\")\n",
    "df2 = pd.read_csv(\"/home/miki/Desktop/Projects/Hamoye/amazon-sales-analysis/data/scraped_data2010.csv\")\n",
    "df3 = pd.read_csv(\"/home/miki/Desktop/Projects/Hamoye/amazon-sales-analysis/data/scraped_data2011.csv\")\n",
    "df4 = pd.read_csv(\"/home/miki/Desktop/Projects/Hamoye/amazon-sales-analysis/data/scraped_data2012.csv\")\n",
    "df5 = pd.read_csv(\"/home/miki/Desktop/Projects/Hamoye/amazon-sales-analysis/data/scraped_data2013.csv\")\n",
    "df6 = pd.read_csv(\"/home/miki/Desktop/Projects/Hamoye/amazon-sales-analysis/data/scraped_data2014.csv\")\n",
    "df7 = pd.read_csv(\"/home/miki/Desktop/Projects/Hamoye/amazon-sales-analysis/data/scraped_data2015.csv\")\n",
    "df8 = pd.read_csv(\"/home/miki/Desktop/Projects/Hamoye/amazon-sales-analysis/data/scraped_data2016.csv\")\n",
    "df9 = pd.read_csv(\"/home/miki/Desktop/Projects/Hamoye/amazon-sales-analysis/data/scraped_data2017.csv\")\n",
    "df10 = pd.read_csv(\"/home/miki/Desktop/Projects/Hamoye/amazon-sales-analysis/data/scraped_data2018.csv\")\n",
    "df11 = pd.read_csv(\"/home/miki/Desktop/Projects/Hamoye/amazon-sales-analysis/data/scraped_data2019.csv\")"
   ]
  },
  {
   "cell_type": "code",
   "execution_count": 3,
   "metadata": {},
   "outputs": [],
   "source": [
    "df1['year'] = 2009\n",
    "df2['year'] = 2010\n",
    "df3['year'] = 2011\n",
    "df4['year'] = 2012\n",
    "df5['year'] = 2013\n",
    "df6['year'] = 2014\n",
    "df7['year'] = 2015\n",
    "df8['year'] = 2016\n",
    "df9['year'] = 2017\n",
    "df10['year'] = 2018\n",
    "df11['year'] = 2019"
   ]
  },
  {
   "cell_type": "code",
   "execution_count": 4,
   "metadata": {},
   "outputs": [
    {
     "data": {
      "text/html": [
       "<div>\n",
       "<style scoped>\n",
       "    .dataframe tbody tr th:only-of-type {\n",
       "        vertical-align: middle;\n",
       "    }\n",
       "\n",
       "    .dataframe tbody tr th {\n",
       "        vertical-align: top;\n",
       "    }\n",
       "\n",
       "    .dataframe thead th {\n",
       "        text-align: right;\n",
       "    }\n",
       "</style>\n",
       "<table border=\"1\" class=\"dataframe\">\n",
       "  <thead>\n",
       "    <tr style=\"text-align: right;\">\n",
       "      <th></th>\n",
       "      <th>author</th>\n",
       "      <th>title</th>\n",
       "      <th>types</th>\n",
       "      <th>price</th>\n",
       "      <th>review</th>\n",
       "      <th>rate</th>\n",
       "      <th>year</th>\n",
       "    </tr>\n",
       "  </thead>\n",
       "  <tbody>\n",
       "    <tr>\n",
       "      <th>0</th>\n",
       "      <td>Delia Owens</td>\n",
       "      <td>Where the Crawdads Sing</td>\n",
       "      <td>Hardcover</td>\n",
       "      <td>&lt;span class=\"a-size-base\"&gt;&lt;span class=\"p13n-sc...</td>\n",
       "      <td>376,112</td>\n",
       "      <td>4.8 out of 5 stars</td>\n",
       "      <td>2019</td>\n",
       "    </tr>\n",
       "    <tr>\n",
       "      <th>1</th>\n",
       "      <td>Michelle Obama</td>\n",
       "      <td>Becoming</td>\n",
       "      <td>Hardcover</td>\n",
       "      <td>&lt;span class=\"a-size-base\"&gt;&lt;span class=\"p13n-sc...</td>\n",
       "      <td>124,513</td>\n",
       "      <td>4.8 out of 5 stars</td>\n",
       "      <td>2019</td>\n",
       "    </tr>\n",
       "    <tr>\n",
       "      <th>2</th>\n",
       "      <td>Tara Westover</td>\n",
       "      <td>Educated: A Memoir</td>\n",
       "      <td>Hardcover</td>\n",
       "      <td>&lt;span class=\"a-size-base\"&gt;&lt;span class=\"p13n-sc...</td>\n",
       "      <td>72,382</td>\n",
       "      <td>4.7 out of 5 stars</td>\n",
       "      <td>2019</td>\n",
       "    </tr>\n",
       "    <tr>\n",
       "      <th>3</th>\n",
       "      <td>Dav Pilkey</td>\n",
       "      <td>Dog Man: For Whom the Ball Rolls: From the Cre...</td>\n",
       "      <td>Hardcover</td>\n",
       "      <td>&lt;span class=\"a-size-base\"&gt;&lt;span class=\"p13n-sc...</td>\n",
       "      <td>24,247</td>\n",
       "      <td>4.9 out of 5 stars</td>\n",
       "      <td>2019</td>\n",
       "    </tr>\n",
       "    <tr>\n",
       "      <th>4</th>\n",
       "      <td>Rachel Hollis</td>\n",
       "      <td>Girl, Wash Your Face: Stop Believing the Lies ...</td>\n",
       "      <td>Hardcover</td>\n",
       "      <td>&lt;span class=\"a-size-base\"&gt;&lt;span class=\"p13n-sc...</td>\n",
       "      <td>27,481</td>\n",
       "      <td>4.6 out of 5 stars</td>\n",
       "      <td>2019</td>\n",
       "    </tr>\n",
       "  </tbody>\n",
       "</table>\n",
       "</div>"
      ],
      "text/plain": [
       "           author                                              title  \\\n",
       "0     Delia Owens                            Where the Crawdads Sing   \n",
       "1  Michelle Obama                                           Becoming   \n",
       "2   Tara Westover                                 Educated: A Memoir   \n",
       "3      Dav Pilkey  Dog Man: For Whom the Ball Rolls: From the Cre...   \n",
       "4   Rachel Hollis  Girl, Wash Your Face: Stop Believing the Lies ...   \n",
       "\n",
       "       types                                              price   review  \\\n",
       "0  Hardcover  <span class=\"a-size-base\"><span class=\"p13n-sc...  376,112   \n",
       "1  Hardcover  <span class=\"a-size-base\"><span class=\"p13n-sc...  124,513   \n",
       "2  Hardcover  <span class=\"a-size-base\"><span class=\"p13n-sc...   72,382   \n",
       "3  Hardcover  <span class=\"a-size-base\"><span class=\"p13n-sc...   24,247   \n",
       "4  Hardcover  <span class=\"a-size-base\"><span class=\"p13n-sc...   27,481   \n",
       "\n",
       "                 rate  year  \n",
       "0  4.8 out of 5 stars  2019  \n",
       "1  4.8 out of 5 stars  2019  \n",
       "2  4.7 out of 5 stars  2019  \n",
       "3  4.9 out of 5 stars  2019  \n",
       "4  4.6 out of 5 stars  2019  "
      ]
     },
     "execution_count": 4,
     "metadata": {},
     "output_type": "execute_result"
    }
   ],
   "source": [
    "df11.head()"
   ]
  },
  {
   "cell_type": "code",
   "execution_count": 9,
   "metadata": {},
   "outputs": [
    {
     "name": "stdout",
     "output_type": "stream",
     "text": [
      "<class 'pandas.core.frame.DataFrame'>\n",
      "RangeIndex: 135 entries, 0 to 134\n",
      "Data columns (total 7 columns):\n",
      " #   Column  Non-Null Count  Dtype \n",
      "---  ------  --------------  ----- \n",
      " 0   author  135 non-null    object\n",
      " 1   title   135 non-null    object\n",
      " 2   types   135 non-null    object\n",
      " 3   price   135 non-null    object\n",
      " 4   review  135 non-null    object\n",
      " 5   rate    135 non-null    object\n",
      " 6   year    135 non-null    int64 \n",
      "dtypes: int64(1), object(6)\n",
      "memory usage: 7.5+ KB\n"
     ]
    }
   ],
   "source": [
    "df2.info()"
   ]
  },
  {
   "cell_type": "code",
   "execution_count": 14,
   "metadata": {},
   "outputs": [],
   "source": [
    "df = pd.concat([df1, df2, df3, df4, df5, df6, df7, df8, df9, df10, df11])"
   ]
  },
  {
   "cell_type": "code",
   "execution_count": 15,
   "metadata": {},
   "outputs": [
    {
     "name": "stdout",
     "output_type": "stream",
     "text": [
      "<class 'pandas.core.frame.DataFrame'>\n",
      "Int64Index: 1393 entries, 0 to 124\n",
      "Data columns (total 7 columns):\n",
      " #   Column  Non-Null Count  Dtype \n",
      "---  ------  --------------  ----- \n",
      " 0   author  1393 non-null   object\n",
      " 1   title   1393 non-null   object\n",
      " 2   types   1393 non-null   object\n",
      " 3   price   1393 non-null   object\n",
      " 4   review  1393 non-null   object\n",
      " 5   rate    1393 non-null   object\n",
      " 6   year    1393 non-null   int64 \n",
      "dtypes: int64(1), object(6)\n",
      "memory usage: 87.1+ KB\n"
     ]
    }
   ],
   "source": [
    "df.info()"
   ]
  },
  {
   "cell_type": "code",
   "execution_count": 16,
   "metadata": {},
   "outputs": [],
   "source": [
    "df.to_csv(\"/home/miki/Desktop/Projects/Hamoye/amazon-sales-analysis/data/scraped/data.csv\")"
   ]
  },
  {
   "cell_type": "code",
   "execution_count": null,
   "metadata": {},
   "outputs": [],
   "source": []
  }
 ],
 "metadata": {
  "kernelspec": {
   "display_name": "Python 3.8.1 ('amazon': venv)",
   "language": "python",
   "name": "python3"
  },
  "language_info": {
   "codemirror_mode": {
    "name": "ipython",
    "version": 3
   },
   "file_extension": ".py",
   "mimetype": "text/x-python",
   "name": "python",
   "nbconvert_exporter": "python",
   "pygments_lexer": "ipython3",
   "version": "3.8.1"
  },
  "orig_nbformat": 4,
  "vscode": {
   "interpreter": {
    "hash": "068ca86f70c17df1f05f00018a7e7387a9394f71473b5c07cdbc37bd01ece31e"
   }
  }
 },
 "nbformat": 4,
 "nbformat_minor": 2
}
