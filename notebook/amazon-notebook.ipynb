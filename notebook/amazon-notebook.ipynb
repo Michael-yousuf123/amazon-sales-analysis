{
 "cells": [
  {
   "cell_type": "markdown",
   "metadata": {},
   "source": [
    "## Analysis of Amazon Best selling Books from 2009-2019\n",
    "---"
   ]
  },
  {
   "cell_type": "markdown",
   "metadata": {},
   "source": [
    "<img src=\"/home/miki/Desktop/Projects/Hamoye/amazon-sales-analysis/output/cover.jpeg\" alt=\"Alternative text\" />"
   ]
  },
  {
   "cell_type": "markdown",
   "metadata": {},
   "source": [
    "- "
   ]
  },
  {
   "cell_type": "code",
   "execution_count": 1,
   "metadata": {},
   "outputs": [],
   "source": [
    "import os\n",
    "import string\n",
    "import numpy as np\n",
    "import pandas as pd"
   ]
  },
  {
   "cell_type": "code",
   "execution_count": 2,
   "metadata": {},
   "outputs": [],
   "source": [
    "df = pd.read_csv(\"/home/miki/Desktop/Projects/Hamoye/amazon-sales-analysis/data/scraped/data.csv\")"
   ]
  },
  {
   "cell_type": "code",
   "execution_count": 3,
   "metadata": {},
   "outputs": [
    {
     "name": "stdout",
     "output_type": "stream",
     "text": [
      "<class 'pandas.core.frame.DataFrame'>\n",
      "RangeIndex: 1393 entries, 0 to 1392\n",
      "Data columns (total 8 columns):\n",
      " #   Column      Non-Null Count  Dtype \n",
      "---  ------      --------------  ----- \n",
      " 0   Unnamed: 0  1393 non-null   int64 \n",
      " 1   author      1393 non-null   object\n",
      " 2   title       1393 non-null   object\n",
      " 3   types       1393 non-null   object\n",
      " 4   price       1393 non-null   object\n",
      " 5   review      1393 non-null   object\n",
      " 6   rate        1393 non-null   object\n",
      " 7   year        1393 non-null   int64 \n",
      "dtypes: int64(2), object(6)\n",
      "memory usage: 87.2+ KB\n"
     ]
    }
   ],
   "source": [
    "df.info()"
   ]
  },
  {
   "cell_type": "code",
   "execution_count": 4,
   "metadata": {},
   "outputs": [
    {
     "data": {
      "text/html": [
       "<div>\n",
       "<style scoped>\n",
       "    .dataframe tbody tr th:only-of-type {\n",
       "        vertical-align: middle;\n",
       "    }\n",
       "\n",
       "    .dataframe tbody tr th {\n",
       "        vertical-align: top;\n",
       "    }\n",
       "\n",
       "    .dataframe thead th {\n",
       "        text-align: right;\n",
       "    }\n",
       "</style>\n",
       "<table border=\"1\" class=\"dataframe\">\n",
       "  <thead>\n",
       "    <tr style=\"text-align: right;\">\n",
       "      <th></th>\n",
       "      <th>Unnamed: 0</th>\n",
       "      <th>author</th>\n",
       "      <th>title</th>\n",
       "      <th>types</th>\n",
       "      <th>price</th>\n",
       "      <th>review</th>\n",
       "      <th>rate</th>\n",
       "      <th>year</th>\n",
       "    </tr>\n",
       "  </thead>\n",
       "  <tbody>\n",
       "    <tr>\n",
       "      <th>0</th>\n",
       "      <td>0</td>\n",
       "      <td>Dan Brown</td>\n",
       "      <td>The Lost Symbol</td>\n",
       "      <td>Hardcover</td>\n",
       "      <td>&lt;span class=\"a-size-base\"&gt;&lt;span class=\"p13n-sc...</td>\n",
       "      <td>16,769</td>\n",
       "      <td>4.4 out of 5 stars</td>\n",
       "      <td>2009</td>\n",
       "    </tr>\n",
       "    <tr>\n",
       "      <th>1</th>\n",
       "      <td>1</td>\n",
       "      <td>William P. Young</td>\n",
       "      <td>The Shack: Where Tragedy Confronts Eternity</td>\n",
       "      <td>Paperback</td>\n",
       "      <td>&lt;span class=\"a-size-base\"&gt;&lt;span class=\"p13n-sc...</td>\n",
       "      <td>23,634</td>\n",
       "      <td>4.7 out of 5 stars</td>\n",
       "      <td>2009</td>\n",
       "    </tr>\n",
       "    <tr>\n",
       "      <th>2</th>\n",
       "      <td>2</td>\n",
       "      <td>Mark R. Levin</td>\n",
       "      <td>Liberty and Tyranny: A Conservative Manifesto</td>\n",
       "      <td>Hardcover</td>\n",
       "      <td>&lt;span class=\"a-size-base\"&gt;&lt;span class=\"p13n-sc...</td>\n",
       "      <td>5,063</td>\n",
       "      <td>4.8 out of 5 stars</td>\n",
       "      <td>2009</td>\n",
       "    </tr>\n",
       "    <tr>\n",
       "      <th>3</th>\n",
       "      <td>3</td>\n",
       "      <td>Stephenie Meyer</td>\n",
       "      <td>Breaking Dawn (The Twilight Saga, Book 4)</td>\n",
       "      <td>Hardcover</td>\n",
       "      <td>&lt;span class=\"a-size-base\"&gt;&lt;span class=\"p13n-sc...</td>\n",
       "      <td>17,355</td>\n",
       "      <td>4.7 out of 5 stars</td>\n",
       "      <td>2009</td>\n",
       "    </tr>\n",
       "    <tr>\n",
       "      <th>4</th>\n",
       "      <td>4</td>\n",
       "      <td>Sarah Palin</td>\n",
       "      <td>Going Rogue: An American Life</td>\n",
       "      <td>Hardcover</td>\n",
       "      <td>&lt;span class=\"a-size-base\"&gt;&lt;span class=\"p13n-sc...</td>\n",
       "      <td>1,570</td>\n",
       "      <td>4.6 out of 5 stars</td>\n",
       "      <td>2009</td>\n",
       "    </tr>\n",
       "  </tbody>\n",
       "</table>\n",
       "</div>"
      ],
      "text/plain": [
       "   Unnamed: 0            author  \\\n",
       "0           0         Dan Brown   \n",
       "1           1  William P. Young   \n",
       "2           2     Mark R. Levin   \n",
       "3           3   Stephenie Meyer   \n",
       "4           4       Sarah Palin   \n",
       "\n",
       "                                           title      types  \\\n",
       "0                                The Lost Symbol  Hardcover   \n",
       "1    The Shack: Where Tragedy Confronts Eternity  Paperback   \n",
       "2  Liberty and Tyranny: A Conservative Manifesto  Hardcover   \n",
       "3      Breaking Dawn (The Twilight Saga, Book 4)  Hardcover   \n",
       "4                  Going Rogue: An American Life  Hardcover   \n",
       "\n",
       "                                               price  review  \\\n",
       "0  <span class=\"a-size-base\"><span class=\"p13n-sc...  16,769   \n",
       "1  <span class=\"a-size-base\"><span class=\"p13n-sc...  23,634   \n",
       "2  <span class=\"a-size-base\"><span class=\"p13n-sc...   5,063   \n",
       "3  <span class=\"a-size-base\"><span class=\"p13n-sc...  17,355   \n",
       "4  <span class=\"a-size-base\"><span class=\"p13n-sc...   1,570   \n",
       "\n",
       "                 rate  year  \n",
       "0  4.4 out of 5 stars  2009  \n",
       "1  4.7 out of 5 stars  2009  \n",
       "2  4.8 out of 5 stars  2009  \n",
       "3  4.7 out of 5 stars  2009  \n",
       "4  4.6 out of 5 stars  2009  "
      ]
     },
     "execution_count": 4,
     "metadata": {},
     "output_type": "execute_result"
    }
   ],
   "source": [
    "df.head()"
   ]
  },
  {
   "cell_type": "markdown",
   "metadata": {},
   "source": [
    "### Cleaning of Dataframe\n",
    "---"
   ]
  },
  {
   "cell_type": "code",
   "execution_count": 5,
   "metadata": {},
   "outputs": [],
   "source": [
    "df['price'] = df['price'].str.replace(r'<[^<>]*>', '', regex=True)\n",
    "df['price'] = df['price'].replace({'\\$':''}, regex = True)\n",
    "df['price'] = df['price'].astype(str).astype(float)"
   ]
  },
  {
   "cell_type": "code",
   "execution_count": 6,
   "metadata": {},
   "outputs": [],
   "source": [
    "df[\"rating\"] = df[\"rate\"].str.extract(\"(\\d*\\.?\\d+)\", expand=True)\n",
    "df['rating'] = df['rating'].astype(str).astype(float)"
   ]
  },
  {
   "cell_type": "code",
   "execution_count": 7,
   "metadata": {},
   "outputs": [],
   "source": [
    "df['review'] = df.review.str.split(',').str.join('').astype(int)"
   ]
  },
  {
   "cell_type": "code",
   "execution_count": 8,
   "metadata": {},
   "outputs": [],
   "source": [
    "df = df.drop(['Unnamed: 0', 'rate'], axis=1)"
   ]
  },
  {
   "cell_type": "code",
   "execution_count": 9,
   "metadata": {},
   "outputs": [
    {
     "data": {
      "text/html": [
       "<div>\n",
       "<style scoped>\n",
       "    .dataframe tbody tr th:only-of-type {\n",
       "        vertical-align: middle;\n",
       "    }\n",
       "\n",
       "    .dataframe tbody tr th {\n",
       "        vertical-align: top;\n",
       "    }\n",
       "\n",
       "    .dataframe thead th {\n",
       "        text-align: right;\n",
       "    }\n",
       "</style>\n",
       "<table border=\"1\" class=\"dataframe\">\n",
       "  <thead>\n",
       "    <tr style=\"text-align: right;\">\n",
       "      <th></th>\n",
       "      <th>author</th>\n",
       "      <th>title</th>\n",
       "      <th>types</th>\n",
       "      <th>price</th>\n",
       "      <th>review</th>\n",
       "      <th>year</th>\n",
       "      <th>rating</th>\n",
       "    </tr>\n",
       "  </thead>\n",
       "  <tbody>\n",
       "    <tr>\n",
       "      <th>0</th>\n",
       "      <td>Dan Brown</td>\n",
       "      <td>The Lost Symbol</td>\n",
       "      <td>Hardcover</td>\n",
       "      <td>0.92</td>\n",
       "      <td>16769</td>\n",
       "      <td>2009</td>\n",
       "      <td>4.4</td>\n",
       "    </tr>\n",
       "    <tr>\n",
       "      <th>1</th>\n",
       "      <td>William P. Young</td>\n",
       "      <td>The Shack: Where Tragedy Confronts Eternity</td>\n",
       "      <td>Paperback</td>\n",
       "      <td>0.55</td>\n",
       "      <td>23634</td>\n",
       "      <td>2009</td>\n",
       "      <td>4.7</td>\n",
       "    </tr>\n",
       "    <tr>\n",
       "      <th>2</th>\n",
       "      <td>Mark R. Levin</td>\n",
       "      <td>Liberty and Tyranny: A Conservative Manifesto</td>\n",
       "      <td>Hardcover</td>\n",
       "      <td>1.07</td>\n",
       "      <td>5063</td>\n",
       "      <td>2009</td>\n",
       "      <td>4.8</td>\n",
       "    </tr>\n",
       "    <tr>\n",
       "      <th>3</th>\n",
       "      <td>Stephenie Meyer</td>\n",
       "      <td>Breaking Dawn (The Twilight Saga, Book 4)</td>\n",
       "      <td>Hardcover</td>\n",
       "      <td>0.12</td>\n",
       "      <td>17355</td>\n",
       "      <td>2009</td>\n",
       "      <td>4.7</td>\n",
       "    </tr>\n",
       "    <tr>\n",
       "      <th>4</th>\n",
       "      <td>Sarah Palin</td>\n",
       "      <td>Going Rogue: An American Life</td>\n",
       "      <td>Hardcover</td>\n",
       "      <td>0.01</td>\n",
       "      <td>1570</td>\n",
       "      <td>2009</td>\n",
       "      <td>4.6</td>\n",
       "    </tr>\n",
       "  </tbody>\n",
       "</table>\n",
       "</div>"
      ],
      "text/plain": [
       "             author                                          title      types  \\\n",
       "0         Dan Brown                                The Lost Symbol  Hardcover   \n",
       "1  William P. Young    The Shack: Where Tragedy Confronts Eternity  Paperback   \n",
       "2     Mark R. Levin  Liberty and Tyranny: A Conservative Manifesto  Hardcover   \n",
       "3   Stephenie Meyer      Breaking Dawn (The Twilight Saga, Book 4)  Hardcover   \n",
       "4       Sarah Palin                  Going Rogue: An American Life  Hardcover   \n",
       "\n",
       "   price  review  year  rating  \n",
       "0   0.92   16769  2009     4.4  \n",
       "1   0.55   23634  2009     4.7  \n",
       "2   1.07    5063  2009     4.8  \n",
       "3   0.12   17355  2009     4.7  \n",
       "4   0.01    1570  2009     4.6  "
      ]
     },
     "execution_count": 9,
     "metadata": {},
     "output_type": "execute_result"
    }
   ],
   "source": [
    "df.head()"
   ]
  },
  {
   "cell_type": "code",
   "execution_count": 10,
   "metadata": {},
   "outputs": [
    {
     "name": "stdout",
     "output_type": "stream",
     "text": [
      "<class 'pandas.core.frame.DataFrame'>\n",
      "RangeIndex: 1393 entries, 0 to 1392\n",
      "Data columns (total 7 columns):\n",
      " #   Column  Non-Null Count  Dtype  \n",
      "---  ------  --------------  -----  \n",
      " 0   author  1393 non-null   object \n",
      " 1   title   1393 non-null   object \n",
      " 2   types   1393 non-null   object \n",
      " 3   price   1393 non-null   float64\n",
      " 4   review  1393 non-null   int64  \n",
      " 5   year    1393 non-null   int64  \n",
      " 6   rating  1393 non-null   float64\n",
      "dtypes: float64(2), int64(2), object(3)\n",
      "memory usage: 76.3+ KB\n"
     ]
    }
   ],
   "source": [
    "df.info()"
   ]
  },
  {
   "cell_type": "markdown",
   "metadata": {},
   "source": [
    "### Exploratory Data Analysis\n",
    "---"
   ]
  },
  {
   "cell_type": "code",
   "execution_count": 11,
   "metadata": {},
   "outputs": [
    {
     "data": {
      "text/plain": [
       "462"
      ]
     },
     "execution_count": 11,
     "metadata": {},
     "output_type": "execute_result"
    }
   ],
   "source": [
    "df.duplicated().sum()"
   ]
  },
  {
   "cell_type": "code",
   "execution_count": 12,
   "metadata": {},
   "outputs": [
    {
     "data": {
      "text/plain": [
       "author    0\n",
       "title     0\n",
       "types     0\n",
       "price     0\n",
       "review    0\n",
       "year      0\n",
       "rating    0\n",
       "dtype: int64"
      ]
     },
     "execution_count": 12,
     "metadata": {},
     "output_type": "execute_result"
    }
   ],
   "source": [
    "df.isnull().sum()"
   ]
  },
  {
   "cell_type": "code",
   "execution_count": 13,
   "metadata": {},
   "outputs": [],
   "source": [
    "df = df.drop_duplicates(subset=['title'])"
   ]
  },
  {
   "cell_type": "code",
   "execution_count": 14,
   "metadata": {},
   "outputs": [
    {
     "data": {
      "text/html": [
       "<div>\n",
       "<style scoped>\n",
       "    .dataframe tbody tr th:only-of-type {\n",
       "        vertical-align: middle;\n",
       "    }\n",
       "\n",
       "    .dataframe tbody tr th {\n",
       "        vertical-align: top;\n",
       "    }\n",
       "\n",
       "    .dataframe thead th {\n",
       "        text-align: right;\n",
       "    }\n",
       "</style>\n",
       "<table border=\"1\" class=\"dataframe\">\n",
       "  <thead>\n",
       "    <tr style=\"text-align: right;\">\n",
       "      <th></th>\n",
       "      <th>author</th>\n",
       "      <th>title</th>\n",
       "      <th>types</th>\n",
       "      <th>price</th>\n",
       "      <th>review</th>\n",
       "      <th>year</th>\n",
       "      <th>rating</th>\n",
       "    </tr>\n",
       "  </thead>\n",
       "  <tbody>\n",
       "    <tr>\n",
       "      <th>0</th>\n",
       "      <td>Dan Brown</td>\n",
       "      <td>The Lost Symbol</td>\n",
       "      <td>Hardcover</td>\n",
       "      <td>0.92</td>\n",
       "      <td>16769</td>\n",
       "      <td>2009</td>\n",
       "      <td>4.4</td>\n",
       "    </tr>\n",
       "    <tr>\n",
       "      <th>1</th>\n",
       "      <td>William P. Young</td>\n",
       "      <td>The Shack: Where Tragedy Confronts Eternity</td>\n",
       "      <td>Paperback</td>\n",
       "      <td>0.55</td>\n",
       "      <td>23634</td>\n",
       "      <td>2009</td>\n",
       "      <td>4.7</td>\n",
       "    </tr>\n",
       "    <tr>\n",
       "      <th>2</th>\n",
       "      <td>Mark R. Levin</td>\n",
       "      <td>Liberty and Tyranny: A Conservative Manifesto</td>\n",
       "      <td>Hardcover</td>\n",
       "      <td>1.07</td>\n",
       "      <td>5063</td>\n",
       "      <td>2009</td>\n",
       "      <td>4.8</td>\n",
       "    </tr>\n",
       "    <tr>\n",
       "      <th>3</th>\n",
       "      <td>Stephenie Meyer</td>\n",
       "      <td>Breaking Dawn (The Twilight Saga, Book 4)</td>\n",
       "      <td>Hardcover</td>\n",
       "      <td>0.12</td>\n",
       "      <td>17355</td>\n",
       "      <td>2009</td>\n",
       "      <td>4.7</td>\n",
       "    </tr>\n",
       "    <tr>\n",
       "      <th>4</th>\n",
       "      <td>Sarah Palin</td>\n",
       "      <td>Going Rogue: An American Life</td>\n",
       "      <td>Hardcover</td>\n",
       "      <td>0.01</td>\n",
       "      <td>1570</td>\n",
       "      <td>2009</td>\n",
       "      <td>4.6</td>\n",
       "    </tr>\n",
       "  </tbody>\n",
       "</table>\n",
       "</div>"
      ],
      "text/plain": [
       "             author                                          title      types  \\\n",
       "0         Dan Brown                                The Lost Symbol  Hardcover   \n",
       "1  William P. Young    The Shack: Where Tragedy Confronts Eternity  Paperback   \n",
       "2     Mark R. Levin  Liberty and Tyranny: A Conservative Manifesto  Hardcover   \n",
       "3   Stephenie Meyer      Breaking Dawn (The Twilight Saga, Book 4)  Hardcover   \n",
       "4       Sarah Palin                  Going Rogue: An American Life  Hardcover   \n",
       "\n",
       "   price  review  year  rating  \n",
       "0   0.92   16769  2009     4.4  \n",
       "1   0.55   23634  2009     4.7  \n",
       "2   1.07    5063  2009     4.8  \n",
       "3   0.12   17355  2009     4.7  \n",
       "4   0.01    1570  2009     4.6  "
      ]
     },
     "execution_count": 14,
     "metadata": {},
     "output_type": "execute_result"
    }
   ],
   "source": [
    "df.head()"
   ]
  },
  {
   "cell_type": "code",
   "execution_count": 15,
   "metadata": {},
   "outputs": [
    {
     "data": {
      "text/plain": [
       "0"
      ]
     },
     "execution_count": 15,
     "metadata": {},
     "output_type": "execute_result"
    }
   ],
   "source": [
    "df.duplicated().sum()"
   ]
  },
  {
   "cell_type": "markdown",
   "metadata": {},
   "source": [
    "- best"
   ]
  },
  {
   "cell_type": "code",
   "execution_count": 16,
   "metadata": {},
   "outputs": [
    {
     "data": {
      "text/html": [
       "        <script type=\"text/javascript\">\n",
       "        window.PlotlyConfig = {MathJaxConfig: 'local'};\n",
       "        if (window.MathJax && window.MathJax.Hub && window.MathJax.Hub.Config) {window.MathJax.Hub.Config({SVG: {font: \"STIX-Web\"}});}\n",
       "        if (typeof require !== 'undefined') {\n",
       "        require.undef(\"plotly\");\n",
       "        requirejs.config({\n",
       "            paths: {\n",
       "                'plotly': ['https://cdn.plot.ly/plotly-2.18.0.min']\n",
       "            }\n",
       "        });\n",
       "        require(['plotly'], function(Plotly) {\n",
       "            window._Plotly = Plotly;\n",
       "        });\n",
       "        }\n",
       "        </script>\n",
       "        "
      ]
     },
     "metadata": {},
     "output_type": "display_data"
    }
   ],
   "source": [
    "import plotly.express as px\n",
    "import plotly.graph_objs as go\n",
    "import plotly.offline as pyo\n",
    "from plotly.subplots import make_subplots\n",
    "import plotly.offline as py\n",
    "from plotly.offline import iplot, init_notebook_mode\n",
    "py.init_notebook_mode(connected = True)"
   ]
  },
  {
   "cell_type": "code",
   "execution_count": 17,
   "metadata": {},
   "outputs": [],
   "source": [
    "temp_df = df['rating'].value_counts().reset_index()"
   ]
  },
  {
   "cell_type": "code",
   "execution_count": 18,
   "metadata": {},
   "outputs": [
    {
     "data": {
      "text/html": [
       "<div>\n",
       "<style scoped>\n",
       "    .dataframe tbody tr th:only-of-type {\n",
       "        vertical-align: middle;\n",
       "    }\n",
       "\n",
       "    .dataframe tbody tr th {\n",
       "        vertical-align: top;\n",
       "    }\n",
       "\n",
       "    .dataframe thead th {\n",
       "        text-align: right;\n",
       "    }\n",
       "</style>\n",
       "<table border=\"1\" class=\"dataframe\">\n",
       "  <thead>\n",
       "    <tr style=\"text-align: right;\">\n",
       "      <th></th>\n",
       "      <th>index</th>\n",
       "      <th>rating</th>\n",
       "    </tr>\n",
       "  </thead>\n",
       "  <tbody>\n",
       "    <tr>\n",
       "      <th>0</th>\n",
       "      <td>4.7</td>\n",
       "      <td>136</td>\n",
       "    </tr>\n",
       "    <tr>\n",
       "      <th>1</th>\n",
       "      <td>4.8</td>\n",
       "      <td>112</td>\n",
       "    </tr>\n",
       "    <tr>\n",
       "      <th>2</th>\n",
       "      <td>4.6</td>\n",
       "      <td>109</td>\n",
       "    </tr>\n",
       "    <tr>\n",
       "      <th>3</th>\n",
       "      <td>4.5</td>\n",
       "      <td>76</td>\n",
       "    </tr>\n",
       "    <tr>\n",
       "      <th>4</th>\n",
       "      <td>4.4</td>\n",
       "      <td>42</td>\n",
       "    </tr>\n",
       "    <tr>\n",
       "      <th>5</th>\n",
       "      <td>4.9</td>\n",
       "      <td>41</td>\n",
       "    </tr>\n",
       "    <tr>\n",
       "      <th>6</th>\n",
       "      <td>4.3</td>\n",
       "      <td>22</td>\n",
       "    </tr>\n",
       "    <tr>\n",
       "      <th>7</th>\n",
       "      <td>4.2</td>\n",
       "      <td>13</td>\n",
       "    </tr>\n",
       "    <tr>\n",
       "      <th>8</th>\n",
       "      <td>4.0</td>\n",
       "      <td>6</td>\n",
       "    </tr>\n",
       "    <tr>\n",
       "      <th>9</th>\n",
       "      <td>4.1</td>\n",
       "      <td>5</td>\n",
       "    </tr>\n",
       "    <tr>\n",
       "      <th>10</th>\n",
       "      <td>3.8</td>\n",
       "      <td>2</td>\n",
       "    </tr>\n",
       "    <tr>\n",
       "      <th>11</th>\n",
       "      <td>3.5</td>\n",
       "      <td>1</td>\n",
       "    </tr>\n",
       "    <tr>\n",
       "      <th>12</th>\n",
       "      <td>3.4</td>\n",
       "      <td>1</td>\n",
       "    </tr>\n",
       "    <tr>\n",
       "      <th>13</th>\n",
       "      <td>3.9</td>\n",
       "      <td>1</td>\n",
       "    </tr>\n",
       "    <tr>\n",
       "      <th>14</th>\n",
       "      <td>3.7</td>\n",
       "      <td>1</td>\n",
       "    </tr>\n",
       "  </tbody>\n",
       "</table>\n",
       "</div>"
      ],
      "text/plain": [
       "    index  rating\n",
       "0     4.7     136\n",
       "1     4.8     112\n",
       "2     4.6     109\n",
       "3     4.5      76\n",
       "4     4.4      42\n",
       "5     4.9      41\n",
       "6     4.3      22\n",
       "7     4.2      13\n",
       "8     4.0       6\n",
       "9     4.1       5\n",
       "10    3.8       2\n",
       "11    3.5       1\n",
       "12    3.4       1\n",
       "13    3.9       1\n",
       "14    3.7       1"
      ]
     },
     "execution_count": 18,
     "metadata": {},
     "output_type": "execute_result"
    }
   ],
   "source": [
    "temp_df"
   ]
  },
  {
   "cell_type": "code",
   "execution_count": 19,
   "metadata": {},
   "outputs": [
    {
     "data": {
      "application/vnd.plotly.v1+json": {
       "config": {
        "plotlyServerURL": "https://plot.ly"
       },
       "data": [
        {
         "alignmentgroup": "True",
         "hovertemplate": "index=%{marker.color}<br>rating=%{y}<extra></extra>",
         "legendgroup": "",
         "marker": {
          "color": [
           4.7,
           4.8,
           4.6,
           4.5,
           4.4,
           4.9,
           4.3,
           4.2,
           4,
           4.1,
           3.8,
           3.5,
           3.4,
           3.9,
           3.7
          ],
          "coloraxis": "coloraxis",
          "pattern": {
           "shape": ""
          }
         },
         "name": "",
         "offsetgroup": "",
         "orientation": "v",
         "showlegend": false,
         "textposition": "auto",
         "type": "bar",
         "x": [
          4.7,
          4.8,
          4.6,
          4.5,
          4.4,
          4.9,
          4.3,
          4.2,
          4,
          4.1,
          3.8,
          3.5,
          3.4,
          3.9,
          3.7
         ],
         "xaxis": "x",
         "y": [
          136,
          112,
          109,
          76,
          42,
          41,
          22,
          13,
          6,
          5,
          2,
          1,
          1,
          1,
          1
         ],
         "yaxis": "y"
        }
       ],
       "layout": {
        "barmode": "relative",
        "coloraxis": {
         "colorbar": {
          "title": {
           "text": "index"
          }
         },
         "colorscale": [
          [
           0,
           "#0d0887"
          ],
          [
           0.1111111111111111,
           "#46039f"
          ],
          [
           0.2222222222222222,
           "#7201a8"
          ],
          [
           0.3333333333333333,
           "#9c179e"
          ],
          [
           0.4444444444444444,
           "#bd3786"
          ],
          [
           0.5555555555555556,
           "#d8576b"
          ],
          [
           0.6666666666666666,
           "#ed7953"
          ],
          [
           0.7777777777777778,
           "#fb9f3a"
          ],
          [
           0.8888888888888888,
           "#fdca26"
          ],
          [
           1,
           "#f0f921"
          ]
         ]
        },
        "height": 400,
        "legend": {
         "tracegroupgap": 0
        },
        "margin": {
         "t": 60
        },
        "template": {
         "data": {
          "bar": [
           {
            "error_x": {
             "color": "#2a3f5f"
            },
            "error_y": {
             "color": "#2a3f5f"
            },
            "marker": {
             "line": {
              "color": "#E5ECF6",
              "width": 0.5
             },
             "pattern": {
              "fillmode": "overlay",
              "size": 10,
              "solidity": 0.2
             }
            },
            "type": "bar"
           }
          ],
          "barpolar": [
           {
            "marker": {
             "line": {
              "color": "#E5ECF6",
              "width": 0.5
             },
             "pattern": {
              "fillmode": "overlay",
              "size": 10,
              "solidity": 0.2
             }
            },
            "type": "barpolar"
           }
          ],
          "carpet": [
           {
            "aaxis": {
             "endlinecolor": "#2a3f5f",
             "gridcolor": "white",
             "linecolor": "white",
             "minorgridcolor": "white",
             "startlinecolor": "#2a3f5f"
            },
            "baxis": {
             "endlinecolor": "#2a3f5f",
             "gridcolor": "white",
             "linecolor": "white",
             "minorgridcolor": "white",
             "startlinecolor": "#2a3f5f"
            },
            "type": "carpet"
           }
          ],
          "choropleth": [
           {
            "colorbar": {
             "outlinewidth": 0,
             "ticks": ""
            },
            "type": "choropleth"
           }
          ],
          "contour": [
           {
            "colorbar": {
             "outlinewidth": 0,
             "ticks": ""
            },
            "colorscale": [
             [
              0,
              "#0d0887"
             ],
             [
              0.1111111111111111,
              "#46039f"
             ],
             [
              0.2222222222222222,
              "#7201a8"
             ],
             [
              0.3333333333333333,
              "#9c179e"
             ],
             [
              0.4444444444444444,
              "#bd3786"
             ],
             [
              0.5555555555555556,
              "#d8576b"
             ],
             [
              0.6666666666666666,
              "#ed7953"
             ],
             [
              0.7777777777777778,
              "#fb9f3a"
             ],
             [
              0.8888888888888888,
              "#fdca26"
             ],
             [
              1,
              "#f0f921"
             ]
            ],
            "type": "contour"
           }
          ],
          "contourcarpet": [
           {
            "colorbar": {
             "outlinewidth": 0,
             "ticks": ""
            },
            "type": "contourcarpet"
           }
          ],
          "heatmap": [
           {
            "colorbar": {
             "outlinewidth": 0,
             "ticks": ""
            },
            "colorscale": [
             [
              0,
              "#0d0887"
             ],
             [
              0.1111111111111111,
              "#46039f"
             ],
             [
              0.2222222222222222,
              "#7201a8"
             ],
             [
              0.3333333333333333,
              "#9c179e"
             ],
             [
              0.4444444444444444,
              "#bd3786"
             ],
             [
              0.5555555555555556,
              "#d8576b"
             ],
             [
              0.6666666666666666,
              "#ed7953"
             ],
             [
              0.7777777777777778,
              "#fb9f3a"
             ],
             [
              0.8888888888888888,
              "#fdca26"
             ],
             [
              1,
              "#f0f921"
             ]
            ],
            "type": "heatmap"
           }
          ],
          "heatmapgl": [
           {
            "colorbar": {
             "outlinewidth": 0,
             "ticks": ""
            },
            "colorscale": [
             [
              0,
              "#0d0887"
             ],
             [
              0.1111111111111111,
              "#46039f"
             ],
             [
              0.2222222222222222,
              "#7201a8"
             ],
             [
              0.3333333333333333,
              "#9c179e"
             ],
             [
              0.4444444444444444,
              "#bd3786"
             ],
             [
              0.5555555555555556,
              "#d8576b"
             ],
             [
              0.6666666666666666,
              "#ed7953"
             ],
             [
              0.7777777777777778,
              "#fb9f3a"
             ],
             [
              0.8888888888888888,
              "#fdca26"
             ],
             [
              1,
              "#f0f921"
             ]
            ],
            "type": "heatmapgl"
           }
          ],
          "histogram": [
           {
            "marker": {
             "pattern": {
              "fillmode": "overlay",
              "size": 10,
              "solidity": 0.2
             }
            },
            "type": "histogram"
           }
          ],
          "histogram2d": [
           {
            "colorbar": {
             "outlinewidth": 0,
             "ticks": ""
            },
            "colorscale": [
             [
              0,
              "#0d0887"
             ],
             [
              0.1111111111111111,
              "#46039f"
             ],
             [
              0.2222222222222222,
              "#7201a8"
             ],
             [
              0.3333333333333333,
              "#9c179e"
             ],
             [
              0.4444444444444444,
              "#bd3786"
             ],
             [
              0.5555555555555556,
              "#d8576b"
             ],
             [
              0.6666666666666666,
              "#ed7953"
             ],
             [
              0.7777777777777778,
              "#fb9f3a"
             ],
             [
              0.8888888888888888,
              "#fdca26"
             ],
             [
              1,
              "#f0f921"
             ]
            ],
            "type": "histogram2d"
           }
          ],
          "histogram2dcontour": [
           {
            "colorbar": {
             "outlinewidth": 0,
             "ticks": ""
            },
            "colorscale": [
             [
              0,
              "#0d0887"
             ],
             [
              0.1111111111111111,
              "#46039f"
             ],
             [
              0.2222222222222222,
              "#7201a8"
             ],
             [
              0.3333333333333333,
              "#9c179e"
             ],
             [
              0.4444444444444444,
              "#bd3786"
             ],
             [
              0.5555555555555556,
              "#d8576b"
             ],
             [
              0.6666666666666666,
              "#ed7953"
             ],
             [
              0.7777777777777778,
              "#fb9f3a"
             ],
             [
              0.8888888888888888,
              "#fdca26"
             ],
             [
              1,
              "#f0f921"
             ]
            ],
            "type": "histogram2dcontour"
           }
          ],
          "mesh3d": [
           {
            "colorbar": {
             "outlinewidth": 0,
             "ticks": ""
            },
            "type": "mesh3d"
           }
          ],
          "parcoords": [
           {
            "line": {
             "colorbar": {
              "outlinewidth": 0,
              "ticks": ""
             }
            },
            "type": "parcoords"
           }
          ],
          "pie": [
           {
            "automargin": true,
            "type": "pie"
           }
          ],
          "scatter": [
           {
            "fillpattern": {
             "fillmode": "overlay",
             "size": 10,
             "solidity": 0.2
            },
            "type": "scatter"
           }
          ],
          "scatter3d": [
           {
            "line": {
             "colorbar": {
              "outlinewidth": 0,
              "ticks": ""
             }
            },
            "marker": {
             "colorbar": {
              "outlinewidth": 0,
              "ticks": ""
             }
            },
            "type": "scatter3d"
           }
          ],
          "scattercarpet": [
           {
            "marker": {
             "colorbar": {
              "outlinewidth": 0,
              "ticks": ""
             }
            },
            "type": "scattercarpet"
           }
          ],
          "scattergeo": [
           {
            "marker": {
             "colorbar": {
              "outlinewidth": 0,
              "ticks": ""
             }
            },
            "type": "scattergeo"
           }
          ],
          "scattergl": [
           {
            "marker": {
             "colorbar": {
              "outlinewidth": 0,
              "ticks": ""
             }
            },
            "type": "scattergl"
           }
          ],
          "scattermapbox": [
           {
            "marker": {
             "colorbar": {
              "outlinewidth": 0,
              "ticks": ""
             }
            },
            "type": "scattermapbox"
           }
          ],
          "scatterpolar": [
           {
            "marker": {
             "colorbar": {
              "outlinewidth": 0,
              "ticks": ""
             }
            },
            "type": "scatterpolar"
           }
          ],
          "scatterpolargl": [
           {
            "marker": {
             "colorbar": {
              "outlinewidth": 0,
              "ticks": ""
             }
            },
            "type": "scatterpolargl"
           }
          ],
          "scatterternary": [
           {
            "marker": {
             "colorbar": {
              "outlinewidth": 0,
              "ticks": ""
             }
            },
            "type": "scatterternary"
           }
          ],
          "surface": [
           {
            "colorbar": {
             "outlinewidth": 0,
             "ticks": ""
            },
            "colorscale": [
             [
              0,
              "#0d0887"
             ],
             [
              0.1111111111111111,
              "#46039f"
             ],
             [
              0.2222222222222222,
              "#7201a8"
             ],
             [
              0.3333333333333333,
              "#9c179e"
             ],
             [
              0.4444444444444444,
              "#bd3786"
             ],
             [
              0.5555555555555556,
              "#d8576b"
             ],
             [
              0.6666666666666666,
              "#ed7953"
             ],
             [
              0.7777777777777778,
              "#fb9f3a"
             ],
             [
              0.8888888888888888,
              "#fdca26"
             ],
             [
              1,
              "#f0f921"
             ]
            ],
            "type": "surface"
           }
          ],
          "table": [
           {
            "cells": {
             "fill": {
              "color": "#EBF0F8"
             },
             "line": {
              "color": "white"
             }
            },
            "header": {
             "fill": {
              "color": "#C8D4E3"
             },
             "line": {
              "color": "white"
             }
            },
            "type": "table"
           }
          ]
         },
         "layout": {
          "annotationdefaults": {
           "arrowcolor": "#2a3f5f",
           "arrowhead": 0,
           "arrowwidth": 1
          },
          "autotypenumbers": "strict",
          "coloraxis": {
           "colorbar": {
            "outlinewidth": 0,
            "ticks": ""
           }
          },
          "colorscale": {
           "diverging": [
            [
             0,
             "#8e0152"
            ],
            [
             0.1,
             "#c51b7d"
            ],
            [
             0.2,
             "#de77ae"
            ],
            [
             0.3,
             "#f1b6da"
            ],
            [
             0.4,
             "#fde0ef"
            ],
            [
             0.5,
             "#f7f7f7"
            ],
            [
             0.6,
             "#e6f5d0"
            ],
            [
             0.7,
             "#b8e186"
            ],
            [
             0.8,
             "#7fbc41"
            ],
            [
             0.9,
             "#4d9221"
            ],
            [
             1,
             "#276419"
            ]
           ],
           "sequential": [
            [
             0,
             "#0d0887"
            ],
            [
             0.1111111111111111,
             "#46039f"
            ],
            [
             0.2222222222222222,
             "#7201a8"
            ],
            [
             0.3333333333333333,
             "#9c179e"
            ],
            [
             0.4444444444444444,
             "#bd3786"
            ],
            [
             0.5555555555555556,
             "#d8576b"
            ],
            [
             0.6666666666666666,
             "#ed7953"
            ],
            [
             0.7777777777777778,
             "#fb9f3a"
            ],
            [
             0.8888888888888888,
             "#fdca26"
            ],
            [
             1,
             "#f0f921"
            ]
           ],
           "sequentialminus": [
            [
             0,
             "#0d0887"
            ],
            [
             0.1111111111111111,
             "#46039f"
            ],
            [
             0.2222222222222222,
             "#7201a8"
            ],
            [
             0.3333333333333333,
             "#9c179e"
            ],
            [
             0.4444444444444444,
             "#bd3786"
            ],
            [
             0.5555555555555556,
             "#d8576b"
            ],
            [
             0.6666666666666666,
             "#ed7953"
            ],
            [
             0.7777777777777778,
             "#fb9f3a"
            ],
            [
             0.8888888888888888,
             "#fdca26"
            ],
            [
             1,
             "#f0f921"
            ]
           ]
          },
          "colorway": [
           "#636efa",
           "#EF553B",
           "#00cc96",
           "#ab63fa",
           "#FFA15A",
           "#19d3f3",
           "#FF6692",
           "#B6E880",
           "#FF97FF",
           "#FECB52"
          ],
          "font": {
           "color": "#2a3f5f"
          },
          "geo": {
           "bgcolor": "white",
           "lakecolor": "white",
           "landcolor": "#E5ECF6",
           "showlakes": true,
           "showland": true,
           "subunitcolor": "white"
          },
          "hoverlabel": {
           "align": "left"
          },
          "hovermode": "closest",
          "mapbox": {
           "style": "light"
          },
          "paper_bgcolor": "white",
          "plot_bgcolor": "#E5ECF6",
          "polar": {
           "angularaxis": {
            "gridcolor": "white",
            "linecolor": "white",
            "ticks": ""
           },
           "bgcolor": "#E5ECF6",
           "radialaxis": {
            "gridcolor": "white",
            "linecolor": "white",
            "ticks": ""
           }
          },
          "scene": {
           "xaxis": {
            "backgroundcolor": "#E5ECF6",
            "gridcolor": "white",
            "gridwidth": 2,
            "linecolor": "white",
            "showbackground": true,
            "ticks": "",
            "zerolinecolor": "white"
           },
           "yaxis": {
            "backgroundcolor": "#E5ECF6",
            "gridcolor": "white",
            "gridwidth": 2,
            "linecolor": "white",
            "showbackground": true,
            "ticks": "",
            "zerolinecolor": "white"
           },
           "zaxis": {
            "backgroundcolor": "#E5ECF6",
            "gridcolor": "white",
            "gridwidth": 2,
            "linecolor": "white",
            "showbackground": true,
            "ticks": "",
            "zerolinecolor": "white"
           }
          },
          "shapedefaults": {
           "line": {
            "color": "#2a3f5f"
           }
          },
          "ternary": {
           "aaxis": {
            "gridcolor": "white",
            "linecolor": "white",
            "ticks": ""
           },
           "baxis": {
            "gridcolor": "white",
            "linecolor": "white",
            "ticks": ""
           },
           "bgcolor": "#E5ECF6",
           "caxis": {
            "gridcolor": "white",
            "linecolor": "white",
            "ticks": ""
           }
          },
          "title": {
           "x": 0.05
          },
          "xaxis": {
           "automargin": true,
           "gridcolor": "white",
           "linecolor": "white",
           "ticks": "",
           "title": {
            "standoff": 15
           },
           "zerolinecolor": "white",
           "zerolinewidth": 2
          },
          "yaxis": {
           "automargin": true,
           "gridcolor": "white",
           "linecolor": "white",
           "ticks": "",
           "title": {
            "standoff": 15
           },
           "zerolinecolor": "white",
           "zerolinewidth": 2
          }
         }
        },
        "xaxis": {
         "anchor": "y",
         "domain": [
          0,
          1
         ],
         "title": {
          "text": "index"
         }
        },
        "yaxis": {
         "anchor": "x",
         "domain": [
          0,
          1
         ],
         "title": {
          "text": "rating"
         }
        }
       }
      },
      "text/html": [
       "<div>                            <div id=\"8faca484-7744-4ba6-b303-c5eccaf8853d\" class=\"plotly-graph-div\" style=\"height:400px; width:100%;\"></div>            <script type=\"text/javascript\">                require([\"plotly\"], function(Plotly) {                    window.PLOTLYENV=window.PLOTLYENV || {};                                    if (document.getElementById(\"8faca484-7744-4ba6-b303-c5eccaf8853d\")) {                    Plotly.newPlot(                        \"8faca484-7744-4ba6-b303-c5eccaf8853d\",                        [{\"alignmentgroup\":\"True\",\"hovertemplate\":\"index=%{marker.color}<br>rating=%{y}<extra></extra>\",\"legendgroup\":\"\",\"marker\":{\"color\":[4.7,4.8,4.6,4.5,4.4,4.9,4.3,4.2,4.0,4.1,3.8,3.5,3.4,3.9,3.7],\"coloraxis\":\"coloraxis\",\"pattern\":{\"shape\":\"\"}},\"name\":\"\",\"offsetgroup\":\"\",\"orientation\":\"v\",\"showlegend\":false,\"textposition\":\"auto\",\"x\":[4.7,4.8,4.6,4.5,4.4,4.9,4.3,4.2,4.0,4.1,3.8,3.5,3.4,3.9,3.7],\"xaxis\":\"x\",\"y\":[136,112,109,76,42,41,22,13,6,5,2,1,1,1,1],\"yaxis\":\"y\",\"type\":\"bar\"}],                        {\"template\":{\"data\":{\"histogram2dcontour\":[{\"type\":\"histogram2dcontour\",\"colorbar\":{\"outlinewidth\":0,\"ticks\":\"\"},\"colorscale\":[[0.0,\"#0d0887\"],[0.1111111111111111,\"#46039f\"],[0.2222222222222222,\"#7201a8\"],[0.3333333333333333,\"#9c179e\"],[0.4444444444444444,\"#bd3786\"],[0.5555555555555556,\"#d8576b\"],[0.6666666666666666,\"#ed7953\"],[0.7777777777777778,\"#fb9f3a\"],[0.8888888888888888,\"#fdca26\"],[1.0,\"#f0f921\"]]}],\"choropleth\":[{\"type\":\"choropleth\",\"colorbar\":{\"outlinewidth\":0,\"ticks\":\"\"}}],\"histogram2d\":[{\"type\":\"histogram2d\",\"colorbar\":{\"outlinewidth\":0,\"ticks\":\"\"},\"colorscale\":[[0.0,\"#0d0887\"],[0.1111111111111111,\"#46039f\"],[0.2222222222222222,\"#7201a8\"],[0.3333333333333333,\"#9c179e\"],[0.4444444444444444,\"#bd3786\"],[0.5555555555555556,\"#d8576b\"],[0.6666666666666666,\"#ed7953\"],[0.7777777777777778,\"#fb9f3a\"],[0.8888888888888888,\"#fdca26\"],[1.0,\"#f0f921\"]]}],\"heatmap\":[{\"type\":\"heatmap\",\"colorbar\":{\"outlinewidth\":0,\"ticks\":\"\"},\"colorscale\":[[0.0,\"#0d0887\"],[0.1111111111111111,\"#46039f\"],[0.2222222222222222,\"#7201a8\"],[0.3333333333333333,\"#9c179e\"],[0.4444444444444444,\"#bd3786\"],[0.5555555555555556,\"#d8576b\"],[0.6666666666666666,\"#ed7953\"],[0.7777777777777778,\"#fb9f3a\"],[0.8888888888888888,\"#fdca26\"],[1.0,\"#f0f921\"]]}],\"heatmapgl\":[{\"type\":\"heatmapgl\",\"colorbar\":{\"outlinewidth\":0,\"ticks\":\"\"},\"colorscale\":[[0.0,\"#0d0887\"],[0.1111111111111111,\"#46039f\"],[0.2222222222222222,\"#7201a8\"],[0.3333333333333333,\"#9c179e\"],[0.4444444444444444,\"#bd3786\"],[0.5555555555555556,\"#d8576b\"],[0.6666666666666666,\"#ed7953\"],[0.7777777777777778,\"#fb9f3a\"],[0.8888888888888888,\"#fdca26\"],[1.0,\"#f0f921\"]]}],\"contourcarpet\":[{\"type\":\"contourcarpet\",\"colorbar\":{\"outlinewidth\":0,\"ticks\":\"\"}}],\"contour\":[{\"type\":\"contour\",\"colorbar\":{\"outlinewidth\":0,\"ticks\":\"\"},\"colorscale\":[[0.0,\"#0d0887\"],[0.1111111111111111,\"#46039f\"],[0.2222222222222222,\"#7201a8\"],[0.3333333333333333,\"#9c179e\"],[0.4444444444444444,\"#bd3786\"],[0.5555555555555556,\"#d8576b\"],[0.6666666666666666,\"#ed7953\"],[0.7777777777777778,\"#fb9f3a\"],[0.8888888888888888,\"#fdca26\"],[1.0,\"#f0f921\"]]}],\"surface\":[{\"type\":\"surface\",\"colorbar\":{\"outlinewidth\":0,\"ticks\":\"\"},\"colorscale\":[[0.0,\"#0d0887\"],[0.1111111111111111,\"#46039f\"],[0.2222222222222222,\"#7201a8\"],[0.3333333333333333,\"#9c179e\"],[0.4444444444444444,\"#bd3786\"],[0.5555555555555556,\"#d8576b\"],[0.6666666666666666,\"#ed7953\"],[0.7777777777777778,\"#fb9f3a\"],[0.8888888888888888,\"#fdca26\"],[1.0,\"#f0f921\"]]}],\"mesh3d\":[{\"type\":\"mesh3d\",\"colorbar\":{\"outlinewidth\":0,\"ticks\":\"\"}}],\"scatter\":[{\"fillpattern\":{\"fillmode\":\"overlay\",\"size\":10,\"solidity\":0.2},\"type\":\"scatter\"}],\"parcoords\":[{\"type\":\"parcoords\",\"line\":{\"colorbar\":{\"outlinewidth\":0,\"ticks\":\"\"}}}],\"scatterpolargl\":[{\"type\":\"scatterpolargl\",\"marker\":{\"colorbar\":{\"outlinewidth\":0,\"ticks\":\"\"}}}],\"bar\":[{\"error_x\":{\"color\":\"#2a3f5f\"},\"error_y\":{\"color\":\"#2a3f5f\"},\"marker\":{\"line\":{\"color\":\"#E5ECF6\",\"width\":0.5},\"pattern\":{\"fillmode\":\"overlay\",\"size\":10,\"solidity\":0.2}},\"type\":\"bar\"}],\"scattergeo\":[{\"type\":\"scattergeo\",\"marker\":{\"colorbar\":{\"outlinewidth\":0,\"ticks\":\"\"}}}],\"scatterpolar\":[{\"type\":\"scatterpolar\",\"marker\":{\"colorbar\":{\"outlinewidth\":0,\"ticks\":\"\"}}}],\"histogram\":[{\"marker\":{\"pattern\":{\"fillmode\":\"overlay\",\"size\":10,\"solidity\":0.2}},\"type\":\"histogram\"}],\"scattergl\":[{\"type\":\"scattergl\",\"marker\":{\"colorbar\":{\"outlinewidth\":0,\"ticks\":\"\"}}}],\"scatter3d\":[{\"type\":\"scatter3d\",\"line\":{\"colorbar\":{\"outlinewidth\":0,\"ticks\":\"\"}},\"marker\":{\"colorbar\":{\"outlinewidth\":0,\"ticks\":\"\"}}}],\"scattermapbox\":[{\"type\":\"scattermapbox\",\"marker\":{\"colorbar\":{\"outlinewidth\":0,\"ticks\":\"\"}}}],\"scatterternary\":[{\"type\":\"scatterternary\",\"marker\":{\"colorbar\":{\"outlinewidth\":0,\"ticks\":\"\"}}}],\"scattercarpet\":[{\"type\":\"scattercarpet\",\"marker\":{\"colorbar\":{\"outlinewidth\":0,\"ticks\":\"\"}}}],\"carpet\":[{\"aaxis\":{\"endlinecolor\":\"#2a3f5f\",\"gridcolor\":\"white\",\"linecolor\":\"white\",\"minorgridcolor\":\"white\",\"startlinecolor\":\"#2a3f5f\"},\"baxis\":{\"endlinecolor\":\"#2a3f5f\",\"gridcolor\":\"white\",\"linecolor\":\"white\",\"minorgridcolor\":\"white\",\"startlinecolor\":\"#2a3f5f\"},\"type\":\"carpet\"}],\"table\":[{\"cells\":{\"fill\":{\"color\":\"#EBF0F8\"},\"line\":{\"color\":\"white\"}},\"header\":{\"fill\":{\"color\":\"#C8D4E3\"},\"line\":{\"color\":\"white\"}},\"type\":\"table\"}],\"barpolar\":[{\"marker\":{\"line\":{\"color\":\"#E5ECF6\",\"width\":0.5},\"pattern\":{\"fillmode\":\"overlay\",\"size\":10,\"solidity\":0.2}},\"type\":\"barpolar\"}],\"pie\":[{\"automargin\":true,\"type\":\"pie\"}]},\"layout\":{\"autotypenumbers\":\"strict\",\"colorway\":[\"#636efa\",\"#EF553B\",\"#00cc96\",\"#ab63fa\",\"#FFA15A\",\"#19d3f3\",\"#FF6692\",\"#B6E880\",\"#FF97FF\",\"#FECB52\"],\"font\":{\"color\":\"#2a3f5f\"},\"hovermode\":\"closest\",\"hoverlabel\":{\"align\":\"left\"},\"paper_bgcolor\":\"white\",\"plot_bgcolor\":\"#E5ECF6\",\"polar\":{\"bgcolor\":\"#E5ECF6\",\"angularaxis\":{\"gridcolor\":\"white\",\"linecolor\":\"white\",\"ticks\":\"\"},\"radialaxis\":{\"gridcolor\":\"white\",\"linecolor\":\"white\",\"ticks\":\"\"}},\"ternary\":{\"bgcolor\":\"#E5ECF6\",\"aaxis\":{\"gridcolor\":\"white\",\"linecolor\":\"white\",\"ticks\":\"\"},\"baxis\":{\"gridcolor\":\"white\",\"linecolor\":\"white\",\"ticks\":\"\"},\"caxis\":{\"gridcolor\":\"white\",\"linecolor\":\"white\",\"ticks\":\"\"}},\"coloraxis\":{\"colorbar\":{\"outlinewidth\":0,\"ticks\":\"\"}},\"colorscale\":{\"sequential\":[[0.0,\"#0d0887\"],[0.1111111111111111,\"#46039f\"],[0.2222222222222222,\"#7201a8\"],[0.3333333333333333,\"#9c179e\"],[0.4444444444444444,\"#bd3786\"],[0.5555555555555556,\"#d8576b\"],[0.6666666666666666,\"#ed7953\"],[0.7777777777777778,\"#fb9f3a\"],[0.8888888888888888,\"#fdca26\"],[1.0,\"#f0f921\"]],\"sequentialminus\":[[0.0,\"#0d0887\"],[0.1111111111111111,\"#46039f\"],[0.2222222222222222,\"#7201a8\"],[0.3333333333333333,\"#9c179e\"],[0.4444444444444444,\"#bd3786\"],[0.5555555555555556,\"#d8576b\"],[0.6666666666666666,\"#ed7953\"],[0.7777777777777778,\"#fb9f3a\"],[0.8888888888888888,\"#fdca26\"],[1.0,\"#f0f921\"]],\"diverging\":[[0,\"#8e0152\"],[0.1,\"#c51b7d\"],[0.2,\"#de77ae\"],[0.3,\"#f1b6da\"],[0.4,\"#fde0ef\"],[0.5,\"#f7f7f7\"],[0.6,\"#e6f5d0\"],[0.7,\"#b8e186\"],[0.8,\"#7fbc41\"],[0.9,\"#4d9221\"],[1,\"#276419\"]]},\"xaxis\":{\"gridcolor\":\"white\",\"linecolor\":\"white\",\"ticks\":\"\",\"title\":{\"standoff\":15},\"zerolinecolor\":\"white\",\"automargin\":true,\"zerolinewidth\":2},\"yaxis\":{\"gridcolor\":\"white\",\"linecolor\":\"white\",\"ticks\":\"\",\"title\":{\"standoff\":15},\"zerolinecolor\":\"white\",\"automargin\":true,\"zerolinewidth\":2},\"scene\":{\"xaxis\":{\"backgroundcolor\":\"#E5ECF6\",\"gridcolor\":\"white\",\"linecolor\":\"white\",\"showbackground\":true,\"ticks\":\"\",\"zerolinecolor\":\"white\",\"gridwidth\":2},\"yaxis\":{\"backgroundcolor\":\"#E5ECF6\",\"gridcolor\":\"white\",\"linecolor\":\"white\",\"showbackground\":true,\"ticks\":\"\",\"zerolinecolor\":\"white\",\"gridwidth\":2},\"zaxis\":{\"backgroundcolor\":\"#E5ECF6\",\"gridcolor\":\"white\",\"linecolor\":\"white\",\"showbackground\":true,\"ticks\":\"\",\"zerolinecolor\":\"white\",\"gridwidth\":2}},\"shapedefaults\":{\"line\":{\"color\":\"#2a3f5f\"}},\"annotationdefaults\":{\"arrowcolor\":\"#2a3f5f\",\"arrowhead\":0,\"arrowwidth\":1},\"geo\":{\"bgcolor\":\"white\",\"landcolor\":\"#E5ECF6\",\"subunitcolor\":\"white\",\"showland\":true,\"showlakes\":true,\"lakecolor\":\"white\"},\"title\":{\"x\":0.05},\"mapbox\":{\"style\":\"light\"}}},\"xaxis\":{\"anchor\":\"y\",\"domain\":[0.0,1.0],\"title\":{\"text\":\"index\"}},\"yaxis\":{\"anchor\":\"x\",\"domain\":[0.0,1.0],\"title\":{\"text\":\"rating\"}},\"coloraxis\":{\"colorbar\":{\"title\":{\"text\":\"index\"}},\"colorscale\":[[0.0,\"#0d0887\"],[0.1111111111111111,\"#46039f\"],[0.2222222222222222,\"#7201a8\"],[0.3333333333333333,\"#9c179e\"],[0.4444444444444444,\"#bd3786\"],[0.5555555555555556,\"#d8576b\"],[0.6666666666666666,\"#ed7953\"],[0.7777777777777778,\"#fb9f3a\"],[0.8888888888888888,\"#fdca26\"],[1.0,\"#f0f921\"]]},\"legend\":{\"tracegroupgap\":0},\"margin\":{\"t\":60},\"barmode\":\"relative\",\"height\":400},                        {\"responsive\": true}                    ).then(function(){\n",
       "                            \n",
       "var gd = document.getElementById('8faca484-7744-4ba6-b303-c5eccaf8853d');\n",
       "var x = new MutationObserver(function (mutations, observer) {{\n",
       "        var display = window.getComputedStyle(gd).display;\n",
       "        if (!display || display === 'none') {{\n",
       "            console.log([gd, 'removed!']);\n",
       "            Plotly.purge(gd);\n",
       "            observer.disconnect();\n",
       "        }}\n",
       "}});\n",
       "\n",
       "// Listen for the removal of the full notebook cells\n",
       "var notebookContainer = gd.closest('#notebook-container');\n",
       "if (notebookContainer) {{\n",
       "    x.observe(notebookContainer, {childList: true});\n",
       "}}\n",
       "\n",
       "// Listen for the clearing of the current output cell\n",
       "var outputEl = gd.closest('.output');\n",
       "if (outputEl) {{\n",
       "    x.observe(outputEl, {childList: true});\n",
       "}}\n",
       "\n",
       "                        })                };                });            </script>        </div>"
      ]
     },
     "metadata": {},
     "output_type": "display_data"
    }
   ],
   "source": [
    "fig = px.bar(temp_df, x='index', y='rating',\n",
    "              color='index',\n",
    "             labels={'index'}, height=400)\n",
    "fig.show()"
   ]
  },
  {
   "cell_type": "markdown",
   "metadata": {},
   "source": []
  },
  {
   "cell_type": "code",
   "execution_count": 20,
   "metadata": {},
   "outputs": [],
   "source": [
    "temp_df1 = df.groupby('author').count().reset_index().sort_values('title',ascending=False).head(10)"
   ]
  },
  {
   "cell_type": "code",
   "execution_count": 21,
   "metadata": {},
   "outputs": [
    {
     "data": {
      "text/html": [
       "<div>\n",
       "<style scoped>\n",
       "    .dataframe tbody tr th:only-of-type {\n",
       "        vertical-align: middle;\n",
       "    }\n",
       "\n",
       "    .dataframe tbody tr th {\n",
       "        vertical-align: top;\n",
       "    }\n",
       "\n",
       "    .dataframe thead th {\n",
       "        text-align: right;\n",
       "    }\n",
       "</style>\n",
       "<table border=\"1\" class=\"dataframe\">\n",
       "  <thead>\n",
       "    <tr style=\"text-align: right;\">\n",
       "      <th></th>\n",
       "      <th>author</th>\n",
       "      <th>title</th>\n",
       "      <th>types</th>\n",
       "      <th>price</th>\n",
       "      <th>review</th>\n",
       "      <th>year</th>\n",
       "      <th>rating</th>\n",
       "    </tr>\n",
       "  </thead>\n",
       "  <tbody>\n",
       "    <tr>\n",
       "      <th>232</th>\n",
       "      <td>Rick Riordan</td>\n",
       "      <td>14</td>\n",
       "      <td>14</td>\n",
       "      <td>14</td>\n",
       "      <td>14</td>\n",
       "      <td>14</td>\n",
       "      <td>14</td>\n",
       "    </tr>\n",
       "    <tr>\n",
       "      <th>138</th>\n",
       "      <td>Jeff Kinney</td>\n",
       "      <td>13</td>\n",
       "      <td>13</td>\n",
       "      <td>13</td>\n",
       "      <td>13</td>\n",
       "      <td>13</td>\n",
       "      <td>13</td>\n",
       "    </tr>\n",
       "    <tr>\n",
       "      <th>277</th>\n",
       "      <td>Suzanne Collins</td>\n",
       "      <td>11</td>\n",
       "      <td>11</td>\n",
       "      <td>11</td>\n",
       "      <td>11</td>\n",
       "      <td>11</td>\n",
       "      <td>11</td>\n",
       "    </tr>\n",
       "    <tr>\n",
       "      <th>181</th>\n",
       "      <td>Malcolm Gladwell</td>\n",
       "      <td>8</td>\n",
       "      <td>8</td>\n",
       "      <td>8</td>\n",
       "      <td>8</td>\n",
       "      <td>8</td>\n",
       "      <td>8</td>\n",
       "    </tr>\n",
       "    <tr>\n",
       "      <th>271</th>\n",
       "      <td>Stephenie Meyer</td>\n",
       "      <td>8</td>\n",
       "      <td>8</td>\n",
       "      <td>8</td>\n",
       "      <td>8</td>\n",
       "      <td>8</td>\n",
       "      <td>8</td>\n",
       "    </tr>\n",
       "    <tr>\n",
       "      <th>150</th>\n",
       "      <td>John Grisham</td>\n",
       "      <td>6</td>\n",
       "      <td>6</td>\n",
       "      <td>6</td>\n",
       "      <td>6</td>\n",
       "      <td>6</td>\n",
       "      <td>6</td>\n",
       "    </tr>\n",
       "    <tr>\n",
       "      <th>117</th>\n",
       "      <td>Harper Lee</td>\n",
       "      <td>6</td>\n",
       "      <td>6</td>\n",
       "      <td>6</td>\n",
       "      <td>6</td>\n",
       "      <td>6</td>\n",
       "      <td>6</td>\n",
       "    </tr>\n",
       "    <tr>\n",
       "      <th>274</th>\n",
       "      <td>Stieg Larsson</td>\n",
       "      <td>6</td>\n",
       "      <td>6</td>\n",
       "      <td>6</td>\n",
       "      <td>6</td>\n",
       "      <td>6</td>\n",
       "      <td>6</td>\n",
       "    </tr>\n",
       "    <tr>\n",
       "      <th>215</th>\n",
       "      <td>Paulo Coelho</td>\n",
       "      <td>6</td>\n",
       "      <td>6</td>\n",
       "      <td>6</td>\n",
       "      <td>6</td>\n",
       "      <td>6</td>\n",
       "      <td>6</td>\n",
       "    </tr>\n",
       "    <tr>\n",
       "      <th>83</th>\n",
       "      <td>Don Miguel Ruiz</td>\n",
       "      <td>6</td>\n",
       "      <td>6</td>\n",
       "      <td>6</td>\n",
       "      <td>6</td>\n",
       "      <td>6</td>\n",
       "      <td>6</td>\n",
       "    </tr>\n",
       "  </tbody>\n",
       "</table>\n",
       "</div>"
      ],
      "text/plain": [
       "               author  title  types  price  review  year  rating\n",
       "232      Rick Riordan     14     14     14      14    14      14\n",
       "138       Jeff Kinney     13     13     13      13    13      13\n",
       "277   Suzanne Collins     11     11     11      11    11      11\n",
       "181  Malcolm Gladwell      8      8      8       8     8       8\n",
       "271   Stephenie Meyer      8      8      8       8     8       8\n",
       "150      John Grisham      6      6      6       6     6       6\n",
       "117        Harper Lee      6      6      6       6     6       6\n",
       "274     Stieg Larsson      6      6      6       6     6       6\n",
       "215      Paulo Coelho      6      6      6       6     6       6\n",
       "83    Don Miguel Ruiz      6      6      6       6     6       6"
      ]
     },
     "execution_count": 21,
     "metadata": {},
     "output_type": "execute_result"
    }
   ],
   "source": [
    "temp_df1"
   ]
  },
  {
   "cell_type": "code",
   "execution_count": 22,
   "metadata": {},
   "outputs": [
    {
     "data": {
      "application/vnd.plotly.v1+json": {
       "config": {
        "plotlyServerURL": "https://plot.ly"
       },
       "data": [
        {
         "alignmentgroup": "True",
         "hovertemplate": "author=%{x}<br>title=%{y}<extra></extra>",
         "legendgroup": "Rick Riordan",
         "marker": {
          "color": "#636efa",
          "pattern": {
           "shape": ""
          }
         },
         "name": "Rick Riordan",
         "offsetgroup": "Rick Riordan",
         "orientation": "v",
         "showlegend": true,
         "textposition": "auto",
         "type": "bar",
         "x": [
          "Rick Riordan"
         ],
         "xaxis": "x",
         "y": [
          14
         ],
         "yaxis": "y"
        },
        {
         "alignmentgroup": "True",
         "hovertemplate": "author=%{x}<br>title=%{y}<extra></extra>",
         "legendgroup": "Jeff Kinney",
         "marker": {
          "color": "#EF553B",
          "pattern": {
           "shape": ""
          }
         },
         "name": "Jeff Kinney",
         "offsetgroup": "Jeff Kinney",
         "orientation": "v",
         "showlegend": true,
         "textposition": "auto",
         "type": "bar",
         "x": [
          "Jeff Kinney"
         ],
         "xaxis": "x",
         "y": [
          13
         ],
         "yaxis": "y"
        },
        {
         "alignmentgroup": "True",
         "hovertemplate": "author=%{x}<br>title=%{y}<extra></extra>",
         "legendgroup": "Suzanne Collins",
         "marker": {
          "color": "#00cc96",
          "pattern": {
           "shape": ""
          }
         },
         "name": "Suzanne Collins",
         "offsetgroup": "Suzanne Collins",
         "orientation": "v",
         "showlegend": true,
         "textposition": "auto",
         "type": "bar",
         "x": [
          "Suzanne Collins"
         ],
         "xaxis": "x",
         "y": [
          11
         ],
         "yaxis": "y"
        },
        {
         "alignmentgroup": "True",
         "hovertemplate": "author=%{x}<br>title=%{y}<extra></extra>",
         "legendgroup": "Malcolm Gladwell",
         "marker": {
          "color": "#ab63fa",
          "pattern": {
           "shape": ""
          }
         },
         "name": "Malcolm Gladwell",
         "offsetgroup": "Malcolm Gladwell",
         "orientation": "v",
         "showlegend": true,
         "textposition": "auto",
         "type": "bar",
         "x": [
          "Malcolm Gladwell"
         ],
         "xaxis": "x",
         "y": [
          8
         ],
         "yaxis": "y"
        },
        {
         "alignmentgroup": "True",
         "hovertemplate": "author=%{x}<br>title=%{y}<extra></extra>",
         "legendgroup": "Stephenie Meyer",
         "marker": {
          "color": "#FFA15A",
          "pattern": {
           "shape": ""
          }
         },
         "name": "Stephenie Meyer",
         "offsetgroup": "Stephenie Meyer",
         "orientation": "v",
         "showlegend": true,
         "textposition": "auto",
         "type": "bar",
         "x": [
          "Stephenie Meyer"
         ],
         "xaxis": "x",
         "y": [
          8
         ],
         "yaxis": "y"
        },
        {
         "alignmentgroup": "True",
         "hovertemplate": "author=%{x}<br>title=%{y}<extra></extra>",
         "legendgroup": "John Grisham",
         "marker": {
          "color": "#19d3f3",
          "pattern": {
           "shape": ""
          }
         },
         "name": "John Grisham",
         "offsetgroup": "John Grisham",
         "orientation": "v",
         "showlegend": true,
         "textposition": "auto",
         "type": "bar",
         "x": [
          "John Grisham"
         ],
         "xaxis": "x",
         "y": [
          6
         ],
         "yaxis": "y"
        },
        {
         "alignmentgroup": "True",
         "hovertemplate": "author=%{x}<br>title=%{y}<extra></extra>",
         "legendgroup": "Harper Lee",
         "marker": {
          "color": "#FF6692",
          "pattern": {
           "shape": ""
          }
         },
         "name": "Harper Lee",
         "offsetgroup": "Harper Lee",
         "orientation": "v",
         "showlegend": true,
         "textposition": "auto",
         "type": "bar",
         "x": [
          "Harper Lee"
         ],
         "xaxis": "x",
         "y": [
          6
         ],
         "yaxis": "y"
        },
        {
         "alignmentgroup": "True",
         "hovertemplate": "author=%{x}<br>title=%{y}<extra></extra>",
         "legendgroup": "Stieg Larsson",
         "marker": {
          "color": "#B6E880",
          "pattern": {
           "shape": ""
          }
         },
         "name": "Stieg Larsson",
         "offsetgroup": "Stieg Larsson",
         "orientation": "v",
         "showlegend": true,
         "textposition": "auto",
         "type": "bar",
         "x": [
          "Stieg Larsson"
         ],
         "xaxis": "x",
         "y": [
          6
         ],
         "yaxis": "y"
        },
        {
         "alignmentgroup": "True",
         "hovertemplate": "author=%{x}<br>title=%{y}<extra></extra>",
         "legendgroup": "Paulo Coelho",
         "marker": {
          "color": "#FF97FF",
          "pattern": {
           "shape": ""
          }
         },
         "name": "Paulo Coelho",
         "offsetgroup": "Paulo Coelho",
         "orientation": "v",
         "showlegend": true,
         "textposition": "auto",
         "type": "bar",
         "x": [
          "Paulo Coelho"
         ],
         "xaxis": "x",
         "y": [
          6
         ],
         "yaxis": "y"
        },
        {
         "alignmentgroup": "True",
         "hovertemplate": "author=%{x}<br>title=%{y}<extra></extra>",
         "legendgroup": "Don Miguel Ruiz",
         "marker": {
          "color": "#FECB52",
          "pattern": {
           "shape": ""
          }
         },
         "name": "Don Miguel Ruiz",
         "offsetgroup": "Don Miguel Ruiz",
         "orientation": "v",
         "showlegend": true,
         "textposition": "auto",
         "type": "bar",
         "x": [
          "Don Miguel Ruiz"
         ],
         "xaxis": "x",
         "y": [
          6
         ],
         "yaxis": "y"
        }
       ],
       "layout": {
        "barmode": "relative",
        "height": 400,
        "legend": {
         "title": {
          "text": "author"
         },
         "tracegroupgap": 0
        },
        "margin": {
         "t": 60
        },
        "template": {
         "data": {
          "bar": [
           {
            "error_x": {
             "color": "#2a3f5f"
            },
            "error_y": {
             "color": "#2a3f5f"
            },
            "marker": {
             "line": {
              "color": "#E5ECF6",
              "width": 0.5
             },
             "pattern": {
              "fillmode": "overlay",
              "size": 10,
              "solidity": 0.2
             }
            },
            "type": "bar"
           }
          ],
          "barpolar": [
           {
            "marker": {
             "line": {
              "color": "#E5ECF6",
              "width": 0.5
             },
             "pattern": {
              "fillmode": "overlay",
              "size": 10,
              "solidity": 0.2
             }
            },
            "type": "barpolar"
           }
          ],
          "carpet": [
           {
            "aaxis": {
             "endlinecolor": "#2a3f5f",
             "gridcolor": "white",
             "linecolor": "white",
             "minorgridcolor": "white",
             "startlinecolor": "#2a3f5f"
            },
            "baxis": {
             "endlinecolor": "#2a3f5f",
             "gridcolor": "white",
             "linecolor": "white",
             "minorgridcolor": "white",
             "startlinecolor": "#2a3f5f"
            },
            "type": "carpet"
           }
          ],
          "choropleth": [
           {
            "colorbar": {
             "outlinewidth": 0,
             "ticks": ""
            },
            "type": "choropleth"
           }
          ],
          "contour": [
           {
            "colorbar": {
             "outlinewidth": 0,
             "ticks": ""
            },
            "colorscale": [
             [
              0,
              "#0d0887"
             ],
             [
              0.1111111111111111,
              "#46039f"
             ],
             [
              0.2222222222222222,
              "#7201a8"
             ],
             [
              0.3333333333333333,
              "#9c179e"
             ],
             [
              0.4444444444444444,
              "#bd3786"
             ],
             [
              0.5555555555555556,
              "#d8576b"
             ],
             [
              0.6666666666666666,
              "#ed7953"
             ],
             [
              0.7777777777777778,
              "#fb9f3a"
             ],
             [
              0.8888888888888888,
              "#fdca26"
             ],
             [
              1,
              "#f0f921"
             ]
            ],
            "type": "contour"
           }
          ],
          "contourcarpet": [
           {
            "colorbar": {
             "outlinewidth": 0,
             "ticks": ""
            },
            "type": "contourcarpet"
           }
          ],
          "heatmap": [
           {
            "colorbar": {
             "outlinewidth": 0,
             "ticks": ""
            },
            "colorscale": [
             [
              0,
              "#0d0887"
             ],
             [
              0.1111111111111111,
              "#46039f"
             ],
             [
              0.2222222222222222,
              "#7201a8"
             ],
             [
              0.3333333333333333,
              "#9c179e"
             ],
             [
              0.4444444444444444,
              "#bd3786"
             ],
             [
              0.5555555555555556,
              "#d8576b"
             ],
             [
              0.6666666666666666,
              "#ed7953"
             ],
             [
              0.7777777777777778,
              "#fb9f3a"
             ],
             [
              0.8888888888888888,
              "#fdca26"
             ],
             [
              1,
              "#f0f921"
             ]
            ],
            "type": "heatmap"
           }
          ],
          "heatmapgl": [
           {
            "colorbar": {
             "outlinewidth": 0,
             "ticks": ""
            },
            "colorscale": [
             [
              0,
              "#0d0887"
             ],
             [
              0.1111111111111111,
              "#46039f"
             ],
             [
              0.2222222222222222,
              "#7201a8"
             ],
             [
              0.3333333333333333,
              "#9c179e"
             ],
             [
              0.4444444444444444,
              "#bd3786"
             ],
             [
              0.5555555555555556,
              "#d8576b"
             ],
             [
              0.6666666666666666,
              "#ed7953"
             ],
             [
              0.7777777777777778,
              "#fb9f3a"
             ],
             [
              0.8888888888888888,
              "#fdca26"
             ],
             [
              1,
              "#f0f921"
             ]
            ],
            "type": "heatmapgl"
           }
          ],
          "histogram": [
           {
            "marker": {
             "pattern": {
              "fillmode": "overlay",
              "size": 10,
              "solidity": 0.2
             }
            },
            "type": "histogram"
           }
          ],
          "histogram2d": [
           {
            "colorbar": {
             "outlinewidth": 0,
             "ticks": ""
            },
            "colorscale": [
             [
              0,
              "#0d0887"
             ],
             [
              0.1111111111111111,
              "#46039f"
             ],
             [
              0.2222222222222222,
              "#7201a8"
             ],
             [
              0.3333333333333333,
              "#9c179e"
             ],
             [
              0.4444444444444444,
              "#bd3786"
             ],
             [
              0.5555555555555556,
              "#d8576b"
             ],
             [
              0.6666666666666666,
              "#ed7953"
             ],
             [
              0.7777777777777778,
              "#fb9f3a"
             ],
             [
              0.8888888888888888,
              "#fdca26"
             ],
             [
              1,
              "#f0f921"
             ]
            ],
            "type": "histogram2d"
           }
          ],
          "histogram2dcontour": [
           {
            "colorbar": {
             "outlinewidth": 0,
             "ticks": ""
            },
            "colorscale": [
             [
              0,
              "#0d0887"
             ],
             [
              0.1111111111111111,
              "#46039f"
             ],
             [
              0.2222222222222222,
              "#7201a8"
             ],
             [
              0.3333333333333333,
              "#9c179e"
             ],
             [
              0.4444444444444444,
              "#bd3786"
             ],
             [
              0.5555555555555556,
              "#d8576b"
             ],
             [
              0.6666666666666666,
              "#ed7953"
             ],
             [
              0.7777777777777778,
              "#fb9f3a"
             ],
             [
              0.8888888888888888,
              "#fdca26"
             ],
             [
              1,
              "#f0f921"
             ]
            ],
            "type": "histogram2dcontour"
           }
          ],
          "mesh3d": [
           {
            "colorbar": {
             "outlinewidth": 0,
             "ticks": ""
            },
            "type": "mesh3d"
           }
          ],
          "parcoords": [
           {
            "line": {
             "colorbar": {
              "outlinewidth": 0,
              "ticks": ""
             }
            },
            "type": "parcoords"
           }
          ],
          "pie": [
           {
            "automargin": true,
            "type": "pie"
           }
          ],
          "scatter": [
           {
            "fillpattern": {
             "fillmode": "overlay",
             "size": 10,
             "solidity": 0.2
            },
            "type": "scatter"
           }
          ],
          "scatter3d": [
           {
            "line": {
             "colorbar": {
              "outlinewidth": 0,
              "ticks": ""
             }
            },
            "marker": {
             "colorbar": {
              "outlinewidth": 0,
              "ticks": ""
             }
            },
            "type": "scatter3d"
           }
          ],
          "scattercarpet": [
           {
            "marker": {
             "colorbar": {
              "outlinewidth": 0,
              "ticks": ""
             }
            },
            "type": "scattercarpet"
           }
          ],
          "scattergeo": [
           {
            "marker": {
             "colorbar": {
              "outlinewidth": 0,
              "ticks": ""
             }
            },
            "type": "scattergeo"
           }
          ],
          "scattergl": [
           {
            "marker": {
             "colorbar": {
              "outlinewidth": 0,
              "ticks": ""
             }
            },
            "type": "scattergl"
           }
          ],
          "scattermapbox": [
           {
            "marker": {
             "colorbar": {
              "outlinewidth": 0,
              "ticks": ""
             }
            },
            "type": "scattermapbox"
           }
          ],
          "scatterpolar": [
           {
            "marker": {
             "colorbar": {
              "outlinewidth": 0,
              "ticks": ""
             }
            },
            "type": "scatterpolar"
           }
          ],
          "scatterpolargl": [
           {
            "marker": {
             "colorbar": {
              "outlinewidth": 0,
              "ticks": ""
             }
            },
            "type": "scatterpolargl"
           }
          ],
          "scatterternary": [
           {
            "marker": {
             "colorbar": {
              "outlinewidth": 0,
              "ticks": ""
             }
            },
            "type": "scatterternary"
           }
          ],
          "surface": [
           {
            "colorbar": {
             "outlinewidth": 0,
             "ticks": ""
            },
            "colorscale": [
             [
              0,
              "#0d0887"
             ],
             [
              0.1111111111111111,
              "#46039f"
             ],
             [
              0.2222222222222222,
              "#7201a8"
             ],
             [
              0.3333333333333333,
              "#9c179e"
             ],
             [
              0.4444444444444444,
              "#bd3786"
             ],
             [
              0.5555555555555556,
              "#d8576b"
             ],
             [
              0.6666666666666666,
              "#ed7953"
             ],
             [
              0.7777777777777778,
              "#fb9f3a"
             ],
             [
              0.8888888888888888,
              "#fdca26"
             ],
             [
              1,
              "#f0f921"
             ]
            ],
            "type": "surface"
           }
          ],
          "table": [
           {
            "cells": {
             "fill": {
              "color": "#EBF0F8"
             },
             "line": {
              "color": "white"
             }
            },
            "header": {
             "fill": {
              "color": "#C8D4E3"
             },
             "line": {
              "color": "white"
             }
            },
            "type": "table"
           }
          ]
         },
         "layout": {
          "annotationdefaults": {
           "arrowcolor": "#2a3f5f",
           "arrowhead": 0,
           "arrowwidth": 1
          },
          "autotypenumbers": "strict",
          "coloraxis": {
           "colorbar": {
            "outlinewidth": 0,
            "ticks": ""
           }
          },
          "colorscale": {
           "diverging": [
            [
             0,
             "#8e0152"
            ],
            [
             0.1,
             "#c51b7d"
            ],
            [
             0.2,
             "#de77ae"
            ],
            [
             0.3,
             "#f1b6da"
            ],
            [
             0.4,
             "#fde0ef"
            ],
            [
             0.5,
             "#f7f7f7"
            ],
            [
             0.6,
             "#e6f5d0"
            ],
            [
             0.7,
             "#b8e186"
            ],
            [
             0.8,
             "#7fbc41"
            ],
            [
             0.9,
             "#4d9221"
            ],
            [
             1,
             "#276419"
            ]
           ],
           "sequential": [
            [
             0,
             "#0d0887"
            ],
            [
             0.1111111111111111,
             "#46039f"
            ],
            [
             0.2222222222222222,
             "#7201a8"
            ],
            [
             0.3333333333333333,
             "#9c179e"
            ],
            [
             0.4444444444444444,
             "#bd3786"
            ],
            [
             0.5555555555555556,
             "#d8576b"
            ],
            [
             0.6666666666666666,
             "#ed7953"
            ],
            [
             0.7777777777777778,
             "#fb9f3a"
            ],
            [
             0.8888888888888888,
             "#fdca26"
            ],
            [
             1,
             "#f0f921"
            ]
           ],
           "sequentialminus": [
            [
             0,
             "#0d0887"
            ],
            [
             0.1111111111111111,
             "#46039f"
            ],
            [
             0.2222222222222222,
             "#7201a8"
            ],
            [
             0.3333333333333333,
             "#9c179e"
            ],
            [
             0.4444444444444444,
             "#bd3786"
            ],
            [
             0.5555555555555556,
             "#d8576b"
            ],
            [
             0.6666666666666666,
             "#ed7953"
            ],
            [
             0.7777777777777778,
             "#fb9f3a"
            ],
            [
             0.8888888888888888,
             "#fdca26"
            ],
            [
             1,
             "#f0f921"
            ]
           ]
          },
          "colorway": [
           "#636efa",
           "#EF553B",
           "#00cc96",
           "#ab63fa",
           "#FFA15A",
           "#19d3f3",
           "#FF6692",
           "#B6E880",
           "#FF97FF",
           "#FECB52"
          ],
          "font": {
           "color": "#2a3f5f"
          },
          "geo": {
           "bgcolor": "white",
           "lakecolor": "white",
           "landcolor": "#E5ECF6",
           "showlakes": true,
           "showland": true,
           "subunitcolor": "white"
          },
          "hoverlabel": {
           "align": "left"
          },
          "hovermode": "closest",
          "mapbox": {
           "style": "light"
          },
          "paper_bgcolor": "white",
          "plot_bgcolor": "#E5ECF6",
          "polar": {
           "angularaxis": {
            "gridcolor": "white",
            "linecolor": "white",
            "ticks": ""
           },
           "bgcolor": "#E5ECF6",
           "radialaxis": {
            "gridcolor": "white",
            "linecolor": "white",
            "ticks": ""
           }
          },
          "scene": {
           "xaxis": {
            "backgroundcolor": "#E5ECF6",
            "gridcolor": "white",
            "gridwidth": 2,
            "linecolor": "white",
            "showbackground": true,
            "ticks": "",
            "zerolinecolor": "white"
           },
           "yaxis": {
            "backgroundcolor": "#E5ECF6",
            "gridcolor": "white",
            "gridwidth": 2,
            "linecolor": "white",
            "showbackground": true,
            "ticks": "",
            "zerolinecolor": "white"
           },
           "zaxis": {
            "backgroundcolor": "#E5ECF6",
            "gridcolor": "white",
            "gridwidth": 2,
            "linecolor": "white",
            "showbackground": true,
            "ticks": "",
            "zerolinecolor": "white"
           }
          },
          "shapedefaults": {
           "line": {
            "color": "#2a3f5f"
           }
          },
          "ternary": {
           "aaxis": {
            "gridcolor": "white",
            "linecolor": "white",
            "ticks": ""
           },
           "baxis": {
            "gridcolor": "white",
            "linecolor": "white",
            "ticks": ""
           },
           "bgcolor": "#E5ECF6",
           "caxis": {
            "gridcolor": "white",
            "linecolor": "white",
            "ticks": ""
           }
          },
          "title": {
           "x": 0.05
          },
          "xaxis": {
           "automargin": true,
           "gridcolor": "white",
           "linecolor": "white",
           "ticks": "",
           "title": {
            "standoff": 15
           },
           "zerolinecolor": "white",
           "zerolinewidth": 2
          },
          "yaxis": {
           "automargin": true,
           "gridcolor": "white",
           "linecolor": "white",
           "ticks": "",
           "title": {
            "standoff": 15
           },
           "zerolinecolor": "white",
           "zerolinewidth": 2
          }
         }
        },
        "xaxis": {
         "anchor": "y",
         "categoryarray": [
          "Rick Riordan",
          "Jeff Kinney",
          "Suzanne Collins",
          "Malcolm Gladwell",
          "Stephenie Meyer",
          "John Grisham",
          "Harper Lee",
          "Stieg Larsson",
          "Paulo Coelho",
          "Don Miguel Ruiz"
         ],
         "categoryorder": "array",
         "domain": [
          0,
          1
         ],
         "title": {
          "text": "author"
         }
        },
        "yaxis": {
         "anchor": "x",
         "domain": [
          0,
          1
         ],
         "title": {
          "text": "title"
         }
        }
       }
      },
      "text/html": [
       "<div>                            <div id=\"7ff8981e-b220-4cc6-aeac-e10adb26135c\" class=\"plotly-graph-div\" style=\"height:400px; width:100%;\"></div>            <script type=\"text/javascript\">                require([\"plotly\"], function(Plotly) {                    window.PLOTLYENV=window.PLOTLYENV || {};                                    if (document.getElementById(\"7ff8981e-b220-4cc6-aeac-e10adb26135c\")) {                    Plotly.newPlot(                        \"7ff8981e-b220-4cc6-aeac-e10adb26135c\",                        [{\"alignmentgroup\":\"True\",\"hovertemplate\":\"author=%{x}<br>title=%{y}<extra></extra>\",\"legendgroup\":\"Rick Riordan\",\"marker\":{\"color\":\"#636efa\",\"pattern\":{\"shape\":\"\"}},\"name\":\"Rick Riordan\",\"offsetgroup\":\"Rick Riordan\",\"orientation\":\"v\",\"showlegend\":true,\"textposition\":\"auto\",\"x\":[\"Rick Riordan\"],\"xaxis\":\"x\",\"y\":[14],\"yaxis\":\"y\",\"type\":\"bar\"},{\"alignmentgroup\":\"True\",\"hovertemplate\":\"author=%{x}<br>title=%{y}<extra></extra>\",\"legendgroup\":\"Jeff Kinney\",\"marker\":{\"color\":\"#EF553B\",\"pattern\":{\"shape\":\"\"}},\"name\":\"Jeff Kinney\",\"offsetgroup\":\"Jeff Kinney\",\"orientation\":\"v\",\"showlegend\":true,\"textposition\":\"auto\",\"x\":[\"Jeff Kinney\"],\"xaxis\":\"x\",\"y\":[13],\"yaxis\":\"y\",\"type\":\"bar\"},{\"alignmentgroup\":\"True\",\"hovertemplate\":\"author=%{x}<br>title=%{y}<extra></extra>\",\"legendgroup\":\"Suzanne Collins\",\"marker\":{\"color\":\"#00cc96\",\"pattern\":{\"shape\":\"\"}},\"name\":\"Suzanne Collins\",\"offsetgroup\":\"Suzanne Collins\",\"orientation\":\"v\",\"showlegend\":true,\"textposition\":\"auto\",\"x\":[\"Suzanne Collins\"],\"xaxis\":\"x\",\"y\":[11],\"yaxis\":\"y\",\"type\":\"bar\"},{\"alignmentgroup\":\"True\",\"hovertemplate\":\"author=%{x}<br>title=%{y}<extra></extra>\",\"legendgroup\":\"Malcolm Gladwell\",\"marker\":{\"color\":\"#ab63fa\",\"pattern\":{\"shape\":\"\"}},\"name\":\"Malcolm Gladwell\",\"offsetgroup\":\"Malcolm Gladwell\",\"orientation\":\"v\",\"showlegend\":true,\"textposition\":\"auto\",\"x\":[\"Malcolm Gladwell\"],\"xaxis\":\"x\",\"y\":[8],\"yaxis\":\"y\",\"type\":\"bar\"},{\"alignmentgroup\":\"True\",\"hovertemplate\":\"author=%{x}<br>title=%{y}<extra></extra>\",\"legendgroup\":\"Stephenie Meyer\",\"marker\":{\"color\":\"#FFA15A\",\"pattern\":{\"shape\":\"\"}},\"name\":\"Stephenie Meyer\",\"offsetgroup\":\"Stephenie Meyer\",\"orientation\":\"v\",\"showlegend\":true,\"textposition\":\"auto\",\"x\":[\"Stephenie Meyer\"],\"xaxis\":\"x\",\"y\":[8],\"yaxis\":\"y\",\"type\":\"bar\"},{\"alignmentgroup\":\"True\",\"hovertemplate\":\"author=%{x}<br>title=%{y}<extra></extra>\",\"legendgroup\":\"John Grisham\",\"marker\":{\"color\":\"#19d3f3\",\"pattern\":{\"shape\":\"\"}},\"name\":\"John Grisham\",\"offsetgroup\":\"John Grisham\",\"orientation\":\"v\",\"showlegend\":true,\"textposition\":\"auto\",\"x\":[\"John Grisham\"],\"xaxis\":\"x\",\"y\":[6],\"yaxis\":\"y\",\"type\":\"bar\"},{\"alignmentgroup\":\"True\",\"hovertemplate\":\"author=%{x}<br>title=%{y}<extra></extra>\",\"legendgroup\":\"Harper Lee\",\"marker\":{\"color\":\"#FF6692\",\"pattern\":{\"shape\":\"\"}},\"name\":\"Harper Lee\",\"offsetgroup\":\"Harper Lee\",\"orientation\":\"v\",\"showlegend\":true,\"textposition\":\"auto\",\"x\":[\"Harper Lee\"],\"xaxis\":\"x\",\"y\":[6],\"yaxis\":\"y\",\"type\":\"bar\"},{\"alignmentgroup\":\"True\",\"hovertemplate\":\"author=%{x}<br>title=%{y}<extra></extra>\",\"legendgroup\":\"Stieg Larsson\",\"marker\":{\"color\":\"#B6E880\",\"pattern\":{\"shape\":\"\"}},\"name\":\"Stieg Larsson\",\"offsetgroup\":\"Stieg Larsson\",\"orientation\":\"v\",\"showlegend\":true,\"textposition\":\"auto\",\"x\":[\"Stieg Larsson\"],\"xaxis\":\"x\",\"y\":[6],\"yaxis\":\"y\",\"type\":\"bar\"},{\"alignmentgroup\":\"True\",\"hovertemplate\":\"author=%{x}<br>title=%{y}<extra></extra>\",\"legendgroup\":\"Paulo Coelho\",\"marker\":{\"color\":\"#FF97FF\",\"pattern\":{\"shape\":\"\"}},\"name\":\"Paulo Coelho\",\"offsetgroup\":\"Paulo Coelho\",\"orientation\":\"v\",\"showlegend\":true,\"textposition\":\"auto\",\"x\":[\"Paulo Coelho\"],\"xaxis\":\"x\",\"y\":[6],\"yaxis\":\"y\",\"type\":\"bar\"},{\"alignmentgroup\":\"True\",\"hovertemplate\":\"author=%{x}<br>title=%{y}<extra></extra>\",\"legendgroup\":\"Don Miguel Ruiz\",\"marker\":{\"color\":\"#FECB52\",\"pattern\":{\"shape\":\"\"}},\"name\":\"Don Miguel Ruiz\",\"offsetgroup\":\"Don Miguel Ruiz\",\"orientation\":\"v\",\"showlegend\":true,\"textposition\":\"auto\",\"x\":[\"Don Miguel Ruiz\"],\"xaxis\":\"x\",\"y\":[6],\"yaxis\":\"y\",\"type\":\"bar\"}],                        {\"template\":{\"data\":{\"histogram2dcontour\":[{\"type\":\"histogram2dcontour\",\"colorbar\":{\"outlinewidth\":0,\"ticks\":\"\"},\"colorscale\":[[0.0,\"#0d0887\"],[0.1111111111111111,\"#46039f\"],[0.2222222222222222,\"#7201a8\"],[0.3333333333333333,\"#9c179e\"],[0.4444444444444444,\"#bd3786\"],[0.5555555555555556,\"#d8576b\"],[0.6666666666666666,\"#ed7953\"],[0.7777777777777778,\"#fb9f3a\"],[0.8888888888888888,\"#fdca26\"],[1.0,\"#f0f921\"]]}],\"choropleth\":[{\"type\":\"choropleth\",\"colorbar\":{\"outlinewidth\":0,\"ticks\":\"\"}}],\"histogram2d\":[{\"type\":\"histogram2d\",\"colorbar\":{\"outlinewidth\":0,\"ticks\":\"\"},\"colorscale\":[[0.0,\"#0d0887\"],[0.1111111111111111,\"#46039f\"],[0.2222222222222222,\"#7201a8\"],[0.3333333333333333,\"#9c179e\"],[0.4444444444444444,\"#bd3786\"],[0.5555555555555556,\"#d8576b\"],[0.6666666666666666,\"#ed7953\"],[0.7777777777777778,\"#fb9f3a\"],[0.8888888888888888,\"#fdca26\"],[1.0,\"#f0f921\"]]}],\"heatmap\":[{\"type\":\"heatmap\",\"colorbar\":{\"outlinewidth\":0,\"ticks\":\"\"},\"colorscale\":[[0.0,\"#0d0887\"],[0.1111111111111111,\"#46039f\"],[0.2222222222222222,\"#7201a8\"],[0.3333333333333333,\"#9c179e\"],[0.4444444444444444,\"#bd3786\"],[0.5555555555555556,\"#d8576b\"],[0.6666666666666666,\"#ed7953\"],[0.7777777777777778,\"#fb9f3a\"],[0.8888888888888888,\"#fdca26\"],[1.0,\"#f0f921\"]]}],\"heatmapgl\":[{\"type\":\"heatmapgl\",\"colorbar\":{\"outlinewidth\":0,\"ticks\":\"\"},\"colorscale\":[[0.0,\"#0d0887\"],[0.1111111111111111,\"#46039f\"],[0.2222222222222222,\"#7201a8\"],[0.3333333333333333,\"#9c179e\"],[0.4444444444444444,\"#bd3786\"],[0.5555555555555556,\"#d8576b\"],[0.6666666666666666,\"#ed7953\"],[0.7777777777777778,\"#fb9f3a\"],[0.8888888888888888,\"#fdca26\"],[1.0,\"#f0f921\"]]}],\"contourcarpet\":[{\"type\":\"contourcarpet\",\"colorbar\":{\"outlinewidth\":0,\"ticks\":\"\"}}],\"contour\":[{\"type\":\"contour\",\"colorbar\":{\"outlinewidth\":0,\"ticks\":\"\"},\"colorscale\":[[0.0,\"#0d0887\"],[0.1111111111111111,\"#46039f\"],[0.2222222222222222,\"#7201a8\"],[0.3333333333333333,\"#9c179e\"],[0.4444444444444444,\"#bd3786\"],[0.5555555555555556,\"#d8576b\"],[0.6666666666666666,\"#ed7953\"],[0.7777777777777778,\"#fb9f3a\"],[0.8888888888888888,\"#fdca26\"],[1.0,\"#f0f921\"]]}],\"surface\":[{\"type\":\"surface\",\"colorbar\":{\"outlinewidth\":0,\"ticks\":\"\"},\"colorscale\":[[0.0,\"#0d0887\"],[0.1111111111111111,\"#46039f\"],[0.2222222222222222,\"#7201a8\"],[0.3333333333333333,\"#9c179e\"],[0.4444444444444444,\"#bd3786\"],[0.5555555555555556,\"#d8576b\"],[0.6666666666666666,\"#ed7953\"],[0.7777777777777778,\"#fb9f3a\"],[0.8888888888888888,\"#fdca26\"],[1.0,\"#f0f921\"]]}],\"mesh3d\":[{\"type\":\"mesh3d\",\"colorbar\":{\"outlinewidth\":0,\"ticks\":\"\"}}],\"scatter\":[{\"fillpattern\":{\"fillmode\":\"overlay\",\"size\":10,\"solidity\":0.2},\"type\":\"scatter\"}],\"parcoords\":[{\"type\":\"parcoords\",\"line\":{\"colorbar\":{\"outlinewidth\":0,\"ticks\":\"\"}}}],\"scatterpolargl\":[{\"type\":\"scatterpolargl\",\"marker\":{\"colorbar\":{\"outlinewidth\":0,\"ticks\":\"\"}}}],\"bar\":[{\"error_x\":{\"color\":\"#2a3f5f\"},\"error_y\":{\"color\":\"#2a3f5f\"},\"marker\":{\"line\":{\"color\":\"#E5ECF6\",\"width\":0.5},\"pattern\":{\"fillmode\":\"overlay\",\"size\":10,\"solidity\":0.2}},\"type\":\"bar\"}],\"scattergeo\":[{\"type\":\"scattergeo\",\"marker\":{\"colorbar\":{\"outlinewidth\":0,\"ticks\":\"\"}}}],\"scatterpolar\":[{\"type\":\"scatterpolar\",\"marker\":{\"colorbar\":{\"outlinewidth\":0,\"ticks\":\"\"}}}],\"histogram\":[{\"marker\":{\"pattern\":{\"fillmode\":\"overlay\",\"size\":10,\"solidity\":0.2}},\"type\":\"histogram\"}],\"scattergl\":[{\"type\":\"scattergl\",\"marker\":{\"colorbar\":{\"outlinewidth\":0,\"ticks\":\"\"}}}],\"scatter3d\":[{\"type\":\"scatter3d\",\"line\":{\"colorbar\":{\"outlinewidth\":0,\"ticks\":\"\"}},\"marker\":{\"colorbar\":{\"outlinewidth\":0,\"ticks\":\"\"}}}],\"scattermapbox\":[{\"type\":\"scattermapbox\",\"marker\":{\"colorbar\":{\"outlinewidth\":0,\"ticks\":\"\"}}}],\"scatterternary\":[{\"type\":\"scatterternary\",\"marker\":{\"colorbar\":{\"outlinewidth\":0,\"ticks\":\"\"}}}],\"scattercarpet\":[{\"type\":\"scattercarpet\",\"marker\":{\"colorbar\":{\"outlinewidth\":0,\"ticks\":\"\"}}}],\"carpet\":[{\"aaxis\":{\"endlinecolor\":\"#2a3f5f\",\"gridcolor\":\"white\",\"linecolor\":\"white\",\"minorgridcolor\":\"white\",\"startlinecolor\":\"#2a3f5f\"},\"baxis\":{\"endlinecolor\":\"#2a3f5f\",\"gridcolor\":\"white\",\"linecolor\":\"white\",\"minorgridcolor\":\"white\",\"startlinecolor\":\"#2a3f5f\"},\"type\":\"carpet\"}],\"table\":[{\"cells\":{\"fill\":{\"color\":\"#EBF0F8\"},\"line\":{\"color\":\"white\"}},\"header\":{\"fill\":{\"color\":\"#C8D4E3\"},\"line\":{\"color\":\"white\"}},\"type\":\"table\"}],\"barpolar\":[{\"marker\":{\"line\":{\"color\":\"#E5ECF6\",\"width\":0.5},\"pattern\":{\"fillmode\":\"overlay\",\"size\":10,\"solidity\":0.2}},\"type\":\"barpolar\"}],\"pie\":[{\"automargin\":true,\"type\":\"pie\"}]},\"layout\":{\"autotypenumbers\":\"strict\",\"colorway\":[\"#636efa\",\"#EF553B\",\"#00cc96\",\"#ab63fa\",\"#FFA15A\",\"#19d3f3\",\"#FF6692\",\"#B6E880\",\"#FF97FF\",\"#FECB52\"],\"font\":{\"color\":\"#2a3f5f\"},\"hovermode\":\"closest\",\"hoverlabel\":{\"align\":\"left\"},\"paper_bgcolor\":\"white\",\"plot_bgcolor\":\"#E5ECF6\",\"polar\":{\"bgcolor\":\"#E5ECF6\",\"angularaxis\":{\"gridcolor\":\"white\",\"linecolor\":\"white\",\"ticks\":\"\"},\"radialaxis\":{\"gridcolor\":\"white\",\"linecolor\":\"white\",\"ticks\":\"\"}},\"ternary\":{\"bgcolor\":\"#E5ECF6\",\"aaxis\":{\"gridcolor\":\"white\",\"linecolor\":\"white\",\"ticks\":\"\"},\"baxis\":{\"gridcolor\":\"white\",\"linecolor\":\"white\",\"ticks\":\"\"},\"caxis\":{\"gridcolor\":\"white\",\"linecolor\":\"white\",\"ticks\":\"\"}},\"coloraxis\":{\"colorbar\":{\"outlinewidth\":0,\"ticks\":\"\"}},\"colorscale\":{\"sequential\":[[0.0,\"#0d0887\"],[0.1111111111111111,\"#46039f\"],[0.2222222222222222,\"#7201a8\"],[0.3333333333333333,\"#9c179e\"],[0.4444444444444444,\"#bd3786\"],[0.5555555555555556,\"#d8576b\"],[0.6666666666666666,\"#ed7953\"],[0.7777777777777778,\"#fb9f3a\"],[0.8888888888888888,\"#fdca26\"],[1.0,\"#f0f921\"]],\"sequentialminus\":[[0.0,\"#0d0887\"],[0.1111111111111111,\"#46039f\"],[0.2222222222222222,\"#7201a8\"],[0.3333333333333333,\"#9c179e\"],[0.4444444444444444,\"#bd3786\"],[0.5555555555555556,\"#d8576b\"],[0.6666666666666666,\"#ed7953\"],[0.7777777777777778,\"#fb9f3a\"],[0.8888888888888888,\"#fdca26\"],[1.0,\"#f0f921\"]],\"diverging\":[[0,\"#8e0152\"],[0.1,\"#c51b7d\"],[0.2,\"#de77ae\"],[0.3,\"#f1b6da\"],[0.4,\"#fde0ef\"],[0.5,\"#f7f7f7\"],[0.6,\"#e6f5d0\"],[0.7,\"#b8e186\"],[0.8,\"#7fbc41\"],[0.9,\"#4d9221\"],[1,\"#276419\"]]},\"xaxis\":{\"gridcolor\":\"white\",\"linecolor\":\"white\",\"ticks\":\"\",\"title\":{\"standoff\":15},\"zerolinecolor\":\"white\",\"automargin\":true,\"zerolinewidth\":2},\"yaxis\":{\"gridcolor\":\"white\",\"linecolor\":\"white\",\"ticks\":\"\",\"title\":{\"standoff\":15},\"zerolinecolor\":\"white\",\"automargin\":true,\"zerolinewidth\":2},\"scene\":{\"xaxis\":{\"backgroundcolor\":\"#E5ECF6\",\"gridcolor\":\"white\",\"linecolor\":\"white\",\"showbackground\":true,\"ticks\":\"\",\"zerolinecolor\":\"white\",\"gridwidth\":2},\"yaxis\":{\"backgroundcolor\":\"#E5ECF6\",\"gridcolor\":\"white\",\"linecolor\":\"white\",\"showbackground\":true,\"ticks\":\"\",\"zerolinecolor\":\"white\",\"gridwidth\":2},\"zaxis\":{\"backgroundcolor\":\"#E5ECF6\",\"gridcolor\":\"white\",\"linecolor\":\"white\",\"showbackground\":true,\"ticks\":\"\",\"zerolinecolor\":\"white\",\"gridwidth\":2}},\"shapedefaults\":{\"line\":{\"color\":\"#2a3f5f\"}},\"annotationdefaults\":{\"arrowcolor\":\"#2a3f5f\",\"arrowhead\":0,\"arrowwidth\":1},\"geo\":{\"bgcolor\":\"white\",\"landcolor\":\"#E5ECF6\",\"subunitcolor\":\"white\",\"showland\":true,\"showlakes\":true,\"lakecolor\":\"white\"},\"title\":{\"x\":0.05},\"mapbox\":{\"style\":\"light\"}}},\"xaxis\":{\"anchor\":\"y\",\"domain\":[0.0,1.0],\"title\":{\"text\":\"author\"},\"categoryorder\":\"array\",\"categoryarray\":[\"Rick Riordan\",\"Jeff Kinney\",\"Suzanne Collins\",\"Malcolm Gladwell\",\"Stephenie Meyer\",\"John Grisham\",\"Harper Lee\",\"Stieg Larsson\",\"Paulo Coelho\",\"Don Miguel Ruiz\"]},\"yaxis\":{\"anchor\":\"x\",\"domain\":[0.0,1.0],\"title\":{\"text\":\"title\"}},\"legend\":{\"title\":{\"text\":\"author\"},\"tracegroupgap\":0},\"margin\":{\"t\":60},\"barmode\":\"relative\",\"height\":400},                        {\"responsive\": true}                    ).then(function(){\n",
       "                            \n",
       "var gd = document.getElementById('7ff8981e-b220-4cc6-aeac-e10adb26135c');\n",
       "var x = new MutationObserver(function (mutations, observer) {{\n",
       "        var display = window.getComputedStyle(gd).display;\n",
       "        if (!display || display === 'none') {{\n",
       "            console.log([gd, 'removed!']);\n",
       "            Plotly.purge(gd);\n",
       "            observer.disconnect();\n",
       "        }}\n",
       "}});\n",
       "\n",
       "// Listen for the removal of the full notebook cells\n",
       "var notebookContainer = gd.closest('#notebook-container');\n",
       "if (notebookContainer) {{\n",
       "    x.observe(notebookContainer, {childList: true});\n",
       "}}\n",
       "\n",
       "// Listen for the clearing of the current output cell\n",
       "var outputEl = gd.closest('.output');\n",
       "if (outputEl) {{\n",
       "    x.observe(outputEl, {childList: true});\n",
       "}}\n",
       "\n",
       "                        })                };                });            </script>        </div>"
      ]
     },
     "metadata": {},
     "output_type": "display_data"
    }
   ],
   "source": [
    "fig = px.bar(temp_df1, x=temp_df1['author'], y=temp_df1['title'],\n",
    "              color='author',\n",
    "             labels={'author'}, height=400)\n",
    "fig.show()"
   ]
  },
  {
   "cell_type": "code",
   "execution_count": 23,
   "metadata": {},
   "outputs": [
    {
     "name": "stderr",
     "output_type": "stream",
     "text": [
      "/tmp/ipykernel_20237/2974332478.py:1: FutureWarning:\n",
      "\n",
      "The default value of numeric_only in DataFrameGroupBy.mean is deprecated. In a future version, numeric_only will default to False. Either specify numeric_only or select only columns which should be valid for the function.\n",
      "\n"
     ]
    },
    {
     "data": {
      "text/html": [
       "<div>\n",
       "<style scoped>\n",
       "    .dataframe tbody tr th:only-of-type {\n",
       "        vertical-align: middle;\n",
       "    }\n",
       "\n",
       "    .dataframe tbody tr th {\n",
       "        vertical-align: top;\n",
       "    }\n",
       "\n",
       "    .dataframe thead th {\n",
       "        text-align: right;\n",
       "    }\n",
       "</style>\n",
       "<table border=\"1\" class=\"dataframe\">\n",
       "  <thead>\n",
       "    <tr style=\"text-align: right;\">\n",
       "      <th></th>\n",
       "      <th>author</th>\n",
       "      <th>price</th>\n",
       "      <th>review</th>\n",
       "      <th>year</th>\n",
       "      <th>rating</th>\n",
       "    </tr>\n",
       "  </thead>\n",
       "  <tbody>\n",
       "    <tr>\n",
       "      <th>292</th>\n",
       "      <td>Tony Hsieh</td>\n",
       "      <td>28.760000</td>\n",
       "      <td>95850.0</td>\n",
       "      <td>2011.000000</td>\n",
       "      <td>4.900000</td>\n",
       "    </tr>\n",
       "    <tr>\n",
       "      <th>131</th>\n",
       "      <td>Jamie Ford</td>\n",
       "      <td>23.200000</td>\n",
       "      <td>1251.0</td>\n",
       "      <td>2010.000000</td>\n",
       "      <td>4.700000</td>\n",
       "    </tr>\n",
       "    <tr>\n",
       "      <th>116</th>\n",
       "      <td>Guinness World Records</td>\n",
       "      <td>19.990000</td>\n",
       "      <td>887.0</td>\n",
       "      <td>2011.000000</td>\n",
       "      <td>4.500000</td>\n",
       "    </tr>\n",
       "    <tr>\n",
       "      <th>278</th>\n",
       "      <td>Suzanne Ryan</td>\n",
       "      <td>18.000000</td>\n",
       "      <td>24139.0</td>\n",
       "      <td>2018.000000</td>\n",
       "      <td>4.900000</td>\n",
       "    </tr>\n",
       "    <tr>\n",
       "      <th>142</th>\n",
       "      <td>Jennifer Smith</td>\n",
       "      <td>14.880000</td>\n",
       "      <td>25631.0</td>\n",
       "      <td>2019.000000</td>\n",
       "      <td>4.900000</td>\n",
       "    </tr>\n",
       "    <tr>\n",
       "      <th>220</th>\n",
       "      <td>R. J. Palacio</td>\n",
       "      <td>14.776667</td>\n",
       "      <td>34353.0</td>\n",
       "      <td>2014.666667</td>\n",
       "      <td>4.766667</td>\n",
       "    </tr>\n",
       "    <tr>\n",
       "      <th>139</th>\n",
       "      <td>Jen Fisch</td>\n",
       "      <td>13.265000</td>\n",
       "      <td>22874.0</td>\n",
       "      <td>2018.500000</td>\n",
       "      <td>4.850000</td>\n",
       "    </tr>\n",
       "    <tr>\n",
       "      <th>261</th>\n",
       "      <td>Simon Sinek</td>\n",
       "      <td>12.980000</td>\n",
       "      <td>68710.0</td>\n",
       "      <td>2017.000000</td>\n",
       "      <td>4.600000</td>\n",
       "    </tr>\n",
       "    <tr>\n",
       "      <th>195</th>\n",
       "      <td>Melissa Lagonegro</td>\n",
       "      <td>12.980000</td>\n",
       "      <td>1427.0</td>\n",
       "      <td>2014.000000</td>\n",
       "      <td>4.800000</td>\n",
       "    </tr>\n",
       "    <tr>\n",
       "      <th>113</th>\n",
       "      <td>Gillian Flynn</td>\n",
       "      <td>12.130000</td>\n",
       "      <td>9879.0</td>\n",
       "      <td>2013.000000</td>\n",
       "      <td>4.900000</td>\n",
       "    </tr>\n",
       "  </tbody>\n",
       "</table>\n",
       "</div>"
      ],
      "text/plain": [
       "                     author      price   review         year    rating\n",
       "292              Tony Hsieh  28.760000  95850.0  2011.000000  4.900000\n",
       "131              Jamie Ford  23.200000   1251.0  2010.000000  4.700000\n",
       "116  Guinness World Records  19.990000    887.0  2011.000000  4.500000\n",
       "278            Suzanne Ryan  18.000000  24139.0  2018.000000  4.900000\n",
       "142          Jennifer Smith  14.880000  25631.0  2019.000000  4.900000\n",
       "220           R. J. Palacio  14.776667  34353.0  2014.666667  4.766667\n",
       "139               Jen Fisch  13.265000  22874.0  2018.500000  4.850000\n",
       "261             Simon Sinek  12.980000  68710.0  2017.000000  4.600000\n",
       "195       Melissa Lagonegro  12.980000   1427.0  2014.000000  4.800000\n",
       "113           Gillian Flynn  12.130000   9879.0  2013.000000  4.900000"
      ]
     },
     "execution_count": 23,
     "metadata": {},
     "output_type": "execute_result"
    }
   ],
   "source": [
    "temp_df2 = df.groupby('author').mean().reset_index().sort_values('price',ascending=False).head(10)\n",
    "temp_df2"
   ]
  },
  {
   "cell_type": "code",
   "execution_count": 24,
   "metadata": {},
   "outputs": [
    {
     "data": {
      "application/vnd.plotly.v1+json": {
       "config": {
        "plotlyServerURL": "https://plot.ly"
       },
       "data": [
        {
         "alignmentgroup": "True",
         "hovertemplate": "author=%{x}<br>price=%{y}<extra></extra>",
         "legendgroup": "Tony Hsieh",
         "marker": {
          "color": "#636efa",
          "pattern": {
           "shape": ""
          }
         },
         "name": "Tony Hsieh",
         "offsetgroup": "Tony Hsieh",
         "orientation": "v",
         "showlegend": true,
         "textposition": "auto",
         "type": "bar",
         "x": [
          "Tony Hsieh"
         ],
         "xaxis": "x",
         "y": [
          28.76
         ],
         "yaxis": "y"
        },
        {
         "alignmentgroup": "True",
         "hovertemplate": "author=%{x}<br>price=%{y}<extra></extra>",
         "legendgroup": "Jamie Ford",
         "marker": {
          "color": "#EF553B",
          "pattern": {
           "shape": ""
          }
         },
         "name": "Jamie Ford",
         "offsetgroup": "Jamie Ford",
         "orientation": "v",
         "showlegend": true,
         "textposition": "auto",
         "type": "bar",
         "x": [
          "Jamie Ford"
         ],
         "xaxis": "x",
         "y": [
          23.2
         ],
         "yaxis": "y"
        },
        {
         "alignmentgroup": "True",
         "hovertemplate": "author=%{x}<br>price=%{y}<extra></extra>",
         "legendgroup": "Guinness World Records",
         "marker": {
          "color": "#00cc96",
          "pattern": {
           "shape": ""
          }
         },
         "name": "Guinness World Records",
         "offsetgroup": "Guinness World Records",
         "orientation": "v",
         "showlegend": true,
         "textposition": "auto",
         "type": "bar",
         "x": [
          "Guinness World Records"
         ],
         "xaxis": "x",
         "y": [
          19.99
         ],
         "yaxis": "y"
        },
        {
         "alignmentgroup": "True",
         "hovertemplate": "author=%{x}<br>price=%{y}<extra></extra>",
         "legendgroup": "Suzanne Ryan",
         "marker": {
          "color": "#ab63fa",
          "pattern": {
           "shape": ""
          }
         },
         "name": "Suzanne Ryan",
         "offsetgroup": "Suzanne Ryan",
         "orientation": "v",
         "showlegend": true,
         "textposition": "auto",
         "type": "bar",
         "x": [
          "Suzanne Ryan"
         ],
         "xaxis": "x",
         "y": [
          18
         ],
         "yaxis": "y"
        },
        {
         "alignmentgroup": "True",
         "hovertemplate": "author=%{x}<br>price=%{y}<extra></extra>",
         "legendgroup": "Jennifer Smith",
         "marker": {
          "color": "#FFA15A",
          "pattern": {
           "shape": ""
          }
         },
         "name": "Jennifer Smith",
         "offsetgroup": "Jennifer Smith",
         "orientation": "v",
         "showlegend": true,
         "textposition": "auto",
         "type": "bar",
         "x": [
          "Jennifer Smith"
         ],
         "xaxis": "x",
         "y": [
          14.88
         ],
         "yaxis": "y"
        },
        {
         "alignmentgroup": "True",
         "hovertemplate": "author=%{x}<br>price=%{y}<extra></extra>",
         "legendgroup": "R. J. Palacio",
         "marker": {
          "color": "#19d3f3",
          "pattern": {
           "shape": ""
          }
         },
         "name": "R. J. Palacio",
         "offsetgroup": "R. J. Palacio",
         "orientation": "v",
         "showlegend": true,
         "textposition": "auto",
         "type": "bar",
         "x": [
          "R. J. Palacio"
         ],
         "xaxis": "x",
         "y": [
          14.776666666666666
         ],
         "yaxis": "y"
        },
        {
         "alignmentgroup": "True",
         "hovertemplate": "author=%{x}<br>price=%{y}<extra></extra>",
         "legendgroup": "Jen Fisch",
         "marker": {
          "color": "#FF6692",
          "pattern": {
           "shape": ""
          }
         },
         "name": "Jen Fisch",
         "offsetgroup": "Jen Fisch",
         "orientation": "v",
         "showlegend": true,
         "textposition": "auto",
         "type": "bar",
         "x": [
          "Jen Fisch"
         ],
         "xaxis": "x",
         "y": [
          13.265
         ],
         "yaxis": "y"
        },
        {
         "alignmentgroup": "True",
         "hovertemplate": "author=%{x}<br>price=%{y}<extra></extra>",
         "legendgroup": "Simon Sinek",
         "marker": {
          "color": "#B6E880",
          "pattern": {
           "shape": ""
          }
         },
         "name": "Simon Sinek",
         "offsetgroup": "Simon Sinek",
         "orientation": "v",
         "showlegend": true,
         "textposition": "auto",
         "type": "bar",
         "x": [
          "Simon Sinek"
         ],
         "xaxis": "x",
         "y": [
          12.98
         ],
         "yaxis": "y"
        },
        {
         "alignmentgroup": "True",
         "hovertemplate": "author=%{x}<br>price=%{y}<extra></extra>",
         "legendgroup": "Melissa Lagonegro",
         "marker": {
          "color": "#FF97FF",
          "pattern": {
           "shape": ""
          }
         },
         "name": "Melissa Lagonegro",
         "offsetgroup": "Melissa Lagonegro",
         "orientation": "v",
         "showlegend": true,
         "textposition": "auto",
         "type": "bar",
         "x": [
          "Melissa Lagonegro"
         ],
         "xaxis": "x",
         "y": [
          12.98
         ],
         "yaxis": "y"
        },
        {
         "alignmentgroup": "True",
         "hovertemplate": "author=%{x}<br>price=%{y}<extra></extra>",
         "legendgroup": "Gillian Flynn",
         "marker": {
          "color": "#FECB52",
          "pattern": {
           "shape": ""
          }
         },
         "name": "Gillian Flynn",
         "offsetgroup": "Gillian Flynn",
         "orientation": "v",
         "showlegend": true,
         "textposition": "auto",
         "type": "bar",
         "x": [
          "Gillian Flynn"
         ],
         "xaxis": "x",
         "y": [
          12.13
         ],
         "yaxis": "y"
        }
       ],
       "layout": {
        "barmode": "relative",
        "height": 400,
        "legend": {
         "title": {
          "text": "author"
         },
         "tracegroupgap": 0
        },
        "margin": {
         "t": 60
        },
        "template": {
         "data": {
          "bar": [
           {
            "error_x": {
             "color": "#2a3f5f"
            },
            "error_y": {
             "color": "#2a3f5f"
            },
            "marker": {
             "line": {
              "color": "#E5ECF6",
              "width": 0.5
             },
             "pattern": {
              "fillmode": "overlay",
              "size": 10,
              "solidity": 0.2
             }
            },
            "type": "bar"
           }
          ],
          "barpolar": [
           {
            "marker": {
             "line": {
              "color": "#E5ECF6",
              "width": 0.5
             },
             "pattern": {
              "fillmode": "overlay",
              "size": 10,
              "solidity": 0.2
             }
            },
            "type": "barpolar"
           }
          ],
          "carpet": [
           {
            "aaxis": {
             "endlinecolor": "#2a3f5f",
             "gridcolor": "white",
             "linecolor": "white",
             "minorgridcolor": "white",
             "startlinecolor": "#2a3f5f"
            },
            "baxis": {
             "endlinecolor": "#2a3f5f",
             "gridcolor": "white",
             "linecolor": "white",
             "minorgridcolor": "white",
             "startlinecolor": "#2a3f5f"
            },
            "type": "carpet"
           }
          ],
          "choropleth": [
           {
            "colorbar": {
             "outlinewidth": 0,
             "ticks": ""
            },
            "type": "choropleth"
           }
          ],
          "contour": [
           {
            "colorbar": {
             "outlinewidth": 0,
             "ticks": ""
            },
            "colorscale": [
             [
              0,
              "#0d0887"
             ],
             [
              0.1111111111111111,
              "#46039f"
             ],
             [
              0.2222222222222222,
              "#7201a8"
             ],
             [
              0.3333333333333333,
              "#9c179e"
             ],
             [
              0.4444444444444444,
              "#bd3786"
             ],
             [
              0.5555555555555556,
              "#d8576b"
             ],
             [
              0.6666666666666666,
              "#ed7953"
             ],
             [
              0.7777777777777778,
              "#fb9f3a"
             ],
             [
              0.8888888888888888,
              "#fdca26"
             ],
             [
              1,
              "#f0f921"
             ]
            ],
            "type": "contour"
           }
          ],
          "contourcarpet": [
           {
            "colorbar": {
             "outlinewidth": 0,
             "ticks": ""
            },
            "type": "contourcarpet"
           }
          ],
          "heatmap": [
           {
            "colorbar": {
             "outlinewidth": 0,
             "ticks": ""
            },
            "colorscale": [
             [
              0,
              "#0d0887"
             ],
             [
              0.1111111111111111,
              "#46039f"
             ],
             [
              0.2222222222222222,
              "#7201a8"
             ],
             [
              0.3333333333333333,
              "#9c179e"
             ],
             [
              0.4444444444444444,
              "#bd3786"
             ],
             [
              0.5555555555555556,
              "#d8576b"
             ],
             [
              0.6666666666666666,
              "#ed7953"
             ],
             [
              0.7777777777777778,
              "#fb9f3a"
             ],
             [
              0.8888888888888888,
              "#fdca26"
             ],
             [
              1,
              "#f0f921"
             ]
            ],
            "type": "heatmap"
           }
          ],
          "heatmapgl": [
           {
            "colorbar": {
             "outlinewidth": 0,
             "ticks": ""
            },
            "colorscale": [
             [
              0,
              "#0d0887"
             ],
             [
              0.1111111111111111,
              "#46039f"
             ],
             [
              0.2222222222222222,
              "#7201a8"
             ],
             [
              0.3333333333333333,
              "#9c179e"
             ],
             [
              0.4444444444444444,
              "#bd3786"
             ],
             [
              0.5555555555555556,
              "#d8576b"
             ],
             [
              0.6666666666666666,
              "#ed7953"
             ],
             [
              0.7777777777777778,
              "#fb9f3a"
             ],
             [
              0.8888888888888888,
              "#fdca26"
             ],
             [
              1,
              "#f0f921"
             ]
            ],
            "type": "heatmapgl"
           }
          ],
          "histogram": [
           {
            "marker": {
             "pattern": {
              "fillmode": "overlay",
              "size": 10,
              "solidity": 0.2
             }
            },
            "type": "histogram"
           }
          ],
          "histogram2d": [
           {
            "colorbar": {
             "outlinewidth": 0,
             "ticks": ""
            },
            "colorscale": [
             [
              0,
              "#0d0887"
             ],
             [
              0.1111111111111111,
              "#46039f"
             ],
             [
              0.2222222222222222,
              "#7201a8"
             ],
             [
              0.3333333333333333,
              "#9c179e"
             ],
             [
              0.4444444444444444,
              "#bd3786"
             ],
             [
              0.5555555555555556,
              "#d8576b"
             ],
             [
              0.6666666666666666,
              "#ed7953"
             ],
             [
              0.7777777777777778,
              "#fb9f3a"
             ],
             [
              0.8888888888888888,
              "#fdca26"
             ],
             [
              1,
              "#f0f921"
             ]
            ],
            "type": "histogram2d"
           }
          ],
          "histogram2dcontour": [
           {
            "colorbar": {
             "outlinewidth": 0,
             "ticks": ""
            },
            "colorscale": [
             [
              0,
              "#0d0887"
             ],
             [
              0.1111111111111111,
              "#46039f"
             ],
             [
              0.2222222222222222,
              "#7201a8"
             ],
             [
              0.3333333333333333,
              "#9c179e"
             ],
             [
              0.4444444444444444,
              "#bd3786"
             ],
             [
              0.5555555555555556,
              "#d8576b"
             ],
             [
              0.6666666666666666,
              "#ed7953"
             ],
             [
              0.7777777777777778,
              "#fb9f3a"
             ],
             [
              0.8888888888888888,
              "#fdca26"
             ],
             [
              1,
              "#f0f921"
             ]
            ],
            "type": "histogram2dcontour"
           }
          ],
          "mesh3d": [
           {
            "colorbar": {
             "outlinewidth": 0,
             "ticks": ""
            },
            "type": "mesh3d"
           }
          ],
          "parcoords": [
           {
            "line": {
             "colorbar": {
              "outlinewidth": 0,
              "ticks": ""
             }
            },
            "type": "parcoords"
           }
          ],
          "pie": [
           {
            "automargin": true,
            "type": "pie"
           }
          ],
          "scatter": [
           {
            "fillpattern": {
             "fillmode": "overlay",
             "size": 10,
             "solidity": 0.2
            },
            "type": "scatter"
           }
          ],
          "scatter3d": [
           {
            "line": {
             "colorbar": {
              "outlinewidth": 0,
              "ticks": ""
             }
            },
            "marker": {
             "colorbar": {
              "outlinewidth": 0,
              "ticks": ""
             }
            },
            "type": "scatter3d"
           }
          ],
          "scattercarpet": [
           {
            "marker": {
             "colorbar": {
              "outlinewidth": 0,
              "ticks": ""
             }
            },
            "type": "scattercarpet"
           }
          ],
          "scattergeo": [
           {
            "marker": {
             "colorbar": {
              "outlinewidth": 0,
              "ticks": ""
             }
            },
            "type": "scattergeo"
           }
          ],
          "scattergl": [
           {
            "marker": {
             "colorbar": {
              "outlinewidth": 0,
              "ticks": ""
             }
            },
            "type": "scattergl"
           }
          ],
          "scattermapbox": [
           {
            "marker": {
             "colorbar": {
              "outlinewidth": 0,
              "ticks": ""
             }
            },
            "type": "scattermapbox"
           }
          ],
          "scatterpolar": [
           {
            "marker": {
             "colorbar": {
              "outlinewidth": 0,
              "ticks": ""
             }
            },
            "type": "scatterpolar"
           }
          ],
          "scatterpolargl": [
           {
            "marker": {
             "colorbar": {
              "outlinewidth": 0,
              "ticks": ""
             }
            },
            "type": "scatterpolargl"
           }
          ],
          "scatterternary": [
           {
            "marker": {
             "colorbar": {
              "outlinewidth": 0,
              "ticks": ""
             }
            },
            "type": "scatterternary"
           }
          ],
          "surface": [
           {
            "colorbar": {
             "outlinewidth": 0,
             "ticks": ""
            },
            "colorscale": [
             [
              0,
              "#0d0887"
             ],
             [
              0.1111111111111111,
              "#46039f"
             ],
             [
              0.2222222222222222,
              "#7201a8"
             ],
             [
              0.3333333333333333,
              "#9c179e"
             ],
             [
              0.4444444444444444,
              "#bd3786"
             ],
             [
              0.5555555555555556,
              "#d8576b"
             ],
             [
              0.6666666666666666,
              "#ed7953"
             ],
             [
              0.7777777777777778,
              "#fb9f3a"
             ],
             [
              0.8888888888888888,
              "#fdca26"
             ],
             [
              1,
              "#f0f921"
             ]
            ],
            "type": "surface"
           }
          ],
          "table": [
           {
            "cells": {
             "fill": {
              "color": "#EBF0F8"
             },
             "line": {
              "color": "white"
             }
            },
            "header": {
             "fill": {
              "color": "#C8D4E3"
             },
             "line": {
              "color": "white"
             }
            },
            "type": "table"
           }
          ]
         },
         "layout": {
          "annotationdefaults": {
           "arrowcolor": "#2a3f5f",
           "arrowhead": 0,
           "arrowwidth": 1
          },
          "autotypenumbers": "strict",
          "coloraxis": {
           "colorbar": {
            "outlinewidth": 0,
            "ticks": ""
           }
          },
          "colorscale": {
           "diverging": [
            [
             0,
             "#8e0152"
            ],
            [
             0.1,
             "#c51b7d"
            ],
            [
             0.2,
             "#de77ae"
            ],
            [
             0.3,
             "#f1b6da"
            ],
            [
             0.4,
             "#fde0ef"
            ],
            [
             0.5,
             "#f7f7f7"
            ],
            [
             0.6,
             "#e6f5d0"
            ],
            [
             0.7,
             "#b8e186"
            ],
            [
             0.8,
             "#7fbc41"
            ],
            [
             0.9,
             "#4d9221"
            ],
            [
             1,
             "#276419"
            ]
           ],
           "sequential": [
            [
             0,
             "#0d0887"
            ],
            [
             0.1111111111111111,
             "#46039f"
            ],
            [
             0.2222222222222222,
             "#7201a8"
            ],
            [
             0.3333333333333333,
             "#9c179e"
            ],
            [
             0.4444444444444444,
             "#bd3786"
            ],
            [
             0.5555555555555556,
             "#d8576b"
            ],
            [
             0.6666666666666666,
             "#ed7953"
            ],
            [
             0.7777777777777778,
             "#fb9f3a"
            ],
            [
             0.8888888888888888,
             "#fdca26"
            ],
            [
             1,
             "#f0f921"
            ]
           ],
           "sequentialminus": [
            [
             0,
             "#0d0887"
            ],
            [
             0.1111111111111111,
             "#46039f"
            ],
            [
             0.2222222222222222,
             "#7201a8"
            ],
            [
             0.3333333333333333,
             "#9c179e"
            ],
            [
             0.4444444444444444,
             "#bd3786"
            ],
            [
             0.5555555555555556,
             "#d8576b"
            ],
            [
             0.6666666666666666,
             "#ed7953"
            ],
            [
             0.7777777777777778,
             "#fb9f3a"
            ],
            [
             0.8888888888888888,
             "#fdca26"
            ],
            [
             1,
             "#f0f921"
            ]
           ]
          },
          "colorway": [
           "#636efa",
           "#EF553B",
           "#00cc96",
           "#ab63fa",
           "#FFA15A",
           "#19d3f3",
           "#FF6692",
           "#B6E880",
           "#FF97FF",
           "#FECB52"
          ],
          "font": {
           "color": "#2a3f5f"
          },
          "geo": {
           "bgcolor": "white",
           "lakecolor": "white",
           "landcolor": "#E5ECF6",
           "showlakes": true,
           "showland": true,
           "subunitcolor": "white"
          },
          "hoverlabel": {
           "align": "left"
          },
          "hovermode": "closest",
          "mapbox": {
           "style": "light"
          },
          "paper_bgcolor": "white",
          "plot_bgcolor": "#E5ECF6",
          "polar": {
           "angularaxis": {
            "gridcolor": "white",
            "linecolor": "white",
            "ticks": ""
           },
           "bgcolor": "#E5ECF6",
           "radialaxis": {
            "gridcolor": "white",
            "linecolor": "white",
            "ticks": ""
           }
          },
          "scene": {
           "xaxis": {
            "backgroundcolor": "#E5ECF6",
            "gridcolor": "white",
            "gridwidth": 2,
            "linecolor": "white",
            "showbackground": true,
            "ticks": "",
            "zerolinecolor": "white"
           },
           "yaxis": {
            "backgroundcolor": "#E5ECF6",
            "gridcolor": "white",
            "gridwidth": 2,
            "linecolor": "white",
            "showbackground": true,
            "ticks": "",
            "zerolinecolor": "white"
           },
           "zaxis": {
            "backgroundcolor": "#E5ECF6",
            "gridcolor": "white",
            "gridwidth": 2,
            "linecolor": "white",
            "showbackground": true,
            "ticks": "",
            "zerolinecolor": "white"
           }
          },
          "shapedefaults": {
           "line": {
            "color": "#2a3f5f"
           }
          },
          "ternary": {
           "aaxis": {
            "gridcolor": "white",
            "linecolor": "white",
            "ticks": ""
           },
           "baxis": {
            "gridcolor": "white",
            "linecolor": "white",
            "ticks": ""
           },
           "bgcolor": "#E5ECF6",
           "caxis": {
            "gridcolor": "white",
            "linecolor": "white",
            "ticks": ""
           }
          },
          "title": {
           "x": 0.05
          },
          "xaxis": {
           "automargin": true,
           "gridcolor": "white",
           "linecolor": "white",
           "ticks": "",
           "title": {
            "standoff": 15
           },
           "zerolinecolor": "white",
           "zerolinewidth": 2
          },
          "yaxis": {
           "automargin": true,
           "gridcolor": "white",
           "linecolor": "white",
           "ticks": "",
           "title": {
            "standoff": 15
           },
           "zerolinecolor": "white",
           "zerolinewidth": 2
          }
         }
        },
        "xaxis": {
         "anchor": "y",
         "categoryarray": [
          "Tony Hsieh",
          "Jamie Ford",
          "Guinness World Records",
          "Suzanne Ryan",
          "Jennifer Smith",
          "R. J. Palacio",
          "Jen Fisch",
          "Simon Sinek",
          "Melissa Lagonegro",
          "Gillian Flynn"
         ],
         "categoryorder": "array",
         "domain": [
          0,
          1
         ],
         "title": {
          "text": "author"
         }
        },
        "yaxis": {
         "anchor": "x",
         "domain": [
          0,
          1
         ],
         "title": {
          "text": "price"
         }
        }
       }
      },
      "text/html": [
       "<div>                            <div id=\"051398e4-3616-4585-acd2-a49acedce19a\" class=\"plotly-graph-div\" style=\"height:400px; width:100%;\"></div>            <script type=\"text/javascript\">                require([\"plotly\"], function(Plotly) {                    window.PLOTLYENV=window.PLOTLYENV || {};                                    if (document.getElementById(\"051398e4-3616-4585-acd2-a49acedce19a\")) {                    Plotly.newPlot(                        \"051398e4-3616-4585-acd2-a49acedce19a\",                        [{\"alignmentgroup\":\"True\",\"hovertemplate\":\"author=%{x}<br>price=%{y}<extra></extra>\",\"legendgroup\":\"Tony Hsieh\",\"marker\":{\"color\":\"#636efa\",\"pattern\":{\"shape\":\"\"}},\"name\":\"Tony Hsieh\",\"offsetgroup\":\"Tony Hsieh\",\"orientation\":\"v\",\"showlegend\":true,\"textposition\":\"auto\",\"x\":[\"Tony Hsieh\"],\"xaxis\":\"x\",\"y\":[28.76],\"yaxis\":\"y\",\"type\":\"bar\"},{\"alignmentgroup\":\"True\",\"hovertemplate\":\"author=%{x}<br>price=%{y}<extra></extra>\",\"legendgroup\":\"Jamie Ford\",\"marker\":{\"color\":\"#EF553B\",\"pattern\":{\"shape\":\"\"}},\"name\":\"Jamie Ford\",\"offsetgroup\":\"Jamie Ford\",\"orientation\":\"v\",\"showlegend\":true,\"textposition\":\"auto\",\"x\":[\"Jamie Ford\"],\"xaxis\":\"x\",\"y\":[23.2],\"yaxis\":\"y\",\"type\":\"bar\"},{\"alignmentgroup\":\"True\",\"hovertemplate\":\"author=%{x}<br>price=%{y}<extra></extra>\",\"legendgroup\":\"Guinness World Records\",\"marker\":{\"color\":\"#00cc96\",\"pattern\":{\"shape\":\"\"}},\"name\":\"Guinness World Records\",\"offsetgroup\":\"Guinness World Records\",\"orientation\":\"v\",\"showlegend\":true,\"textposition\":\"auto\",\"x\":[\"Guinness World Records\"],\"xaxis\":\"x\",\"y\":[19.99],\"yaxis\":\"y\",\"type\":\"bar\"},{\"alignmentgroup\":\"True\",\"hovertemplate\":\"author=%{x}<br>price=%{y}<extra></extra>\",\"legendgroup\":\"Suzanne Ryan\",\"marker\":{\"color\":\"#ab63fa\",\"pattern\":{\"shape\":\"\"}},\"name\":\"Suzanne Ryan\",\"offsetgroup\":\"Suzanne Ryan\",\"orientation\":\"v\",\"showlegend\":true,\"textposition\":\"auto\",\"x\":[\"Suzanne Ryan\"],\"xaxis\":\"x\",\"y\":[18.0],\"yaxis\":\"y\",\"type\":\"bar\"},{\"alignmentgroup\":\"True\",\"hovertemplate\":\"author=%{x}<br>price=%{y}<extra></extra>\",\"legendgroup\":\"Jennifer Smith\",\"marker\":{\"color\":\"#FFA15A\",\"pattern\":{\"shape\":\"\"}},\"name\":\"Jennifer Smith\",\"offsetgroup\":\"Jennifer Smith\",\"orientation\":\"v\",\"showlegend\":true,\"textposition\":\"auto\",\"x\":[\"Jennifer Smith\"],\"xaxis\":\"x\",\"y\":[14.88],\"yaxis\":\"y\",\"type\":\"bar\"},{\"alignmentgroup\":\"True\",\"hovertemplate\":\"author=%{x}<br>price=%{y}<extra></extra>\",\"legendgroup\":\"R. J. Palacio\",\"marker\":{\"color\":\"#19d3f3\",\"pattern\":{\"shape\":\"\"}},\"name\":\"R. J. Palacio\",\"offsetgroup\":\"R. J. Palacio\",\"orientation\":\"v\",\"showlegend\":true,\"textposition\":\"auto\",\"x\":[\"R. J. Palacio\"],\"xaxis\":\"x\",\"y\":[14.776666666666666],\"yaxis\":\"y\",\"type\":\"bar\"},{\"alignmentgroup\":\"True\",\"hovertemplate\":\"author=%{x}<br>price=%{y}<extra></extra>\",\"legendgroup\":\"Jen Fisch\",\"marker\":{\"color\":\"#FF6692\",\"pattern\":{\"shape\":\"\"}},\"name\":\"Jen Fisch\",\"offsetgroup\":\"Jen Fisch\",\"orientation\":\"v\",\"showlegend\":true,\"textposition\":\"auto\",\"x\":[\"Jen Fisch\"],\"xaxis\":\"x\",\"y\":[13.265],\"yaxis\":\"y\",\"type\":\"bar\"},{\"alignmentgroup\":\"True\",\"hovertemplate\":\"author=%{x}<br>price=%{y}<extra></extra>\",\"legendgroup\":\"Simon Sinek\",\"marker\":{\"color\":\"#B6E880\",\"pattern\":{\"shape\":\"\"}},\"name\":\"Simon Sinek\",\"offsetgroup\":\"Simon Sinek\",\"orientation\":\"v\",\"showlegend\":true,\"textposition\":\"auto\",\"x\":[\"Simon Sinek\"],\"xaxis\":\"x\",\"y\":[12.98],\"yaxis\":\"y\",\"type\":\"bar\"},{\"alignmentgroup\":\"True\",\"hovertemplate\":\"author=%{x}<br>price=%{y}<extra></extra>\",\"legendgroup\":\"Melissa Lagonegro\",\"marker\":{\"color\":\"#FF97FF\",\"pattern\":{\"shape\":\"\"}},\"name\":\"Melissa Lagonegro\",\"offsetgroup\":\"Melissa Lagonegro\",\"orientation\":\"v\",\"showlegend\":true,\"textposition\":\"auto\",\"x\":[\"Melissa Lagonegro\"],\"xaxis\":\"x\",\"y\":[12.98],\"yaxis\":\"y\",\"type\":\"bar\"},{\"alignmentgroup\":\"True\",\"hovertemplate\":\"author=%{x}<br>price=%{y}<extra></extra>\",\"legendgroup\":\"Gillian Flynn\",\"marker\":{\"color\":\"#FECB52\",\"pattern\":{\"shape\":\"\"}},\"name\":\"Gillian Flynn\",\"offsetgroup\":\"Gillian Flynn\",\"orientation\":\"v\",\"showlegend\":true,\"textposition\":\"auto\",\"x\":[\"Gillian Flynn\"],\"xaxis\":\"x\",\"y\":[12.13],\"yaxis\":\"y\",\"type\":\"bar\"}],                        {\"template\":{\"data\":{\"histogram2dcontour\":[{\"type\":\"histogram2dcontour\",\"colorbar\":{\"outlinewidth\":0,\"ticks\":\"\"},\"colorscale\":[[0.0,\"#0d0887\"],[0.1111111111111111,\"#46039f\"],[0.2222222222222222,\"#7201a8\"],[0.3333333333333333,\"#9c179e\"],[0.4444444444444444,\"#bd3786\"],[0.5555555555555556,\"#d8576b\"],[0.6666666666666666,\"#ed7953\"],[0.7777777777777778,\"#fb9f3a\"],[0.8888888888888888,\"#fdca26\"],[1.0,\"#f0f921\"]]}],\"choropleth\":[{\"type\":\"choropleth\",\"colorbar\":{\"outlinewidth\":0,\"ticks\":\"\"}}],\"histogram2d\":[{\"type\":\"histogram2d\",\"colorbar\":{\"outlinewidth\":0,\"ticks\":\"\"},\"colorscale\":[[0.0,\"#0d0887\"],[0.1111111111111111,\"#46039f\"],[0.2222222222222222,\"#7201a8\"],[0.3333333333333333,\"#9c179e\"],[0.4444444444444444,\"#bd3786\"],[0.5555555555555556,\"#d8576b\"],[0.6666666666666666,\"#ed7953\"],[0.7777777777777778,\"#fb9f3a\"],[0.8888888888888888,\"#fdca26\"],[1.0,\"#f0f921\"]]}],\"heatmap\":[{\"type\":\"heatmap\",\"colorbar\":{\"outlinewidth\":0,\"ticks\":\"\"},\"colorscale\":[[0.0,\"#0d0887\"],[0.1111111111111111,\"#46039f\"],[0.2222222222222222,\"#7201a8\"],[0.3333333333333333,\"#9c179e\"],[0.4444444444444444,\"#bd3786\"],[0.5555555555555556,\"#d8576b\"],[0.6666666666666666,\"#ed7953\"],[0.7777777777777778,\"#fb9f3a\"],[0.8888888888888888,\"#fdca26\"],[1.0,\"#f0f921\"]]}],\"heatmapgl\":[{\"type\":\"heatmapgl\",\"colorbar\":{\"outlinewidth\":0,\"ticks\":\"\"},\"colorscale\":[[0.0,\"#0d0887\"],[0.1111111111111111,\"#46039f\"],[0.2222222222222222,\"#7201a8\"],[0.3333333333333333,\"#9c179e\"],[0.4444444444444444,\"#bd3786\"],[0.5555555555555556,\"#d8576b\"],[0.6666666666666666,\"#ed7953\"],[0.7777777777777778,\"#fb9f3a\"],[0.8888888888888888,\"#fdca26\"],[1.0,\"#f0f921\"]]}],\"contourcarpet\":[{\"type\":\"contourcarpet\",\"colorbar\":{\"outlinewidth\":0,\"ticks\":\"\"}}],\"contour\":[{\"type\":\"contour\",\"colorbar\":{\"outlinewidth\":0,\"ticks\":\"\"},\"colorscale\":[[0.0,\"#0d0887\"],[0.1111111111111111,\"#46039f\"],[0.2222222222222222,\"#7201a8\"],[0.3333333333333333,\"#9c179e\"],[0.4444444444444444,\"#bd3786\"],[0.5555555555555556,\"#d8576b\"],[0.6666666666666666,\"#ed7953\"],[0.7777777777777778,\"#fb9f3a\"],[0.8888888888888888,\"#fdca26\"],[1.0,\"#f0f921\"]]}],\"surface\":[{\"type\":\"surface\",\"colorbar\":{\"outlinewidth\":0,\"ticks\":\"\"},\"colorscale\":[[0.0,\"#0d0887\"],[0.1111111111111111,\"#46039f\"],[0.2222222222222222,\"#7201a8\"],[0.3333333333333333,\"#9c179e\"],[0.4444444444444444,\"#bd3786\"],[0.5555555555555556,\"#d8576b\"],[0.6666666666666666,\"#ed7953\"],[0.7777777777777778,\"#fb9f3a\"],[0.8888888888888888,\"#fdca26\"],[1.0,\"#f0f921\"]]}],\"mesh3d\":[{\"type\":\"mesh3d\",\"colorbar\":{\"outlinewidth\":0,\"ticks\":\"\"}}],\"scatter\":[{\"fillpattern\":{\"fillmode\":\"overlay\",\"size\":10,\"solidity\":0.2},\"type\":\"scatter\"}],\"parcoords\":[{\"type\":\"parcoords\",\"line\":{\"colorbar\":{\"outlinewidth\":0,\"ticks\":\"\"}}}],\"scatterpolargl\":[{\"type\":\"scatterpolargl\",\"marker\":{\"colorbar\":{\"outlinewidth\":0,\"ticks\":\"\"}}}],\"bar\":[{\"error_x\":{\"color\":\"#2a3f5f\"},\"error_y\":{\"color\":\"#2a3f5f\"},\"marker\":{\"line\":{\"color\":\"#E5ECF6\",\"width\":0.5},\"pattern\":{\"fillmode\":\"overlay\",\"size\":10,\"solidity\":0.2}},\"type\":\"bar\"}],\"scattergeo\":[{\"type\":\"scattergeo\",\"marker\":{\"colorbar\":{\"outlinewidth\":0,\"ticks\":\"\"}}}],\"scatterpolar\":[{\"type\":\"scatterpolar\",\"marker\":{\"colorbar\":{\"outlinewidth\":0,\"ticks\":\"\"}}}],\"histogram\":[{\"marker\":{\"pattern\":{\"fillmode\":\"overlay\",\"size\":10,\"solidity\":0.2}},\"type\":\"histogram\"}],\"scattergl\":[{\"type\":\"scattergl\",\"marker\":{\"colorbar\":{\"outlinewidth\":0,\"ticks\":\"\"}}}],\"scatter3d\":[{\"type\":\"scatter3d\",\"line\":{\"colorbar\":{\"outlinewidth\":0,\"ticks\":\"\"}},\"marker\":{\"colorbar\":{\"outlinewidth\":0,\"ticks\":\"\"}}}],\"scattermapbox\":[{\"type\":\"scattermapbox\",\"marker\":{\"colorbar\":{\"outlinewidth\":0,\"ticks\":\"\"}}}],\"scatterternary\":[{\"type\":\"scatterternary\",\"marker\":{\"colorbar\":{\"outlinewidth\":0,\"ticks\":\"\"}}}],\"scattercarpet\":[{\"type\":\"scattercarpet\",\"marker\":{\"colorbar\":{\"outlinewidth\":0,\"ticks\":\"\"}}}],\"carpet\":[{\"aaxis\":{\"endlinecolor\":\"#2a3f5f\",\"gridcolor\":\"white\",\"linecolor\":\"white\",\"minorgridcolor\":\"white\",\"startlinecolor\":\"#2a3f5f\"},\"baxis\":{\"endlinecolor\":\"#2a3f5f\",\"gridcolor\":\"white\",\"linecolor\":\"white\",\"minorgridcolor\":\"white\",\"startlinecolor\":\"#2a3f5f\"},\"type\":\"carpet\"}],\"table\":[{\"cells\":{\"fill\":{\"color\":\"#EBF0F8\"},\"line\":{\"color\":\"white\"}},\"header\":{\"fill\":{\"color\":\"#C8D4E3\"},\"line\":{\"color\":\"white\"}},\"type\":\"table\"}],\"barpolar\":[{\"marker\":{\"line\":{\"color\":\"#E5ECF6\",\"width\":0.5},\"pattern\":{\"fillmode\":\"overlay\",\"size\":10,\"solidity\":0.2}},\"type\":\"barpolar\"}],\"pie\":[{\"automargin\":true,\"type\":\"pie\"}]},\"layout\":{\"autotypenumbers\":\"strict\",\"colorway\":[\"#636efa\",\"#EF553B\",\"#00cc96\",\"#ab63fa\",\"#FFA15A\",\"#19d3f3\",\"#FF6692\",\"#B6E880\",\"#FF97FF\",\"#FECB52\"],\"font\":{\"color\":\"#2a3f5f\"},\"hovermode\":\"closest\",\"hoverlabel\":{\"align\":\"left\"},\"paper_bgcolor\":\"white\",\"plot_bgcolor\":\"#E5ECF6\",\"polar\":{\"bgcolor\":\"#E5ECF6\",\"angularaxis\":{\"gridcolor\":\"white\",\"linecolor\":\"white\",\"ticks\":\"\"},\"radialaxis\":{\"gridcolor\":\"white\",\"linecolor\":\"white\",\"ticks\":\"\"}},\"ternary\":{\"bgcolor\":\"#E5ECF6\",\"aaxis\":{\"gridcolor\":\"white\",\"linecolor\":\"white\",\"ticks\":\"\"},\"baxis\":{\"gridcolor\":\"white\",\"linecolor\":\"white\",\"ticks\":\"\"},\"caxis\":{\"gridcolor\":\"white\",\"linecolor\":\"white\",\"ticks\":\"\"}},\"coloraxis\":{\"colorbar\":{\"outlinewidth\":0,\"ticks\":\"\"}},\"colorscale\":{\"sequential\":[[0.0,\"#0d0887\"],[0.1111111111111111,\"#46039f\"],[0.2222222222222222,\"#7201a8\"],[0.3333333333333333,\"#9c179e\"],[0.4444444444444444,\"#bd3786\"],[0.5555555555555556,\"#d8576b\"],[0.6666666666666666,\"#ed7953\"],[0.7777777777777778,\"#fb9f3a\"],[0.8888888888888888,\"#fdca26\"],[1.0,\"#f0f921\"]],\"sequentialminus\":[[0.0,\"#0d0887\"],[0.1111111111111111,\"#46039f\"],[0.2222222222222222,\"#7201a8\"],[0.3333333333333333,\"#9c179e\"],[0.4444444444444444,\"#bd3786\"],[0.5555555555555556,\"#d8576b\"],[0.6666666666666666,\"#ed7953\"],[0.7777777777777778,\"#fb9f3a\"],[0.8888888888888888,\"#fdca26\"],[1.0,\"#f0f921\"]],\"diverging\":[[0,\"#8e0152\"],[0.1,\"#c51b7d\"],[0.2,\"#de77ae\"],[0.3,\"#f1b6da\"],[0.4,\"#fde0ef\"],[0.5,\"#f7f7f7\"],[0.6,\"#e6f5d0\"],[0.7,\"#b8e186\"],[0.8,\"#7fbc41\"],[0.9,\"#4d9221\"],[1,\"#276419\"]]},\"xaxis\":{\"gridcolor\":\"white\",\"linecolor\":\"white\",\"ticks\":\"\",\"title\":{\"standoff\":15},\"zerolinecolor\":\"white\",\"automargin\":true,\"zerolinewidth\":2},\"yaxis\":{\"gridcolor\":\"white\",\"linecolor\":\"white\",\"ticks\":\"\",\"title\":{\"standoff\":15},\"zerolinecolor\":\"white\",\"automargin\":true,\"zerolinewidth\":2},\"scene\":{\"xaxis\":{\"backgroundcolor\":\"#E5ECF6\",\"gridcolor\":\"white\",\"linecolor\":\"white\",\"showbackground\":true,\"ticks\":\"\",\"zerolinecolor\":\"white\",\"gridwidth\":2},\"yaxis\":{\"backgroundcolor\":\"#E5ECF6\",\"gridcolor\":\"white\",\"linecolor\":\"white\",\"showbackground\":true,\"ticks\":\"\",\"zerolinecolor\":\"white\",\"gridwidth\":2},\"zaxis\":{\"backgroundcolor\":\"#E5ECF6\",\"gridcolor\":\"white\",\"linecolor\":\"white\",\"showbackground\":true,\"ticks\":\"\",\"zerolinecolor\":\"white\",\"gridwidth\":2}},\"shapedefaults\":{\"line\":{\"color\":\"#2a3f5f\"}},\"annotationdefaults\":{\"arrowcolor\":\"#2a3f5f\",\"arrowhead\":0,\"arrowwidth\":1},\"geo\":{\"bgcolor\":\"white\",\"landcolor\":\"#E5ECF6\",\"subunitcolor\":\"white\",\"showland\":true,\"showlakes\":true,\"lakecolor\":\"white\"},\"title\":{\"x\":0.05},\"mapbox\":{\"style\":\"light\"}}},\"xaxis\":{\"anchor\":\"y\",\"domain\":[0.0,1.0],\"title\":{\"text\":\"author\"},\"categoryorder\":\"array\",\"categoryarray\":[\"Tony Hsieh\",\"Jamie Ford\",\"Guinness World Records\",\"Suzanne Ryan\",\"Jennifer Smith\",\"R. J. Palacio\",\"Jen Fisch\",\"Simon Sinek\",\"Melissa Lagonegro\",\"Gillian Flynn\"]},\"yaxis\":{\"anchor\":\"x\",\"domain\":[0.0,1.0],\"title\":{\"text\":\"price\"}},\"legend\":{\"title\":{\"text\":\"author\"},\"tracegroupgap\":0},\"margin\":{\"t\":60},\"barmode\":\"relative\",\"height\":400},                        {\"responsive\": true}                    ).then(function(){\n",
       "                            \n",
       "var gd = document.getElementById('051398e4-3616-4585-acd2-a49acedce19a');\n",
       "var x = new MutationObserver(function (mutations, observer) {{\n",
       "        var display = window.getComputedStyle(gd).display;\n",
       "        if (!display || display === 'none') {{\n",
       "            console.log([gd, 'removed!']);\n",
       "            Plotly.purge(gd);\n",
       "            observer.disconnect();\n",
       "        }}\n",
       "}});\n",
       "\n",
       "// Listen for the removal of the full notebook cells\n",
       "var notebookContainer = gd.closest('#notebook-container');\n",
       "if (notebookContainer) {{\n",
       "    x.observe(notebookContainer, {childList: true});\n",
       "}}\n",
       "\n",
       "// Listen for the clearing of the current output cell\n",
       "var outputEl = gd.closest('.output');\n",
       "if (outputEl) {{\n",
       "    x.observe(outputEl, {childList: true});\n",
       "}}\n",
       "\n",
       "                        })                };                });            </script>        </div>"
      ]
     },
     "metadata": {},
     "output_type": "display_data"
    }
   ],
   "source": [
    "fig = px.bar(temp_df2, x=temp_df2['author'], y=temp_df2['price'],\n",
    "              color='author',\n",
    "             labels={'author'}, height=400)\n",
    "fig.show()"
   ]
  },
  {
   "cell_type": "code",
   "execution_count": 26,
   "metadata": {},
   "outputs": [
    {
     "data": {
      "application/vnd.plotly.v1+json": {
       "config": {
        "plotlyServerURL": "https://plot.ly"
       },
       "data": [
        {
         "hovertemplate": "price=%{x}<br>rating=%{y}<extra></extra>",
         "legendgroup": "",
         "marker": {
          "color": "#636efa",
          "symbol": "circle"
         },
         "mode": "markers",
         "name": "",
         "orientation": "v",
         "showlegend": false,
         "type": "scatter",
         "x": [
          0.92,
          0.55,
          1.07,
          0.12,
          0.01,
          0.01,
          0.14,
          0.99,
          13.52,
          0.6,
          0.99,
          1,
          0.69,
          0.77,
          0.15,
          1.07,
          0.47,
          0.99,
          0.99,
          0.99,
          1.43,
          9.15,
          5,
          0.1,
          0.37,
          1.18,
          0.01,
          1.33,
          0.01,
          1.18,
          3.59,
          0.01,
          1.4,
          1.42,
          0.12,
          0.25,
          1,
          0.97,
          1.43,
          9.09,
          0.01,
          0.57,
          0.75,
          0.75,
          1.15,
          0.01,
          1.59,
          0.65,
          1,
          1,
          1,
          0.83,
          2.09,
          1.42,
          1,
          0.75,
          0.76,
          0.25,
          1.18,
          1,
          0.83,
          1,
          1.49,
          2.15,
          3.49,
          0.5,
          1.44,
          1.99,
          1.16,
          3.21,
          1.79,
          0.51,
          0.65,
          0.99,
          2.21,
          1.59,
          1,
          1,
          0.75,
          1.16,
          1.25,
          1.35,
          0.65,
          2.35,
          0.51,
          0.99,
          1.59,
          0.75,
          0.99,
          0.01,
          0.99,
          0.11,
          0.47,
          1.17,
          2.59,
          1,
          0.93,
          0.25,
          0.99,
          1.15,
          1.15,
          1.17,
          0.25,
          0.53,
          1.43,
          1.84,
          1.16,
          1.23,
          0.99,
          2.35,
          0.99,
          1.43,
          2.71,
          1.31,
          0.07,
          0.99,
          1.43,
          1.42,
          2.46,
          0.56,
          2.86,
          3.32,
          1,
          1.56,
          1.43,
          1.58,
          1.99,
          0.01,
          1.08,
          2.21,
          0.25,
          0.99,
          0.25,
          0.99,
          3.76,
          1.59,
          1.53,
          1.59,
          1.43,
          1.07,
          0.99,
          1,
          1.18,
          1.59,
          1.39,
          2.52,
          1.86,
          23.2,
          1.14,
          4.51,
          0.99,
          1.46,
          1.94,
          0.75,
          1,
          1.99,
          1.43,
          0.36,
          0.91,
          0.34,
          2.59,
          1.38,
          9,
          1,
          2.32,
          0.59,
          0.5,
          4.37,
          4.17,
          0.51,
          3,
          1.34,
          0.08,
          2.06,
          1.07,
          1.43,
          1.18,
          1,
          1.18,
          1.08,
          2,
          2.02,
          2.36,
          1.25,
          2.1,
          0.01,
          7.6,
          1.17,
          0.01,
          1,
          14.67,
          1.36,
          0.94,
          1,
          19.99,
          1.55,
          1.49,
          2.97,
          7.99,
          28.76,
          1.16,
          0.54,
          1.15,
          2.13,
          1.28,
          2.34,
          2.23,
          2.27,
          0.99,
          0.5,
          0.01,
          0.03,
          3.69,
          1,
          1.04,
          1.43,
          1.43,
          0.17,
          0.93,
          5.83,
          8.14,
          1.16,
          1.18,
          3.18,
          1.18,
          4.48,
          1,
          1.43,
          1.18,
          1.16,
          1.16,
          1.8,
          1,
          1.99,
          5.23,
          0.01,
          7.18,
          1.49,
          1.49,
          1.16,
          4.55,
          1.16,
          1.29,
          2.72,
          1.77,
          1.59,
          1.9,
          1.08,
          1.43,
          0.02,
          1.49,
          1.97,
          1.03,
          3.32,
          1.49,
          1.56,
          7.79,
          1.95,
          1.41,
          2.25,
          0.99,
          4.06,
          2.96,
          0.99,
          1.02,
          1.36,
          1.16,
          1.58,
          0.5,
          1.34,
          41.92,
          0.01,
          0.79,
          1.06,
          0.01,
          0.99,
          1.59,
          12.13,
          2.39,
          0.9,
          2.27,
          1.37,
          1.58,
          1.93,
          1.8,
          1.08,
          1.15,
          0.99,
          0.99,
          1.55,
          0.95,
          1.12,
          1.8,
          1.49,
          1,
          0.93,
          3.9,
          10,
          1.43,
          0.5,
          1.35,
          0.61,
          1.49,
          1,
          1.43,
          1.16,
          1.9,
          0.89,
          0.35,
          1.43,
          0.99,
          1.1,
          4.81,
          1,
          1.45,
          0.98,
          1.49,
          1.58,
          1.33,
          1.16,
          4.39,
          1,
          0.97,
          14.16,
          3.52,
          0.04,
          0.93,
          2.44,
          1,
          0.85,
          12.98,
          1.18,
          3.49,
          1.59,
          1,
          1.15,
          1.03,
          29.41,
          1.59,
          0.95,
          1.58,
          1.23,
          1.1,
          1.18,
          5.27,
          2.04,
          0.75,
          0.99,
          2.22,
          1.49,
          2.09,
          0.69,
          1.59,
          0.95,
          1.1,
          1.55,
          1.06,
          1.92,
          0.09,
          1.8,
          0.5,
          1.17,
          1,
          1.16,
          1.1,
          1.59,
          1.58,
          1.64,
          1.45,
          1.06,
          1.38,
          1.16,
          1,
          2.09,
          3.43,
          2.03,
          1.08,
          1.97,
          1,
          0.83,
          1.95,
          1.59,
          1,
          1.59,
          1.18,
          0.44,
          1.49,
          1.18,
          4.75,
          1.97,
          1.17,
          1,
          1.07,
          1.37,
          1.07,
          4.38,
          0.96,
          1.07,
          0.98,
          1.49,
          0.75,
          0.76,
          6.1,
          3.24,
          6.48,
          0.59,
          0.81,
          0.75,
          1.36,
          2.6,
          2.95,
          2.72,
          1.03,
          2.25,
          1.8,
          1.17,
          1.49,
          2.09,
          0.37,
          2.03,
          1.07,
          1.69,
          1.26,
          1.16,
          2.87,
          1.43,
          0.99,
          0.75,
          1.17,
          1.49,
          0.5,
          2.58,
          1,
          19.79,
          0.07,
          2.99,
          1.07,
          1.16,
          0.93,
          1.43,
          1.43,
          0.59,
          16.95,
          7.82,
          1.16,
          2.07,
          1.36,
          0.88,
          2.76,
          1,
          1.49,
          1.4,
          2.49,
          0.93,
          2.17,
          1,
          4.19,
          1.08,
          0.99,
          2.16,
          1.58,
          1.16,
          1.57,
          0.74,
          1.39,
          1.91,
          1.47,
          1.15,
          1.99,
          5.09,
          9.45,
          12.98,
          10.88,
          2.36,
          1.54,
          1.08,
          3.42,
          3.43,
          1.8,
          1.59,
          1.16,
          11.73,
          1.15,
          1.35,
          1.49,
          0.01,
          0.01,
          1.29,
          0.01,
          0.01,
          1,
          8.03,
          7.24,
          1.13,
          0.59,
          0.99,
          1.16,
          1.15,
          7,
          0.07,
          1.92,
          1.49,
          1.16,
          15.86,
          1.16,
          1.43,
          1.97,
          1.57,
          1.49,
          1.04,
          1.15,
          1.59,
          1,
          8.9,
          2.78,
          2.33,
          18,
          1.58,
          24.98,
          2.52,
          9.08,
          1.25,
          1.75,
          1.58,
          1.16,
          2,
          2.85,
          2.59,
          1.59,
          1.42,
          1.6,
          1.35,
          5.01,
          1.13,
          1.34,
          1.58,
          1,
          1.33,
          1.32,
          1.59,
          1.32,
          14.88,
          1.59,
          7.95,
          1.15,
          1.35,
          1.59,
          3.33,
          2.27,
          2.16,
          1.16,
          1.95,
          2.54,
          2.32,
          1.63,
          1.5,
          8.71,
          2.31,
          5.88,
          0.99,
          1.55,
          2.53,
          1.38,
          2.34,
          2.33,
          1.59,
          3.61,
          1.95
         ],
         "xaxis": "x",
         "y": [
          4.4,
          4.7,
          4.8,
          4.7,
          4.6,
          4.1,
          4.8,
          4.7,
          4.7,
          4.7,
          4.7,
          4.7,
          4.5,
          4.3,
          4.8,
          4.6,
          4.7,
          4.4,
          4.6,
          4.5,
          4.6,
          4.8,
          4.7,
          4.5,
          4.5,
          4.5,
          4.5,
          4.8,
          4.5,
          4.7,
          4.9,
          4.6,
          4.3,
          4.7,
          4.3,
          4.6,
          4.4,
          4.7,
          4.8,
          4.2,
          4.6,
          4.7,
          4.7,
          4.6,
          4.8,
          4.8,
          4.7,
          4.3,
          4.3,
          4.4,
          4.7,
          4.7,
          4.8,
          4.7,
          4.5,
          4.6,
          4.6,
          4.3,
          4.4,
          4.6,
          4.5,
          4.7,
          4.7,
          4.8,
          4.8,
          4.7,
          4.3,
          4.5,
          4.5,
          4.7,
          4.4,
          4.6,
          4.6,
          4.7,
          4.2,
          4.7,
          4.6,
          4.6,
          4.3,
          4.3,
          4.5,
          4.7,
          4.4,
          4.7,
          4.5,
          4.7,
          4.6,
          4.7,
          4.7,
          4.6,
          4.7,
          4.8,
          4.6,
          4.4,
          4.4,
          4.7,
          4.5,
          4.8,
          4.6,
          4.7,
          4.7,
          4.6,
          4.6,
          4.5,
          4.5,
          4.7,
          4.8,
          4.5,
          4.7,
          4.7,
          4.4,
          4.6,
          4.7,
          4.6,
          4.7,
          4.7,
          4.5,
          4.7,
          4.8,
          4.2,
          4.7,
          4.6,
          4.6,
          4.2,
          4,
          4,
          4.5,
          4.4,
          4.4,
          4.3,
          4.4,
          4.3,
          4.1,
          4.8,
          4.5,
          4.6,
          4.6,
          4.5,
          4.6,
          4.9,
          4.6,
          4.7,
          4.7,
          4.5,
          4.5,
          4.7,
          4.6,
          4.7,
          4.6,
          4.4,
          4.7,
          4.5,
          4.5,
          4.7,
          4.6,
          4.5,
          4.7,
          4.7,
          4.8,
          4.7,
          4.7,
          4.8,
          4.6,
          4.3,
          4.5,
          4.8,
          4.7,
          4.7,
          4.8,
          4.3,
          4.5,
          4.7,
          4.6,
          4.5,
          4.6,
          4.8,
          4.5,
          4.5,
          4.4,
          4.6,
          4.4,
          4.5,
          4.9,
          4.5,
          4.5,
          4.4,
          4.4,
          4.5,
          4.6,
          4.5,
          4.6,
          4.9,
          4.7,
          4.2,
          4.5,
          4.6,
          4.2,
          4,
          4.6,
          4.9,
          4.6,
          4.6,
          4.5,
          4.6,
          4.5,
          4.4,
          4.7,
          4.8,
          3.5,
          4,
          4.5,
          4.5,
          4.6,
          4.7,
          4.6,
          4.1,
          4.8,
          4.6,
          4.4,
          4.8,
          4.6,
          3.4,
          4.7,
          4.7,
          4.4,
          4.6,
          4.4,
          4.3,
          4.9,
          4.7,
          4.8,
          4.5,
          4.6,
          4.8,
          4.7,
          4.8,
          4.8,
          4.5,
          4.5,
          4.3,
          4.5,
          4.6,
          4.4,
          4.7,
          4.6,
          4.6,
          4.5,
          4.6,
          4.3,
          4.5,
          4.7,
          4.9,
          4.6,
          4.5,
          4.3,
          4.6,
          4.8,
          3.8,
          4.5,
          4.5,
          4.7,
          4.8,
          4.8,
          4.5,
          4.8,
          4.9,
          4.2,
          4.8,
          4.7,
          4.5,
          4.7,
          4.7,
          4.6,
          4.5,
          3.9,
          4.4,
          4.8,
          4.9,
          4.7,
          4.5,
          4,
          4.7,
          4.6,
          4.8,
          4.8,
          4.8,
          4.9,
          4.6,
          4.7,
          4.2,
          4.8,
          4.8,
          4.4,
          4.8,
          4.7,
          4.5,
          4.8,
          4.7,
          4.6,
          4.6,
          4.6,
          4.9,
          4.7,
          4.6,
          4.3,
          4.6,
          4.6,
          3.8,
          4.7,
          4.5,
          4.8,
          4.8,
          4.7,
          4.8,
          4.6,
          4.8,
          4.8,
          4.9,
          4.6,
          4.9,
          4.6,
          4.7,
          4.4,
          4.7,
          4.5,
          4.6,
          4.6,
          4.6,
          4.3,
          4.7,
          4.8,
          4.6,
          4.7,
          4.6,
          4.9,
          4.8,
          4.8,
          4.8,
          4.4,
          4.1,
          4.7,
          4.6,
          4.6,
          4.8,
          4.7,
          4.6,
          4.4,
          4.6,
          4.7,
          4.8,
          4.6,
          4.9,
          4.3,
          4.8,
          4.7,
          4.7,
          4.5,
          4.7,
          3.7,
          4.7,
          4.1,
          4.5,
          4.8,
          4.6,
          4.5,
          4.9,
          4.7,
          4.8,
          4.5,
          4.8,
          4.8,
          4.6,
          4.7,
          4.6,
          4.8,
          4.7,
          4.7,
          4.7,
          4.6,
          4.7,
          4.7,
          4.7,
          4.9,
          4.9,
          4.2,
          4.7,
          4.8,
          4.7,
          4.6,
          4.6,
          4.4,
          4.5,
          4,
          4.4,
          4.8,
          4.7,
          4.8,
          4.7,
          4.6,
          4.8,
          4.3,
          4.8,
          4.7,
          4.6,
          4.7,
          4.8,
          4.8,
          4.4,
          4.7,
          4.9,
          4.4,
          4.7,
          4.8,
          4.7,
          4.7,
          4.8,
          4.9,
          4.6,
          4.5,
          4.7,
          4.9,
          4.9,
          4.4,
          4.8,
          4.7,
          4.7,
          4.8,
          4.2,
          4.8,
          4.8,
          4.5,
          4.6,
          4.5,
          4.9,
          4.6,
          4.7,
          4.8,
          4.7,
          4.4,
          4.5,
          4.7,
          4.8,
          4.9,
          4.6,
          4.8,
          4.7,
          4.5,
          4.6,
          4.7,
          4.4,
          4.8,
          4.5,
          4.6,
          4.5,
          4.6,
          4.9,
          4.9,
          4.7,
          4.6,
          4.6,
          4.7,
          4.7,
          4.2,
          4.9,
          4.8,
          4.7,
          4.3,
          4.6,
          4.8,
          4.8,
          4.6,
          4.6,
          4.7,
          4.4,
          4.8,
          4.7,
          4.6,
          4.7,
          4.7,
          4.9,
          4.6,
          4.9,
          4.8,
          4.7,
          4.8,
          4.8,
          4.6,
          4.8,
          4.2,
          4.5,
          4.9,
          4.8,
          4.8,
          4.6,
          4.7,
          4.8,
          4.9,
          4.7,
          4.8,
          4.4,
          4.8,
          4.5,
          4.9,
          4.8,
          4.6,
          4.9,
          4.4,
          4.5,
          4.8,
          4.4,
          4.8,
          4.7,
          4.2,
          4.7,
          4.6,
          4.8,
          4.9,
          4.4,
          4.9,
          4.6,
          4.8,
          4.8,
          4.7,
          4.4,
          4.8,
          4.7,
          4.7,
          4.7,
          4.7,
          4.9,
          4.9,
          4.9,
          4.8,
          4.6,
          4.6,
          4.8,
          4.8,
          4.8,
          4.9,
          4.5,
          4.8,
          4.9,
          4.8,
          4.8,
          4.6,
          4.8,
          4.9,
          4.5,
          4.8,
          4.8,
          4.7,
          4.7,
          4.7,
          4.6,
          4.8,
          4.8,
          4.8,
          4.5,
          4.4,
          4.5,
          4.8,
          4.7,
          4.7,
          4.7,
          4.8,
          4.8,
          4.6,
          4.8
         ],
         "yaxis": "y"
        },
        {
         "hovertemplate": "<b>OLS trendline</b><br>rating = 0.00962804 * price + 4.59383<br>R<sup>2</sup>=0.029669<br><br>price=%{x}<br>rating=%{y} <b>(trend)</b><extra></extra>",
         "legendgroup": "",
         "marker": {
          "color": "#636efa",
          "symbol": "circle"
         },
         "mode": "lines",
         "name": "",
         "showlegend": false,
         "type": "scatter",
         "x": [
          0.01,
          0.01,
          0.01,
          0.01,
          0.01,
          0.01,
          0.01,
          0.01,
          0.01,
          0.01,
          0.01,
          0.01,
          0.01,
          0.01,
          0.01,
          0.01,
          0.01,
          0.01,
          0.01,
          0.02,
          0.03,
          0.04,
          0.07,
          0.07,
          0.07,
          0.08,
          0.09,
          0.1,
          0.11,
          0.12,
          0.12,
          0.14,
          0.15,
          0.17,
          0.25,
          0.25,
          0.25,
          0.25,
          0.25,
          0.25,
          0.34,
          0.35,
          0.36,
          0.37,
          0.37,
          0.44,
          0.47,
          0.47,
          0.5,
          0.5,
          0.5,
          0.5,
          0.5,
          0.5,
          0.5,
          0.51,
          0.51,
          0.51,
          0.53,
          0.54,
          0.55,
          0.56,
          0.57,
          0.59,
          0.59,
          0.59,
          0.59,
          0.6,
          0.61,
          0.65,
          0.65,
          0.65,
          0.69,
          0.69,
          0.74,
          0.75,
          0.75,
          0.75,
          0.75,
          0.75,
          0.75,
          0.75,
          0.75,
          0.75,
          0.75,
          0.76,
          0.76,
          0.77,
          0.79,
          0.81,
          0.83,
          0.83,
          0.83,
          0.85,
          0.88,
          0.89,
          0.9,
          0.91,
          0.92,
          0.93,
          0.93,
          0.93,
          0.93,
          0.93,
          0.93,
          0.94,
          0.95,
          0.95,
          0.95,
          0.96,
          0.97,
          0.97,
          0.98,
          0.98,
          0.99,
          0.99,
          0.99,
          0.99,
          0.99,
          0.99,
          0.99,
          0.99,
          0.99,
          0.99,
          0.99,
          0.99,
          0.99,
          0.99,
          0.99,
          0.99,
          0.99,
          0.99,
          0.99,
          0.99,
          0.99,
          0.99,
          0.99,
          0.99,
          0.99,
          0.99,
          0.99,
          0.99,
          0.99,
          1,
          1,
          1,
          1,
          1,
          1,
          1,
          1,
          1,
          1,
          1,
          1,
          1,
          1,
          1,
          1,
          1,
          1,
          1,
          1,
          1,
          1,
          1,
          1,
          1,
          1,
          1,
          1,
          1,
          1,
          1,
          1,
          1,
          1,
          1,
          1,
          1,
          1,
          1.02,
          1.03,
          1.03,
          1.03,
          1.04,
          1.04,
          1.06,
          1.06,
          1.06,
          1.07,
          1.07,
          1.07,
          1.07,
          1.07,
          1.07,
          1.07,
          1.07,
          1.07,
          1.08,
          1.08,
          1.08,
          1.08,
          1.08,
          1.08,
          1.08,
          1.1,
          1.1,
          1.1,
          1.1,
          1.12,
          1.13,
          1.13,
          1.14,
          1.15,
          1.15,
          1.15,
          1.15,
          1.15,
          1.15,
          1.15,
          1.15,
          1.15,
          1.15,
          1.15,
          1.16,
          1.16,
          1.16,
          1.16,
          1.16,
          1.16,
          1.16,
          1.16,
          1.16,
          1.16,
          1.16,
          1.16,
          1.16,
          1.16,
          1.16,
          1.16,
          1.16,
          1.16,
          1.16,
          1.16,
          1.16,
          1.16,
          1.16,
          1.16,
          1.17,
          1.17,
          1.17,
          1.17,
          1.17,
          1.17,
          1.17,
          1.18,
          1.18,
          1.18,
          1.18,
          1.18,
          1.18,
          1.18,
          1.18,
          1.18,
          1.18,
          1.18,
          1.18,
          1.18,
          1.23,
          1.23,
          1.25,
          1.25,
          1.25,
          1.26,
          1.28,
          1.29,
          1.29,
          1.31,
          1.32,
          1.32,
          1.33,
          1.33,
          1.33,
          1.34,
          1.34,
          1.34,
          1.35,
          1.35,
          1.35,
          1.35,
          1.35,
          1.36,
          1.36,
          1.36,
          1.36,
          1.37,
          1.37,
          1.38,
          1.38,
          1.38,
          1.39,
          1.39,
          1.4,
          1.4,
          1.41,
          1.42,
          1.42,
          1.42,
          1.42,
          1.43,
          1.43,
          1.43,
          1.43,
          1.43,
          1.43,
          1.43,
          1.43,
          1.43,
          1.43,
          1.43,
          1.43,
          1.43,
          1.43,
          1.43,
          1.43,
          1.43,
          1.43,
          1.43,
          1.43,
          1.44,
          1.45,
          1.45,
          1.46,
          1.47,
          1.49,
          1.49,
          1.49,
          1.49,
          1.49,
          1.49,
          1.49,
          1.49,
          1.49,
          1.49,
          1.49,
          1.49,
          1.49,
          1.49,
          1.49,
          1.49,
          1.49,
          1.49,
          1.5,
          1.53,
          1.54,
          1.55,
          1.55,
          1.55,
          1.55,
          1.56,
          1.56,
          1.57,
          1.57,
          1.58,
          1.58,
          1.58,
          1.58,
          1.58,
          1.58,
          1.58,
          1.58,
          1.58,
          1.58,
          1.59,
          1.59,
          1.59,
          1.59,
          1.59,
          1.59,
          1.59,
          1.59,
          1.59,
          1.59,
          1.59,
          1.59,
          1.59,
          1.59,
          1.59,
          1.59,
          1.59,
          1.59,
          1.59,
          1.59,
          1.59,
          1.6,
          1.63,
          1.64,
          1.69,
          1.75,
          1.77,
          1.79,
          1.8,
          1.8,
          1.8,
          1.8,
          1.8,
          1.8,
          1.84,
          1.86,
          1.9,
          1.9,
          1.91,
          1.92,
          1.92,
          1.93,
          1.94,
          1.95,
          1.95,
          1.95,
          1.95,
          1.97,
          1.97,
          1.97,
          1.97,
          1.99,
          1.99,
          1.99,
          1.99,
          1.99,
          2,
          2,
          2.02,
          2.03,
          2.03,
          2.04,
          2.06,
          2.07,
          2.09,
          2.09,
          2.09,
          2.09,
          2.1,
          2.13,
          2.15,
          2.16,
          2.16,
          2.17,
          2.21,
          2.21,
          2.22,
          2.23,
          2.25,
          2.25,
          2.27,
          2.27,
          2.27,
          2.31,
          2.32,
          2.32,
          2.33,
          2.33,
          2.34,
          2.34,
          2.35,
          2.35,
          2.36,
          2.36,
          2.39,
          2.44,
          2.46,
          2.49,
          2.52,
          2.52,
          2.53,
          2.54,
          2.58,
          2.59,
          2.59,
          2.59,
          2.6,
          2.71,
          2.72,
          2.72,
          2.76,
          2.78,
          2.85,
          2.86,
          2.87,
          2.95,
          2.96,
          2.97,
          2.99,
          3,
          3.18,
          3.21,
          3.24,
          3.32,
          3.32,
          3.33,
          3.42,
          3.43,
          3.43,
          3.49,
          3.49,
          3.52,
          3.59,
          3.61,
          3.69,
          3.76,
          3.9,
          4.06,
          4.17,
          4.19,
          4.37,
          4.38,
          4.39,
          4.48,
          4.51,
          4.55,
          4.75,
          4.81,
          5,
          5.01,
          5.09,
          5.23,
          5.27,
          5.83,
          5.88,
          6.1,
          6.48,
          7,
          7.18,
          7.24,
          7.6,
          7.79,
          7.82,
          7.95,
          7.99,
          8.03,
          8.14,
          8.71,
          8.9,
          9,
          9.08,
          9.09,
          9.15,
          9.45,
          10,
          10.88,
          11.73,
          12.13,
          12.98,
          12.98,
          13.52,
          14.16,
          14.67,
          14.88,
          15.86,
          16.95,
          18,
          19.79,
          19.99,
          23.2,
          24.98,
          28.76,
          29.41,
          41.92
         ],
         "xaxis": "x",
         "y": [
          4.593925397462211,
          4.593925397462211,
          4.593925397462211,
          4.593925397462211,
          4.593925397462211,
          4.593925397462211,
          4.593925397462211,
          4.593925397462211,
          4.593925397462211,
          4.593925397462211,
          4.593925397462211,
          4.593925397462211,
          4.593925397462211,
          4.593925397462211,
          4.593925397462211,
          4.593925397462211,
          4.593925397462211,
          4.593925397462211,
          4.593925397462211,
          4.594021677908451,
          4.594117958354691,
          4.594214238800932,
          4.594503080139653,
          4.594503080139653,
          4.594503080139653,
          4.594599360585892,
          4.594695641032133,
          4.5947919214783735,
          4.594888201924613,
          4.594984482370854,
          4.594984482370854,
          4.595177043263334,
          4.595273323709574,
          4.595465884602055,
          4.596236128171976,
          4.596236128171976,
          4.596236128171976,
          4.596236128171976,
          4.596236128171976,
          4.596236128171976,
          4.597102652188139,
          4.597198932634379,
          4.59729521308062,
          4.597391493526859,
          4.597391493526859,
          4.5980654566505414,
          4.598354297989262,
          4.598354297989262,
          4.598643139327983,
          4.598643139327983,
          4.598643139327983,
          4.598643139327983,
          4.598643139327983,
          4.598643139327983,
          4.598643139327983,
          4.5987394197742235,
          4.5987394197742235,
          4.5987394197742235,
          4.598931980666704,
          4.599028261112944,
          4.599124541559184,
          4.5992208220054245,
          4.599317102451665,
          4.599509663344145,
          4.599509663344145,
          4.599509663344145,
          4.599509663344145,
          4.599605943790386,
          4.5997022242366254,
          4.600087346021587,
          4.600087346021587,
          4.600087346021587,
          4.600472467806547,
          4.600472467806547,
          4.600953870037749,
          4.601050150483989,
          4.601050150483989,
          4.601050150483989,
          4.601050150483989,
          4.601050150483989,
          4.601050150483989,
          4.601050150483989,
          4.601050150483989,
          4.601050150483989,
          4.601050150483989,
          4.601146430930229,
          4.601146430930229,
          4.60124271137647,
          4.60143527226895,
          4.60162783316143,
          4.601820394053911,
          4.601820394053911,
          4.601820394053911,
          4.6020129549463915,
          4.602301796285112,
          4.602398076731353,
          4.6024943571775925,
          4.602590637623833,
          4.602686918070074,
          4.602783198516313,
          4.602783198516313,
          4.602783198516313,
          4.602783198516313,
          4.602783198516313,
          4.602783198516313,
          4.602879478962554,
          4.602975759408794,
          4.602975759408794,
          4.602975759408794,
          4.603072039855034,
          4.6031683203012745,
          4.6031683203012745,
          4.603264600747515,
          4.603264600747515,
          4.603360881193755,
          4.603360881193755,
          4.603360881193755,
          4.603360881193755,
          4.603360881193755,
          4.603360881193755,
          4.603360881193755,
          4.603360881193755,
          4.603360881193755,
          4.603360881193755,
          4.603360881193755,
          4.603360881193755,
          4.603360881193755,
          4.603360881193755,
          4.603360881193755,
          4.603360881193755,
          4.603360881193755,
          4.603360881193755,
          4.603360881193755,
          4.603360881193755,
          4.603360881193755,
          4.603360881193755,
          4.603360881193755,
          4.603360881193755,
          4.603360881193755,
          4.603360881193755,
          4.603360881193755,
          4.603360881193755,
          4.603360881193755,
          4.603457161639995,
          4.603457161639995,
          4.603457161639995,
          4.603457161639995,
          4.603457161639995,
          4.603457161639995,
          4.603457161639995,
          4.603457161639995,
          4.603457161639995,
          4.603457161639995,
          4.603457161639995,
          4.603457161639995,
          4.603457161639995,
          4.603457161639995,
          4.603457161639995,
          4.603457161639995,
          4.603457161639995,
          4.603457161639995,
          4.603457161639995,
          4.603457161639995,
          4.603457161639995,
          4.603457161639995,
          4.603457161639995,
          4.603457161639995,
          4.603457161639995,
          4.603457161639995,
          4.603457161639995,
          4.603457161639995,
          4.603457161639995,
          4.603457161639995,
          4.603457161639995,
          4.603457161639995,
          4.603457161639995,
          4.603457161639995,
          4.603457161639995,
          4.603457161639995,
          4.603457161639995,
          4.603457161639995,
          4.6036497225324755,
          4.603746002978716,
          4.603746002978716,
          4.603746002978716,
          4.603842283424957,
          4.603842283424957,
          4.604034844317437,
          4.604034844317437,
          4.604034844317437,
          4.6041311247636765,
          4.6041311247636765,
          4.6041311247636765,
          4.6041311247636765,
          4.6041311247636765,
          4.6041311247636765,
          4.6041311247636765,
          4.6041311247636765,
          4.6041311247636765,
          4.604227405209917,
          4.604227405209917,
          4.604227405209917,
          4.604227405209917,
          4.604227405209917,
          4.604227405209917,
          4.604227405209917,
          4.604419966102397,
          4.604419966102397,
          4.604419966102397,
          4.604419966102397,
          4.604612526994878,
          4.604708807441118,
          4.604708807441118,
          4.6048050878873585,
          4.604901368333599,
          4.604901368333599,
          4.604901368333599,
          4.604901368333599,
          4.604901368333599,
          4.604901368333599,
          4.604901368333599,
          4.604901368333599,
          4.604901368333599,
          4.604901368333599,
          4.604901368333599,
          4.604997648779839,
          4.604997648779839,
          4.604997648779839,
          4.604997648779839,
          4.604997648779839,
          4.604997648779839,
          4.604997648779839,
          4.604997648779839,
          4.604997648779839,
          4.604997648779839,
          4.604997648779839,
          4.604997648779839,
          4.604997648779839,
          4.604997648779839,
          4.604997648779839,
          4.604997648779839,
          4.604997648779839,
          4.604997648779839,
          4.604997648779839,
          4.604997648779839,
          4.604997648779839,
          4.604997648779839,
          4.604997648779839,
          4.604997648779839,
          4.605093929226079,
          4.605093929226079,
          4.605093929226079,
          4.605093929226079,
          4.605093929226079,
          4.605093929226079,
          4.605093929226079,
          4.60519020967232,
          4.60519020967232,
          4.60519020967232,
          4.60519020967232,
          4.60519020967232,
          4.60519020967232,
          4.60519020967232,
          4.60519020967232,
          4.60519020967232,
          4.60519020967232,
          4.60519020967232,
          4.60519020967232,
          4.60519020967232,
          4.605671611903521,
          4.605671611903521,
          4.605864172796001,
          4.605864172796001,
          4.605864172796001,
          4.605960453242242,
          4.606153014134722,
          4.606249294580962,
          4.606249294580962,
          4.6064418554734425,
          4.606538135919683,
          4.606538135919683,
          4.606634416365924,
          4.606634416365924,
          4.606634416365924,
          4.606730696812163,
          4.606730696812163,
          4.606730696812163,
          4.606826977258404,
          4.606826977258404,
          4.606826977258404,
          4.606826977258404,
          4.606826977258404,
          4.606923257704644,
          4.606923257704644,
          4.606923257704644,
          4.606923257704644,
          4.607019538150884,
          4.607019538150884,
          4.607115818597125,
          4.607115818597125,
          4.607115818597125,
          4.607212099043365,
          4.607212099043365,
          4.607308379489605,
          4.607308379489605,
          4.607404659935845,
          4.607500940382086,
          4.607500940382086,
          4.607500940382086,
          4.607500940382086,
          4.607597220828326,
          4.607597220828326,
          4.607597220828326,
          4.607597220828326,
          4.607597220828326,
          4.607597220828326,
          4.607597220828326,
          4.607597220828326,
          4.607597220828326,
          4.607597220828326,
          4.607597220828326,
          4.607597220828326,
          4.607597220828326,
          4.607597220828326,
          4.607597220828326,
          4.607597220828326,
          4.607597220828326,
          4.607597220828326,
          4.607597220828326,
          4.607597220828326,
          4.607693501274566,
          4.607789781720807,
          4.607789781720807,
          4.607886062167046,
          4.607982342613287,
          4.608174903505767,
          4.608174903505767,
          4.608174903505767,
          4.608174903505767,
          4.608174903505767,
          4.608174903505767,
          4.608174903505767,
          4.608174903505767,
          4.608174903505767,
          4.608174903505767,
          4.608174903505767,
          4.608174903505767,
          4.608174903505767,
          4.608174903505767,
          4.608174903505767,
          4.608174903505767,
          4.608174903505767,
          4.608174903505767,
          4.608271183952008,
          4.608560025290728,
          4.608656305736968,
          4.608752586183209,
          4.608752586183209,
          4.608752586183209,
          4.608752586183209,
          4.608848866629449,
          4.608848866629449,
          4.608945147075689,
          4.608945147075689,
          4.609041427521929,
          4.609041427521929,
          4.609041427521929,
          4.609041427521929,
          4.609041427521929,
          4.609041427521929,
          4.609041427521929,
          4.609041427521929,
          4.609041427521929,
          4.609041427521929,
          4.60913770796817,
          4.60913770796817,
          4.60913770796817,
          4.60913770796817,
          4.60913770796817,
          4.60913770796817,
          4.60913770796817,
          4.60913770796817,
          4.60913770796817,
          4.60913770796817,
          4.60913770796817,
          4.60913770796817,
          4.60913770796817,
          4.60913770796817,
          4.60913770796817,
          4.60913770796817,
          4.60913770796817,
          4.60913770796817,
          4.60913770796817,
          4.60913770796817,
          4.60913770796817,
          4.60923398841441,
          4.60952282975313,
          4.609619110199371,
          4.610100512430572,
          4.610678195108013,
          4.6108707560004945,
          4.611063316892975,
          4.611159597339215,
          4.611159597339215,
          4.611159597339215,
          4.611159597339215,
          4.611159597339215,
          4.611159597339215,
          4.611544719124176,
          4.611737280016657,
          4.612122401801617,
          4.612122401801617,
          4.612218682247858,
          4.612314962694097,
          4.612314962694097,
          4.612411243140338,
          4.6125075235865785,
          4.612603804032818,
          4.612603804032818,
          4.612603804032818,
          4.612603804032818,
          4.612796364925299,
          4.612796364925299,
          4.612796364925299,
          4.612796364925299,
          4.612988925817779,
          4.612988925817779,
          4.612988925817779,
          4.612988925817779,
          4.612988925817779,
          4.61308520626402,
          4.61308520626402,
          4.6132777671565,
          4.613374047602741,
          4.613374047602741,
          4.61347032804898,
          4.6136628889414615,
          4.613759169387701,
          4.613951730280182,
          4.613951730280182,
          4.613951730280182,
          4.613951730280182,
          4.614048010726422,
          4.614336852065143,
          4.614529412957624,
          4.614625693403863,
          4.614625693403863,
          4.614721973850104,
          4.615107095635065,
          4.615107095635065,
          4.615203376081305,
          4.6152996565275455,
          4.615492217420026,
          4.615492217420026,
          4.615684778312507,
          4.615684778312507,
          4.615684778312507,
          4.616069900097467,
          4.616166180543708,
          4.616166180543708,
          4.616262460989947,
          4.616262460989947,
          4.616358741436188,
          4.616358741436188,
          4.6164550218824285,
          4.6164550218824285,
          4.616551302328668,
          4.616551302328668,
          4.616840143667389,
          4.617321545898591,
          4.617514106791071,
          4.617802948129792,
          4.6180917894685125,
          4.6180917894685125,
          4.618188069914753,
          4.618284350360993,
          4.618669472145954,
          4.618765752592195,
          4.618765752592195,
          4.618765752592195,
          4.618862033038434,
          4.619921117947078,
          4.620017398393317,
          4.620017398393317,
          4.620402520178279,
          4.620595081070759,
          4.621269044194441,
          4.6213653246406805,
          4.621461605086921,
          4.622231848656843,
          4.622328129103083,
          4.622424409549324,
          4.622616970441804,
          4.622713250888045,
          4.624446298920368,
          4.624735140259089,
          4.62502398159781,
          4.625794225167732,
          4.625794225167732,
          4.625890505613972,
          4.626757029630134,
          4.626853310076375,
          4.626853310076375,
          4.627430992753816,
          4.627430992753816,
          4.627719834092537,
          4.628393797216219,
          4.6285863581086995,
          4.629356601678621,
          4.630030564802303,
          4.6313784910496665,
          4.63291897818951,
          4.633978063098153,
          4.6341706239906335,
          4.635903672022958,
          4.635999952469199,
          4.636096232915438,
          4.6369627569316005,
          4.637251598270321,
          4.637636720055283,
          4.639562328980087,
          4.640140011657529,
          4.641969340136093,
          4.642065620582334,
          4.642835864152255,
          4.6441837903996195,
          4.64456891218458,
          4.649960617174034,
          4.650442019405235,
          4.652560189222521,
          4.65621884617965,
          4.661225429384142,
          4.662958477416467,
          4.6635361600939085,
          4.667002256158558,
          4.668831584637122,
          4.6691204259758425,
          4.670372071776966,
          4.6707571935619265,
          4.671142315346888,
          4.67220140025553,
          4.677689385691225,
          4.679518714169789,
          4.680481518632192,
          4.6812517622021135,
          4.681348042648354,
          4.6819257253257955,
          4.684814138713003,
          4.690109563256216,
          4.698582242525358,
          4.706766080455779,
          4.7106172983053884,
          4.718801136235809,
          4.718801136235809,
          4.724000280332783,
          4.7301622288921585,
          4.7350725316504105,
          4.737094421021456,
          4.746529904753,
          4.757024473393187,
          4.767133920248413,
          4.784368120125417,
          4.786293729050222,
          4.81719975229334,
          4.8343376717241044,
          4.870731680402917,
          4.8769899094085325,
          4.9974367476550805
         ],
         "yaxis": "y"
        }
       ],
       "layout": {
        "legend": {
         "tracegroupgap": 0
        },
        "margin": {
         "t": 60
        },
        "template": {
         "data": {
          "bar": [
           {
            "error_x": {
             "color": "#2a3f5f"
            },
            "error_y": {
             "color": "#2a3f5f"
            },
            "marker": {
             "line": {
              "color": "#E5ECF6",
              "width": 0.5
             },
             "pattern": {
              "fillmode": "overlay",
              "size": 10,
              "solidity": 0.2
             }
            },
            "type": "bar"
           }
          ],
          "barpolar": [
           {
            "marker": {
             "line": {
              "color": "#E5ECF6",
              "width": 0.5
             },
             "pattern": {
              "fillmode": "overlay",
              "size": 10,
              "solidity": 0.2
             }
            },
            "type": "barpolar"
           }
          ],
          "carpet": [
           {
            "aaxis": {
             "endlinecolor": "#2a3f5f",
             "gridcolor": "white",
             "linecolor": "white",
             "minorgridcolor": "white",
             "startlinecolor": "#2a3f5f"
            },
            "baxis": {
             "endlinecolor": "#2a3f5f",
             "gridcolor": "white",
             "linecolor": "white",
             "minorgridcolor": "white",
             "startlinecolor": "#2a3f5f"
            },
            "type": "carpet"
           }
          ],
          "choropleth": [
           {
            "colorbar": {
             "outlinewidth": 0,
             "ticks": ""
            },
            "type": "choropleth"
           }
          ],
          "contour": [
           {
            "colorbar": {
             "outlinewidth": 0,
             "ticks": ""
            },
            "colorscale": [
             [
              0,
              "#0d0887"
             ],
             [
              0.1111111111111111,
              "#46039f"
             ],
             [
              0.2222222222222222,
              "#7201a8"
             ],
             [
              0.3333333333333333,
              "#9c179e"
             ],
             [
              0.4444444444444444,
              "#bd3786"
             ],
             [
              0.5555555555555556,
              "#d8576b"
             ],
             [
              0.6666666666666666,
              "#ed7953"
             ],
             [
              0.7777777777777778,
              "#fb9f3a"
             ],
             [
              0.8888888888888888,
              "#fdca26"
             ],
             [
              1,
              "#f0f921"
             ]
            ],
            "type": "contour"
           }
          ],
          "contourcarpet": [
           {
            "colorbar": {
             "outlinewidth": 0,
             "ticks": ""
            },
            "type": "contourcarpet"
           }
          ],
          "heatmap": [
           {
            "colorbar": {
             "outlinewidth": 0,
             "ticks": ""
            },
            "colorscale": [
             [
              0,
              "#0d0887"
             ],
             [
              0.1111111111111111,
              "#46039f"
             ],
             [
              0.2222222222222222,
              "#7201a8"
             ],
             [
              0.3333333333333333,
              "#9c179e"
             ],
             [
              0.4444444444444444,
              "#bd3786"
             ],
             [
              0.5555555555555556,
              "#d8576b"
             ],
             [
              0.6666666666666666,
              "#ed7953"
             ],
             [
              0.7777777777777778,
              "#fb9f3a"
             ],
             [
              0.8888888888888888,
              "#fdca26"
             ],
             [
              1,
              "#f0f921"
             ]
            ],
            "type": "heatmap"
           }
          ],
          "heatmapgl": [
           {
            "colorbar": {
             "outlinewidth": 0,
             "ticks": ""
            },
            "colorscale": [
             [
              0,
              "#0d0887"
             ],
             [
              0.1111111111111111,
              "#46039f"
             ],
             [
              0.2222222222222222,
              "#7201a8"
             ],
             [
              0.3333333333333333,
              "#9c179e"
             ],
             [
              0.4444444444444444,
              "#bd3786"
             ],
             [
              0.5555555555555556,
              "#d8576b"
             ],
             [
              0.6666666666666666,
              "#ed7953"
             ],
             [
              0.7777777777777778,
              "#fb9f3a"
             ],
             [
              0.8888888888888888,
              "#fdca26"
             ],
             [
              1,
              "#f0f921"
             ]
            ],
            "type": "heatmapgl"
           }
          ],
          "histogram": [
           {
            "marker": {
             "pattern": {
              "fillmode": "overlay",
              "size": 10,
              "solidity": 0.2
             }
            },
            "type": "histogram"
           }
          ],
          "histogram2d": [
           {
            "colorbar": {
             "outlinewidth": 0,
             "ticks": ""
            },
            "colorscale": [
             [
              0,
              "#0d0887"
             ],
             [
              0.1111111111111111,
              "#46039f"
             ],
             [
              0.2222222222222222,
              "#7201a8"
             ],
             [
              0.3333333333333333,
              "#9c179e"
             ],
             [
              0.4444444444444444,
              "#bd3786"
             ],
             [
              0.5555555555555556,
              "#d8576b"
             ],
             [
              0.6666666666666666,
              "#ed7953"
             ],
             [
              0.7777777777777778,
              "#fb9f3a"
             ],
             [
              0.8888888888888888,
              "#fdca26"
             ],
             [
              1,
              "#f0f921"
             ]
            ],
            "type": "histogram2d"
           }
          ],
          "histogram2dcontour": [
           {
            "colorbar": {
             "outlinewidth": 0,
             "ticks": ""
            },
            "colorscale": [
             [
              0,
              "#0d0887"
             ],
             [
              0.1111111111111111,
              "#46039f"
             ],
             [
              0.2222222222222222,
              "#7201a8"
             ],
             [
              0.3333333333333333,
              "#9c179e"
             ],
             [
              0.4444444444444444,
              "#bd3786"
             ],
             [
              0.5555555555555556,
              "#d8576b"
             ],
             [
              0.6666666666666666,
              "#ed7953"
             ],
             [
              0.7777777777777778,
              "#fb9f3a"
             ],
             [
              0.8888888888888888,
              "#fdca26"
             ],
             [
              1,
              "#f0f921"
             ]
            ],
            "type": "histogram2dcontour"
           }
          ],
          "mesh3d": [
           {
            "colorbar": {
             "outlinewidth": 0,
             "ticks": ""
            },
            "type": "mesh3d"
           }
          ],
          "parcoords": [
           {
            "line": {
             "colorbar": {
              "outlinewidth": 0,
              "ticks": ""
             }
            },
            "type": "parcoords"
           }
          ],
          "pie": [
           {
            "automargin": true,
            "type": "pie"
           }
          ],
          "scatter": [
           {
            "fillpattern": {
             "fillmode": "overlay",
             "size": 10,
             "solidity": 0.2
            },
            "type": "scatter"
           }
          ],
          "scatter3d": [
           {
            "line": {
             "colorbar": {
              "outlinewidth": 0,
              "ticks": ""
             }
            },
            "marker": {
             "colorbar": {
              "outlinewidth": 0,
              "ticks": ""
             }
            },
            "type": "scatter3d"
           }
          ],
          "scattercarpet": [
           {
            "marker": {
             "colorbar": {
              "outlinewidth": 0,
              "ticks": ""
             }
            },
            "type": "scattercarpet"
           }
          ],
          "scattergeo": [
           {
            "marker": {
             "colorbar": {
              "outlinewidth": 0,
              "ticks": ""
             }
            },
            "type": "scattergeo"
           }
          ],
          "scattergl": [
           {
            "marker": {
             "colorbar": {
              "outlinewidth": 0,
              "ticks": ""
             }
            },
            "type": "scattergl"
           }
          ],
          "scattermapbox": [
           {
            "marker": {
             "colorbar": {
              "outlinewidth": 0,
              "ticks": ""
             }
            },
            "type": "scattermapbox"
           }
          ],
          "scatterpolar": [
           {
            "marker": {
             "colorbar": {
              "outlinewidth": 0,
              "ticks": ""
             }
            },
            "type": "scatterpolar"
           }
          ],
          "scatterpolargl": [
           {
            "marker": {
             "colorbar": {
              "outlinewidth": 0,
              "ticks": ""
             }
            },
            "type": "scatterpolargl"
           }
          ],
          "scatterternary": [
           {
            "marker": {
             "colorbar": {
              "outlinewidth": 0,
              "ticks": ""
             }
            },
            "type": "scatterternary"
           }
          ],
          "surface": [
           {
            "colorbar": {
             "outlinewidth": 0,
             "ticks": ""
            },
            "colorscale": [
             [
              0,
              "#0d0887"
             ],
             [
              0.1111111111111111,
              "#46039f"
             ],
             [
              0.2222222222222222,
              "#7201a8"
             ],
             [
              0.3333333333333333,
              "#9c179e"
             ],
             [
              0.4444444444444444,
              "#bd3786"
             ],
             [
              0.5555555555555556,
              "#d8576b"
             ],
             [
              0.6666666666666666,
              "#ed7953"
             ],
             [
              0.7777777777777778,
              "#fb9f3a"
             ],
             [
              0.8888888888888888,
              "#fdca26"
             ],
             [
              1,
              "#f0f921"
             ]
            ],
            "type": "surface"
           }
          ],
          "table": [
           {
            "cells": {
             "fill": {
              "color": "#EBF0F8"
             },
             "line": {
              "color": "white"
             }
            },
            "header": {
             "fill": {
              "color": "#C8D4E3"
             },
             "line": {
              "color": "white"
             }
            },
            "type": "table"
           }
          ]
         },
         "layout": {
          "annotationdefaults": {
           "arrowcolor": "#2a3f5f",
           "arrowhead": 0,
           "arrowwidth": 1
          },
          "autotypenumbers": "strict",
          "coloraxis": {
           "colorbar": {
            "outlinewidth": 0,
            "ticks": ""
           }
          },
          "colorscale": {
           "diverging": [
            [
             0,
             "#8e0152"
            ],
            [
             0.1,
             "#c51b7d"
            ],
            [
             0.2,
             "#de77ae"
            ],
            [
             0.3,
             "#f1b6da"
            ],
            [
             0.4,
             "#fde0ef"
            ],
            [
             0.5,
             "#f7f7f7"
            ],
            [
             0.6,
             "#e6f5d0"
            ],
            [
             0.7,
             "#b8e186"
            ],
            [
             0.8,
             "#7fbc41"
            ],
            [
             0.9,
             "#4d9221"
            ],
            [
             1,
             "#276419"
            ]
           ],
           "sequential": [
            [
             0,
             "#0d0887"
            ],
            [
             0.1111111111111111,
             "#46039f"
            ],
            [
             0.2222222222222222,
             "#7201a8"
            ],
            [
             0.3333333333333333,
             "#9c179e"
            ],
            [
             0.4444444444444444,
             "#bd3786"
            ],
            [
             0.5555555555555556,
             "#d8576b"
            ],
            [
             0.6666666666666666,
             "#ed7953"
            ],
            [
             0.7777777777777778,
             "#fb9f3a"
            ],
            [
             0.8888888888888888,
             "#fdca26"
            ],
            [
             1,
             "#f0f921"
            ]
           ],
           "sequentialminus": [
            [
             0,
             "#0d0887"
            ],
            [
             0.1111111111111111,
             "#46039f"
            ],
            [
             0.2222222222222222,
             "#7201a8"
            ],
            [
             0.3333333333333333,
             "#9c179e"
            ],
            [
             0.4444444444444444,
             "#bd3786"
            ],
            [
             0.5555555555555556,
             "#d8576b"
            ],
            [
             0.6666666666666666,
             "#ed7953"
            ],
            [
             0.7777777777777778,
             "#fb9f3a"
            ],
            [
             0.8888888888888888,
             "#fdca26"
            ],
            [
             1,
             "#f0f921"
            ]
           ]
          },
          "colorway": [
           "#636efa",
           "#EF553B",
           "#00cc96",
           "#ab63fa",
           "#FFA15A",
           "#19d3f3",
           "#FF6692",
           "#B6E880",
           "#FF97FF",
           "#FECB52"
          ],
          "font": {
           "color": "#2a3f5f"
          },
          "geo": {
           "bgcolor": "white",
           "lakecolor": "white",
           "landcolor": "#E5ECF6",
           "showlakes": true,
           "showland": true,
           "subunitcolor": "white"
          },
          "hoverlabel": {
           "align": "left"
          },
          "hovermode": "closest",
          "mapbox": {
           "style": "light"
          },
          "paper_bgcolor": "white",
          "plot_bgcolor": "#E5ECF6",
          "polar": {
           "angularaxis": {
            "gridcolor": "white",
            "linecolor": "white",
            "ticks": ""
           },
           "bgcolor": "#E5ECF6",
           "radialaxis": {
            "gridcolor": "white",
            "linecolor": "white",
            "ticks": ""
           }
          },
          "scene": {
           "xaxis": {
            "backgroundcolor": "#E5ECF6",
            "gridcolor": "white",
            "gridwidth": 2,
            "linecolor": "white",
            "showbackground": true,
            "ticks": "",
            "zerolinecolor": "white"
           },
           "yaxis": {
            "backgroundcolor": "#E5ECF6",
            "gridcolor": "white",
            "gridwidth": 2,
            "linecolor": "white",
            "showbackground": true,
            "ticks": "",
            "zerolinecolor": "white"
           },
           "zaxis": {
            "backgroundcolor": "#E5ECF6",
            "gridcolor": "white",
            "gridwidth": 2,
            "linecolor": "white",
            "showbackground": true,
            "ticks": "",
            "zerolinecolor": "white"
           }
          },
          "shapedefaults": {
           "line": {
            "color": "#2a3f5f"
           }
          },
          "ternary": {
           "aaxis": {
            "gridcolor": "white",
            "linecolor": "white",
            "ticks": ""
           },
           "baxis": {
            "gridcolor": "white",
            "linecolor": "white",
            "ticks": ""
           },
           "bgcolor": "#E5ECF6",
           "caxis": {
            "gridcolor": "white",
            "linecolor": "white",
            "ticks": ""
           }
          },
          "title": {
           "x": 0.05
          },
          "xaxis": {
           "automargin": true,
           "gridcolor": "white",
           "linecolor": "white",
           "ticks": "",
           "title": {
            "standoff": 15
           },
           "zerolinecolor": "white",
           "zerolinewidth": 2
          },
          "yaxis": {
           "automargin": true,
           "gridcolor": "white",
           "linecolor": "white",
           "ticks": "",
           "title": {
            "standoff": 15
           },
           "zerolinecolor": "white",
           "zerolinewidth": 2
          }
         }
        },
        "xaxis": {
         "anchor": "y",
         "domain": [
          0,
          1
         ],
         "title": {
          "text": "price"
         }
        },
        "yaxis": {
         "anchor": "x",
         "domain": [
          0,
          1
         ],
         "title": {
          "text": "rating"
         }
        }
       }
      },
      "text/html": [
       "<div>                            <div id=\"6e0a538e-3bc8-49bd-968f-25dcfbdc27b2\" class=\"plotly-graph-div\" style=\"height:525px; width:100%;\"></div>            <script type=\"text/javascript\">                require([\"plotly\"], function(Plotly) {                    window.PLOTLYENV=window.PLOTLYENV || {};                                    if (document.getElementById(\"6e0a538e-3bc8-49bd-968f-25dcfbdc27b2\")) {                    Plotly.newPlot(                        \"6e0a538e-3bc8-49bd-968f-25dcfbdc27b2\",                        [{\"hovertemplate\":\"price=%{x}<br>rating=%{y}<extra></extra>\",\"legendgroup\":\"\",\"marker\":{\"color\":\"#636efa\",\"symbol\":\"circle\"},\"mode\":\"markers\",\"name\":\"\",\"orientation\":\"v\",\"showlegend\":false,\"x\":[0.92,0.55,1.07,0.12,0.01,0.01,0.14,0.99,13.52,0.6,0.99,1.0,0.69,0.77,0.15,1.07,0.47,0.99,0.99,0.99,1.43,9.15,5.0,0.1,0.37,1.18,0.01,1.33,0.01,1.18,3.59,0.01,1.4,1.42,0.12,0.25,1.0,0.97,1.43,9.09,0.01,0.57,0.75,0.75,1.15,0.01,1.59,0.65,1.0,1.0,1.0,0.83,2.09,1.42,1.0,0.75,0.76,0.25,1.18,1.0,0.83,1.0,1.49,2.15,3.49,0.5,1.44,1.99,1.16,3.21,1.79,0.51,0.65,0.99,2.21,1.59,1.0,1.0,0.75,1.16,1.25,1.35,0.65,2.35,0.51,0.99,1.59,0.75,0.99,0.01,0.99,0.11,0.47,1.17,2.59,1.0,0.93,0.25,0.99,1.15,1.15,1.17,0.25,0.53,1.43,1.84,1.16,1.23,0.99,2.35,0.99,1.43,2.71,1.31,0.07,0.99,1.43,1.42,2.46,0.56,2.86,3.32,1.0,1.56,1.43,1.58,1.99,0.01,1.08,2.21,0.25,0.99,0.25,0.99,3.76,1.59,1.53,1.59,1.43,1.07,0.99,1.0,1.18,1.59,1.39,2.52,1.86,23.2,1.14,4.51,0.99,1.46,1.94,0.75,1.0,1.99,1.43,0.36,0.91,0.34,2.59,1.38,9.0,1.0,2.32,0.59,0.5,4.37,4.17,0.51,3.0,1.34,0.08,2.06,1.07,1.43,1.18,1.0,1.18,1.08,2.0,2.02,2.36,1.25,2.1,0.01,7.6,1.17,0.01,1.0,14.67,1.36,0.94,1.0,19.99,1.55,1.49,2.97,7.99,28.76,1.16,0.54,1.15,2.13,1.28,2.34,2.23,2.27,0.99,0.5,0.01,0.03,3.69,1.0,1.04,1.43,1.43,0.17,0.93,5.83,8.14,1.16,1.18,3.18,1.18,4.48,1.0,1.43,1.18,1.16,1.16,1.8,1.0,1.99,5.23,0.01,7.18,1.49,1.49,1.16,4.55,1.16,1.29,2.72,1.77,1.59,1.9,1.08,1.43,0.02,1.49,1.97,1.03,3.32,1.49,1.56,7.79,1.95,1.41,2.25,0.99,4.06,2.96,0.99,1.02,1.36,1.16,1.58,0.5,1.34,41.92,0.01,0.79,1.06,0.01,0.99,1.59,12.13,2.39,0.9,2.27,1.37,1.58,1.93,1.8,1.08,1.15,0.99,0.99,1.55,0.95,1.12,1.8,1.49,1.0,0.93,3.9,10.0,1.43,0.5,1.35,0.61,1.49,1.0,1.43,1.16,1.9,0.89,0.35,1.43,0.99,1.1,4.81,1.0,1.45,0.98,1.49,1.58,1.33,1.16,4.39,1.0,0.97,14.16,3.52,0.04,0.93,2.44,1.0,0.85,12.98,1.18,3.49,1.59,1.0,1.15,1.03,29.41,1.59,0.95,1.58,1.23,1.1,1.18,5.27,2.04,0.75,0.99,2.22,1.49,2.09,0.69,1.59,0.95,1.1,1.55,1.06,1.92,0.09,1.8,0.5,1.17,1.0,1.16,1.1,1.59,1.58,1.64,1.45,1.06,1.38,1.16,1.0,2.09,3.43,2.03,1.08,1.97,1.0,0.83,1.95,1.59,1.0,1.59,1.18,0.44,1.49,1.18,4.75,1.97,1.17,1.0,1.07,1.37,1.07,4.38,0.96,1.07,0.98,1.49,0.75,0.76,6.1,3.24,6.48,0.59,0.81,0.75,1.36,2.6,2.95,2.72,1.03,2.25,1.8,1.17,1.49,2.09,0.37,2.03,1.07,1.69,1.26,1.16,2.87,1.43,0.99,0.75,1.17,1.49,0.5,2.58,1.0,19.79,0.07,2.99,1.07,1.16,0.93,1.43,1.43,0.59,16.95,7.82,1.16,2.07,1.36,0.88,2.76,1.0,1.49,1.4,2.49,0.93,2.17,1.0,4.19,1.08,0.99,2.16,1.58,1.16,1.57,0.74,1.39,1.91,1.47,1.15,1.99,5.09,9.45,12.98,10.88,2.36,1.54,1.08,3.42,3.43,1.8,1.59,1.16,11.73,1.15,1.35,1.49,0.01,0.01,1.29,0.01,0.01,1.0,8.03,7.24,1.13,0.59,0.99,1.16,1.15,7.0,0.07,1.92,1.49,1.16,15.86,1.16,1.43,1.97,1.57,1.49,1.04,1.15,1.59,1.0,8.9,2.78,2.33,18.0,1.58,24.98,2.52,9.08,1.25,1.75,1.58,1.16,2.0,2.85,2.59,1.59,1.42,1.6,1.35,5.01,1.13,1.34,1.58,1.0,1.33,1.32,1.59,1.32,14.88,1.59,7.95,1.15,1.35,1.59,3.33,2.27,2.16,1.16,1.95,2.54,2.32,1.63,1.5,8.71,2.31,5.88,0.99,1.55,2.53,1.38,2.34,2.33,1.59,3.61,1.95],\"xaxis\":\"x\",\"y\":[4.4,4.7,4.8,4.7,4.6,4.1,4.8,4.7,4.7,4.7,4.7,4.7,4.5,4.3,4.8,4.6,4.7,4.4,4.6,4.5,4.6,4.8,4.7,4.5,4.5,4.5,4.5,4.8,4.5,4.7,4.9,4.6,4.3,4.7,4.3,4.6,4.4,4.7,4.8,4.2,4.6,4.7,4.7,4.6,4.8,4.8,4.7,4.3,4.3,4.4,4.7,4.7,4.8,4.7,4.5,4.6,4.6,4.3,4.4,4.6,4.5,4.7,4.7,4.8,4.8,4.7,4.3,4.5,4.5,4.7,4.4,4.6,4.6,4.7,4.2,4.7,4.6,4.6,4.3,4.3,4.5,4.7,4.4,4.7,4.5,4.7,4.6,4.7,4.7,4.6,4.7,4.8,4.6,4.4,4.4,4.7,4.5,4.8,4.6,4.7,4.7,4.6,4.6,4.5,4.5,4.7,4.8,4.5,4.7,4.7,4.4,4.6,4.7,4.6,4.7,4.7,4.5,4.7,4.8,4.2,4.7,4.6,4.6,4.2,4.0,4.0,4.5,4.4,4.4,4.3,4.4,4.3,4.1,4.8,4.5,4.6,4.6,4.5,4.6,4.9,4.6,4.7,4.7,4.5,4.5,4.7,4.6,4.7,4.6,4.4,4.7,4.5,4.5,4.7,4.6,4.5,4.7,4.7,4.8,4.7,4.7,4.8,4.6,4.3,4.5,4.8,4.7,4.7,4.8,4.3,4.5,4.7,4.6,4.5,4.6,4.8,4.5,4.5,4.4,4.6,4.4,4.5,4.9,4.5,4.5,4.4,4.4,4.5,4.6,4.5,4.6,4.9,4.7,4.2,4.5,4.6,4.2,4.0,4.6,4.9,4.6,4.6,4.5,4.6,4.5,4.4,4.7,4.8,3.5,4.0,4.5,4.5,4.6,4.7,4.6,4.1,4.8,4.6,4.4,4.8,4.6,3.4,4.7,4.7,4.4,4.6,4.4,4.3,4.9,4.7,4.8,4.5,4.6,4.8,4.7,4.8,4.8,4.5,4.5,4.3,4.5,4.6,4.4,4.7,4.6,4.6,4.5,4.6,4.3,4.5,4.7,4.9,4.6,4.5,4.3,4.6,4.8,3.8,4.5,4.5,4.7,4.8,4.8,4.5,4.8,4.9,4.2,4.8,4.7,4.5,4.7,4.7,4.6,4.5,3.9,4.4,4.8,4.9,4.7,4.5,4.0,4.7,4.6,4.8,4.8,4.8,4.9,4.6,4.7,4.2,4.8,4.8,4.4,4.8,4.7,4.5,4.8,4.7,4.6,4.6,4.6,4.9,4.7,4.6,4.3,4.6,4.6,3.8,4.7,4.5,4.8,4.8,4.7,4.8,4.6,4.8,4.8,4.9,4.6,4.9,4.6,4.7,4.4,4.7,4.5,4.6,4.6,4.6,4.3,4.7,4.8,4.6,4.7,4.6,4.9,4.8,4.8,4.8,4.4,4.1,4.7,4.6,4.6,4.8,4.7,4.6,4.4,4.6,4.7,4.8,4.6,4.9,4.3,4.8,4.7,4.7,4.5,4.7,3.7,4.7,4.1,4.5,4.8,4.6,4.5,4.9,4.7,4.8,4.5,4.8,4.8,4.6,4.7,4.6,4.8,4.7,4.7,4.7,4.6,4.7,4.7,4.7,4.9,4.9,4.2,4.7,4.8,4.7,4.6,4.6,4.4,4.5,4.0,4.4,4.8,4.7,4.8,4.7,4.6,4.8,4.3,4.8,4.7,4.6,4.7,4.8,4.8,4.4,4.7,4.9,4.4,4.7,4.8,4.7,4.7,4.8,4.9,4.6,4.5,4.7,4.9,4.9,4.4,4.8,4.7,4.7,4.8,4.2,4.8,4.8,4.5,4.6,4.5,4.9,4.6,4.7,4.8,4.7,4.4,4.5,4.7,4.8,4.9,4.6,4.8,4.7,4.5,4.6,4.7,4.4,4.8,4.5,4.6,4.5,4.6,4.9,4.9,4.7,4.6,4.6,4.7,4.7,4.2,4.9,4.8,4.7,4.3,4.6,4.8,4.8,4.6,4.6,4.7,4.4,4.8,4.7,4.6,4.7,4.7,4.9,4.6,4.9,4.8,4.7,4.8,4.8,4.6,4.8,4.2,4.5,4.9,4.8,4.8,4.6,4.7,4.8,4.9,4.7,4.8,4.4,4.8,4.5,4.9,4.8,4.6,4.9,4.4,4.5,4.8,4.4,4.8,4.7,4.2,4.7,4.6,4.8,4.9,4.4,4.9,4.6,4.8,4.8,4.7,4.4,4.8,4.7,4.7,4.7,4.7,4.9,4.9,4.9,4.8,4.6,4.6,4.8,4.8,4.8,4.9,4.5,4.8,4.9,4.8,4.8,4.6,4.8,4.9,4.5,4.8,4.8,4.7,4.7,4.7,4.6,4.8,4.8,4.8,4.5,4.4,4.5,4.8,4.7,4.7,4.7,4.8,4.8,4.6,4.8],\"yaxis\":\"y\",\"type\":\"scatter\"},{\"hovertemplate\":\"<b>OLS trendline</b><br>rating = 0.00962804 * price + 4.59383<br>R<sup>2</sup>=0.029669<br><br>price=%{x}<br>rating=%{y} <b>(trend)</b><extra></extra>\",\"legendgroup\":\"\",\"marker\":{\"color\":\"#636efa\",\"symbol\":\"circle\"},\"mode\":\"lines\",\"name\":\"\",\"showlegend\":false,\"x\":[0.01,0.01,0.01,0.01,0.01,0.01,0.01,0.01,0.01,0.01,0.01,0.01,0.01,0.01,0.01,0.01,0.01,0.01,0.01,0.02,0.03,0.04,0.07,0.07,0.07,0.08,0.09,0.1,0.11,0.12,0.12,0.14,0.15,0.17,0.25,0.25,0.25,0.25,0.25,0.25,0.34,0.35,0.36,0.37,0.37,0.44,0.47,0.47,0.5,0.5,0.5,0.5,0.5,0.5,0.5,0.51,0.51,0.51,0.53,0.54,0.55,0.56,0.57,0.59,0.59,0.59,0.59,0.6,0.61,0.65,0.65,0.65,0.69,0.69,0.74,0.75,0.75,0.75,0.75,0.75,0.75,0.75,0.75,0.75,0.75,0.76,0.76,0.77,0.79,0.81,0.83,0.83,0.83,0.85,0.88,0.89,0.9,0.91,0.92,0.93,0.93,0.93,0.93,0.93,0.93,0.94,0.95,0.95,0.95,0.96,0.97,0.97,0.98,0.98,0.99,0.99,0.99,0.99,0.99,0.99,0.99,0.99,0.99,0.99,0.99,0.99,0.99,0.99,0.99,0.99,0.99,0.99,0.99,0.99,0.99,0.99,0.99,0.99,0.99,0.99,0.99,0.99,0.99,1.0,1.0,1.0,1.0,1.0,1.0,1.0,1.0,1.0,1.0,1.0,1.0,1.0,1.0,1.0,1.0,1.0,1.0,1.0,1.0,1.0,1.0,1.0,1.0,1.0,1.0,1.0,1.0,1.0,1.0,1.0,1.0,1.0,1.0,1.0,1.0,1.0,1.0,1.02,1.03,1.03,1.03,1.04,1.04,1.06,1.06,1.06,1.07,1.07,1.07,1.07,1.07,1.07,1.07,1.07,1.07,1.08,1.08,1.08,1.08,1.08,1.08,1.08,1.1,1.1,1.1,1.1,1.12,1.13,1.13,1.14,1.15,1.15,1.15,1.15,1.15,1.15,1.15,1.15,1.15,1.15,1.15,1.16,1.16,1.16,1.16,1.16,1.16,1.16,1.16,1.16,1.16,1.16,1.16,1.16,1.16,1.16,1.16,1.16,1.16,1.16,1.16,1.16,1.16,1.16,1.16,1.17,1.17,1.17,1.17,1.17,1.17,1.17,1.18,1.18,1.18,1.18,1.18,1.18,1.18,1.18,1.18,1.18,1.18,1.18,1.18,1.23,1.23,1.25,1.25,1.25,1.26,1.28,1.29,1.29,1.31,1.32,1.32,1.33,1.33,1.33,1.34,1.34,1.34,1.35,1.35,1.35,1.35,1.35,1.36,1.36,1.36,1.36,1.37,1.37,1.38,1.38,1.38,1.39,1.39,1.4,1.4,1.41,1.42,1.42,1.42,1.42,1.43,1.43,1.43,1.43,1.43,1.43,1.43,1.43,1.43,1.43,1.43,1.43,1.43,1.43,1.43,1.43,1.43,1.43,1.43,1.43,1.44,1.45,1.45,1.46,1.47,1.49,1.49,1.49,1.49,1.49,1.49,1.49,1.49,1.49,1.49,1.49,1.49,1.49,1.49,1.49,1.49,1.49,1.49,1.5,1.53,1.54,1.55,1.55,1.55,1.55,1.56,1.56,1.57,1.57,1.58,1.58,1.58,1.58,1.58,1.58,1.58,1.58,1.58,1.58,1.59,1.59,1.59,1.59,1.59,1.59,1.59,1.59,1.59,1.59,1.59,1.59,1.59,1.59,1.59,1.59,1.59,1.59,1.59,1.59,1.59,1.6,1.63,1.64,1.69,1.75,1.77,1.79,1.8,1.8,1.8,1.8,1.8,1.8,1.84,1.86,1.9,1.9,1.91,1.92,1.92,1.93,1.94,1.95,1.95,1.95,1.95,1.97,1.97,1.97,1.97,1.99,1.99,1.99,1.99,1.99,2.0,2.0,2.02,2.03,2.03,2.04,2.06,2.07,2.09,2.09,2.09,2.09,2.1,2.13,2.15,2.16,2.16,2.17,2.21,2.21,2.22,2.23,2.25,2.25,2.27,2.27,2.27,2.31,2.32,2.32,2.33,2.33,2.34,2.34,2.35,2.35,2.36,2.36,2.39,2.44,2.46,2.49,2.52,2.52,2.53,2.54,2.58,2.59,2.59,2.59,2.6,2.71,2.72,2.72,2.76,2.78,2.85,2.86,2.87,2.95,2.96,2.97,2.99,3.0,3.18,3.21,3.24,3.32,3.32,3.33,3.42,3.43,3.43,3.49,3.49,3.52,3.59,3.61,3.69,3.76,3.9,4.06,4.17,4.19,4.37,4.38,4.39,4.48,4.51,4.55,4.75,4.81,5.0,5.01,5.09,5.23,5.27,5.83,5.88,6.1,6.48,7.0,7.18,7.24,7.6,7.79,7.82,7.95,7.99,8.03,8.14,8.71,8.9,9.0,9.08,9.09,9.15,9.45,10.0,10.88,11.73,12.13,12.98,12.98,13.52,14.16,14.67,14.88,15.86,16.95,18.0,19.79,19.99,23.2,24.98,28.76,29.41,41.92],\"xaxis\":\"x\",\"y\":[4.593925397462211,4.593925397462211,4.593925397462211,4.593925397462211,4.593925397462211,4.593925397462211,4.593925397462211,4.593925397462211,4.593925397462211,4.593925397462211,4.593925397462211,4.593925397462211,4.593925397462211,4.593925397462211,4.593925397462211,4.593925397462211,4.593925397462211,4.593925397462211,4.593925397462211,4.594021677908451,4.594117958354691,4.594214238800932,4.594503080139653,4.594503080139653,4.594503080139653,4.594599360585892,4.594695641032133,4.5947919214783735,4.594888201924613,4.594984482370854,4.594984482370854,4.595177043263334,4.595273323709574,4.595465884602055,4.596236128171976,4.596236128171976,4.596236128171976,4.596236128171976,4.596236128171976,4.596236128171976,4.597102652188139,4.597198932634379,4.59729521308062,4.597391493526859,4.597391493526859,4.5980654566505414,4.598354297989262,4.598354297989262,4.598643139327983,4.598643139327983,4.598643139327983,4.598643139327983,4.598643139327983,4.598643139327983,4.598643139327983,4.5987394197742235,4.5987394197742235,4.5987394197742235,4.598931980666704,4.599028261112944,4.599124541559184,4.5992208220054245,4.599317102451665,4.599509663344145,4.599509663344145,4.599509663344145,4.599509663344145,4.599605943790386,4.5997022242366254,4.600087346021587,4.600087346021587,4.600087346021587,4.600472467806547,4.600472467806547,4.600953870037749,4.601050150483989,4.601050150483989,4.601050150483989,4.601050150483989,4.601050150483989,4.601050150483989,4.601050150483989,4.601050150483989,4.601050150483989,4.601050150483989,4.601146430930229,4.601146430930229,4.60124271137647,4.60143527226895,4.60162783316143,4.601820394053911,4.601820394053911,4.601820394053911,4.6020129549463915,4.602301796285112,4.602398076731353,4.6024943571775925,4.602590637623833,4.602686918070074,4.602783198516313,4.602783198516313,4.602783198516313,4.602783198516313,4.602783198516313,4.602783198516313,4.602879478962554,4.602975759408794,4.602975759408794,4.602975759408794,4.603072039855034,4.6031683203012745,4.6031683203012745,4.603264600747515,4.603264600747515,4.603360881193755,4.603360881193755,4.603360881193755,4.603360881193755,4.603360881193755,4.603360881193755,4.603360881193755,4.603360881193755,4.603360881193755,4.603360881193755,4.603360881193755,4.603360881193755,4.603360881193755,4.603360881193755,4.603360881193755,4.603360881193755,4.603360881193755,4.603360881193755,4.603360881193755,4.603360881193755,4.603360881193755,4.603360881193755,4.603360881193755,4.603360881193755,4.603360881193755,4.603360881193755,4.603360881193755,4.603360881193755,4.603360881193755,4.603457161639995,4.603457161639995,4.603457161639995,4.603457161639995,4.603457161639995,4.603457161639995,4.603457161639995,4.603457161639995,4.603457161639995,4.603457161639995,4.603457161639995,4.603457161639995,4.603457161639995,4.603457161639995,4.603457161639995,4.603457161639995,4.603457161639995,4.603457161639995,4.603457161639995,4.603457161639995,4.603457161639995,4.603457161639995,4.603457161639995,4.603457161639995,4.603457161639995,4.603457161639995,4.603457161639995,4.603457161639995,4.603457161639995,4.603457161639995,4.603457161639995,4.603457161639995,4.603457161639995,4.603457161639995,4.603457161639995,4.603457161639995,4.603457161639995,4.603457161639995,4.6036497225324755,4.603746002978716,4.603746002978716,4.603746002978716,4.603842283424957,4.603842283424957,4.604034844317437,4.604034844317437,4.604034844317437,4.6041311247636765,4.6041311247636765,4.6041311247636765,4.6041311247636765,4.6041311247636765,4.6041311247636765,4.6041311247636765,4.6041311247636765,4.6041311247636765,4.604227405209917,4.604227405209917,4.604227405209917,4.604227405209917,4.604227405209917,4.604227405209917,4.604227405209917,4.604419966102397,4.604419966102397,4.604419966102397,4.604419966102397,4.604612526994878,4.604708807441118,4.604708807441118,4.6048050878873585,4.604901368333599,4.604901368333599,4.604901368333599,4.604901368333599,4.604901368333599,4.604901368333599,4.604901368333599,4.604901368333599,4.604901368333599,4.604901368333599,4.604901368333599,4.604997648779839,4.604997648779839,4.604997648779839,4.604997648779839,4.604997648779839,4.604997648779839,4.604997648779839,4.604997648779839,4.604997648779839,4.604997648779839,4.604997648779839,4.604997648779839,4.604997648779839,4.604997648779839,4.604997648779839,4.604997648779839,4.604997648779839,4.604997648779839,4.604997648779839,4.604997648779839,4.604997648779839,4.604997648779839,4.604997648779839,4.604997648779839,4.605093929226079,4.605093929226079,4.605093929226079,4.605093929226079,4.605093929226079,4.605093929226079,4.605093929226079,4.60519020967232,4.60519020967232,4.60519020967232,4.60519020967232,4.60519020967232,4.60519020967232,4.60519020967232,4.60519020967232,4.60519020967232,4.60519020967232,4.60519020967232,4.60519020967232,4.60519020967232,4.605671611903521,4.605671611903521,4.605864172796001,4.605864172796001,4.605864172796001,4.605960453242242,4.606153014134722,4.606249294580962,4.606249294580962,4.6064418554734425,4.606538135919683,4.606538135919683,4.606634416365924,4.606634416365924,4.606634416365924,4.606730696812163,4.606730696812163,4.606730696812163,4.606826977258404,4.606826977258404,4.606826977258404,4.606826977258404,4.606826977258404,4.606923257704644,4.606923257704644,4.606923257704644,4.606923257704644,4.607019538150884,4.607019538150884,4.607115818597125,4.607115818597125,4.607115818597125,4.607212099043365,4.607212099043365,4.607308379489605,4.607308379489605,4.607404659935845,4.607500940382086,4.607500940382086,4.607500940382086,4.607500940382086,4.607597220828326,4.607597220828326,4.607597220828326,4.607597220828326,4.607597220828326,4.607597220828326,4.607597220828326,4.607597220828326,4.607597220828326,4.607597220828326,4.607597220828326,4.607597220828326,4.607597220828326,4.607597220828326,4.607597220828326,4.607597220828326,4.607597220828326,4.607597220828326,4.607597220828326,4.607597220828326,4.607693501274566,4.607789781720807,4.607789781720807,4.607886062167046,4.607982342613287,4.608174903505767,4.608174903505767,4.608174903505767,4.608174903505767,4.608174903505767,4.608174903505767,4.608174903505767,4.608174903505767,4.608174903505767,4.608174903505767,4.608174903505767,4.608174903505767,4.608174903505767,4.608174903505767,4.608174903505767,4.608174903505767,4.608174903505767,4.608174903505767,4.608271183952008,4.608560025290728,4.608656305736968,4.608752586183209,4.608752586183209,4.608752586183209,4.608752586183209,4.608848866629449,4.608848866629449,4.608945147075689,4.608945147075689,4.609041427521929,4.609041427521929,4.609041427521929,4.609041427521929,4.609041427521929,4.609041427521929,4.609041427521929,4.609041427521929,4.609041427521929,4.609041427521929,4.60913770796817,4.60913770796817,4.60913770796817,4.60913770796817,4.60913770796817,4.60913770796817,4.60913770796817,4.60913770796817,4.60913770796817,4.60913770796817,4.60913770796817,4.60913770796817,4.60913770796817,4.60913770796817,4.60913770796817,4.60913770796817,4.60913770796817,4.60913770796817,4.60913770796817,4.60913770796817,4.60913770796817,4.60923398841441,4.60952282975313,4.609619110199371,4.610100512430572,4.610678195108013,4.6108707560004945,4.611063316892975,4.611159597339215,4.611159597339215,4.611159597339215,4.611159597339215,4.611159597339215,4.611159597339215,4.611544719124176,4.611737280016657,4.612122401801617,4.612122401801617,4.612218682247858,4.612314962694097,4.612314962694097,4.612411243140338,4.6125075235865785,4.612603804032818,4.612603804032818,4.612603804032818,4.612603804032818,4.612796364925299,4.612796364925299,4.612796364925299,4.612796364925299,4.612988925817779,4.612988925817779,4.612988925817779,4.612988925817779,4.612988925817779,4.61308520626402,4.61308520626402,4.6132777671565,4.613374047602741,4.613374047602741,4.61347032804898,4.6136628889414615,4.613759169387701,4.613951730280182,4.613951730280182,4.613951730280182,4.613951730280182,4.614048010726422,4.614336852065143,4.614529412957624,4.614625693403863,4.614625693403863,4.614721973850104,4.615107095635065,4.615107095635065,4.615203376081305,4.6152996565275455,4.615492217420026,4.615492217420026,4.615684778312507,4.615684778312507,4.615684778312507,4.616069900097467,4.616166180543708,4.616166180543708,4.616262460989947,4.616262460989947,4.616358741436188,4.616358741436188,4.6164550218824285,4.6164550218824285,4.616551302328668,4.616551302328668,4.616840143667389,4.617321545898591,4.617514106791071,4.617802948129792,4.6180917894685125,4.6180917894685125,4.618188069914753,4.618284350360993,4.618669472145954,4.618765752592195,4.618765752592195,4.618765752592195,4.618862033038434,4.619921117947078,4.620017398393317,4.620017398393317,4.620402520178279,4.620595081070759,4.621269044194441,4.6213653246406805,4.621461605086921,4.622231848656843,4.622328129103083,4.622424409549324,4.622616970441804,4.622713250888045,4.624446298920368,4.624735140259089,4.62502398159781,4.625794225167732,4.625794225167732,4.625890505613972,4.626757029630134,4.626853310076375,4.626853310076375,4.627430992753816,4.627430992753816,4.627719834092537,4.628393797216219,4.6285863581086995,4.629356601678621,4.630030564802303,4.6313784910496665,4.63291897818951,4.633978063098153,4.6341706239906335,4.635903672022958,4.635999952469199,4.636096232915438,4.6369627569316005,4.637251598270321,4.637636720055283,4.639562328980087,4.640140011657529,4.641969340136093,4.642065620582334,4.642835864152255,4.6441837903996195,4.64456891218458,4.649960617174034,4.650442019405235,4.652560189222521,4.65621884617965,4.661225429384142,4.662958477416467,4.6635361600939085,4.667002256158558,4.668831584637122,4.6691204259758425,4.670372071776966,4.6707571935619265,4.671142315346888,4.67220140025553,4.677689385691225,4.679518714169789,4.680481518632192,4.6812517622021135,4.681348042648354,4.6819257253257955,4.684814138713003,4.690109563256216,4.698582242525358,4.706766080455779,4.7106172983053884,4.718801136235809,4.718801136235809,4.724000280332783,4.7301622288921585,4.7350725316504105,4.737094421021456,4.746529904753,4.757024473393187,4.767133920248413,4.784368120125417,4.786293729050222,4.81719975229334,4.8343376717241044,4.870731680402917,4.8769899094085325,4.9974367476550805],\"yaxis\":\"y\",\"type\":\"scatter\"}],                        {\"template\":{\"data\":{\"histogram2dcontour\":[{\"type\":\"histogram2dcontour\",\"colorbar\":{\"outlinewidth\":0,\"ticks\":\"\"},\"colorscale\":[[0.0,\"#0d0887\"],[0.1111111111111111,\"#46039f\"],[0.2222222222222222,\"#7201a8\"],[0.3333333333333333,\"#9c179e\"],[0.4444444444444444,\"#bd3786\"],[0.5555555555555556,\"#d8576b\"],[0.6666666666666666,\"#ed7953\"],[0.7777777777777778,\"#fb9f3a\"],[0.8888888888888888,\"#fdca26\"],[1.0,\"#f0f921\"]]}],\"choropleth\":[{\"type\":\"choropleth\",\"colorbar\":{\"outlinewidth\":0,\"ticks\":\"\"}}],\"histogram2d\":[{\"type\":\"histogram2d\",\"colorbar\":{\"outlinewidth\":0,\"ticks\":\"\"},\"colorscale\":[[0.0,\"#0d0887\"],[0.1111111111111111,\"#46039f\"],[0.2222222222222222,\"#7201a8\"],[0.3333333333333333,\"#9c179e\"],[0.4444444444444444,\"#bd3786\"],[0.5555555555555556,\"#d8576b\"],[0.6666666666666666,\"#ed7953\"],[0.7777777777777778,\"#fb9f3a\"],[0.8888888888888888,\"#fdca26\"],[1.0,\"#f0f921\"]]}],\"heatmap\":[{\"type\":\"heatmap\",\"colorbar\":{\"outlinewidth\":0,\"ticks\":\"\"},\"colorscale\":[[0.0,\"#0d0887\"],[0.1111111111111111,\"#46039f\"],[0.2222222222222222,\"#7201a8\"],[0.3333333333333333,\"#9c179e\"],[0.4444444444444444,\"#bd3786\"],[0.5555555555555556,\"#d8576b\"],[0.6666666666666666,\"#ed7953\"],[0.7777777777777778,\"#fb9f3a\"],[0.8888888888888888,\"#fdca26\"],[1.0,\"#f0f921\"]]}],\"heatmapgl\":[{\"type\":\"heatmapgl\",\"colorbar\":{\"outlinewidth\":0,\"ticks\":\"\"},\"colorscale\":[[0.0,\"#0d0887\"],[0.1111111111111111,\"#46039f\"],[0.2222222222222222,\"#7201a8\"],[0.3333333333333333,\"#9c179e\"],[0.4444444444444444,\"#bd3786\"],[0.5555555555555556,\"#d8576b\"],[0.6666666666666666,\"#ed7953\"],[0.7777777777777778,\"#fb9f3a\"],[0.8888888888888888,\"#fdca26\"],[1.0,\"#f0f921\"]]}],\"contourcarpet\":[{\"type\":\"contourcarpet\",\"colorbar\":{\"outlinewidth\":0,\"ticks\":\"\"}}],\"contour\":[{\"type\":\"contour\",\"colorbar\":{\"outlinewidth\":0,\"ticks\":\"\"},\"colorscale\":[[0.0,\"#0d0887\"],[0.1111111111111111,\"#46039f\"],[0.2222222222222222,\"#7201a8\"],[0.3333333333333333,\"#9c179e\"],[0.4444444444444444,\"#bd3786\"],[0.5555555555555556,\"#d8576b\"],[0.6666666666666666,\"#ed7953\"],[0.7777777777777778,\"#fb9f3a\"],[0.8888888888888888,\"#fdca26\"],[1.0,\"#f0f921\"]]}],\"surface\":[{\"type\":\"surface\",\"colorbar\":{\"outlinewidth\":0,\"ticks\":\"\"},\"colorscale\":[[0.0,\"#0d0887\"],[0.1111111111111111,\"#46039f\"],[0.2222222222222222,\"#7201a8\"],[0.3333333333333333,\"#9c179e\"],[0.4444444444444444,\"#bd3786\"],[0.5555555555555556,\"#d8576b\"],[0.6666666666666666,\"#ed7953\"],[0.7777777777777778,\"#fb9f3a\"],[0.8888888888888888,\"#fdca26\"],[1.0,\"#f0f921\"]]}],\"mesh3d\":[{\"type\":\"mesh3d\",\"colorbar\":{\"outlinewidth\":0,\"ticks\":\"\"}}],\"scatter\":[{\"fillpattern\":{\"fillmode\":\"overlay\",\"size\":10,\"solidity\":0.2},\"type\":\"scatter\"}],\"parcoords\":[{\"type\":\"parcoords\",\"line\":{\"colorbar\":{\"outlinewidth\":0,\"ticks\":\"\"}}}],\"scatterpolargl\":[{\"type\":\"scatterpolargl\",\"marker\":{\"colorbar\":{\"outlinewidth\":0,\"ticks\":\"\"}}}],\"bar\":[{\"error_x\":{\"color\":\"#2a3f5f\"},\"error_y\":{\"color\":\"#2a3f5f\"},\"marker\":{\"line\":{\"color\":\"#E5ECF6\",\"width\":0.5},\"pattern\":{\"fillmode\":\"overlay\",\"size\":10,\"solidity\":0.2}},\"type\":\"bar\"}],\"scattergeo\":[{\"type\":\"scattergeo\",\"marker\":{\"colorbar\":{\"outlinewidth\":0,\"ticks\":\"\"}}}],\"scatterpolar\":[{\"type\":\"scatterpolar\",\"marker\":{\"colorbar\":{\"outlinewidth\":0,\"ticks\":\"\"}}}],\"histogram\":[{\"marker\":{\"pattern\":{\"fillmode\":\"overlay\",\"size\":10,\"solidity\":0.2}},\"type\":\"histogram\"}],\"scattergl\":[{\"type\":\"scattergl\",\"marker\":{\"colorbar\":{\"outlinewidth\":0,\"ticks\":\"\"}}}],\"scatter3d\":[{\"type\":\"scatter3d\",\"line\":{\"colorbar\":{\"outlinewidth\":0,\"ticks\":\"\"}},\"marker\":{\"colorbar\":{\"outlinewidth\":0,\"ticks\":\"\"}}}],\"scattermapbox\":[{\"type\":\"scattermapbox\",\"marker\":{\"colorbar\":{\"outlinewidth\":0,\"ticks\":\"\"}}}],\"scatterternary\":[{\"type\":\"scatterternary\",\"marker\":{\"colorbar\":{\"outlinewidth\":0,\"ticks\":\"\"}}}],\"scattercarpet\":[{\"type\":\"scattercarpet\",\"marker\":{\"colorbar\":{\"outlinewidth\":0,\"ticks\":\"\"}}}],\"carpet\":[{\"aaxis\":{\"endlinecolor\":\"#2a3f5f\",\"gridcolor\":\"white\",\"linecolor\":\"white\",\"minorgridcolor\":\"white\",\"startlinecolor\":\"#2a3f5f\"},\"baxis\":{\"endlinecolor\":\"#2a3f5f\",\"gridcolor\":\"white\",\"linecolor\":\"white\",\"minorgridcolor\":\"white\",\"startlinecolor\":\"#2a3f5f\"},\"type\":\"carpet\"}],\"table\":[{\"cells\":{\"fill\":{\"color\":\"#EBF0F8\"},\"line\":{\"color\":\"white\"}},\"header\":{\"fill\":{\"color\":\"#C8D4E3\"},\"line\":{\"color\":\"white\"}},\"type\":\"table\"}],\"barpolar\":[{\"marker\":{\"line\":{\"color\":\"#E5ECF6\",\"width\":0.5},\"pattern\":{\"fillmode\":\"overlay\",\"size\":10,\"solidity\":0.2}},\"type\":\"barpolar\"}],\"pie\":[{\"automargin\":true,\"type\":\"pie\"}]},\"layout\":{\"autotypenumbers\":\"strict\",\"colorway\":[\"#636efa\",\"#EF553B\",\"#00cc96\",\"#ab63fa\",\"#FFA15A\",\"#19d3f3\",\"#FF6692\",\"#B6E880\",\"#FF97FF\",\"#FECB52\"],\"font\":{\"color\":\"#2a3f5f\"},\"hovermode\":\"closest\",\"hoverlabel\":{\"align\":\"left\"},\"paper_bgcolor\":\"white\",\"plot_bgcolor\":\"#E5ECF6\",\"polar\":{\"bgcolor\":\"#E5ECF6\",\"angularaxis\":{\"gridcolor\":\"white\",\"linecolor\":\"white\",\"ticks\":\"\"},\"radialaxis\":{\"gridcolor\":\"white\",\"linecolor\":\"white\",\"ticks\":\"\"}},\"ternary\":{\"bgcolor\":\"#E5ECF6\",\"aaxis\":{\"gridcolor\":\"white\",\"linecolor\":\"white\",\"ticks\":\"\"},\"baxis\":{\"gridcolor\":\"white\",\"linecolor\":\"white\",\"ticks\":\"\"},\"caxis\":{\"gridcolor\":\"white\",\"linecolor\":\"white\",\"ticks\":\"\"}},\"coloraxis\":{\"colorbar\":{\"outlinewidth\":0,\"ticks\":\"\"}},\"colorscale\":{\"sequential\":[[0.0,\"#0d0887\"],[0.1111111111111111,\"#46039f\"],[0.2222222222222222,\"#7201a8\"],[0.3333333333333333,\"#9c179e\"],[0.4444444444444444,\"#bd3786\"],[0.5555555555555556,\"#d8576b\"],[0.6666666666666666,\"#ed7953\"],[0.7777777777777778,\"#fb9f3a\"],[0.8888888888888888,\"#fdca26\"],[1.0,\"#f0f921\"]],\"sequentialminus\":[[0.0,\"#0d0887\"],[0.1111111111111111,\"#46039f\"],[0.2222222222222222,\"#7201a8\"],[0.3333333333333333,\"#9c179e\"],[0.4444444444444444,\"#bd3786\"],[0.5555555555555556,\"#d8576b\"],[0.6666666666666666,\"#ed7953\"],[0.7777777777777778,\"#fb9f3a\"],[0.8888888888888888,\"#fdca26\"],[1.0,\"#f0f921\"]],\"diverging\":[[0,\"#8e0152\"],[0.1,\"#c51b7d\"],[0.2,\"#de77ae\"],[0.3,\"#f1b6da\"],[0.4,\"#fde0ef\"],[0.5,\"#f7f7f7\"],[0.6,\"#e6f5d0\"],[0.7,\"#b8e186\"],[0.8,\"#7fbc41\"],[0.9,\"#4d9221\"],[1,\"#276419\"]]},\"xaxis\":{\"gridcolor\":\"white\",\"linecolor\":\"white\",\"ticks\":\"\",\"title\":{\"standoff\":15},\"zerolinecolor\":\"white\",\"automargin\":true,\"zerolinewidth\":2},\"yaxis\":{\"gridcolor\":\"white\",\"linecolor\":\"white\",\"ticks\":\"\",\"title\":{\"standoff\":15},\"zerolinecolor\":\"white\",\"automargin\":true,\"zerolinewidth\":2},\"scene\":{\"xaxis\":{\"backgroundcolor\":\"#E5ECF6\",\"gridcolor\":\"white\",\"linecolor\":\"white\",\"showbackground\":true,\"ticks\":\"\",\"zerolinecolor\":\"white\",\"gridwidth\":2},\"yaxis\":{\"backgroundcolor\":\"#E5ECF6\",\"gridcolor\":\"white\",\"linecolor\":\"white\",\"showbackground\":true,\"ticks\":\"\",\"zerolinecolor\":\"white\",\"gridwidth\":2},\"zaxis\":{\"backgroundcolor\":\"#E5ECF6\",\"gridcolor\":\"white\",\"linecolor\":\"white\",\"showbackground\":true,\"ticks\":\"\",\"zerolinecolor\":\"white\",\"gridwidth\":2}},\"shapedefaults\":{\"line\":{\"color\":\"#2a3f5f\"}},\"annotationdefaults\":{\"arrowcolor\":\"#2a3f5f\",\"arrowhead\":0,\"arrowwidth\":1},\"geo\":{\"bgcolor\":\"white\",\"landcolor\":\"#E5ECF6\",\"subunitcolor\":\"white\",\"showland\":true,\"showlakes\":true,\"lakecolor\":\"white\"},\"title\":{\"x\":0.05},\"mapbox\":{\"style\":\"light\"}}},\"xaxis\":{\"anchor\":\"y\",\"domain\":[0.0,1.0],\"title\":{\"text\":\"price\"}},\"yaxis\":{\"anchor\":\"x\",\"domain\":[0.0,1.0],\"title\":{\"text\":\"rating\"}},\"legend\":{\"tracegroupgap\":0},\"margin\":{\"t\":60}},                        {\"responsive\": true}                    ).then(function(){\n",
       "                            \n",
       "var gd = document.getElementById('6e0a538e-3bc8-49bd-968f-25dcfbdc27b2');\n",
       "var x = new MutationObserver(function (mutations, observer) {{\n",
       "        var display = window.getComputedStyle(gd).display;\n",
       "        if (!display || display === 'none') {{\n",
       "            console.log([gd, 'removed!']);\n",
       "            Plotly.purge(gd);\n",
       "            observer.disconnect();\n",
       "        }}\n",
       "}});\n",
       "\n",
       "// Listen for the removal of the full notebook cells\n",
       "var notebookContainer = gd.closest('#notebook-container');\n",
       "if (notebookContainer) {{\n",
       "    x.observe(notebookContainer, {childList: true});\n",
       "}}\n",
       "\n",
       "// Listen for the clearing of the current output cell\n",
       "var outputEl = gd.closest('.output');\n",
       "if (outputEl) {{\n",
       "    x.observe(outputEl, {childList: true});\n",
       "}}\n",
       "\n",
       "                        })                };                });            </script>        </div>"
      ]
     },
     "metadata": {},
     "output_type": "display_data"
    }
   ],
   "source": [
    "fig = px.scatter(df, x=\"price\", y=\"rating\", trendline=\"ols\")\n",
    "fig.show()"
   ]
  },
  {
   "cell_type": "code",
   "execution_count": 28,
   "metadata": {},
   "outputs": [
    {
     "data": {
      "application/vnd.plotly.v1+json": {
       "config": {
        "plotlyServerURL": "https://plot.ly"
       },
       "data": [
        {
         "hovertemplate": "price=%{x}<br>review=%{y}<extra></extra>",
         "legendgroup": "",
         "marker": {
          "color": "#636efa",
          "symbol": "circle"
         },
         "mode": "markers",
         "name": "",
         "orientation": "v",
         "showlegend": false,
         "type": "scatter",
         "x": [
          0.92,
          0.55,
          1.07,
          0.12,
          0.01,
          0.01,
          0.14,
          0.99,
          13.52,
          0.6,
          0.99,
          1,
          0.69,
          0.77,
          0.15,
          1.07,
          0.47,
          0.99,
          0.99,
          0.99,
          1.43,
          9.15,
          5,
          0.1,
          0.37,
          1.18,
          0.01,
          1.33,
          0.01,
          1.18,
          3.59,
          0.01,
          1.4,
          1.42,
          0.12,
          0.25,
          1,
          0.97,
          1.43,
          9.09,
          0.01,
          0.57,
          0.75,
          0.75,
          1.15,
          0.01,
          1.59,
          0.65,
          1,
          1,
          1,
          0.83,
          2.09,
          1.42,
          1,
          0.75,
          0.76,
          0.25,
          1.18,
          1,
          0.83,
          1,
          1.49,
          2.15,
          3.49,
          0.5,
          1.44,
          1.99,
          1.16,
          3.21,
          1.79,
          0.51,
          0.65,
          0.99,
          2.21,
          1.59,
          1,
          1,
          0.75,
          1.16,
          1.25,
          1.35,
          0.65,
          2.35,
          0.51,
          0.99,
          1.59,
          0.75,
          0.99,
          0.01,
          0.99,
          0.11,
          0.47,
          1.17,
          2.59,
          1,
          0.93,
          0.25,
          0.99,
          1.15,
          1.15,
          1.17,
          0.25,
          0.53,
          1.43,
          1.84,
          1.16,
          1.23,
          0.99,
          2.35,
          0.99,
          1.43,
          2.71,
          1.31,
          0.07,
          0.99,
          1.43,
          1.42,
          2.46,
          0.56,
          2.86,
          3.32,
          1,
          1.56,
          1.43,
          1.58,
          1.99,
          0.01,
          1.08,
          2.21,
          0.25,
          0.99,
          0.25,
          0.99,
          3.76,
          1.59,
          1.53,
          1.59,
          1.43,
          1.07,
          0.99,
          1,
          1.18,
          1.59,
          1.39,
          2.52,
          1.86,
          23.2,
          1.14,
          4.51,
          0.99,
          1.46,
          1.94,
          0.75,
          1,
          1.99,
          1.43,
          0.36,
          0.91,
          0.34,
          2.59,
          1.38,
          9,
          1,
          2.32,
          0.59,
          0.5,
          4.37,
          4.17,
          0.51,
          3,
          1.34,
          0.08,
          2.06,
          1.07,
          1.43,
          1.18,
          1,
          1.18,
          1.08,
          2,
          2.02,
          2.36,
          1.25,
          2.1,
          0.01,
          7.6,
          1.17,
          0.01,
          1,
          14.67,
          1.36,
          0.94,
          1,
          19.99,
          1.55,
          1.49,
          2.97,
          7.99,
          28.76,
          1.16,
          0.54,
          1.15,
          2.13,
          1.28,
          2.34,
          2.23,
          2.27,
          0.99,
          0.5,
          0.01,
          0.03,
          3.69,
          1,
          1.04,
          1.43,
          1.43,
          0.17,
          0.93,
          5.83,
          8.14,
          1.16,
          1.18,
          3.18,
          1.18,
          4.48,
          1,
          1.43,
          1.18,
          1.16,
          1.16,
          1.8,
          1,
          1.99,
          5.23,
          0.01,
          7.18,
          1.49,
          1.49,
          1.16,
          4.55,
          1.16,
          1.29,
          2.72,
          1.77,
          1.59,
          1.9,
          1.08,
          1.43,
          0.02,
          1.49,
          1.97,
          1.03,
          3.32,
          1.49,
          1.56,
          7.79,
          1.95,
          1.41,
          2.25,
          0.99,
          4.06,
          2.96,
          0.99,
          1.02,
          1.36,
          1.16,
          1.58,
          0.5,
          1.34,
          41.92,
          0.01,
          0.79,
          1.06,
          0.01,
          0.99,
          1.59,
          12.13,
          2.39,
          0.9,
          2.27,
          1.37,
          1.58,
          1.93,
          1.8,
          1.08,
          1.15,
          0.99,
          0.99,
          1.55,
          0.95,
          1.12,
          1.8,
          1.49,
          1,
          0.93,
          3.9,
          10,
          1.43,
          0.5,
          1.35,
          0.61,
          1.49,
          1,
          1.43,
          1.16,
          1.9,
          0.89,
          0.35,
          1.43,
          0.99,
          1.1,
          4.81,
          1,
          1.45,
          0.98,
          1.49,
          1.58,
          1.33,
          1.16,
          4.39,
          1,
          0.97,
          14.16,
          3.52,
          0.04,
          0.93,
          2.44,
          1,
          0.85,
          12.98,
          1.18,
          3.49,
          1.59,
          1,
          1.15,
          1.03,
          29.41,
          1.59,
          0.95,
          1.58,
          1.23,
          1.1,
          1.18,
          5.27,
          2.04,
          0.75,
          0.99,
          2.22,
          1.49,
          2.09,
          0.69,
          1.59,
          0.95,
          1.1,
          1.55,
          1.06,
          1.92,
          0.09,
          1.8,
          0.5,
          1.17,
          1,
          1.16,
          1.1,
          1.59,
          1.58,
          1.64,
          1.45,
          1.06,
          1.38,
          1.16,
          1,
          2.09,
          3.43,
          2.03,
          1.08,
          1.97,
          1,
          0.83,
          1.95,
          1.59,
          1,
          1.59,
          1.18,
          0.44,
          1.49,
          1.18,
          4.75,
          1.97,
          1.17,
          1,
          1.07,
          1.37,
          1.07,
          4.38,
          0.96,
          1.07,
          0.98,
          1.49,
          0.75,
          0.76,
          6.1,
          3.24,
          6.48,
          0.59,
          0.81,
          0.75,
          1.36,
          2.6,
          2.95,
          2.72,
          1.03,
          2.25,
          1.8,
          1.17,
          1.49,
          2.09,
          0.37,
          2.03,
          1.07,
          1.69,
          1.26,
          1.16,
          2.87,
          1.43,
          0.99,
          0.75,
          1.17,
          1.49,
          0.5,
          2.58,
          1,
          19.79,
          0.07,
          2.99,
          1.07,
          1.16,
          0.93,
          1.43,
          1.43,
          0.59,
          16.95,
          7.82,
          1.16,
          2.07,
          1.36,
          0.88,
          2.76,
          1,
          1.49,
          1.4,
          2.49,
          0.93,
          2.17,
          1,
          4.19,
          1.08,
          0.99,
          2.16,
          1.58,
          1.16,
          1.57,
          0.74,
          1.39,
          1.91,
          1.47,
          1.15,
          1.99,
          5.09,
          9.45,
          12.98,
          10.88,
          2.36,
          1.54,
          1.08,
          3.42,
          3.43,
          1.8,
          1.59,
          1.16,
          11.73,
          1.15,
          1.35,
          1.49,
          0.01,
          0.01,
          1.29,
          0.01,
          0.01,
          1,
          8.03,
          7.24,
          1.13,
          0.59,
          0.99,
          1.16,
          1.15,
          7,
          0.07,
          1.92,
          1.49,
          1.16,
          15.86,
          1.16,
          1.43,
          1.97,
          1.57,
          1.49,
          1.04,
          1.15,
          1.59,
          1,
          8.9,
          2.78,
          2.33,
          18,
          1.58,
          24.98,
          2.52,
          9.08,
          1.25,
          1.75,
          1.58,
          1.16,
          2,
          2.85,
          2.59,
          1.59,
          1.42,
          1.6,
          1.35,
          5.01,
          1.13,
          1.34,
          1.58,
          1,
          1.33,
          1.32,
          1.59,
          1.32,
          14.88,
          1.59,
          7.95,
          1.15,
          1.35,
          1.59,
          3.33,
          2.27,
          2.16,
          1.16,
          1.95,
          2.54,
          2.32,
          1.63,
          1.5,
          8.71,
          2.31,
          5.88,
          0.99,
          1.55,
          2.53,
          1.38,
          2.34,
          2.33,
          1.59,
          3.61,
          1.95
         ],
         "xaxis": "x",
         "y": [
          16769,
          23634,
          5063,
          17355,
          1570,
          7182,
          18451,
          12831,
          6403,
          22949,
          13200,
          22929,
          1422,
          3520,
          3388,
          7132,
          8317,
          9299,
          15342,
          945,
          901,
          7883,
          998,
          6910,
          12782,
          512,
          15949,
          2597,
          6018,
          13200,
          32910,
          6644,
          12474,
          2901,
          1161,
          2427,
          5933,
          1932,
          15818,
          3610,
          3538,
          11010,
          6095,
          867,
          8025,
          5015,
          9256,
          2083,
          898,
          902,
          12365,
          766,
          5546,
          35325,
          2584,
          3741,
          9870,
          941,
          4605,
          1096,
          8900,
          17727,
          7795,
          17530,
          7024,
          7692,
          2974,
          267,
          4745,
          83383,
          1534,
          3547,
          4883,
          2189,
          11842,
          44102,
          437,
          1497,
          966,
          1892,
          784,
          2222,
          4383,
          2202,
          319,
          3827,
          2192,
          3802,
          11409,
          2418,
          11012,
          11051,
          38081,
          2000,
          613,
          6637,
          2577,
          33917,
          3410,
          1800,
          6293,
          4826,
          7013,
          586,
          1363,
          17262,
          12270,
          863,
          33507,
          2491,
          8611,
          3319,
          579,
          4015,
          16782,
          4888,
          529,
          5320,
          1305,
          1925,
          1427,
          623,
          1711,
          1628,
          2798,
          2798,
          19447,
          8777,
          8777,
          89,
          1050,
          1821,
          1083,
          14787,
          19550,
          3528,
          3607,
          2870,
          1324,
          32149,
          674,
          4102,
          11162,
          870,
          1592,
          1556,
          19781,
          1251,
          6490,
          6700,
          2380,
          737,
          32295,
          5342,
          8915,
          6438,
          13314,
          17472,
          11609,
          44113,
          9276,
          20696,
          6405,
          3121,
          17796,
          12229,
          10931,
          3232,
          25596,
          8305,
          7934,
          6316,
          8476,
          10108,
          4544,
          3943,
          3684,
          12201,
          2204,
          9195,
          677,
          1767,
          1818,
          13408,
          6201,
          10683,
          4889,
          1817,
          17596,
          2408,
          1819,
          44130,
          1009,
          6530,
          887,
          495,
          4209,
          5097,
          5895,
          95850,
          4828,
          12421,
          9930,
          9193,
          2866,
          1162,
          3904,
          2718,
          772,
          60774,
          33674,
          32691,
          38942,
          12955,
          9775,
          67856,
          14567,
          10620,
          17167,
          2415,
          31098,
          11133,
          19239,
          23506,
          8676,
          20823,
          27301,
          2537,
          20909,
          62949,
          5096,
          24108,
          18895,
          4729,
          1870,
          29938,
          7855,
          1969,
          11045,
          608,
          895,
          19535,
          15393,
          90035,
          9369,
          1316,
          10075,
          13085,
          3922,
          4489,
          10044,
          12217,
          8290,
          2861,
          6019,
          2058,
          36665,
          51,
          4904,
          13289,
          33507,
          14192,
          1540,
          8383,
          12907,
          9395,
          36078,
          15868,
          7796,
          13147,
          12619,
          9820,
          10924,
          7426,
          24812,
          17729,
          5438,
          9879,
          24306,
          5765,
          43697,
          6586,
          37445,
          4990,
          20682,
          4817,
          56790,
          19127,
          30486,
          29387,
          3835,
          4065,
          7131,
          20328,
          2036,
          1428,
          5266,
          1490,
          7880,
          17345,
          10158,
          55416,
          24987,
          4430,
          11266,
          21827,
          2653,
          1004,
          8949,
          10075,
          7376,
          13604,
          19737,
          15883,
          4900,
          71999,
          17334,
          5060,
          1093,
          1959,
          2287,
          36068,
          10095,
          34877,
          4664,
          25487,
          22417,
          69786,
          5614,
          2734,
          1427,
          1138,
          3093,
          6428,
          4535,
          27208,
          16365,
          8186,
          808,
          29029,
          20017,
          33003,
          281,
          25180,
          8362,
          36727,
          10427,
          6337,
          75873,
          31831,
          11001,
          25943,
          11913,
          28617,
          855,
          26555,
          28497,
          15225,
          18929,
          8194,
          92514,
          4302,
          14834,
          3950,
          3163,
          5133,
          52752,
          31819,
          38254,
          5165,
          74075,
          2278,
          5254,
          14498,
          20108,
          20316,
          10957,
          8098,
          2632,
          13286,
          8198,
          33217,
          34739,
          5515,
          3127,
          7774,
          16480,
          13107,
          3966,
          11299,
          3775,
          2978,
          8445,
          3121,
          13114,
          99533,
          5906,
          1818,
          1864,
          13899,
          44544,
          14635,
          31257,
          15394,
          62478,
          11496,
          10195,
          29957,
          9502,
          13318,
          1099,
          90035,
          16365,
          5673,
          9299,
          36665,
          26482,
          14498,
          12783,
          20316,
          49005,
          10367,
          45304,
          71267,
          2464,
          10372,
          13313,
          7708,
          9685,
          11873,
          13408,
          13111,
          21854,
          9276,
          1231,
          8167,
          7179,
          7342,
          12728,
          1581,
          6666,
          5151,
          47731,
          85729,
          17841,
          21455,
          62987,
          6956,
          31108,
          37592,
          17613,
          3134,
          52508,
          13984,
          6828,
          24211,
          14492,
          9568,
          32850,
          2813,
          2522,
          29015,
          16011,
          28283,
          3287,
          20724,
          24243,
          11874,
          4874,
          8843,
          836,
          68710,
          36884,
          14574,
          9234,
          7166,
          26984,
          17686,
          68266,
          17704,
          15263,
          22608,
          7353,
          3883,
          11873,
          124513,
          27481,
          76518,
          17415,
          10449,
          15090,
          61351,
          33266,
          9985,
          8378,
          21075,
          16231,
          72382,
          11200,
          11768,
          25356,
          20780,
          16336,
          21236,
          13087,
          18867,
          13367,
          58130,
          7777,
          7525,
          6686,
          42359,
          22461,
          11266,
          26333,
          376112,
          24139,
          39021,
          23534,
          9583,
          27207,
          4780,
          25546,
          16037,
          14143,
          4866,
          53826,
          48440,
          24628,
          24247,
          28555,
          18886,
          68906,
          14355,
          29762,
          22695,
          17578,
          32730,
          9320,
          8016,
          12475,
          25631,
          18354,
          59903,
          28196,
          20582,
          16502,
          147155,
          19624,
          13202,
          24092,
          79451,
          35234,
          31800,
          21130,
          50259,
          93032,
          16012,
          17156,
          61718,
          22214,
          10764,
          57604,
          10963,
          20218,
          8569,
          26403,
          20072
         ],
         "yaxis": "y"
        },
        {
         "hovertemplate": "<b>OLS trendline</b><br>review = 642.989 * price + 15456.1<br>R<sup>2</sup>=0.009657<br><br>price=%{x}<br>review=%{y} <b>(trend)</b><extra></extra>",
         "legendgroup": "",
         "marker": {
          "color": "#636efa",
          "symbol": "circle"
         },
         "mode": "lines",
         "name": "",
         "showlegend": false,
         "type": "scatter",
         "x": [
          0.01,
          0.01,
          0.01,
          0.01,
          0.01,
          0.01,
          0.01,
          0.01,
          0.01,
          0.01,
          0.01,
          0.01,
          0.01,
          0.01,
          0.01,
          0.01,
          0.01,
          0.01,
          0.01,
          0.02,
          0.03,
          0.04,
          0.07,
          0.07,
          0.07,
          0.08,
          0.09,
          0.1,
          0.11,
          0.12,
          0.12,
          0.14,
          0.15,
          0.17,
          0.25,
          0.25,
          0.25,
          0.25,
          0.25,
          0.25,
          0.34,
          0.35,
          0.36,
          0.37,
          0.37,
          0.44,
          0.47,
          0.47,
          0.5,
          0.5,
          0.5,
          0.5,
          0.5,
          0.5,
          0.5,
          0.51,
          0.51,
          0.51,
          0.53,
          0.54,
          0.55,
          0.56,
          0.57,
          0.59,
          0.59,
          0.59,
          0.59,
          0.6,
          0.61,
          0.65,
          0.65,
          0.65,
          0.69,
          0.69,
          0.74,
          0.75,
          0.75,
          0.75,
          0.75,
          0.75,
          0.75,
          0.75,
          0.75,
          0.75,
          0.75,
          0.76,
          0.76,
          0.77,
          0.79,
          0.81,
          0.83,
          0.83,
          0.83,
          0.85,
          0.88,
          0.89,
          0.9,
          0.91,
          0.92,
          0.93,
          0.93,
          0.93,
          0.93,
          0.93,
          0.93,
          0.94,
          0.95,
          0.95,
          0.95,
          0.96,
          0.97,
          0.97,
          0.98,
          0.98,
          0.99,
          0.99,
          0.99,
          0.99,
          0.99,
          0.99,
          0.99,
          0.99,
          0.99,
          0.99,
          0.99,
          0.99,
          0.99,
          0.99,
          0.99,
          0.99,
          0.99,
          0.99,
          0.99,
          0.99,
          0.99,
          0.99,
          0.99,
          0.99,
          0.99,
          0.99,
          0.99,
          0.99,
          0.99,
          1,
          1,
          1,
          1,
          1,
          1,
          1,
          1,
          1,
          1,
          1,
          1,
          1,
          1,
          1,
          1,
          1,
          1,
          1,
          1,
          1,
          1,
          1,
          1,
          1,
          1,
          1,
          1,
          1,
          1,
          1,
          1,
          1,
          1,
          1,
          1,
          1,
          1,
          1.02,
          1.03,
          1.03,
          1.03,
          1.04,
          1.04,
          1.06,
          1.06,
          1.06,
          1.07,
          1.07,
          1.07,
          1.07,
          1.07,
          1.07,
          1.07,
          1.07,
          1.07,
          1.08,
          1.08,
          1.08,
          1.08,
          1.08,
          1.08,
          1.08,
          1.1,
          1.1,
          1.1,
          1.1,
          1.12,
          1.13,
          1.13,
          1.14,
          1.15,
          1.15,
          1.15,
          1.15,
          1.15,
          1.15,
          1.15,
          1.15,
          1.15,
          1.15,
          1.15,
          1.16,
          1.16,
          1.16,
          1.16,
          1.16,
          1.16,
          1.16,
          1.16,
          1.16,
          1.16,
          1.16,
          1.16,
          1.16,
          1.16,
          1.16,
          1.16,
          1.16,
          1.16,
          1.16,
          1.16,
          1.16,
          1.16,
          1.16,
          1.16,
          1.17,
          1.17,
          1.17,
          1.17,
          1.17,
          1.17,
          1.17,
          1.18,
          1.18,
          1.18,
          1.18,
          1.18,
          1.18,
          1.18,
          1.18,
          1.18,
          1.18,
          1.18,
          1.18,
          1.18,
          1.23,
          1.23,
          1.25,
          1.25,
          1.25,
          1.26,
          1.28,
          1.29,
          1.29,
          1.31,
          1.32,
          1.32,
          1.33,
          1.33,
          1.33,
          1.34,
          1.34,
          1.34,
          1.35,
          1.35,
          1.35,
          1.35,
          1.35,
          1.36,
          1.36,
          1.36,
          1.36,
          1.37,
          1.37,
          1.38,
          1.38,
          1.38,
          1.39,
          1.39,
          1.4,
          1.4,
          1.41,
          1.42,
          1.42,
          1.42,
          1.42,
          1.43,
          1.43,
          1.43,
          1.43,
          1.43,
          1.43,
          1.43,
          1.43,
          1.43,
          1.43,
          1.43,
          1.43,
          1.43,
          1.43,
          1.43,
          1.43,
          1.43,
          1.43,
          1.43,
          1.43,
          1.44,
          1.45,
          1.45,
          1.46,
          1.47,
          1.49,
          1.49,
          1.49,
          1.49,
          1.49,
          1.49,
          1.49,
          1.49,
          1.49,
          1.49,
          1.49,
          1.49,
          1.49,
          1.49,
          1.49,
          1.49,
          1.49,
          1.49,
          1.5,
          1.53,
          1.54,
          1.55,
          1.55,
          1.55,
          1.55,
          1.56,
          1.56,
          1.57,
          1.57,
          1.58,
          1.58,
          1.58,
          1.58,
          1.58,
          1.58,
          1.58,
          1.58,
          1.58,
          1.58,
          1.59,
          1.59,
          1.59,
          1.59,
          1.59,
          1.59,
          1.59,
          1.59,
          1.59,
          1.59,
          1.59,
          1.59,
          1.59,
          1.59,
          1.59,
          1.59,
          1.59,
          1.59,
          1.59,
          1.59,
          1.59,
          1.6,
          1.63,
          1.64,
          1.69,
          1.75,
          1.77,
          1.79,
          1.8,
          1.8,
          1.8,
          1.8,
          1.8,
          1.8,
          1.84,
          1.86,
          1.9,
          1.9,
          1.91,
          1.92,
          1.92,
          1.93,
          1.94,
          1.95,
          1.95,
          1.95,
          1.95,
          1.97,
          1.97,
          1.97,
          1.97,
          1.99,
          1.99,
          1.99,
          1.99,
          1.99,
          2,
          2,
          2.02,
          2.03,
          2.03,
          2.04,
          2.06,
          2.07,
          2.09,
          2.09,
          2.09,
          2.09,
          2.1,
          2.13,
          2.15,
          2.16,
          2.16,
          2.17,
          2.21,
          2.21,
          2.22,
          2.23,
          2.25,
          2.25,
          2.27,
          2.27,
          2.27,
          2.31,
          2.32,
          2.32,
          2.33,
          2.33,
          2.34,
          2.34,
          2.35,
          2.35,
          2.36,
          2.36,
          2.39,
          2.44,
          2.46,
          2.49,
          2.52,
          2.52,
          2.53,
          2.54,
          2.58,
          2.59,
          2.59,
          2.59,
          2.6,
          2.71,
          2.72,
          2.72,
          2.76,
          2.78,
          2.85,
          2.86,
          2.87,
          2.95,
          2.96,
          2.97,
          2.99,
          3,
          3.18,
          3.21,
          3.24,
          3.32,
          3.32,
          3.33,
          3.42,
          3.43,
          3.43,
          3.49,
          3.49,
          3.52,
          3.59,
          3.61,
          3.69,
          3.76,
          3.9,
          4.06,
          4.17,
          4.19,
          4.37,
          4.38,
          4.39,
          4.48,
          4.51,
          4.55,
          4.75,
          4.81,
          5,
          5.01,
          5.09,
          5.23,
          5.27,
          5.83,
          5.88,
          6.1,
          6.48,
          7,
          7.18,
          7.24,
          7.6,
          7.79,
          7.82,
          7.95,
          7.99,
          8.03,
          8.14,
          8.71,
          8.9,
          9,
          9.08,
          9.09,
          9.15,
          9.45,
          10,
          10.88,
          11.73,
          12.13,
          12.98,
          12.98,
          13.52,
          14.16,
          14.67,
          14.88,
          15.86,
          16.95,
          18,
          19.79,
          19.99,
          23.2,
          24.98,
          28.76,
          29.41,
          41.92
         ],
         "xaxis": "x",
         "y": [
          15462.553503030698,
          15462.553503030698,
          15462.553503030698,
          15462.553503030698,
          15462.553503030698,
          15462.553503030698,
          15462.553503030698,
          15462.553503030698,
          15462.553503030698,
          15462.553503030698,
          15462.553503030698,
          15462.553503030698,
          15462.553503030698,
          15462.553503030698,
          15462.553503030698,
          15462.553503030698,
          15462.553503030698,
          15462.553503030698,
          15462.553503030698,
          15468.98338890307,
          15475.413274775443,
          15481.843160647815,
          15501.132818264932,
          15501.132818264932,
          15501.132818264932,
          15507.562704137305,
          15513.992590009677,
          15520.42247588205,
          15526.852361754422,
          15533.282247626796,
          15533.282247626796,
          15546.14201937154,
          15552.571905243913,
          15565.431676988657,
          15616.870763967636,
          15616.870763967636,
          15616.870763967636,
          15616.870763967636,
          15616.870763967636,
          15616.870763967636,
          15674.739736818989,
          15681.169622691361,
          15687.599508563733,
          15694.029394436106,
          15694.029394436106,
          15739.038595542712,
          15758.328253159829,
          15758.328253159829,
          15777.617910776946,
          15777.617910776946,
          15777.617910776946,
          15777.617910776946,
          15777.617910776946,
          15777.617910776946,
          15777.617910776946,
          15784.047796649318,
          15784.047796649318,
          15784.047796649318,
          15796.907568394063,
          15803.337454266435,
          15809.76734013881,
          15816.197226011182,
          15822.627111883554,
          15835.486883628299,
          15835.486883628299,
          15835.486883628299,
          15835.486883628299,
          15841.91676950067,
          15848.346655373043,
          15874.066198862532,
          15874.066198862532,
          15874.066198862532,
          15899.785742352022,
          15899.785742352022,
          15931.935171713883,
          15938.365057586256,
          15938.365057586256,
          15938.365057586256,
          15938.365057586256,
          15938.365057586256,
          15938.365057586256,
          15938.365057586256,
          15938.365057586256,
          15938.365057586256,
          15938.365057586256,
          15944.794943458628,
          15944.794943458628,
          15951.224829331,
          15964.084601075747,
          15976.944372820491,
          15989.804144565236,
          15989.804144565236,
          15989.804144565236,
          16002.66391630998,
          16021.953573927098,
          16028.38345979947,
          16034.813345671842,
          16041.243231544215,
          16047.673117416587,
          16054.10300328896,
          16054.10300328896,
          16054.10300328896,
          16054.10300328896,
          16054.10300328896,
          16054.10300328896,
          16060.532889161332,
          16066.962775033704,
          16066.962775033704,
          16066.962775033704,
          16073.392660906076,
          16079.822546778449,
          16079.822546778449,
          16086.252432650821,
          16086.252432650821,
          16092.682318523193,
          16092.682318523193,
          16092.682318523193,
          16092.682318523193,
          16092.682318523193,
          16092.682318523193,
          16092.682318523193,
          16092.682318523193,
          16092.682318523193,
          16092.682318523193,
          16092.682318523193,
          16092.682318523193,
          16092.682318523193,
          16092.682318523193,
          16092.682318523193,
          16092.682318523193,
          16092.682318523193,
          16092.682318523193,
          16092.682318523193,
          16092.682318523193,
          16092.682318523193,
          16092.682318523193,
          16092.682318523193,
          16092.682318523193,
          16092.682318523193,
          16092.682318523193,
          16092.682318523193,
          16092.682318523193,
          16092.682318523193,
          16099.112204395566,
          16099.112204395566,
          16099.112204395566,
          16099.112204395566,
          16099.112204395566,
          16099.112204395566,
          16099.112204395566,
          16099.112204395566,
          16099.112204395566,
          16099.112204395566,
          16099.112204395566,
          16099.112204395566,
          16099.112204395566,
          16099.112204395566,
          16099.112204395566,
          16099.112204395566,
          16099.112204395566,
          16099.112204395566,
          16099.112204395566,
          16099.112204395566,
          16099.112204395566,
          16099.112204395566,
          16099.112204395566,
          16099.112204395566,
          16099.112204395566,
          16099.112204395566,
          16099.112204395566,
          16099.112204395566,
          16099.112204395566,
          16099.112204395566,
          16099.112204395566,
          16099.112204395566,
          16099.112204395566,
          16099.112204395566,
          16099.112204395566,
          16099.112204395566,
          16099.112204395566,
          16099.112204395566,
          16111.971976140312,
          16118.401862012684,
          16118.401862012684,
          16118.401862012684,
          16124.831747885057,
          16124.831747885057,
          16137.691519629801,
          16137.691519629801,
          16137.691519629801,
          16144.121405502174,
          16144.121405502174,
          16144.121405502174,
          16144.121405502174,
          16144.121405502174,
          16144.121405502174,
          16144.121405502174,
          16144.121405502174,
          16144.121405502174,
          16150.551291374546,
          16150.551291374546,
          16150.551291374546,
          16150.551291374546,
          16150.551291374546,
          16150.551291374546,
          16150.551291374546,
          16163.41106311929,
          16163.41106311929,
          16163.41106311929,
          16163.41106311929,
          16176.270834864035,
          16182.700720736408,
          16182.700720736408,
          16189.13060660878,
          16195.560492481152,
          16195.560492481152,
          16195.560492481152,
          16195.560492481152,
          16195.560492481152,
          16195.560492481152,
          16195.560492481152,
          16195.560492481152,
          16195.560492481152,
          16195.560492481152,
          16195.560492481152,
          16201.990378353525,
          16201.990378353525,
          16201.990378353525,
          16201.990378353525,
          16201.990378353525,
          16201.990378353525,
          16201.990378353525,
          16201.990378353525,
          16201.990378353525,
          16201.990378353525,
          16201.990378353525,
          16201.990378353525,
          16201.990378353525,
          16201.990378353525,
          16201.990378353525,
          16201.990378353525,
          16201.990378353525,
          16201.990378353525,
          16201.990378353525,
          16201.990378353525,
          16201.990378353525,
          16201.990378353525,
          16201.990378353525,
          16201.990378353525,
          16208.420264225897,
          16208.420264225897,
          16208.420264225897,
          16208.420264225897,
          16208.420264225897,
          16208.420264225897,
          16208.420264225897,
          16214.85015009827,
          16214.85015009827,
          16214.85015009827,
          16214.85015009827,
          16214.85015009827,
          16214.85015009827,
          16214.85015009827,
          16214.85015009827,
          16214.85015009827,
          16214.85015009827,
          16214.85015009827,
          16214.85015009827,
          16214.85015009827,
          16246.999579460131,
          16246.999579460131,
          16259.859351204877,
          16259.859351204877,
          16259.859351204877,
          16266.28923707725,
          16279.149008821994,
          16285.578894694367,
          16285.578894694367,
          16298.438666439111,
          16304.868552311484,
          16304.868552311484,
          16311.298438183856,
          16311.298438183856,
          16311.298438183856,
          16317.728324056228,
          16317.728324056228,
          16317.728324056228,
          16324.1582099286,
          16324.1582099286,
          16324.1582099286,
          16324.1582099286,
          16324.1582099286,
          16330.588095800973,
          16330.588095800973,
          16330.588095800973,
          16330.588095800973,
          16337.017981673345,
          16337.017981673345,
          16343.447867545718,
          16343.447867545718,
          16343.447867545718,
          16349.87775341809,
          16349.87775341809,
          16356.307639290462,
          16356.307639290462,
          16362.737525162835,
          16369.167411035207,
          16369.167411035207,
          16369.167411035207,
          16369.167411035207,
          16375.59729690758,
          16375.59729690758,
          16375.59729690758,
          16375.59729690758,
          16375.59729690758,
          16375.59729690758,
          16375.59729690758,
          16375.59729690758,
          16375.59729690758,
          16375.59729690758,
          16375.59729690758,
          16375.59729690758,
          16375.59729690758,
          16375.59729690758,
          16375.59729690758,
          16375.59729690758,
          16375.59729690758,
          16375.59729690758,
          16375.59729690758,
          16375.59729690758,
          16382.027182779952,
          16388.457068652326,
          16388.457068652326,
          16394.886954524696,
          16401.31684039707,
          16414.176612141815,
          16414.176612141815,
          16414.176612141815,
          16414.176612141815,
          16414.176612141815,
          16414.176612141815,
          16414.176612141815,
          16414.176612141815,
          16414.176612141815,
          16414.176612141815,
          16414.176612141815,
          16414.176612141815,
          16414.176612141815,
          16414.176612141815,
          16414.176612141815,
          16414.176612141815,
          16414.176612141815,
          16414.176612141815,
          16420.606498014185,
          16439.896155631304,
          16446.326041503675,
          16452.75592737605,
          16452.75592737605,
          16452.75592737605,
          16452.75592737605,
          16459.185813248423,
          16459.185813248423,
          16465.615699120794,
          16465.615699120794,
          16472.045584993168,
          16472.045584993168,
          16472.045584993168,
          16472.045584993168,
          16472.045584993168,
          16472.045584993168,
          16472.045584993168,
          16472.045584993168,
          16472.045584993168,
          16472.045584993168,
          16478.47547086554,
          16478.47547086554,
          16478.47547086554,
          16478.47547086554,
          16478.47547086554,
          16478.47547086554,
          16478.47547086554,
          16478.47547086554,
          16478.47547086554,
          16478.47547086554,
          16478.47547086554,
          16478.47547086554,
          16478.47547086554,
          16478.47547086554,
          16478.47547086554,
          16478.47547086554,
          16478.47547086554,
          16478.47547086554,
          16478.47547086554,
          16478.47547086554,
          16478.47547086554,
          16484.905356737912,
          16504.195014355028,
          16510.6249002274,
          16542.77432958926,
          16581.353644823495,
          16594.213416568244,
          16607.07318831299,
          16613.50307418536,
          16613.50307418536,
          16613.50307418536,
          16613.50307418536,
          16613.50307418536,
          16613.50307418536,
          16639.222617674848,
          16652.082389419593,
          16677.801932909082,
          16677.801932909082,
          16684.231818781456,
          16690.661704653827,
          16690.661704653827,
          16697.0915905262,
          16703.52147639857,
          16709.951362270946,
          16709.951362270946,
          16709.951362270946,
          16709.951362270946,
          16722.81113401569,
          16722.81113401569,
          16722.81113401569,
          16722.81113401569,
          16735.670905760435,
          16735.670905760435,
          16735.670905760435,
          16735.670905760435,
          16735.670905760435,
          16742.10079163281,
          16742.10079163281,
          16754.960563377554,
          16761.390449249924,
          16761.390449249924,
          16767.8203351223,
          16780.680106867043,
          16787.109992739413,
          16799.969764484158,
          16799.969764484158,
          16799.969764484158,
          16799.969764484158,
          16806.399650356532,
          16825.689307973647,
          16838.549079718392,
          16844.978965590766,
          16844.978965590766,
          16851.408851463137,
          16877.128394952626,
          16877.128394952626,
          16883.558280825,
          16889.988166697374,
          16902.84793844212,
          16902.84793844212,
          16915.707710186864,
          16915.707710186864,
          16915.707710186864,
          16941.427253676353,
          16947.857139548723,
          16947.857139548723,
          16954.287025421097,
          16954.287025421097,
          16960.716911293468,
          16960.716911293468,
          16967.146797165842,
          16967.146797165842,
          16973.576683038213,
          16973.576683038213,
          16992.86634065533,
          17025.01577001719,
          17037.87554176194,
          17057.165199379055,
          17076.454856996173,
          17076.454856996173,
          17082.884742868544,
          17089.314628740918,
          17115.034172230407,
          17121.464058102778,
          17121.464058102778,
          17121.464058102778,
          17127.893943975152,
          17198.62268857125,
          17205.05257444362,
          17205.05257444362,
          17230.77211793311,
          17243.631889677854,
          17288.641090784462,
          17295.070976656832,
          17301.500862529207,
          17352.939949508185,
          17359.36983538056,
          17365.79972125293,
          17378.659492997675,
          17385.08937887005,
          17500.82732457275,
          17520.11698218987,
          17539.406639806984,
          17590.845726785963,
          17590.845726785963,
          17597.275612658337,
          17655.14458550969,
          17661.57447138206,
          17661.57447138206,
          17700.153786616294,
          17700.153786616294,
          17719.443444233413,
          17764.452645340018,
          17777.312417084766,
          17828.751504063745,
          17873.76070517035,
          17963.779107383565,
          18066.657281341522,
          18137.38602593762,
          18150.245797682364,
          18265.983743385066,
          18272.41362925744,
          18278.84351512981,
          18336.712487981164,
          18356.002145598282,
          18381.72168908777,
          18510.319406535218,
          18548.898721769452,
          18671.066553344528,
          18677.496439216902,
          18728.93552619588,
          18818.953928409093,
          18844.673471898583,
          19204.74708075144,
          19236.8965101133,
          19378.353999305495,
          19622.689662455647,
          19957.04372781901,
          20072.781673521713,
          20111.360988755947,
          20342.836880161354,
          20465.00471173643,
          20484.29436935355,
          20567.882885694387,
          20593.602429183877,
          20619.321972673366,
          20690.050717269463,
          21056.55421199469,
          21178.722043569767,
          21243.02090229349,
          21294.459989272473,
          21300.889875144843,
          21339.469190379077,
          21532.36576655025,
          21886.009489530734,
          22451.839446299506,
          22998.37974545116,
          23255.575180346055,
          23802.115479497712,
          23802.115479497712,
          24149.32931660582,
          24560.842012437653,
          24888.766191928647,
          25023.793795248464,
          25653.922610740963,
          26354.780170829552,
          27029.91818742866,
          28180.867758583317,
          28309.465476030764,
          30373.458841062307,
          31517.978526344596,
          33948.47538610137,
          34366.41796780557,
          42410.205194143455
         ],
         "yaxis": "y"
        }
       ],
       "layout": {
        "legend": {
         "tracegroupgap": 0
        },
        "margin": {
         "t": 60
        },
        "template": {
         "data": {
          "bar": [
           {
            "error_x": {
             "color": "#2a3f5f"
            },
            "error_y": {
             "color": "#2a3f5f"
            },
            "marker": {
             "line": {
              "color": "#E5ECF6",
              "width": 0.5
             },
             "pattern": {
              "fillmode": "overlay",
              "size": 10,
              "solidity": 0.2
             }
            },
            "type": "bar"
           }
          ],
          "barpolar": [
           {
            "marker": {
             "line": {
              "color": "#E5ECF6",
              "width": 0.5
             },
             "pattern": {
              "fillmode": "overlay",
              "size": 10,
              "solidity": 0.2
             }
            },
            "type": "barpolar"
           }
          ],
          "carpet": [
           {
            "aaxis": {
             "endlinecolor": "#2a3f5f",
             "gridcolor": "white",
             "linecolor": "white",
             "minorgridcolor": "white",
             "startlinecolor": "#2a3f5f"
            },
            "baxis": {
             "endlinecolor": "#2a3f5f",
             "gridcolor": "white",
             "linecolor": "white",
             "minorgridcolor": "white",
             "startlinecolor": "#2a3f5f"
            },
            "type": "carpet"
           }
          ],
          "choropleth": [
           {
            "colorbar": {
             "outlinewidth": 0,
             "ticks": ""
            },
            "type": "choropleth"
           }
          ],
          "contour": [
           {
            "colorbar": {
             "outlinewidth": 0,
             "ticks": ""
            },
            "colorscale": [
             [
              0,
              "#0d0887"
             ],
             [
              0.1111111111111111,
              "#46039f"
             ],
             [
              0.2222222222222222,
              "#7201a8"
             ],
             [
              0.3333333333333333,
              "#9c179e"
             ],
             [
              0.4444444444444444,
              "#bd3786"
             ],
             [
              0.5555555555555556,
              "#d8576b"
             ],
             [
              0.6666666666666666,
              "#ed7953"
             ],
             [
              0.7777777777777778,
              "#fb9f3a"
             ],
             [
              0.8888888888888888,
              "#fdca26"
             ],
             [
              1,
              "#f0f921"
             ]
            ],
            "type": "contour"
           }
          ],
          "contourcarpet": [
           {
            "colorbar": {
             "outlinewidth": 0,
             "ticks": ""
            },
            "type": "contourcarpet"
           }
          ],
          "heatmap": [
           {
            "colorbar": {
             "outlinewidth": 0,
             "ticks": ""
            },
            "colorscale": [
             [
              0,
              "#0d0887"
             ],
             [
              0.1111111111111111,
              "#46039f"
             ],
             [
              0.2222222222222222,
              "#7201a8"
             ],
             [
              0.3333333333333333,
              "#9c179e"
             ],
             [
              0.4444444444444444,
              "#bd3786"
             ],
             [
              0.5555555555555556,
              "#d8576b"
             ],
             [
              0.6666666666666666,
              "#ed7953"
             ],
             [
              0.7777777777777778,
              "#fb9f3a"
             ],
             [
              0.8888888888888888,
              "#fdca26"
             ],
             [
              1,
              "#f0f921"
             ]
            ],
            "type": "heatmap"
           }
          ],
          "heatmapgl": [
           {
            "colorbar": {
             "outlinewidth": 0,
             "ticks": ""
            },
            "colorscale": [
             [
              0,
              "#0d0887"
             ],
             [
              0.1111111111111111,
              "#46039f"
             ],
             [
              0.2222222222222222,
              "#7201a8"
             ],
             [
              0.3333333333333333,
              "#9c179e"
             ],
             [
              0.4444444444444444,
              "#bd3786"
             ],
             [
              0.5555555555555556,
              "#d8576b"
             ],
             [
              0.6666666666666666,
              "#ed7953"
             ],
             [
              0.7777777777777778,
              "#fb9f3a"
             ],
             [
              0.8888888888888888,
              "#fdca26"
             ],
             [
              1,
              "#f0f921"
             ]
            ],
            "type": "heatmapgl"
           }
          ],
          "histogram": [
           {
            "marker": {
             "pattern": {
              "fillmode": "overlay",
              "size": 10,
              "solidity": 0.2
             }
            },
            "type": "histogram"
           }
          ],
          "histogram2d": [
           {
            "colorbar": {
             "outlinewidth": 0,
             "ticks": ""
            },
            "colorscale": [
             [
              0,
              "#0d0887"
             ],
             [
              0.1111111111111111,
              "#46039f"
             ],
             [
              0.2222222222222222,
              "#7201a8"
             ],
             [
              0.3333333333333333,
              "#9c179e"
             ],
             [
              0.4444444444444444,
              "#bd3786"
             ],
             [
              0.5555555555555556,
              "#d8576b"
             ],
             [
              0.6666666666666666,
              "#ed7953"
             ],
             [
              0.7777777777777778,
              "#fb9f3a"
             ],
             [
              0.8888888888888888,
              "#fdca26"
             ],
             [
              1,
              "#f0f921"
             ]
            ],
            "type": "histogram2d"
           }
          ],
          "histogram2dcontour": [
           {
            "colorbar": {
             "outlinewidth": 0,
             "ticks": ""
            },
            "colorscale": [
             [
              0,
              "#0d0887"
             ],
             [
              0.1111111111111111,
              "#46039f"
             ],
             [
              0.2222222222222222,
              "#7201a8"
             ],
             [
              0.3333333333333333,
              "#9c179e"
             ],
             [
              0.4444444444444444,
              "#bd3786"
             ],
             [
              0.5555555555555556,
              "#d8576b"
             ],
             [
              0.6666666666666666,
              "#ed7953"
             ],
             [
              0.7777777777777778,
              "#fb9f3a"
             ],
             [
              0.8888888888888888,
              "#fdca26"
             ],
             [
              1,
              "#f0f921"
             ]
            ],
            "type": "histogram2dcontour"
           }
          ],
          "mesh3d": [
           {
            "colorbar": {
             "outlinewidth": 0,
             "ticks": ""
            },
            "type": "mesh3d"
           }
          ],
          "parcoords": [
           {
            "line": {
             "colorbar": {
              "outlinewidth": 0,
              "ticks": ""
             }
            },
            "type": "parcoords"
           }
          ],
          "pie": [
           {
            "automargin": true,
            "type": "pie"
           }
          ],
          "scatter": [
           {
            "fillpattern": {
             "fillmode": "overlay",
             "size": 10,
             "solidity": 0.2
            },
            "type": "scatter"
           }
          ],
          "scatter3d": [
           {
            "line": {
             "colorbar": {
              "outlinewidth": 0,
              "ticks": ""
             }
            },
            "marker": {
             "colorbar": {
              "outlinewidth": 0,
              "ticks": ""
             }
            },
            "type": "scatter3d"
           }
          ],
          "scattercarpet": [
           {
            "marker": {
             "colorbar": {
              "outlinewidth": 0,
              "ticks": ""
             }
            },
            "type": "scattercarpet"
           }
          ],
          "scattergeo": [
           {
            "marker": {
             "colorbar": {
              "outlinewidth": 0,
              "ticks": ""
             }
            },
            "type": "scattergeo"
           }
          ],
          "scattergl": [
           {
            "marker": {
             "colorbar": {
              "outlinewidth": 0,
              "ticks": ""
             }
            },
            "type": "scattergl"
           }
          ],
          "scattermapbox": [
           {
            "marker": {
             "colorbar": {
              "outlinewidth": 0,
              "ticks": ""
             }
            },
            "type": "scattermapbox"
           }
          ],
          "scatterpolar": [
           {
            "marker": {
             "colorbar": {
              "outlinewidth": 0,
              "ticks": ""
             }
            },
            "type": "scatterpolar"
           }
          ],
          "scatterpolargl": [
           {
            "marker": {
             "colorbar": {
              "outlinewidth": 0,
              "ticks": ""
             }
            },
            "type": "scatterpolargl"
           }
          ],
          "scatterternary": [
           {
            "marker": {
             "colorbar": {
              "outlinewidth": 0,
              "ticks": ""
             }
            },
            "type": "scatterternary"
           }
          ],
          "surface": [
           {
            "colorbar": {
             "outlinewidth": 0,
             "ticks": ""
            },
            "colorscale": [
             [
              0,
              "#0d0887"
             ],
             [
              0.1111111111111111,
              "#46039f"
             ],
             [
              0.2222222222222222,
              "#7201a8"
             ],
             [
              0.3333333333333333,
              "#9c179e"
             ],
             [
              0.4444444444444444,
              "#bd3786"
             ],
             [
              0.5555555555555556,
              "#d8576b"
             ],
             [
              0.6666666666666666,
              "#ed7953"
             ],
             [
              0.7777777777777778,
              "#fb9f3a"
             ],
             [
              0.8888888888888888,
              "#fdca26"
             ],
             [
              1,
              "#f0f921"
             ]
            ],
            "type": "surface"
           }
          ],
          "table": [
           {
            "cells": {
             "fill": {
              "color": "#EBF0F8"
             },
             "line": {
              "color": "white"
             }
            },
            "header": {
             "fill": {
              "color": "#C8D4E3"
             },
             "line": {
              "color": "white"
             }
            },
            "type": "table"
           }
          ]
         },
         "layout": {
          "annotationdefaults": {
           "arrowcolor": "#2a3f5f",
           "arrowhead": 0,
           "arrowwidth": 1
          },
          "autotypenumbers": "strict",
          "coloraxis": {
           "colorbar": {
            "outlinewidth": 0,
            "ticks": ""
           }
          },
          "colorscale": {
           "diverging": [
            [
             0,
             "#8e0152"
            ],
            [
             0.1,
             "#c51b7d"
            ],
            [
             0.2,
             "#de77ae"
            ],
            [
             0.3,
             "#f1b6da"
            ],
            [
             0.4,
             "#fde0ef"
            ],
            [
             0.5,
             "#f7f7f7"
            ],
            [
             0.6,
             "#e6f5d0"
            ],
            [
             0.7,
             "#b8e186"
            ],
            [
             0.8,
             "#7fbc41"
            ],
            [
             0.9,
             "#4d9221"
            ],
            [
             1,
             "#276419"
            ]
           ],
           "sequential": [
            [
             0,
             "#0d0887"
            ],
            [
             0.1111111111111111,
             "#46039f"
            ],
            [
             0.2222222222222222,
             "#7201a8"
            ],
            [
             0.3333333333333333,
             "#9c179e"
            ],
            [
             0.4444444444444444,
             "#bd3786"
            ],
            [
             0.5555555555555556,
             "#d8576b"
            ],
            [
             0.6666666666666666,
             "#ed7953"
            ],
            [
             0.7777777777777778,
             "#fb9f3a"
            ],
            [
             0.8888888888888888,
             "#fdca26"
            ],
            [
             1,
             "#f0f921"
            ]
           ],
           "sequentialminus": [
            [
             0,
             "#0d0887"
            ],
            [
             0.1111111111111111,
             "#46039f"
            ],
            [
             0.2222222222222222,
             "#7201a8"
            ],
            [
             0.3333333333333333,
             "#9c179e"
            ],
            [
             0.4444444444444444,
             "#bd3786"
            ],
            [
             0.5555555555555556,
             "#d8576b"
            ],
            [
             0.6666666666666666,
             "#ed7953"
            ],
            [
             0.7777777777777778,
             "#fb9f3a"
            ],
            [
             0.8888888888888888,
             "#fdca26"
            ],
            [
             1,
             "#f0f921"
            ]
           ]
          },
          "colorway": [
           "#636efa",
           "#EF553B",
           "#00cc96",
           "#ab63fa",
           "#FFA15A",
           "#19d3f3",
           "#FF6692",
           "#B6E880",
           "#FF97FF",
           "#FECB52"
          ],
          "font": {
           "color": "#2a3f5f"
          },
          "geo": {
           "bgcolor": "white",
           "lakecolor": "white",
           "landcolor": "#E5ECF6",
           "showlakes": true,
           "showland": true,
           "subunitcolor": "white"
          },
          "hoverlabel": {
           "align": "left"
          },
          "hovermode": "closest",
          "mapbox": {
           "style": "light"
          },
          "paper_bgcolor": "white",
          "plot_bgcolor": "#E5ECF6",
          "polar": {
           "angularaxis": {
            "gridcolor": "white",
            "linecolor": "white",
            "ticks": ""
           },
           "bgcolor": "#E5ECF6",
           "radialaxis": {
            "gridcolor": "white",
            "linecolor": "white",
            "ticks": ""
           }
          },
          "scene": {
           "xaxis": {
            "backgroundcolor": "#E5ECF6",
            "gridcolor": "white",
            "gridwidth": 2,
            "linecolor": "white",
            "showbackground": true,
            "ticks": "",
            "zerolinecolor": "white"
           },
           "yaxis": {
            "backgroundcolor": "#E5ECF6",
            "gridcolor": "white",
            "gridwidth": 2,
            "linecolor": "white",
            "showbackground": true,
            "ticks": "",
            "zerolinecolor": "white"
           },
           "zaxis": {
            "backgroundcolor": "#E5ECF6",
            "gridcolor": "white",
            "gridwidth": 2,
            "linecolor": "white",
            "showbackground": true,
            "ticks": "",
            "zerolinecolor": "white"
           }
          },
          "shapedefaults": {
           "line": {
            "color": "#2a3f5f"
           }
          },
          "ternary": {
           "aaxis": {
            "gridcolor": "white",
            "linecolor": "white",
            "ticks": ""
           },
           "baxis": {
            "gridcolor": "white",
            "linecolor": "white",
            "ticks": ""
           },
           "bgcolor": "#E5ECF6",
           "caxis": {
            "gridcolor": "white",
            "linecolor": "white",
            "ticks": ""
           }
          },
          "title": {
           "x": 0.05
          },
          "xaxis": {
           "automargin": true,
           "gridcolor": "white",
           "linecolor": "white",
           "ticks": "",
           "title": {
            "standoff": 15
           },
           "zerolinecolor": "white",
           "zerolinewidth": 2
          },
          "yaxis": {
           "automargin": true,
           "gridcolor": "white",
           "linecolor": "white",
           "ticks": "",
           "title": {
            "standoff": 15
           },
           "zerolinecolor": "white",
           "zerolinewidth": 2
          }
         }
        },
        "xaxis": {
         "anchor": "y",
         "domain": [
          0,
          1
         ],
         "title": {
          "text": "price"
         }
        },
        "yaxis": {
         "anchor": "x",
         "domain": [
          0,
          1
         ],
         "title": {
          "text": "review"
         }
        }
       }
      },
      "text/html": [
       "<div>                            <div id=\"154016ba-de81-41c1-a794-87a382b722dc\" class=\"plotly-graph-div\" style=\"height:525px; width:100%;\"></div>            <script type=\"text/javascript\">                require([\"plotly\"], function(Plotly) {                    window.PLOTLYENV=window.PLOTLYENV || {};                                    if (document.getElementById(\"154016ba-de81-41c1-a794-87a382b722dc\")) {                    Plotly.newPlot(                        \"154016ba-de81-41c1-a794-87a382b722dc\",                        [{\"hovertemplate\":\"price=%{x}<br>review=%{y}<extra></extra>\",\"legendgroup\":\"\",\"marker\":{\"color\":\"#636efa\",\"symbol\":\"circle\"},\"mode\":\"markers\",\"name\":\"\",\"orientation\":\"v\",\"showlegend\":false,\"x\":[0.92,0.55,1.07,0.12,0.01,0.01,0.14,0.99,13.52,0.6,0.99,1.0,0.69,0.77,0.15,1.07,0.47,0.99,0.99,0.99,1.43,9.15,5.0,0.1,0.37,1.18,0.01,1.33,0.01,1.18,3.59,0.01,1.4,1.42,0.12,0.25,1.0,0.97,1.43,9.09,0.01,0.57,0.75,0.75,1.15,0.01,1.59,0.65,1.0,1.0,1.0,0.83,2.09,1.42,1.0,0.75,0.76,0.25,1.18,1.0,0.83,1.0,1.49,2.15,3.49,0.5,1.44,1.99,1.16,3.21,1.79,0.51,0.65,0.99,2.21,1.59,1.0,1.0,0.75,1.16,1.25,1.35,0.65,2.35,0.51,0.99,1.59,0.75,0.99,0.01,0.99,0.11,0.47,1.17,2.59,1.0,0.93,0.25,0.99,1.15,1.15,1.17,0.25,0.53,1.43,1.84,1.16,1.23,0.99,2.35,0.99,1.43,2.71,1.31,0.07,0.99,1.43,1.42,2.46,0.56,2.86,3.32,1.0,1.56,1.43,1.58,1.99,0.01,1.08,2.21,0.25,0.99,0.25,0.99,3.76,1.59,1.53,1.59,1.43,1.07,0.99,1.0,1.18,1.59,1.39,2.52,1.86,23.2,1.14,4.51,0.99,1.46,1.94,0.75,1.0,1.99,1.43,0.36,0.91,0.34,2.59,1.38,9.0,1.0,2.32,0.59,0.5,4.37,4.17,0.51,3.0,1.34,0.08,2.06,1.07,1.43,1.18,1.0,1.18,1.08,2.0,2.02,2.36,1.25,2.1,0.01,7.6,1.17,0.01,1.0,14.67,1.36,0.94,1.0,19.99,1.55,1.49,2.97,7.99,28.76,1.16,0.54,1.15,2.13,1.28,2.34,2.23,2.27,0.99,0.5,0.01,0.03,3.69,1.0,1.04,1.43,1.43,0.17,0.93,5.83,8.14,1.16,1.18,3.18,1.18,4.48,1.0,1.43,1.18,1.16,1.16,1.8,1.0,1.99,5.23,0.01,7.18,1.49,1.49,1.16,4.55,1.16,1.29,2.72,1.77,1.59,1.9,1.08,1.43,0.02,1.49,1.97,1.03,3.32,1.49,1.56,7.79,1.95,1.41,2.25,0.99,4.06,2.96,0.99,1.02,1.36,1.16,1.58,0.5,1.34,41.92,0.01,0.79,1.06,0.01,0.99,1.59,12.13,2.39,0.9,2.27,1.37,1.58,1.93,1.8,1.08,1.15,0.99,0.99,1.55,0.95,1.12,1.8,1.49,1.0,0.93,3.9,10.0,1.43,0.5,1.35,0.61,1.49,1.0,1.43,1.16,1.9,0.89,0.35,1.43,0.99,1.1,4.81,1.0,1.45,0.98,1.49,1.58,1.33,1.16,4.39,1.0,0.97,14.16,3.52,0.04,0.93,2.44,1.0,0.85,12.98,1.18,3.49,1.59,1.0,1.15,1.03,29.41,1.59,0.95,1.58,1.23,1.1,1.18,5.27,2.04,0.75,0.99,2.22,1.49,2.09,0.69,1.59,0.95,1.1,1.55,1.06,1.92,0.09,1.8,0.5,1.17,1.0,1.16,1.1,1.59,1.58,1.64,1.45,1.06,1.38,1.16,1.0,2.09,3.43,2.03,1.08,1.97,1.0,0.83,1.95,1.59,1.0,1.59,1.18,0.44,1.49,1.18,4.75,1.97,1.17,1.0,1.07,1.37,1.07,4.38,0.96,1.07,0.98,1.49,0.75,0.76,6.1,3.24,6.48,0.59,0.81,0.75,1.36,2.6,2.95,2.72,1.03,2.25,1.8,1.17,1.49,2.09,0.37,2.03,1.07,1.69,1.26,1.16,2.87,1.43,0.99,0.75,1.17,1.49,0.5,2.58,1.0,19.79,0.07,2.99,1.07,1.16,0.93,1.43,1.43,0.59,16.95,7.82,1.16,2.07,1.36,0.88,2.76,1.0,1.49,1.4,2.49,0.93,2.17,1.0,4.19,1.08,0.99,2.16,1.58,1.16,1.57,0.74,1.39,1.91,1.47,1.15,1.99,5.09,9.45,12.98,10.88,2.36,1.54,1.08,3.42,3.43,1.8,1.59,1.16,11.73,1.15,1.35,1.49,0.01,0.01,1.29,0.01,0.01,1.0,8.03,7.24,1.13,0.59,0.99,1.16,1.15,7.0,0.07,1.92,1.49,1.16,15.86,1.16,1.43,1.97,1.57,1.49,1.04,1.15,1.59,1.0,8.9,2.78,2.33,18.0,1.58,24.98,2.52,9.08,1.25,1.75,1.58,1.16,2.0,2.85,2.59,1.59,1.42,1.6,1.35,5.01,1.13,1.34,1.58,1.0,1.33,1.32,1.59,1.32,14.88,1.59,7.95,1.15,1.35,1.59,3.33,2.27,2.16,1.16,1.95,2.54,2.32,1.63,1.5,8.71,2.31,5.88,0.99,1.55,2.53,1.38,2.34,2.33,1.59,3.61,1.95],\"xaxis\":\"x\",\"y\":[16769,23634,5063,17355,1570,7182,18451,12831,6403,22949,13200,22929,1422,3520,3388,7132,8317,9299,15342,945,901,7883,998,6910,12782,512,15949,2597,6018,13200,32910,6644,12474,2901,1161,2427,5933,1932,15818,3610,3538,11010,6095,867,8025,5015,9256,2083,898,902,12365,766,5546,35325,2584,3741,9870,941,4605,1096,8900,17727,7795,17530,7024,7692,2974,267,4745,83383,1534,3547,4883,2189,11842,44102,437,1497,966,1892,784,2222,4383,2202,319,3827,2192,3802,11409,2418,11012,11051,38081,2000,613,6637,2577,33917,3410,1800,6293,4826,7013,586,1363,17262,12270,863,33507,2491,8611,3319,579,4015,16782,4888,529,5320,1305,1925,1427,623,1711,1628,2798,2798,19447,8777,8777,89,1050,1821,1083,14787,19550,3528,3607,2870,1324,32149,674,4102,11162,870,1592,1556,19781,1251,6490,6700,2380,737,32295,5342,8915,6438,13314,17472,11609,44113,9276,20696,6405,3121,17796,12229,10931,3232,25596,8305,7934,6316,8476,10108,4544,3943,3684,12201,2204,9195,677,1767,1818,13408,6201,10683,4889,1817,17596,2408,1819,44130,1009,6530,887,495,4209,5097,5895,95850,4828,12421,9930,9193,2866,1162,3904,2718,772,60774,33674,32691,38942,12955,9775,67856,14567,10620,17167,2415,31098,11133,19239,23506,8676,20823,27301,2537,20909,62949,5096,24108,18895,4729,1870,29938,7855,1969,11045,608,895,19535,15393,90035,9369,1316,10075,13085,3922,4489,10044,12217,8290,2861,6019,2058,36665,51,4904,13289,33507,14192,1540,8383,12907,9395,36078,15868,7796,13147,12619,9820,10924,7426,24812,17729,5438,9879,24306,5765,43697,6586,37445,4990,20682,4817,56790,19127,30486,29387,3835,4065,7131,20328,2036,1428,5266,1490,7880,17345,10158,55416,24987,4430,11266,21827,2653,1004,8949,10075,7376,13604,19737,15883,4900,71999,17334,5060,1093,1959,2287,36068,10095,34877,4664,25487,22417,69786,5614,2734,1427,1138,3093,6428,4535,27208,16365,8186,808,29029,20017,33003,281,25180,8362,36727,10427,6337,75873,31831,11001,25943,11913,28617,855,26555,28497,15225,18929,8194,92514,4302,14834,3950,3163,5133,52752,31819,38254,5165,74075,2278,5254,14498,20108,20316,10957,8098,2632,13286,8198,33217,34739,5515,3127,7774,16480,13107,3966,11299,3775,2978,8445,3121,13114,99533,5906,1818,1864,13899,44544,14635,31257,15394,62478,11496,10195,29957,9502,13318,1099,90035,16365,5673,9299,36665,26482,14498,12783,20316,49005,10367,45304,71267,2464,10372,13313,7708,9685,11873,13408,13111,21854,9276,1231,8167,7179,7342,12728,1581,6666,5151,47731,85729,17841,21455,62987,6956,31108,37592,17613,3134,52508,13984,6828,24211,14492,9568,32850,2813,2522,29015,16011,28283,3287,20724,24243,11874,4874,8843,836,68710,36884,14574,9234,7166,26984,17686,68266,17704,15263,22608,7353,3883,11873,124513,27481,76518,17415,10449,15090,61351,33266,9985,8378,21075,16231,72382,11200,11768,25356,20780,16336,21236,13087,18867,13367,58130,7777,7525,6686,42359,22461,11266,26333,376112,24139,39021,23534,9583,27207,4780,25546,16037,14143,4866,53826,48440,24628,24247,28555,18886,68906,14355,29762,22695,17578,32730,9320,8016,12475,25631,18354,59903,28196,20582,16502,147155,19624,13202,24092,79451,35234,31800,21130,50259,93032,16012,17156,61718,22214,10764,57604,10963,20218,8569,26403,20072],\"yaxis\":\"y\",\"type\":\"scatter\"},{\"hovertemplate\":\"<b>OLS trendline</b><br>review = 642.989 * price + 15456.1<br>R<sup>2</sup>=0.009657<br><br>price=%{x}<br>review=%{y} <b>(trend)</b><extra></extra>\",\"legendgroup\":\"\",\"marker\":{\"color\":\"#636efa\",\"symbol\":\"circle\"},\"mode\":\"lines\",\"name\":\"\",\"showlegend\":false,\"x\":[0.01,0.01,0.01,0.01,0.01,0.01,0.01,0.01,0.01,0.01,0.01,0.01,0.01,0.01,0.01,0.01,0.01,0.01,0.01,0.02,0.03,0.04,0.07,0.07,0.07,0.08,0.09,0.1,0.11,0.12,0.12,0.14,0.15,0.17,0.25,0.25,0.25,0.25,0.25,0.25,0.34,0.35,0.36,0.37,0.37,0.44,0.47,0.47,0.5,0.5,0.5,0.5,0.5,0.5,0.5,0.51,0.51,0.51,0.53,0.54,0.55,0.56,0.57,0.59,0.59,0.59,0.59,0.6,0.61,0.65,0.65,0.65,0.69,0.69,0.74,0.75,0.75,0.75,0.75,0.75,0.75,0.75,0.75,0.75,0.75,0.76,0.76,0.77,0.79,0.81,0.83,0.83,0.83,0.85,0.88,0.89,0.9,0.91,0.92,0.93,0.93,0.93,0.93,0.93,0.93,0.94,0.95,0.95,0.95,0.96,0.97,0.97,0.98,0.98,0.99,0.99,0.99,0.99,0.99,0.99,0.99,0.99,0.99,0.99,0.99,0.99,0.99,0.99,0.99,0.99,0.99,0.99,0.99,0.99,0.99,0.99,0.99,0.99,0.99,0.99,0.99,0.99,0.99,1.0,1.0,1.0,1.0,1.0,1.0,1.0,1.0,1.0,1.0,1.0,1.0,1.0,1.0,1.0,1.0,1.0,1.0,1.0,1.0,1.0,1.0,1.0,1.0,1.0,1.0,1.0,1.0,1.0,1.0,1.0,1.0,1.0,1.0,1.0,1.0,1.0,1.0,1.02,1.03,1.03,1.03,1.04,1.04,1.06,1.06,1.06,1.07,1.07,1.07,1.07,1.07,1.07,1.07,1.07,1.07,1.08,1.08,1.08,1.08,1.08,1.08,1.08,1.1,1.1,1.1,1.1,1.12,1.13,1.13,1.14,1.15,1.15,1.15,1.15,1.15,1.15,1.15,1.15,1.15,1.15,1.15,1.16,1.16,1.16,1.16,1.16,1.16,1.16,1.16,1.16,1.16,1.16,1.16,1.16,1.16,1.16,1.16,1.16,1.16,1.16,1.16,1.16,1.16,1.16,1.16,1.17,1.17,1.17,1.17,1.17,1.17,1.17,1.18,1.18,1.18,1.18,1.18,1.18,1.18,1.18,1.18,1.18,1.18,1.18,1.18,1.23,1.23,1.25,1.25,1.25,1.26,1.28,1.29,1.29,1.31,1.32,1.32,1.33,1.33,1.33,1.34,1.34,1.34,1.35,1.35,1.35,1.35,1.35,1.36,1.36,1.36,1.36,1.37,1.37,1.38,1.38,1.38,1.39,1.39,1.4,1.4,1.41,1.42,1.42,1.42,1.42,1.43,1.43,1.43,1.43,1.43,1.43,1.43,1.43,1.43,1.43,1.43,1.43,1.43,1.43,1.43,1.43,1.43,1.43,1.43,1.43,1.44,1.45,1.45,1.46,1.47,1.49,1.49,1.49,1.49,1.49,1.49,1.49,1.49,1.49,1.49,1.49,1.49,1.49,1.49,1.49,1.49,1.49,1.49,1.5,1.53,1.54,1.55,1.55,1.55,1.55,1.56,1.56,1.57,1.57,1.58,1.58,1.58,1.58,1.58,1.58,1.58,1.58,1.58,1.58,1.59,1.59,1.59,1.59,1.59,1.59,1.59,1.59,1.59,1.59,1.59,1.59,1.59,1.59,1.59,1.59,1.59,1.59,1.59,1.59,1.59,1.6,1.63,1.64,1.69,1.75,1.77,1.79,1.8,1.8,1.8,1.8,1.8,1.8,1.84,1.86,1.9,1.9,1.91,1.92,1.92,1.93,1.94,1.95,1.95,1.95,1.95,1.97,1.97,1.97,1.97,1.99,1.99,1.99,1.99,1.99,2.0,2.0,2.02,2.03,2.03,2.04,2.06,2.07,2.09,2.09,2.09,2.09,2.1,2.13,2.15,2.16,2.16,2.17,2.21,2.21,2.22,2.23,2.25,2.25,2.27,2.27,2.27,2.31,2.32,2.32,2.33,2.33,2.34,2.34,2.35,2.35,2.36,2.36,2.39,2.44,2.46,2.49,2.52,2.52,2.53,2.54,2.58,2.59,2.59,2.59,2.6,2.71,2.72,2.72,2.76,2.78,2.85,2.86,2.87,2.95,2.96,2.97,2.99,3.0,3.18,3.21,3.24,3.32,3.32,3.33,3.42,3.43,3.43,3.49,3.49,3.52,3.59,3.61,3.69,3.76,3.9,4.06,4.17,4.19,4.37,4.38,4.39,4.48,4.51,4.55,4.75,4.81,5.0,5.01,5.09,5.23,5.27,5.83,5.88,6.1,6.48,7.0,7.18,7.24,7.6,7.79,7.82,7.95,7.99,8.03,8.14,8.71,8.9,9.0,9.08,9.09,9.15,9.45,10.0,10.88,11.73,12.13,12.98,12.98,13.52,14.16,14.67,14.88,15.86,16.95,18.0,19.79,19.99,23.2,24.98,28.76,29.41,41.92],\"xaxis\":\"x\",\"y\":[15462.553503030698,15462.553503030698,15462.553503030698,15462.553503030698,15462.553503030698,15462.553503030698,15462.553503030698,15462.553503030698,15462.553503030698,15462.553503030698,15462.553503030698,15462.553503030698,15462.553503030698,15462.553503030698,15462.553503030698,15462.553503030698,15462.553503030698,15462.553503030698,15462.553503030698,15468.98338890307,15475.413274775443,15481.843160647815,15501.132818264932,15501.132818264932,15501.132818264932,15507.562704137305,15513.992590009677,15520.42247588205,15526.852361754422,15533.282247626796,15533.282247626796,15546.14201937154,15552.571905243913,15565.431676988657,15616.870763967636,15616.870763967636,15616.870763967636,15616.870763967636,15616.870763967636,15616.870763967636,15674.739736818989,15681.169622691361,15687.599508563733,15694.029394436106,15694.029394436106,15739.038595542712,15758.328253159829,15758.328253159829,15777.617910776946,15777.617910776946,15777.617910776946,15777.617910776946,15777.617910776946,15777.617910776946,15777.617910776946,15784.047796649318,15784.047796649318,15784.047796649318,15796.907568394063,15803.337454266435,15809.76734013881,15816.197226011182,15822.627111883554,15835.486883628299,15835.486883628299,15835.486883628299,15835.486883628299,15841.91676950067,15848.346655373043,15874.066198862532,15874.066198862532,15874.066198862532,15899.785742352022,15899.785742352022,15931.935171713883,15938.365057586256,15938.365057586256,15938.365057586256,15938.365057586256,15938.365057586256,15938.365057586256,15938.365057586256,15938.365057586256,15938.365057586256,15938.365057586256,15944.794943458628,15944.794943458628,15951.224829331,15964.084601075747,15976.944372820491,15989.804144565236,15989.804144565236,15989.804144565236,16002.66391630998,16021.953573927098,16028.38345979947,16034.813345671842,16041.243231544215,16047.673117416587,16054.10300328896,16054.10300328896,16054.10300328896,16054.10300328896,16054.10300328896,16054.10300328896,16060.532889161332,16066.962775033704,16066.962775033704,16066.962775033704,16073.392660906076,16079.822546778449,16079.822546778449,16086.252432650821,16086.252432650821,16092.682318523193,16092.682318523193,16092.682318523193,16092.682318523193,16092.682318523193,16092.682318523193,16092.682318523193,16092.682318523193,16092.682318523193,16092.682318523193,16092.682318523193,16092.682318523193,16092.682318523193,16092.682318523193,16092.682318523193,16092.682318523193,16092.682318523193,16092.682318523193,16092.682318523193,16092.682318523193,16092.682318523193,16092.682318523193,16092.682318523193,16092.682318523193,16092.682318523193,16092.682318523193,16092.682318523193,16092.682318523193,16092.682318523193,16099.112204395566,16099.112204395566,16099.112204395566,16099.112204395566,16099.112204395566,16099.112204395566,16099.112204395566,16099.112204395566,16099.112204395566,16099.112204395566,16099.112204395566,16099.112204395566,16099.112204395566,16099.112204395566,16099.112204395566,16099.112204395566,16099.112204395566,16099.112204395566,16099.112204395566,16099.112204395566,16099.112204395566,16099.112204395566,16099.112204395566,16099.112204395566,16099.112204395566,16099.112204395566,16099.112204395566,16099.112204395566,16099.112204395566,16099.112204395566,16099.112204395566,16099.112204395566,16099.112204395566,16099.112204395566,16099.112204395566,16099.112204395566,16099.112204395566,16099.112204395566,16111.971976140312,16118.401862012684,16118.401862012684,16118.401862012684,16124.831747885057,16124.831747885057,16137.691519629801,16137.691519629801,16137.691519629801,16144.121405502174,16144.121405502174,16144.121405502174,16144.121405502174,16144.121405502174,16144.121405502174,16144.121405502174,16144.121405502174,16144.121405502174,16150.551291374546,16150.551291374546,16150.551291374546,16150.551291374546,16150.551291374546,16150.551291374546,16150.551291374546,16163.41106311929,16163.41106311929,16163.41106311929,16163.41106311929,16176.270834864035,16182.700720736408,16182.700720736408,16189.13060660878,16195.560492481152,16195.560492481152,16195.560492481152,16195.560492481152,16195.560492481152,16195.560492481152,16195.560492481152,16195.560492481152,16195.560492481152,16195.560492481152,16195.560492481152,16201.990378353525,16201.990378353525,16201.990378353525,16201.990378353525,16201.990378353525,16201.990378353525,16201.990378353525,16201.990378353525,16201.990378353525,16201.990378353525,16201.990378353525,16201.990378353525,16201.990378353525,16201.990378353525,16201.990378353525,16201.990378353525,16201.990378353525,16201.990378353525,16201.990378353525,16201.990378353525,16201.990378353525,16201.990378353525,16201.990378353525,16201.990378353525,16208.420264225897,16208.420264225897,16208.420264225897,16208.420264225897,16208.420264225897,16208.420264225897,16208.420264225897,16214.85015009827,16214.85015009827,16214.85015009827,16214.85015009827,16214.85015009827,16214.85015009827,16214.85015009827,16214.85015009827,16214.85015009827,16214.85015009827,16214.85015009827,16214.85015009827,16214.85015009827,16246.999579460131,16246.999579460131,16259.859351204877,16259.859351204877,16259.859351204877,16266.28923707725,16279.149008821994,16285.578894694367,16285.578894694367,16298.438666439111,16304.868552311484,16304.868552311484,16311.298438183856,16311.298438183856,16311.298438183856,16317.728324056228,16317.728324056228,16317.728324056228,16324.1582099286,16324.1582099286,16324.1582099286,16324.1582099286,16324.1582099286,16330.588095800973,16330.588095800973,16330.588095800973,16330.588095800973,16337.017981673345,16337.017981673345,16343.447867545718,16343.447867545718,16343.447867545718,16349.87775341809,16349.87775341809,16356.307639290462,16356.307639290462,16362.737525162835,16369.167411035207,16369.167411035207,16369.167411035207,16369.167411035207,16375.59729690758,16375.59729690758,16375.59729690758,16375.59729690758,16375.59729690758,16375.59729690758,16375.59729690758,16375.59729690758,16375.59729690758,16375.59729690758,16375.59729690758,16375.59729690758,16375.59729690758,16375.59729690758,16375.59729690758,16375.59729690758,16375.59729690758,16375.59729690758,16375.59729690758,16375.59729690758,16382.027182779952,16388.457068652326,16388.457068652326,16394.886954524696,16401.31684039707,16414.176612141815,16414.176612141815,16414.176612141815,16414.176612141815,16414.176612141815,16414.176612141815,16414.176612141815,16414.176612141815,16414.176612141815,16414.176612141815,16414.176612141815,16414.176612141815,16414.176612141815,16414.176612141815,16414.176612141815,16414.176612141815,16414.176612141815,16414.176612141815,16420.606498014185,16439.896155631304,16446.326041503675,16452.75592737605,16452.75592737605,16452.75592737605,16452.75592737605,16459.185813248423,16459.185813248423,16465.615699120794,16465.615699120794,16472.045584993168,16472.045584993168,16472.045584993168,16472.045584993168,16472.045584993168,16472.045584993168,16472.045584993168,16472.045584993168,16472.045584993168,16472.045584993168,16478.47547086554,16478.47547086554,16478.47547086554,16478.47547086554,16478.47547086554,16478.47547086554,16478.47547086554,16478.47547086554,16478.47547086554,16478.47547086554,16478.47547086554,16478.47547086554,16478.47547086554,16478.47547086554,16478.47547086554,16478.47547086554,16478.47547086554,16478.47547086554,16478.47547086554,16478.47547086554,16478.47547086554,16484.905356737912,16504.195014355028,16510.6249002274,16542.77432958926,16581.353644823495,16594.213416568244,16607.07318831299,16613.50307418536,16613.50307418536,16613.50307418536,16613.50307418536,16613.50307418536,16613.50307418536,16639.222617674848,16652.082389419593,16677.801932909082,16677.801932909082,16684.231818781456,16690.661704653827,16690.661704653827,16697.0915905262,16703.52147639857,16709.951362270946,16709.951362270946,16709.951362270946,16709.951362270946,16722.81113401569,16722.81113401569,16722.81113401569,16722.81113401569,16735.670905760435,16735.670905760435,16735.670905760435,16735.670905760435,16735.670905760435,16742.10079163281,16742.10079163281,16754.960563377554,16761.390449249924,16761.390449249924,16767.8203351223,16780.680106867043,16787.109992739413,16799.969764484158,16799.969764484158,16799.969764484158,16799.969764484158,16806.399650356532,16825.689307973647,16838.549079718392,16844.978965590766,16844.978965590766,16851.408851463137,16877.128394952626,16877.128394952626,16883.558280825,16889.988166697374,16902.84793844212,16902.84793844212,16915.707710186864,16915.707710186864,16915.707710186864,16941.427253676353,16947.857139548723,16947.857139548723,16954.287025421097,16954.287025421097,16960.716911293468,16960.716911293468,16967.146797165842,16967.146797165842,16973.576683038213,16973.576683038213,16992.86634065533,17025.01577001719,17037.87554176194,17057.165199379055,17076.454856996173,17076.454856996173,17082.884742868544,17089.314628740918,17115.034172230407,17121.464058102778,17121.464058102778,17121.464058102778,17127.893943975152,17198.62268857125,17205.05257444362,17205.05257444362,17230.77211793311,17243.631889677854,17288.641090784462,17295.070976656832,17301.500862529207,17352.939949508185,17359.36983538056,17365.79972125293,17378.659492997675,17385.08937887005,17500.82732457275,17520.11698218987,17539.406639806984,17590.845726785963,17590.845726785963,17597.275612658337,17655.14458550969,17661.57447138206,17661.57447138206,17700.153786616294,17700.153786616294,17719.443444233413,17764.452645340018,17777.312417084766,17828.751504063745,17873.76070517035,17963.779107383565,18066.657281341522,18137.38602593762,18150.245797682364,18265.983743385066,18272.41362925744,18278.84351512981,18336.712487981164,18356.002145598282,18381.72168908777,18510.319406535218,18548.898721769452,18671.066553344528,18677.496439216902,18728.93552619588,18818.953928409093,18844.673471898583,19204.74708075144,19236.8965101133,19378.353999305495,19622.689662455647,19957.04372781901,20072.781673521713,20111.360988755947,20342.836880161354,20465.00471173643,20484.29436935355,20567.882885694387,20593.602429183877,20619.321972673366,20690.050717269463,21056.55421199469,21178.722043569767,21243.02090229349,21294.459989272473,21300.889875144843,21339.469190379077,21532.36576655025,21886.009489530734,22451.839446299506,22998.37974545116,23255.575180346055,23802.115479497712,23802.115479497712,24149.32931660582,24560.842012437653,24888.766191928647,25023.793795248464,25653.922610740963,26354.780170829552,27029.91818742866,28180.867758583317,28309.465476030764,30373.458841062307,31517.978526344596,33948.47538610137,34366.41796780557,42410.205194143455],\"yaxis\":\"y\",\"type\":\"scatter\"}],                        {\"template\":{\"data\":{\"histogram2dcontour\":[{\"type\":\"histogram2dcontour\",\"colorbar\":{\"outlinewidth\":0,\"ticks\":\"\"},\"colorscale\":[[0.0,\"#0d0887\"],[0.1111111111111111,\"#46039f\"],[0.2222222222222222,\"#7201a8\"],[0.3333333333333333,\"#9c179e\"],[0.4444444444444444,\"#bd3786\"],[0.5555555555555556,\"#d8576b\"],[0.6666666666666666,\"#ed7953\"],[0.7777777777777778,\"#fb9f3a\"],[0.8888888888888888,\"#fdca26\"],[1.0,\"#f0f921\"]]}],\"choropleth\":[{\"type\":\"choropleth\",\"colorbar\":{\"outlinewidth\":0,\"ticks\":\"\"}}],\"histogram2d\":[{\"type\":\"histogram2d\",\"colorbar\":{\"outlinewidth\":0,\"ticks\":\"\"},\"colorscale\":[[0.0,\"#0d0887\"],[0.1111111111111111,\"#46039f\"],[0.2222222222222222,\"#7201a8\"],[0.3333333333333333,\"#9c179e\"],[0.4444444444444444,\"#bd3786\"],[0.5555555555555556,\"#d8576b\"],[0.6666666666666666,\"#ed7953\"],[0.7777777777777778,\"#fb9f3a\"],[0.8888888888888888,\"#fdca26\"],[1.0,\"#f0f921\"]]}],\"heatmap\":[{\"type\":\"heatmap\",\"colorbar\":{\"outlinewidth\":0,\"ticks\":\"\"},\"colorscale\":[[0.0,\"#0d0887\"],[0.1111111111111111,\"#46039f\"],[0.2222222222222222,\"#7201a8\"],[0.3333333333333333,\"#9c179e\"],[0.4444444444444444,\"#bd3786\"],[0.5555555555555556,\"#d8576b\"],[0.6666666666666666,\"#ed7953\"],[0.7777777777777778,\"#fb9f3a\"],[0.8888888888888888,\"#fdca26\"],[1.0,\"#f0f921\"]]}],\"heatmapgl\":[{\"type\":\"heatmapgl\",\"colorbar\":{\"outlinewidth\":0,\"ticks\":\"\"},\"colorscale\":[[0.0,\"#0d0887\"],[0.1111111111111111,\"#46039f\"],[0.2222222222222222,\"#7201a8\"],[0.3333333333333333,\"#9c179e\"],[0.4444444444444444,\"#bd3786\"],[0.5555555555555556,\"#d8576b\"],[0.6666666666666666,\"#ed7953\"],[0.7777777777777778,\"#fb9f3a\"],[0.8888888888888888,\"#fdca26\"],[1.0,\"#f0f921\"]]}],\"contourcarpet\":[{\"type\":\"contourcarpet\",\"colorbar\":{\"outlinewidth\":0,\"ticks\":\"\"}}],\"contour\":[{\"type\":\"contour\",\"colorbar\":{\"outlinewidth\":0,\"ticks\":\"\"},\"colorscale\":[[0.0,\"#0d0887\"],[0.1111111111111111,\"#46039f\"],[0.2222222222222222,\"#7201a8\"],[0.3333333333333333,\"#9c179e\"],[0.4444444444444444,\"#bd3786\"],[0.5555555555555556,\"#d8576b\"],[0.6666666666666666,\"#ed7953\"],[0.7777777777777778,\"#fb9f3a\"],[0.8888888888888888,\"#fdca26\"],[1.0,\"#f0f921\"]]}],\"surface\":[{\"type\":\"surface\",\"colorbar\":{\"outlinewidth\":0,\"ticks\":\"\"},\"colorscale\":[[0.0,\"#0d0887\"],[0.1111111111111111,\"#46039f\"],[0.2222222222222222,\"#7201a8\"],[0.3333333333333333,\"#9c179e\"],[0.4444444444444444,\"#bd3786\"],[0.5555555555555556,\"#d8576b\"],[0.6666666666666666,\"#ed7953\"],[0.7777777777777778,\"#fb9f3a\"],[0.8888888888888888,\"#fdca26\"],[1.0,\"#f0f921\"]]}],\"mesh3d\":[{\"type\":\"mesh3d\",\"colorbar\":{\"outlinewidth\":0,\"ticks\":\"\"}}],\"scatter\":[{\"fillpattern\":{\"fillmode\":\"overlay\",\"size\":10,\"solidity\":0.2},\"type\":\"scatter\"}],\"parcoords\":[{\"type\":\"parcoords\",\"line\":{\"colorbar\":{\"outlinewidth\":0,\"ticks\":\"\"}}}],\"scatterpolargl\":[{\"type\":\"scatterpolargl\",\"marker\":{\"colorbar\":{\"outlinewidth\":0,\"ticks\":\"\"}}}],\"bar\":[{\"error_x\":{\"color\":\"#2a3f5f\"},\"error_y\":{\"color\":\"#2a3f5f\"},\"marker\":{\"line\":{\"color\":\"#E5ECF6\",\"width\":0.5},\"pattern\":{\"fillmode\":\"overlay\",\"size\":10,\"solidity\":0.2}},\"type\":\"bar\"}],\"scattergeo\":[{\"type\":\"scattergeo\",\"marker\":{\"colorbar\":{\"outlinewidth\":0,\"ticks\":\"\"}}}],\"scatterpolar\":[{\"type\":\"scatterpolar\",\"marker\":{\"colorbar\":{\"outlinewidth\":0,\"ticks\":\"\"}}}],\"histogram\":[{\"marker\":{\"pattern\":{\"fillmode\":\"overlay\",\"size\":10,\"solidity\":0.2}},\"type\":\"histogram\"}],\"scattergl\":[{\"type\":\"scattergl\",\"marker\":{\"colorbar\":{\"outlinewidth\":0,\"ticks\":\"\"}}}],\"scatter3d\":[{\"type\":\"scatter3d\",\"line\":{\"colorbar\":{\"outlinewidth\":0,\"ticks\":\"\"}},\"marker\":{\"colorbar\":{\"outlinewidth\":0,\"ticks\":\"\"}}}],\"scattermapbox\":[{\"type\":\"scattermapbox\",\"marker\":{\"colorbar\":{\"outlinewidth\":0,\"ticks\":\"\"}}}],\"scatterternary\":[{\"type\":\"scatterternary\",\"marker\":{\"colorbar\":{\"outlinewidth\":0,\"ticks\":\"\"}}}],\"scattercarpet\":[{\"type\":\"scattercarpet\",\"marker\":{\"colorbar\":{\"outlinewidth\":0,\"ticks\":\"\"}}}],\"carpet\":[{\"aaxis\":{\"endlinecolor\":\"#2a3f5f\",\"gridcolor\":\"white\",\"linecolor\":\"white\",\"minorgridcolor\":\"white\",\"startlinecolor\":\"#2a3f5f\"},\"baxis\":{\"endlinecolor\":\"#2a3f5f\",\"gridcolor\":\"white\",\"linecolor\":\"white\",\"minorgridcolor\":\"white\",\"startlinecolor\":\"#2a3f5f\"},\"type\":\"carpet\"}],\"table\":[{\"cells\":{\"fill\":{\"color\":\"#EBF0F8\"},\"line\":{\"color\":\"white\"}},\"header\":{\"fill\":{\"color\":\"#C8D4E3\"},\"line\":{\"color\":\"white\"}},\"type\":\"table\"}],\"barpolar\":[{\"marker\":{\"line\":{\"color\":\"#E5ECF6\",\"width\":0.5},\"pattern\":{\"fillmode\":\"overlay\",\"size\":10,\"solidity\":0.2}},\"type\":\"barpolar\"}],\"pie\":[{\"automargin\":true,\"type\":\"pie\"}]},\"layout\":{\"autotypenumbers\":\"strict\",\"colorway\":[\"#636efa\",\"#EF553B\",\"#00cc96\",\"#ab63fa\",\"#FFA15A\",\"#19d3f3\",\"#FF6692\",\"#B6E880\",\"#FF97FF\",\"#FECB52\"],\"font\":{\"color\":\"#2a3f5f\"},\"hovermode\":\"closest\",\"hoverlabel\":{\"align\":\"left\"},\"paper_bgcolor\":\"white\",\"plot_bgcolor\":\"#E5ECF6\",\"polar\":{\"bgcolor\":\"#E5ECF6\",\"angularaxis\":{\"gridcolor\":\"white\",\"linecolor\":\"white\",\"ticks\":\"\"},\"radialaxis\":{\"gridcolor\":\"white\",\"linecolor\":\"white\",\"ticks\":\"\"}},\"ternary\":{\"bgcolor\":\"#E5ECF6\",\"aaxis\":{\"gridcolor\":\"white\",\"linecolor\":\"white\",\"ticks\":\"\"},\"baxis\":{\"gridcolor\":\"white\",\"linecolor\":\"white\",\"ticks\":\"\"},\"caxis\":{\"gridcolor\":\"white\",\"linecolor\":\"white\",\"ticks\":\"\"}},\"coloraxis\":{\"colorbar\":{\"outlinewidth\":0,\"ticks\":\"\"}},\"colorscale\":{\"sequential\":[[0.0,\"#0d0887\"],[0.1111111111111111,\"#46039f\"],[0.2222222222222222,\"#7201a8\"],[0.3333333333333333,\"#9c179e\"],[0.4444444444444444,\"#bd3786\"],[0.5555555555555556,\"#d8576b\"],[0.6666666666666666,\"#ed7953\"],[0.7777777777777778,\"#fb9f3a\"],[0.8888888888888888,\"#fdca26\"],[1.0,\"#f0f921\"]],\"sequentialminus\":[[0.0,\"#0d0887\"],[0.1111111111111111,\"#46039f\"],[0.2222222222222222,\"#7201a8\"],[0.3333333333333333,\"#9c179e\"],[0.4444444444444444,\"#bd3786\"],[0.5555555555555556,\"#d8576b\"],[0.6666666666666666,\"#ed7953\"],[0.7777777777777778,\"#fb9f3a\"],[0.8888888888888888,\"#fdca26\"],[1.0,\"#f0f921\"]],\"diverging\":[[0,\"#8e0152\"],[0.1,\"#c51b7d\"],[0.2,\"#de77ae\"],[0.3,\"#f1b6da\"],[0.4,\"#fde0ef\"],[0.5,\"#f7f7f7\"],[0.6,\"#e6f5d0\"],[0.7,\"#b8e186\"],[0.8,\"#7fbc41\"],[0.9,\"#4d9221\"],[1,\"#276419\"]]},\"xaxis\":{\"gridcolor\":\"white\",\"linecolor\":\"white\",\"ticks\":\"\",\"title\":{\"standoff\":15},\"zerolinecolor\":\"white\",\"automargin\":true,\"zerolinewidth\":2},\"yaxis\":{\"gridcolor\":\"white\",\"linecolor\":\"white\",\"ticks\":\"\",\"title\":{\"standoff\":15},\"zerolinecolor\":\"white\",\"automargin\":true,\"zerolinewidth\":2},\"scene\":{\"xaxis\":{\"backgroundcolor\":\"#E5ECF6\",\"gridcolor\":\"white\",\"linecolor\":\"white\",\"showbackground\":true,\"ticks\":\"\",\"zerolinecolor\":\"white\",\"gridwidth\":2},\"yaxis\":{\"backgroundcolor\":\"#E5ECF6\",\"gridcolor\":\"white\",\"linecolor\":\"white\",\"showbackground\":true,\"ticks\":\"\",\"zerolinecolor\":\"white\",\"gridwidth\":2},\"zaxis\":{\"backgroundcolor\":\"#E5ECF6\",\"gridcolor\":\"white\",\"linecolor\":\"white\",\"showbackground\":true,\"ticks\":\"\",\"zerolinecolor\":\"white\",\"gridwidth\":2}},\"shapedefaults\":{\"line\":{\"color\":\"#2a3f5f\"}},\"annotationdefaults\":{\"arrowcolor\":\"#2a3f5f\",\"arrowhead\":0,\"arrowwidth\":1},\"geo\":{\"bgcolor\":\"white\",\"landcolor\":\"#E5ECF6\",\"subunitcolor\":\"white\",\"showland\":true,\"showlakes\":true,\"lakecolor\":\"white\"},\"title\":{\"x\":0.05},\"mapbox\":{\"style\":\"light\"}}},\"xaxis\":{\"anchor\":\"y\",\"domain\":[0.0,1.0],\"title\":{\"text\":\"price\"}},\"yaxis\":{\"anchor\":\"x\",\"domain\":[0.0,1.0],\"title\":{\"text\":\"review\"}},\"legend\":{\"tracegroupgap\":0},\"margin\":{\"t\":60}},                        {\"responsive\": true}                    ).then(function(){\n",
       "                            \n",
       "var gd = document.getElementById('154016ba-de81-41c1-a794-87a382b722dc');\n",
       "var x = new MutationObserver(function (mutations, observer) {{\n",
       "        var display = window.getComputedStyle(gd).display;\n",
       "        if (!display || display === 'none') {{\n",
       "            console.log([gd, 'removed!']);\n",
       "            Plotly.purge(gd);\n",
       "            observer.disconnect();\n",
       "        }}\n",
       "}});\n",
       "\n",
       "// Listen for the removal of the full notebook cells\n",
       "var notebookContainer = gd.closest('#notebook-container');\n",
       "if (notebookContainer) {{\n",
       "    x.observe(notebookContainer, {childList: true});\n",
       "}}\n",
       "\n",
       "// Listen for the clearing of the current output cell\n",
       "var outputEl = gd.closest('.output');\n",
       "if (outputEl) {{\n",
       "    x.observe(outputEl, {childList: true});\n",
       "}}\n",
       "\n",
       "                        })                };                });            </script>        </div>"
      ]
     },
     "metadata": {},
     "output_type": "display_data"
    }
   ],
   "source": [
    "fig = px.scatter(df, x=\"price\", y=\"review\", trendline=\"ols\")\n",
    "fig.show()"
   ]
  },
  {
   "cell_type": "code",
   "execution_count": 30,
   "metadata": {},
   "outputs": [
    {
     "name": "stderr",
     "output_type": "stream",
     "text": [
      "/tmp/ipykernel_20237/2067356101.py:1: FutureWarning:\n",
      "\n",
      "The default value of numeric_only in DataFrameGroupBy.mean is deprecated. In a future version, numeric_only will default to False. Either specify numeric_only or select only columns which should be valid for the function.\n",
      "\n"
     ]
    }
   ],
   "source": [
    "df1 = df.groupby('author').mean().sort_values('review',ascending=False).reset_index().head(10)"
   ]
  },
  {
   "cell_type": "code",
   "execution_count": 35,
   "metadata": {},
   "outputs": [
    {
     "data": {
      "application/vnd.plotly.v1+json": {
       "config": {
        "plotlyServerURL": "https://plot.ly"
       },
       "data": [
        {
         "hovertemplate": "<b>%{hovertext}</b><br><br>author=A. J. Finn<br>rating=%{marker.size}<br>review=%{y}<extra></extra>",
         "hovertext": [
          "A. J. Finn"
         ],
         "legendgroup": "A. J. Finn",
         "marker": {
          "color": "#636efa",
          "size": [
           4.8
          ],
          "sizemode": "area",
          "sizeref": 0.01225,
          "symbol": "circle"
         },
         "mode": "markers",
         "name": "A. J. Finn",
         "orientation": "v",
         "showlegend": true,
         "type": "scatter",
         "x": [
          4.8
         ],
         "xaxis": "x",
         "y": [
          376112
         ],
         "yaxis": "y"
        },
        {
         "hovertemplate": "<b>%{hovertext}</b><br><br>author=David Goggins<br>rating=%{marker.size}<br>review=%{y}<extra></extra>",
         "hovertext": [
          "David Goggins"
         ],
         "legendgroup": "David Goggins",
         "marker": {
          "color": "#EF553B",
          "size": [
           4.5
          ],
          "sizemode": "area",
          "sizeref": 0.01225,
          "symbol": "circle"
         },
         "mode": "markers",
         "name": "David Goggins",
         "orientation": "v",
         "showlegend": true,
         "type": "scatter",
         "x": [
          4.5
         ],
         "xaxis": "x",
         "y": [
          147155
         ],
         "yaxis": "y"
        },
        {
         "hovertemplate": "<b>%{hovertext}</b><br><br>author=Michelle Obama<br>rating=%{marker.size}<br>review=%{y}<extra></extra>",
         "hovertext": [
          "Michelle Obama"
         ],
         "legendgroup": "Michelle Obama",
         "marker": {
          "color": "#00cc96",
          "size": [
           4.8
          ],
          "sizemode": "area",
          "sizeref": 0.01225,
          "symbol": "circle"
         },
         "mode": "markers",
         "name": "Michelle Obama",
         "orientation": "v",
         "showlegend": true,
         "type": "scatter",
         "x": [
          4.8
         ],
         "xaxis": "x",
         "y": [
          124513
         ],
         "yaxis": "y"
        },
        {
         "hovertemplate": "<b>%{hovertext}</b><br><br>author=Tony Hsieh<br>rating=%{marker.size}<br>review=%{y}<extra></extra>",
         "hovertext": [
          "Tony Hsieh"
         ],
         "legendgroup": "Tony Hsieh",
         "marker": {
          "color": "#ab63fa",
          "size": [
           4.9
          ],
          "sizemode": "area",
          "sizeref": 0.01225,
          "symbol": "circle"
         },
         "mode": "markers",
         "name": "Tony Hsieh",
         "orientation": "v",
         "showlegend": true,
         "type": "scatter",
         "x": [
          4.9
         ],
         "xaxis": "x",
         "y": [
          95850
         ],
         "yaxis": "y"
        },
        {
         "hovertemplate": "<b>%{hovertext}</b><br><br>author=Craig Smith<br>rating=%{marker.size}<br>review=%{y}<extra></extra>",
         "hovertext": [
          "Craig Smith"
         ],
         "legendgroup": "Craig Smith",
         "marker": {
          "color": "#FFA15A",
          "size": [
           4.8
          ],
          "sizemode": "area",
          "sizeref": 0.01225,
          "symbol": "circle"
         },
         "mode": "markers",
         "name": "Craig Smith",
         "orientation": "v",
         "showlegend": true,
         "type": "scatter",
         "x": [
          4.8
         ],
         "xaxis": "x",
         "y": [
          76518
         ],
         "yaxis": "y"
        },
        {
         "hovertemplate": "<b>%{hovertext}</b><br><br>author=Tara Westover<br>rating=%{marker.size}<br>review=%{y}<extra></extra>",
         "hovertext": [
          "Tara Westover"
         ],
         "legendgroup": "Tara Westover",
         "marker": {
          "color": "#19d3f3",
          "size": [
           4.7
          ],
          "sizemode": "area",
          "sizeref": 0.01225,
          "symbol": "circle"
         },
         "mode": "markers",
         "name": "Tara Westover",
         "orientation": "v",
         "showlegend": true,
         "type": "scatter",
         "x": [
          4.7
         ],
         "xaxis": "x",
         "y": [
          72382
         ],
         "yaxis": "y"
        },
        {
         "hovertemplate": "<b>%{hovertext}</b><br><br>author=Simon Sinek<br>rating=%{marker.size}<br>review=%{y}<extra></extra>",
         "hovertext": [
          "Simon Sinek"
         ],
         "legendgroup": "Simon Sinek",
         "marker": {
          "color": "#FF6692",
          "size": [
           4.6
          ],
          "sizemode": "area",
          "sizeref": 0.01225,
          "symbol": "circle"
         },
         "mode": "markers",
         "name": "Simon Sinek",
         "orientation": "v",
         "showlegend": true,
         "type": "scatter",
         "x": [
          4.6
         ],
         "xaxis": "x",
         "y": [
          68710
         ],
         "yaxis": "y"
        },
        {
         "hovertemplate": "<b>%{hovertext}</b><br><br>author=Al Franken<br>rating=%{marker.size}<br>review=%{y}<extra></extra>",
         "hovertext": [
          "Al Franken"
         ],
         "legendgroup": "Al Franken",
         "marker": {
          "color": "#B6E880",
          "size": [
           4.7
          ],
          "sizemode": "area",
          "sizeref": 0.01225,
          "symbol": "circle"
         },
         "mode": "markers",
         "name": "Al Franken",
         "orientation": "v",
         "showlegend": true,
         "type": "scatter",
         "x": [
          4.7
         ],
         "xaxis": "x",
         "y": [
          68266
         ],
         "yaxis": "y"
        },
        {
         "hovertemplate": "<b>%{hovertext}</b><br><br>author=Robert T. Kiyosaki<br>rating=%{marker.size}<br>review=%{y}<extra></extra>",
         "hovertext": [
          "Robert T. Kiyosaki"
         ],
         "legendgroup": "Robert T. Kiyosaki",
         "marker": {
          "color": "#FF97FF",
          "size": [
           4.7
          ],
          "sizemode": "area",
          "sizeref": 0.01225,
          "symbol": "circle"
         },
         "mode": "markers",
         "name": "Robert T. Kiyosaki",
         "orientation": "v",
         "showlegend": true,
         "type": "scatter",
         "x": [
          4.7
         ],
         "xaxis": "x",
         "y": [
          63945.5
         ],
         "yaxis": "y"
        },
        {
         "hovertemplate": "<b>%{hovertext}</b><br><br>author=Daniel Lipkowitz<br>rating=%{marker.size}<br>review=%{y}<extra></extra>",
         "hovertext": [
          "Daniel Lipkowitz"
         ],
         "legendgroup": "Daniel Lipkowitz",
         "marker": {
          "color": "#FECB52",
          "size": [
           4.7
          ],
          "sizemode": "area",
          "sizeref": 0.01225,
          "symbol": "circle"
         },
         "mode": "markers",
         "name": "Daniel Lipkowitz",
         "orientation": "v",
         "showlegend": true,
         "type": "scatter",
         "x": [
          4.7
         ],
         "xaxis": "x",
         "y": [
          62949
         ],
         "yaxis": "y"
        }
       ],
       "layout": {
        "legend": {
         "itemsizing": "constant",
         "title": {
          "text": "author"
         },
         "tracegroupgap": 0
        },
        "margin": {
         "t": 60
        },
        "template": {
         "data": {
          "bar": [
           {
            "error_x": {
             "color": "#2a3f5f"
            },
            "error_y": {
             "color": "#2a3f5f"
            },
            "marker": {
             "line": {
              "color": "#E5ECF6",
              "width": 0.5
             },
             "pattern": {
              "fillmode": "overlay",
              "size": 10,
              "solidity": 0.2
             }
            },
            "type": "bar"
           }
          ],
          "barpolar": [
           {
            "marker": {
             "line": {
              "color": "#E5ECF6",
              "width": 0.5
             },
             "pattern": {
              "fillmode": "overlay",
              "size": 10,
              "solidity": 0.2
             }
            },
            "type": "barpolar"
           }
          ],
          "carpet": [
           {
            "aaxis": {
             "endlinecolor": "#2a3f5f",
             "gridcolor": "white",
             "linecolor": "white",
             "minorgridcolor": "white",
             "startlinecolor": "#2a3f5f"
            },
            "baxis": {
             "endlinecolor": "#2a3f5f",
             "gridcolor": "white",
             "linecolor": "white",
             "minorgridcolor": "white",
             "startlinecolor": "#2a3f5f"
            },
            "type": "carpet"
           }
          ],
          "choropleth": [
           {
            "colorbar": {
             "outlinewidth": 0,
             "ticks": ""
            },
            "type": "choropleth"
           }
          ],
          "contour": [
           {
            "colorbar": {
             "outlinewidth": 0,
             "ticks": ""
            },
            "colorscale": [
             [
              0,
              "#0d0887"
             ],
             [
              0.1111111111111111,
              "#46039f"
             ],
             [
              0.2222222222222222,
              "#7201a8"
             ],
             [
              0.3333333333333333,
              "#9c179e"
             ],
             [
              0.4444444444444444,
              "#bd3786"
             ],
             [
              0.5555555555555556,
              "#d8576b"
             ],
             [
              0.6666666666666666,
              "#ed7953"
             ],
             [
              0.7777777777777778,
              "#fb9f3a"
             ],
             [
              0.8888888888888888,
              "#fdca26"
             ],
             [
              1,
              "#f0f921"
             ]
            ],
            "type": "contour"
           }
          ],
          "contourcarpet": [
           {
            "colorbar": {
             "outlinewidth": 0,
             "ticks": ""
            },
            "type": "contourcarpet"
           }
          ],
          "heatmap": [
           {
            "colorbar": {
             "outlinewidth": 0,
             "ticks": ""
            },
            "colorscale": [
             [
              0,
              "#0d0887"
             ],
             [
              0.1111111111111111,
              "#46039f"
             ],
             [
              0.2222222222222222,
              "#7201a8"
             ],
             [
              0.3333333333333333,
              "#9c179e"
             ],
             [
              0.4444444444444444,
              "#bd3786"
             ],
             [
              0.5555555555555556,
              "#d8576b"
             ],
             [
              0.6666666666666666,
              "#ed7953"
             ],
             [
              0.7777777777777778,
              "#fb9f3a"
             ],
             [
              0.8888888888888888,
              "#fdca26"
             ],
             [
              1,
              "#f0f921"
             ]
            ],
            "type": "heatmap"
           }
          ],
          "heatmapgl": [
           {
            "colorbar": {
             "outlinewidth": 0,
             "ticks": ""
            },
            "colorscale": [
             [
              0,
              "#0d0887"
             ],
             [
              0.1111111111111111,
              "#46039f"
             ],
             [
              0.2222222222222222,
              "#7201a8"
             ],
             [
              0.3333333333333333,
              "#9c179e"
             ],
             [
              0.4444444444444444,
              "#bd3786"
             ],
             [
              0.5555555555555556,
              "#d8576b"
             ],
             [
              0.6666666666666666,
              "#ed7953"
             ],
             [
              0.7777777777777778,
              "#fb9f3a"
             ],
             [
              0.8888888888888888,
              "#fdca26"
             ],
             [
              1,
              "#f0f921"
             ]
            ],
            "type": "heatmapgl"
           }
          ],
          "histogram": [
           {
            "marker": {
             "pattern": {
              "fillmode": "overlay",
              "size": 10,
              "solidity": 0.2
             }
            },
            "type": "histogram"
           }
          ],
          "histogram2d": [
           {
            "colorbar": {
             "outlinewidth": 0,
             "ticks": ""
            },
            "colorscale": [
             [
              0,
              "#0d0887"
             ],
             [
              0.1111111111111111,
              "#46039f"
             ],
             [
              0.2222222222222222,
              "#7201a8"
             ],
             [
              0.3333333333333333,
              "#9c179e"
             ],
             [
              0.4444444444444444,
              "#bd3786"
             ],
             [
              0.5555555555555556,
              "#d8576b"
             ],
             [
              0.6666666666666666,
              "#ed7953"
             ],
             [
              0.7777777777777778,
              "#fb9f3a"
             ],
             [
              0.8888888888888888,
              "#fdca26"
             ],
             [
              1,
              "#f0f921"
             ]
            ],
            "type": "histogram2d"
           }
          ],
          "histogram2dcontour": [
           {
            "colorbar": {
             "outlinewidth": 0,
             "ticks": ""
            },
            "colorscale": [
             [
              0,
              "#0d0887"
             ],
             [
              0.1111111111111111,
              "#46039f"
             ],
             [
              0.2222222222222222,
              "#7201a8"
             ],
             [
              0.3333333333333333,
              "#9c179e"
             ],
             [
              0.4444444444444444,
              "#bd3786"
             ],
             [
              0.5555555555555556,
              "#d8576b"
             ],
             [
              0.6666666666666666,
              "#ed7953"
             ],
             [
              0.7777777777777778,
              "#fb9f3a"
             ],
             [
              0.8888888888888888,
              "#fdca26"
             ],
             [
              1,
              "#f0f921"
             ]
            ],
            "type": "histogram2dcontour"
           }
          ],
          "mesh3d": [
           {
            "colorbar": {
             "outlinewidth": 0,
             "ticks": ""
            },
            "type": "mesh3d"
           }
          ],
          "parcoords": [
           {
            "line": {
             "colorbar": {
              "outlinewidth": 0,
              "ticks": ""
             }
            },
            "type": "parcoords"
           }
          ],
          "pie": [
           {
            "automargin": true,
            "type": "pie"
           }
          ],
          "scatter": [
           {
            "fillpattern": {
             "fillmode": "overlay",
             "size": 10,
             "solidity": 0.2
            },
            "type": "scatter"
           }
          ],
          "scatter3d": [
           {
            "line": {
             "colorbar": {
              "outlinewidth": 0,
              "ticks": ""
             }
            },
            "marker": {
             "colorbar": {
              "outlinewidth": 0,
              "ticks": ""
             }
            },
            "type": "scatter3d"
           }
          ],
          "scattercarpet": [
           {
            "marker": {
             "colorbar": {
              "outlinewidth": 0,
              "ticks": ""
             }
            },
            "type": "scattercarpet"
           }
          ],
          "scattergeo": [
           {
            "marker": {
             "colorbar": {
              "outlinewidth": 0,
              "ticks": ""
             }
            },
            "type": "scattergeo"
           }
          ],
          "scattergl": [
           {
            "marker": {
             "colorbar": {
              "outlinewidth": 0,
              "ticks": ""
             }
            },
            "type": "scattergl"
           }
          ],
          "scattermapbox": [
           {
            "marker": {
             "colorbar": {
              "outlinewidth": 0,
              "ticks": ""
             }
            },
            "type": "scattermapbox"
           }
          ],
          "scatterpolar": [
           {
            "marker": {
             "colorbar": {
              "outlinewidth": 0,
              "ticks": ""
             }
            },
            "type": "scatterpolar"
           }
          ],
          "scatterpolargl": [
           {
            "marker": {
             "colorbar": {
              "outlinewidth": 0,
              "ticks": ""
             }
            },
            "type": "scatterpolargl"
           }
          ],
          "scatterternary": [
           {
            "marker": {
             "colorbar": {
              "outlinewidth": 0,
              "ticks": ""
             }
            },
            "type": "scatterternary"
           }
          ],
          "surface": [
           {
            "colorbar": {
             "outlinewidth": 0,
             "ticks": ""
            },
            "colorscale": [
             [
              0,
              "#0d0887"
             ],
             [
              0.1111111111111111,
              "#46039f"
             ],
             [
              0.2222222222222222,
              "#7201a8"
             ],
             [
              0.3333333333333333,
              "#9c179e"
             ],
             [
              0.4444444444444444,
              "#bd3786"
             ],
             [
              0.5555555555555556,
              "#d8576b"
             ],
             [
              0.6666666666666666,
              "#ed7953"
             ],
             [
              0.7777777777777778,
              "#fb9f3a"
             ],
             [
              0.8888888888888888,
              "#fdca26"
             ],
             [
              1,
              "#f0f921"
             ]
            ],
            "type": "surface"
           }
          ],
          "table": [
           {
            "cells": {
             "fill": {
              "color": "#EBF0F8"
             },
             "line": {
              "color": "white"
             }
            },
            "header": {
             "fill": {
              "color": "#C8D4E3"
             },
             "line": {
              "color": "white"
             }
            },
            "type": "table"
           }
          ]
         },
         "layout": {
          "annotationdefaults": {
           "arrowcolor": "#2a3f5f",
           "arrowhead": 0,
           "arrowwidth": 1
          },
          "autotypenumbers": "strict",
          "coloraxis": {
           "colorbar": {
            "outlinewidth": 0,
            "ticks": ""
           }
          },
          "colorscale": {
           "diverging": [
            [
             0,
             "#8e0152"
            ],
            [
             0.1,
             "#c51b7d"
            ],
            [
             0.2,
             "#de77ae"
            ],
            [
             0.3,
             "#f1b6da"
            ],
            [
             0.4,
             "#fde0ef"
            ],
            [
             0.5,
             "#f7f7f7"
            ],
            [
             0.6,
             "#e6f5d0"
            ],
            [
             0.7,
             "#b8e186"
            ],
            [
             0.8,
             "#7fbc41"
            ],
            [
             0.9,
             "#4d9221"
            ],
            [
             1,
             "#276419"
            ]
           ],
           "sequential": [
            [
             0,
             "#0d0887"
            ],
            [
             0.1111111111111111,
             "#46039f"
            ],
            [
             0.2222222222222222,
             "#7201a8"
            ],
            [
             0.3333333333333333,
             "#9c179e"
            ],
            [
             0.4444444444444444,
             "#bd3786"
            ],
            [
             0.5555555555555556,
             "#d8576b"
            ],
            [
             0.6666666666666666,
             "#ed7953"
            ],
            [
             0.7777777777777778,
             "#fb9f3a"
            ],
            [
             0.8888888888888888,
             "#fdca26"
            ],
            [
             1,
             "#f0f921"
            ]
           ],
           "sequentialminus": [
            [
             0,
             "#0d0887"
            ],
            [
             0.1111111111111111,
             "#46039f"
            ],
            [
             0.2222222222222222,
             "#7201a8"
            ],
            [
             0.3333333333333333,
             "#9c179e"
            ],
            [
             0.4444444444444444,
             "#bd3786"
            ],
            [
             0.5555555555555556,
             "#d8576b"
            ],
            [
             0.6666666666666666,
             "#ed7953"
            ],
            [
             0.7777777777777778,
             "#fb9f3a"
            ],
            [
             0.8888888888888888,
             "#fdca26"
            ],
            [
             1,
             "#f0f921"
            ]
           ]
          },
          "colorway": [
           "#636efa",
           "#EF553B",
           "#00cc96",
           "#ab63fa",
           "#FFA15A",
           "#19d3f3",
           "#FF6692",
           "#B6E880",
           "#FF97FF",
           "#FECB52"
          ],
          "font": {
           "color": "#2a3f5f"
          },
          "geo": {
           "bgcolor": "white",
           "lakecolor": "white",
           "landcolor": "#E5ECF6",
           "showlakes": true,
           "showland": true,
           "subunitcolor": "white"
          },
          "hoverlabel": {
           "align": "left"
          },
          "hovermode": "closest",
          "mapbox": {
           "style": "light"
          },
          "paper_bgcolor": "white",
          "plot_bgcolor": "#E5ECF6",
          "polar": {
           "angularaxis": {
            "gridcolor": "white",
            "linecolor": "white",
            "ticks": ""
           },
           "bgcolor": "#E5ECF6",
           "radialaxis": {
            "gridcolor": "white",
            "linecolor": "white",
            "ticks": ""
           }
          },
          "scene": {
           "xaxis": {
            "backgroundcolor": "#E5ECF6",
            "gridcolor": "white",
            "gridwidth": 2,
            "linecolor": "white",
            "showbackground": true,
            "ticks": "",
            "zerolinecolor": "white"
           },
           "yaxis": {
            "backgroundcolor": "#E5ECF6",
            "gridcolor": "white",
            "gridwidth": 2,
            "linecolor": "white",
            "showbackground": true,
            "ticks": "",
            "zerolinecolor": "white"
           },
           "zaxis": {
            "backgroundcolor": "#E5ECF6",
            "gridcolor": "white",
            "gridwidth": 2,
            "linecolor": "white",
            "showbackground": true,
            "ticks": "",
            "zerolinecolor": "white"
           }
          },
          "shapedefaults": {
           "line": {
            "color": "#2a3f5f"
           }
          },
          "ternary": {
           "aaxis": {
            "gridcolor": "white",
            "linecolor": "white",
            "ticks": ""
           },
           "baxis": {
            "gridcolor": "white",
            "linecolor": "white",
            "ticks": ""
           },
           "bgcolor": "#E5ECF6",
           "caxis": {
            "gridcolor": "white",
            "linecolor": "white",
            "ticks": ""
           }
          },
          "title": {
           "x": 0.05
          },
          "xaxis": {
           "automargin": true,
           "gridcolor": "white",
           "linecolor": "white",
           "ticks": "",
           "title": {
            "standoff": 15
           },
           "zerolinecolor": "white",
           "zerolinewidth": 2
          },
          "yaxis": {
           "automargin": true,
           "gridcolor": "white",
           "linecolor": "white",
           "ticks": "",
           "title": {
            "standoff": 15
           },
           "zerolinecolor": "white",
           "zerolinewidth": 2
          }
         }
        },
        "xaxis": {
         "anchor": "y",
         "domain": [
          0,
          1
         ],
         "title": {
          "text": "rating"
         },
         "type": "log"
        },
        "yaxis": {
         "anchor": "x",
         "domain": [
          0,
          1
         ],
         "title": {
          "text": "review"
         }
        }
       }
      },
      "text/html": [
       "<div>                            <div id=\"ba810ccf-b3f5-494d-aaea-e83683ece150\" class=\"plotly-graph-div\" style=\"height:525px; width:100%;\"></div>            <script type=\"text/javascript\">                require([\"plotly\"], function(Plotly) {                    window.PLOTLYENV=window.PLOTLYENV || {};                                    if (document.getElementById(\"ba810ccf-b3f5-494d-aaea-e83683ece150\")) {                    Plotly.newPlot(                        \"ba810ccf-b3f5-494d-aaea-e83683ece150\",                        [{\"hovertemplate\":\"<b>%{hovertext}</b><br><br>author=A. J. Finn<br>rating=%{marker.size}<br>review=%{y}<extra></extra>\",\"hovertext\":[\"A. J. Finn\"],\"legendgroup\":\"A. J. Finn\",\"marker\":{\"color\":\"#636efa\",\"size\":[4.8],\"sizemode\":\"area\",\"sizeref\":0.01225,\"symbol\":\"circle\"},\"mode\":\"markers\",\"name\":\"A. J. Finn\",\"orientation\":\"v\",\"showlegend\":true,\"x\":[4.8],\"xaxis\":\"x\",\"y\":[376112.0],\"yaxis\":\"y\",\"type\":\"scatter\"},{\"hovertemplate\":\"<b>%{hovertext}</b><br><br>author=David Goggins<br>rating=%{marker.size}<br>review=%{y}<extra></extra>\",\"hovertext\":[\"David Goggins\"],\"legendgroup\":\"David Goggins\",\"marker\":{\"color\":\"#EF553B\",\"size\":[4.5],\"sizemode\":\"area\",\"sizeref\":0.01225,\"symbol\":\"circle\"},\"mode\":\"markers\",\"name\":\"David Goggins\",\"orientation\":\"v\",\"showlegend\":true,\"x\":[4.5],\"xaxis\":\"x\",\"y\":[147155.0],\"yaxis\":\"y\",\"type\":\"scatter\"},{\"hovertemplate\":\"<b>%{hovertext}</b><br><br>author=Michelle Obama<br>rating=%{marker.size}<br>review=%{y}<extra></extra>\",\"hovertext\":[\"Michelle Obama\"],\"legendgroup\":\"Michelle Obama\",\"marker\":{\"color\":\"#00cc96\",\"size\":[4.8],\"sizemode\":\"area\",\"sizeref\":0.01225,\"symbol\":\"circle\"},\"mode\":\"markers\",\"name\":\"Michelle Obama\",\"orientation\":\"v\",\"showlegend\":true,\"x\":[4.8],\"xaxis\":\"x\",\"y\":[124513.0],\"yaxis\":\"y\",\"type\":\"scatter\"},{\"hovertemplate\":\"<b>%{hovertext}</b><br><br>author=Tony Hsieh<br>rating=%{marker.size}<br>review=%{y}<extra></extra>\",\"hovertext\":[\"Tony Hsieh\"],\"legendgroup\":\"Tony Hsieh\",\"marker\":{\"color\":\"#ab63fa\",\"size\":[4.9],\"sizemode\":\"area\",\"sizeref\":0.01225,\"symbol\":\"circle\"},\"mode\":\"markers\",\"name\":\"Tony Hsieh\",\"orientation\":\"v\",\"showlegend\":true,\"x\":[4.9],\"xaxis\":\"x\",\"y\":[95850.0],\"yaxis\":\"y\",\"type\":\"scatter\"},{\"hovertemplate\":\"<b>%{hovertext}</b><br><br>author=Craig Smith<br>rating=%{marker.size}<br>review=%{y}<extra></extra>\",\"hovertext\":[\"Craig Smith\"],\"legendgroup\":\"Craig Smith\",\"marker\":{\"color\":\"#FFA15A\",\"size\":[4.8],\"sizemode\":\"area\",\"sizeref\":0.01225,\"symbol\":\"circle\"},\"mode\":\"markers\",\"name\":\"Craig Smith\",\"orientation\":\"v\",\"showlegend\":true,\"x\":[4.8],\"xaxis\":\"x\",\"y\":[76518.0],\"yaxis\":\"y\",\"type\":\"scatter\"},{\"hovertemplate\":\"<b>%{hovertext}</b><br><br>author=Tara Westover<br>rating=%{marker.size}<br>review=%{y}<extra></extra>\",\"hovertext\":[\"Tara Westover\"],\"legendgroup\":\"Tara Westover\",\"marker\":{\"color\":\"#19d3f3\",\"size\":[4.7],\"sizemode\":\"area\",\"sizeref\":0.01225,\"symbol\":\"circle\"},\"mode\":\"markers\",\"name\":\"Tara Westover\",\"orientation\":\"v\",\"showlegend\":true,\"x\":[4.7],\"xaxis\":\"x\",\"y\":[72382.0],\"yaxis\":\"y\",\"type\":\"scatter\"},{\"hovertemplate\":\"<b>%{hovertext}</b><br><br>author=Simon Sinek<br>rating=%{marker.size}<br>review=%{y}<extra></extra>\",\"hovertext\":[\"Simon Sinek\"],\"legendgroup\":\"Simon Sinek\",\"marker\":{\"color\":\"#FF6692\",\"size\":[4.6],\"sizemode\":\"area\",\"sizeref\":0.01225,\"symbol\":\"circle\"},\"mode\":\"markers\",\"name\":\"Simon Sinek\",\"orientation\":\"v\",\"showlegend\":true,\"x\":[4.6],\"xaxis\":\"x\",\"y\":[68710.0],\"yaxis\":\"y\",\"type\":\"scatter\"},{\"hovertemplate\":\"<b>%{hovertext}</b><br><br>author=Al Franken<br>rating=%{marker.size}<br>review=%{y}<extra></extra>\",\"hovertext\":[\"Al Franken\"],\"legendgroup\":\"Al Franken\",\"marker\":{\"color\":\"#B6E880\",\"size\":[4.7],\"sizemode\":\"area\",\"sizeref\":0.01225,\"symbol\":\"circle\"},\"mode\":\"markers\",\"name\":\"Al Franken\",\"orientation\":\"v\",\"showlegend\":true,\"x\":[4.7],\"xaxis\":\"x\",\"y\":[68266.0],\"yaxis\":\"y\",\"type\":\"scatter\"},{\"hovertemplate\":\"<b>%{hovertext}</b><br><br>author=Robert T. Kiyosaki<br>rating=%{marker.size}<br>review=%{y}<extra></extra>\",\"hovertext\":[\"Robert T. Kiyosaki\"],\"legendgroup\":\"Robert T. Kiyosaki\",\"marker\":{\"color\":\"#FF97FF\",\"size\":[4.7],\"sizemode\":\"area\",\"sizeref\":0.01225,\"symbol\":\"circle\"},\"mode\":\"markers\",\"name\":\"Robert T. Kiyosaki\",\"orientation\":\"v\",\"showlegend\":true,\"x\":[4.7],\"xaxis\":\"x\",\"y\":[63945.5],\"yaxis\":\"y\",\"type\":\"scatter\"},{\"hovertemplate\":\"<b>%{hovertext}</b><br><br>author=Daniel Lipkowitz<br>rating=%{marker.size}<br>review=%{y}<extra></extra>\",\"hovertext\":[\"Daniel Lipkowitz\"],\"legendgroup\":\"Daniel Lipkowitz\",\"marker\":{\"color\":\"#FECB52\",\"size\":[4.7],\"sizemode\":\"area\",\"sizeref\":0.01225,\"symbol\":\"circle\"},\"mode\":\"markers\",\"name\":\"Daniel Lipkowitz\",\"orientation\":\"v\",\"showlegend\":true,\"x\":[4.7],\"xaxis\":\"x\",\"y\":[62949.0],\"yaxis\":\"y\",\"type\":\"scatter\"}],                        {\"template\":{\"data\":{\"histogram2dcontour\":[{\"type\":\"histogram2dcontour\",\"colorbar\":{\"outlinewidth\":0,\"ticks\":\"\"},\"colorscale\":[[0.0,\"#0d0887\"],[0.1111111111111111,\"#46039f\"],[0.2222222222222222,\"#7201a8\"],[0.3333333333333333,\"#9c179e\"],[0.4444444444444444,\"#bd3786\"],[0.5555555555555556,\"#d8576b\"],[0.6666666666666666,\"#ed7953\"],[0.7777777777777778,\"#fb9f3a\"],[0.8888888888888888,\"#fdca26\"],[1.0,\"#f0f921\"]]}],\"choropleth\":[{\"type\":\"choropleth\",\"colorbar\":{\"outlinewidth\":0,\"ticks\":\"\"}}],\"histogram2d\":[{\"type\":\"histogram2d\",\"colorbar\":{\"outlinewidth\":0,\"ticks\":\"\"},\"colorscale\":[[0.0,\"#0d0887\"],[0.1111111111111111,\"#46039f\"],[0.2222222222222222,\"#7201a8\"],[0.3333333333333333,\"#9c179e\"],[0.4444444444444444,\"#bd3786\"],[0.5555555555555556,\"#d8576b\"],[0.6666666666666666,\"#ed7953\"],[0.7777777777777778,\"#fb9f3a\"],[0.8888888888888888,\"#fdca26\"],[1.0,\"#f0f921\"]]}],\"heatmap\":[{\"type\":\"heatmap\",\"colorbar\":{\"outlinewidth\":0,\"ticks\":\"\"},\"colorscale\":[[0.0,\"#0d0887\"],[0.1111111111111111,\"#46039f\"],[0.2222222222222222,\"#7201a8\"],[0.3333333333333333,\"#9c179e\"],[0.4444444444444444,\"#bd3786\"],[0.5555555555555556,\"#d8576b\"],[0.6666666666666666,\"#ed7953\"],[0.7777777777777778,\"#fb9f3a\"],[0.8888888888888888,\"#fdca26\"],[1.0,\"#f0f921\"]]}],\"heatmapgl\":[{\"type\":\"heatmapgl\",\"colorbar\":{\"outlinewidth\":0,\"ticks\":\"\"},\"colorscale\":[[0.0,\"#0d0887\"],[0.1111111111111111,\"#46039f\"],[0.2222222222222222,\"#7201a8\"],[0.3333333333333333,\"#9c179e\"],[0.4444444444444444,\"#bd3786\"],[0.5555555555555556,\"#d8576b\"],[0.6666666666666666,\"#ed7953\"],[0.7777777777777778,\"#fb9f3a\"],[0.8888888888888888,\"#fdca26\"],[1.0,\"#f0f921\"]]}],\"contourcarpet\":[{\"type\":\"contourcarpet\",\"colorbar\":{\"outlinewidth\":0,\"ticks\":\"\"}}],\"contour\":[{\"type\":\"contour\",\"colorbar\":{\"outlinewidth\":0,\"ticks\":\"\"},\"colorscale\":[[0.0,\"#0d0887\"],[0.1111111111111111,\"#46039f\"],[0.2222222222222222,\"#7201a8\"],[0.3333333333333333,\"#9c179e\"],[0.4444444444444444,\"#bd3786\"],[0.5555555555555556,\"#d8576b\"],[0.6666666666666666,\"#ed7953\"],[0.7777777777777778,\"#fb9f3a\"],[0.8888888888888888,\"#fdca26\"],[1.0,\"#f0f921\"]]}],\"surface\":[{\"type\":\"surface\",\"colorbar\":{\"outlinewidth\":0,\"ticks\":\"\"},\"colorscale\":[[0.0,\"#0d0887\"],[0.1111111111111111,\"#46039f\"],[0.2222222222222222,\"#7201a8\"],[0.3333333333333333,\"#9c179e\"],[0.4444444444444444,\"#bd3786\"],[0.5555555555555556,\"#d8576b\"],[0.6666666666666666,\"#ed7953\"],[0.7777777777777778,\"#fb9f3a\"],[0.8888888888888888,\"#fdca26\"],[1.0,\"#f0f921\"]]}],\"mesh3d\":[{\"type\":\"mesh3d\",\"colorbar\":{\"outlinewidth\":0,\"ticks\":\"\"}}],\"scatter\":[{\"fillpattern\":{\"fillmode\":\"overlay\",\"size\":10,\"solidity\":0.2},\"type\":\"scatter\"}],\"parcoords\":[{\"type\":\"parcoords\",\"line\":{\"colorbar\":{\"outlinewidth\":0,\"ticks\":\"\"}}}],\"scatterpolargl\":[{\"type\":\"scatterpolargl\",\"marker\":{\"colorbar\":{\"outlinewidth\":0,\"ticks\":\"\"}}}],\"bar\":[{\"error_x\":{\"color\":\"#2a3f5f\"},\"error_y\":{\"color\":\"#2a3f5f\"},\"marker\":{\"line\":{\"color\":\"#E5ECF6\",\"width\":0.5},\"pattern\":{\"fillmode\":\"overlay\",\"size\":10,\"solidity\":0.2}},\"type\":\"bar\"}],\"scattergeo\":[{\"type\":\"scattergeo\",\"marker\":{\"colorbar\":{\"outlinewidth\":0,\"ticks\":\"\"}}}],\"scatterpolar\":[{\"type\":\"scatterpolar\",\"marker\":{\"colorbar\":{\"outlinewidth\":0,\"ticks\":\"\"}}}],\"histogram\":[{\"marker\":{\"pattern\":{\"fillmode\":\"overlay\",\"size\":10,\"solidity\":0.2}},\"type\":\"histogram\"}],\"scattergl\":[{\"type\":\"scattergl\",\"marker\":{\"colorbar\":{\"outlinewidth\":0,\"ticks\":\"\"}}}],\"scatter3d\":[{\"type\":\"scatter3d\",\"line\":{\"colorbar\":{\"outlinewidth\":0,\"ticks\":\"\"}},\"marker\":{\"colorbar\":{\"outlinewidth\":0,\"ticks\":\"\"}}}],\"scattermapbox\":[{\"type\":\"scattermapbox\",\"marker\":{\"colorbar\":{\"outlinewidth\":0,\"ticks\":\"\"}}}],\"scatterternary\":[{\"type\":\"scatterternary\",\"marker\":{\"colorbar\":{\"outlinewidth\":0,\"ticks\":\"\"}}}],\"scattercarpet\":[{\"type\":\"scattercarpet\",\"marker\":{\"colorbar\":{\"outlinewidth\":0,\"ticks\":\"\"}}}],\"carpet\":[{\"aaxis\":{\"endlinecolor\":\"#2a3f5f\",\"gridcolor\":\"white\",\"linecolor\":\"white\",\"minorgridcolor\":\"white\",\"startlinecolor\":\"#2a3f5f\"},\"baxis\":{\"endlinecolor\":\"#2a3f5f\",\"gridcolor\":\"white\",\"linecolor\":\"white\",\"minorgridcolor\":\"white\",\"startlinecolor\":\"#2a3f5f\"},\"type\":\"carpet\"}],\"table\":[{\"cells\":{\"fill\":{\"color\":\"#EBF0F8\"},\"line\":{\"color\":\"white\"}},\"header\":{\"fill\":{\"color\":\"#C8D4E3\"},\"line\":{\"color\":\"white\"}},\"type\":\"table\"}],\"barpolar\":[{\"marker\":{\"line\":{\"color\":\"#E5ECF6\",\"width\":0.5},\"pattern\":{\"fillmode\":\"overlay\",\"size\":10,\"solidity\":0.2}},\"type\":\"barpolar\"}],\"pie\":[{\"automargin\":true,\"type\":\"pie\"}]},\"layout\":{\"autotypenumbers\":\"strict\",\"colorway\":[\"#636efa\",\"#EF553B\",\"#00cc96\",\"#ab63fa\",\"#FFA15A\",\"#19d3f3\",\"#FF6692\",\"#B6E880\",\"#FF97FF\",\"#FECB52\"],\"font\":{\"color\":\"#2a3f5f\"},\"hovermode\":\"closest\",\"hoverlabel\":{\"align\":\"left\"},\"paper_bgcolor\":\"white\",\"plot_bgcolor\":\"#E5ECF6\",\"polar\":{\"bgcolor\":\"#E5ECF6\",\"angularaxis\":{\"gridcolor\":\"white\",\"linecolor\":\"white\",\"ticks\":\"\"},\"radialaxis\":{\"gridcolor\":\"white\",\"linecolor\":\"white\",\"ticks\":\"\"}},\"ternary\":{\"bgcolor\":\"#E5ECF6\",\"aaxis\":{\"gridcolor\":\"white\",\"linecolor\":\"white\",\"ticks\":\"\"},\"baxis\":{\"gridcolor\":\"white\",\"linecolor\":\"white\",\"ticks\":\"\"},\"caxis\":{\"gridcolor\":\"white\",\"linecolor\":\"white\",\"ticks\":\"\"}},\"coloraxis\":{\"colorbar\":{\"outlinewidth\":0,\"ticks\":\"\"}},\"colorscale\":{\"sequential\":[[0.0,\"#0d0887\"],[0.1111111111111111,\"#46039f\"],[0.2222222222222222,\"#7201a8\"],[0.3333333333333333,\"#9c179e\"],[0.4444444444444444,\"#bd3786\"],[0.5555555555555556,\"#d8576b\"],[0.6666666666666666,\"#ed7953\"],[0.7777777777777778,\"#fb9f3a\"],[0.8888888888888888,\"#fdca26\"],[1.0,\"#f0f921\"]],\"sequentialminus\":[[0.0,\"#0d0887\"],[0.1111111111111111,\"#46039f\"],[0.2222222222222222,\"#7201a8\"],[0.3333333333333333,\"#9c179e\"],[0.4444444444444444,\"#bd3786\"],[0.5555555555555556,\"#d8576b\"],[0.6666666666666666,\"#ed7953\"],[0.7777777777777778,\"#fb9f3a\"],[0.8888888888888888,\"#fdca26\"],[1.0,\"#f0f921\"]],\"diverging\":[[0,\"#8e0152\"],[0.1,\"#c51b7d\"],[0.2,\"#de77ae\"],[0.3,\"#f1b6da\"],[0.4,\"#fde0ef\"],[0.5,\"#f7f7f7\"],[0.6,\"#e6f5d0\"],[0.7,\"#b8e186\"],[0.8,\"#7fbc41\"],[0.9,\"#4d9221\"],[1,\"#276419\"]]},\"xaxis\":{\"gridcolor\":\"white\",\"linecolor\":\"white\",\"ticks\":\"\",\"title\":{\"standoff\":15},\"zerolinecolor\":\"white\",\"automargin\":true,\"zerolinewidth\":2},\"yaxis\":{\"gridcolor\":\"white\",\"linecolor\":\"white\",\"ticks\":\"\",\"title\":{\"standoff\":15},\"zerolinecolor\":\"white\",\"automargin\":true,\"zerolinewidth\":2},\"scene\":{\"xaxis\":{\"backgroundcolor\":\"#E5ECF6\",\"gridcolor\":\"white\",\"linecolor\":\"white\",\"showbackground\":true,\"ticks\":\"\",\"zerolinecolor\":\"white\",\"gridwidth\":2},\"yaxis\":{\"backgroundcolor\":\"#E5ECF6\",\"gridcolor\":\"white\",\"linecolor\":\"white\",\"showbackground\":true,\"ticks\":\"\",\"zerolinecolor\":\"white\",\"gridwidth\":2},\"zaxis\":{\"backgroundcolor\":\"#E5ECF6\",\"gridcolor\":\"white\",\"linecolor\":\"white\",\"showbackground\":true,\"ticks\":\"\",\"zerolinecolor\":\"white\",\"gridwidth\":2}},\"shapedefaults\":{\"line\":{\"color\":\"#2a3f5f\"}},\"annotationdefaults\":{\"arrowcolor\":\"#2a3f5f\",\"arrowhead\":0,\"arrowwidth\":1},\"geo\":{\"bgcolor\":\"white\",\"landcolor\":\"#E5ECF6\",\"subunitcolor\":\"white\",\"showland\":true,\"showlakes\":true,\"lakecolor\":\"white\"},\"title\":{\"x\":0.05},\"mapbox\":{\"style\":\"light\"}}},\"xaxis\":{\"anchor\":\"y\",\"domain\":[0.0,1.0],\"title\":{\"text\":\"rating\"},\"type\":\"log\"},\"yaxis\":{\"anchor\":\"x\",\"domain\":[0.0,1.0],\"title\":{\"text\":\"review\"}},\"legend\":{\"title\":{\"text\":\"author\"},\"tracegroupgap\":0,\"itemsizing\":\"constant\"},\"margin\":{\"t\":60}},                        {\"responsive\": true}                    ).then(function(){\n",
       "                            \n",
       "var gd = document.getElementById('ba810ccf-b3f5-494d-aaea-e83683ece150');\n",
       "var x = new MutationObserver(function (mutations, observer) {{\n",
       "        var display = window.getComputedStyle(gd).display;\n",
       "        if (!display || display === 'none') {{\n",
       "            console.log([gd, 'removed!']);\n",
       "            Plotly.purge(gd);\n",
       "            observer.disconnect();\n",
       "        }}\n",
       "}});\n",
       "\n",
       "// Listen for the removal of the full notebook cells\n",
       "var notebookContainer = gd.closest('#notebook-container');\n",
       "if (notebookContainer) {{\n",
       "    x.observe(notebookContainer, {childList: true});\n",
       "}}\n",
       "\n",
       "// Listen for the clearing of the current output cell\n",
       "var outputEl = gd.closest('.output');\n",
       "if (outputEl) {{\n",
       "    x.observe(outputEl, {childList: true});\n",
       "}}\n",
       "\n",
       "                        })                };                });            </script>        </div>"
      ]
     },
     "metadata": {},
     "output_type": "display_data"
    }
   ],
   "source": [
    "fig = px.scatter(df1, x=\"rating\", y=\"review\",\n",
    "\t             color=\"author\", size = 'rating',\n",
    "                 hover_name=\"author\", log_x=True)\n",
    "fig.show()"
   ]
  },
  {
   "cell_type": "code",
   "execution_count": 38,
   "metadata": {},
   "outputs": [
    {
     "name": "stderr",
     "output_type": "stream",
     "text": [
      "/tmp/ipykernel_20237/2836443327.py:1: FutureWarning:\n",
      "\n",
      "The default value of numeric_only in DataFrameGroupBy.mean is deprecated. In a future version, numeric_only will default to False. Either specify numeric_only or select only columns which should be valid for the function.\n",
      "\n"
     ]
    },
    {
     "data": {
      "application/vnd.plotly.v1+json": {
       "config": {
        "plotlyServerURL": "https://plot.ly"
       },
       "data": [
        {
         "alignmentgroup": "True",
         "hovertemplate": "title=%{x}<br>price=%{y}<extra></extra>",
         "legendgroup": "Diagnostic and Statistical Manual of Mental Disorders, 5th Edition: DSM-5",
         "marker": {
          "color": "#636efa",
          "pattern": {
           "shape": ""
          }
         },
         "name": "Diagnostic and Statistical Manual of Mental Disorders, 5th Edition: DSM-5",
         "offsetgroup": "Diagnostic and Statistical Manual of Mental Disorders, 5th Edition: DSM-5",
         "orientation": "v",
         "showlegend": true,
         "textposition": "auto",
         "type": "bar",
         "x": [
          "Diagnostic and Statistical Manual of Mental Disorders, 5th Edition: DSM-5"
         ],
         "xaxis": "x",
         "y": [
          41.92
         ],
         "yaxis": "y"
        },
        {
         "alignmentgroup": "True",
         "hovertemplate": "title=%{x}<br>price=%{y}<extra></extra>",
         "legendgroup": "The World of Ice & Fire: The Untold History of Westeros and the Game of Thrones",
         "marker": {
          "color": "#EF553B",
          "pattern": {
           "shape": ""
          }
         },
         "name": "The World of Ice & Fire: The Untold History of Westeros and the Game of Thrones",
         "offsetgroup": "The World of Ice & Fire: The Untold History of Westeros and the Game of Thrones",
         "orientation": "v",
         "showlegend": true,
         "textposition": "auto",
         "type": "bar",
         "x": [
          "The World of Ice & Fire: The Untold History of Westeros and the Game of Thrones"
         ],
         "xaxis": "x",
         "y": [
          29.41
         ],
         "yaxis": "y"
        },
        {
         "alignmentgroup": "True",
         "hovertemplate": "title=%{x}<br>price=%{y}<extra></extra>",
         "legendgroup": "Harry Potter Paperback Box Set (Books 1-7)",
         "marker": {
          "color": "#00cc96",
          "pattern": {
           "shape": ""
          }
         },
         "name": "Harry Potter Paperback Box Set (Books 1-7)",
         "offsetgroup": "Harry Potter Paperback Box Set (Books 1-7)",
         "orientation": "v",
         "showlegend": true,
         "textposition": "auto",
         "type": "bar",
         "x": [
          "Harry Potter Paperback Box Set (Books 1-7)"
         ],
         "xaxis": "x",
         "y": [
          28.76
         ],
         "yaxis": "y"
        },
        {
         "alignmentgroup": "True",
         "hovertemplate": "title=%{x}<br>price=%{y}<extra></extra>",
         "legendgroup": "D&D Monster Manual (Dungeons & Dragons Core Rulebook)",
         "marker": {
          "color": "#ab63fa",
          "pattern": {
           "shape": ""
          }
         },
         "name": "D&D Monster Manual (Dungeons & Dragons Core Rulebook)",
         "offsetgroup": "D&D Monster Manual (Dungeons & Dragons Core Rulebook)",
         "orientation": "v",
         "showlegend": true,
         "textposition": "auto",
         "type": "bar",
         "x": [
          "D&D Monster Manual (Dungeons & Dragons Core Rulebook)"
         ],
         "xaxis": "x",
         "y": [
          24.98
         ],
         "yaxis": "y"
        },
        {
         "alignmentgroup": "True",
         "hovertemplate": "title=%{x}<br>price=%{y}<extra></extra>",
         "legendgroup": "Sookie Stackhouse 8-copy Boxed Set (Sookie Stackhouse / Southern Vampire)",
         "marker": {
          "color": "#FFA15A",
          "pattern": {
           "shape": ""
          }
         },
         "name": "Sookie Stackhouse 8-copy Boxed Set (Sookie Stackhouse / Southern Vampire)",
         "offsetgroup": "Sookie Stackhouse 8-copy Boxed Set (Sookie Stackhouse / Southern Vampire)",
         "orientation": "v",
         "showlegend": true,
         "textposition": "auto",
         "type": "bar",
         "x": [
          "Sookie Stackhouse 8-copy Boxed Set (Sookie Stackhouse / Southern Vampire)"
         ],
         "xaxis": "x",
         "y": [
          23.2
         ],
         "yaxis": "y"
        },
        {
         "alignmentgroup": "True",
         "hovertemplate": "title=%{x}<br>price=%{y}<extra></extra>",
         "legendgroup": "The Social Animal: The Hidden Sources of Love, Character, and Achievement",
         "marker": {
          "color": "#19d3f3",
          "pattern": {
           "shape": ""
          }
         },
         "name": "The Social Animal: The Hidden Sources of Love, Character, and Achievement",
         "offsetgroup": "The Social Animal: The Hidden Sources of Love, Character, and Achievement",
         "orientation": "v",
         "showlegend": true,
         "textposition": "auto",
         "type": "bar",
         "x": [
          "The Social Animal: The Hidden Sources of Love, Character, and Achievement"
         ],
         "xaxis": "x",
         "y": [
          19.99
         ],
         "yaxis": "y"
        },
        {
         "alignmentgroup": "True",
         "hovertemplate": "title=%{x}<br>price=%{y}<extra></extra>",
         "legendgroup": "The Food Lab: Better Home Cooking Through Science",
         "marker": {
          "color": "#FF6692",
          "pattern": {
           "shape": ""
          }
         },
         "name": "The Food Lab: Better Home Cooking Through Science",
         "offsetgroup": "The Food Lab: Better Home Cooking Through Science",
         "orientation": "v",
         "showlegend": true,
         "textposition": "auto",
         "type": "bar",
         "x": [
          "The Food Lab: Better Home Cooking Through Science"
         ],
         "xaxis": "x",
         "y": [
          19.79
         ],
         "yaxis": "y"
        },
        {
         "alignmentgroup": "True",
         "hovertemplate": "title=%{x}<br>price=%{y}<extra></extra>",
         "legendgroup": "D&D Dungeon Master’s Guide (Dungeons & Dragons Core Rulebook)",
         "marker": {
          "color": "#B6E880",
          "pattern": {
           "shape": ""
          }
         },
         "name": "D&D Dungeon Master’s Guide (Dungeons & Dragons Core Rulebook)",
         "offsetgroup": "D&D Dungeon Master’s Guide (Dungeons & Dragons Core Rulebook)",
         "orientation": "v",
         "showlegend": true,
         "textposition": "auto",
         "type": "bar",
         "x": [
          "D&D Dungeon Master’s Guide (Dungeons & Dragons Core Rulebook)"
         ],
         "xaxis": "x",
         "y": [
          18
         ],
         "yaxis": "y"
        },
        {
         "alignmentgroup": "True",
         "hovertemplate": "title=%{x}<br>price=%{y}<extra></extra>",
         "legendgroup": "D&D Player’s Handbook (Dungeons & Dragons Core Rulebook)",
         "marker": {
          "color": "#FF97FF",
          "pattern": {
           "shape": ""
          }
         },
         "name": "D&D Player’s Handbook (Dungeons & Dragons Core Rulebook)",
         "offsetgroup": "D&D Player’s Handbook (Dungeons & Dragons Core Rulebook)",
         "orientation": "v",
         "showlegend": true,
         "textposition": "auto",
         "type": "bar",
         "x": [
          "D&D Player’s Handbook (Dungeons & Dragons Core Rulebook)"
         ],
         "xaxis": "x",
         "y": [
          16.95
         ],
         "yaxis": "y"
        },
        {
         "alignmentgroup": "True",
         "hovertemplate": "title=%{x}<br>price=%{y}<extra></extra>",
         "legendgroup": "Salt, Fat, Acid, Heat: Mastering the Elements of Good Cooking",
         "marker": {
          "color": "#FECB52",
          "pattern": {
           "shape": ""
          }
         },
         "name": "Salt, Fat, Acid, Heat: Mastering the Elements of Good Cooking",
         "offsetgroup": "Salt, Fat, Acid, Heat: Mastering the Elements of Good Cooking",
         "orientation": "v",
         "showlegend": true,
         "textposition": "auto",
         "type": "bar",
         "x": [
          "Salt, Fat, Acid, Heat: Mastering the Elements of Good Cooking"
         ],
         "xaxis": "x",
         "y": [
          15.86
         ],
         "yaxis": "y"
        }
       ],
       "layout": {
        "barmode": "relative",
        "height": 400,
        "legend": {
         "title": {
          "text": "title"
         },
         "tracegroupgap": 0
        },
        "margin": {
         "t": 60
        },
        "template": {
         "data": {
          "bar": [
           {
            "error_x": {
             "color": "#2a3f5f"
            },
            "error_y": {
             "color": "#2a3f5f"
            },
            "marker": {
             "line": {
              "color": "#E5ECF6",
              "width": 0.5
             },
             "pattern": {
              "fillmode": "overlay",
              "size": 10,
              "solidity": 0.2
             }
            },
            "type": "bar"
           }
          ],
          "barpolar": [
           {
            "marker": {
             "line": {
              "color": "#E5ECF6",
              "width": 0.5
             },
             "pattern": {
              "fillmode": "overlay",
              "size": 10,
              "solidity": 0.2
             }
            },
            "type": "barpolar"
           }
          ],
          "carpet": [
           {
            "aaxis": {
             "endlinecolor": "#2a3f5f",
             "gridcolor": "white",
             "linecolor": "white",
             "minorgridcolor": "white",
             "startlinecolor": "#2a3f5f"
            },
            "baxis": {
             "endlinecolor": "#2a3f5f",
             "gridcolor": "white",
             "linecolor": "white",
             "minorgridcolor": "white",
             "startlinecolor": "#2a3f5f"
            },
            "type": "carpet"
           }
          ],
          "choropleth": [
           {
            "colorbar": {
             "outlinewidth": 0,
             "ticks": ""
            },
            "type": "choropleth"
           }
          ],
          "contour": [
           {
            "colorbar": {
             "outlinewidth": 0,
             "ticks": ""
            },
            "colorscale": [
             [
              0,
              "#0d0887"
             ],
             [
              0.1111111111111111,
              "#46039f"
             ],
             [
              0.2222222222222222,
              "#7201a8"
             ],
             [
              0.3333333333333333,
              "#9c179e"
             ],
             [
              0.4444444444444444,
              "#bd3786"
             ],
             [
              0.5555555555555556,
              "#d8576b"
             ],
             [
              0.6666666666666666,
              "#ed7953"
             ],
             [
              0.7777777777777778,
              "#fb9f3a"
             ],
             [
              0.8888888888888888,
              "#fdca26"
             ],
             [
              1,
              "#f0f921"
             ]
            ],
            "type": "contour"
           }
          ],
          "contourcarpet": [
           {
            "colorbar": {
             "outlinewidth": 0,
             "ticks": ""
            },
            "type": "contourcarpet"
           }
          ],
          "heatmap": [
           {
            "colorbar": {
             "outlinewidth": 0,
             "ticks": ""
            },
            "colorscale": [
             [
              0,
              "#0d0887"
             ],
             [
              0.1111111111111111,
              "#46039f"
             ],
             [
              0.2222222222222222,
              "#7201a8"
             ],
             [
              0.3333333333333333,
              "#9c179e"
             ],
             [
              0.4444444444444444,
              "#bd3786"
             ],
             [
              0.5555555555555556,
              "#d8576b"
             ],
             [
              0.6666666666666666,
              "#ed7953"
             ],
             [
              0.7777777777777778,
              "#fb9f3a"
             ],
             [
              0.8888888888888888,
              "#fdca26"
             ],
             [
              1,
              "#f0f921"
             ]
            ],
            "type": "heatmap"
           }
          ],
          "heatmapgl": [
           {
            "colorbar": {
             "outlinewidth": 0,
             "ticks": ""
            },
            "colorscale": [
             [
              0,
              "#0d0887"
             ],
             [
              0.1111111111111111,
              "#46039f"
             ],
             [
              0.2222222222222222,
              "#7201a8"
             ],
             [
              0.3333333333333333,
              "#9c179e"
             ],
             [
              0.4444444444444444,
              "#bd3786"
             ],
             [
              0.5555555555555556,
              "#d8576b"
             ],
             [
              0.6666666666666666,
              "#ed7953"
             ],
             [
              0.7777777777777778,
              "#fb9f3a"
             ],
             [
              0.8888888888888888,
              "#fdca26"
             ],
             [
              1,
              "#f0f921"
             ]
            ],
            "type": "heatmapgl"
           }
          ],
          "histogram": [
           {
            "marker": {
             "pattern": {
              "fillmode": "overlay",
              "size": 10,
              "solidity": 0.2
             }
            },
            "type": "histogram"
           }
          ],
          "histogram2d": [
           {
            "colorbar": {
             "outlinewidth": 0,
             "ticks": ""
            },
            "colorscale": [
             [
              0,
              "#0d0887"
             ],
             [
              0.1111111111111111,
              "#46039f"
             ],
             [
              0.2222222222222222,
              "#7201a8"
             ],
             [
              0.3333333333333333,
              "#9c179e"
             ],
             [
              0.4444444444444444,
              "#bd3786"
             ],
             [
              0.5555555555555556,
              "#d8576b"
             ],
             [
              0.6666666666666666,
              "#ed7953"
             ],
             [
              0.7777777777777778,
              "#fb9f3a"
             ],
             [
              0.8888888888888888,
              "#fdca26"
             ],
             [
              1,
              "#f0f921"
             ]
            ],
            "type": "histogram2d"
           }
          ],
          "histogram2dcontour": [
           {
            "colorbar": {
             "outlinewidth": 0,
             "ticks": ""
            },
            "colorscale": [
             [
              0,
              "#0d0887"
             ],
             [
              0.1111111111111111,
              "#46039f"
             ],
             [
              0.2222222222222222,
              "#7201a8"
             ],
             [
              0.3333333333333333,
              "#9c179e"
             ],
             [
              0.4444444444444444,
              "#bd3786"
             ],
             [
              0.5555555555555556,
              "#d8576b"
             ],
             [
              0.6666666666666666,
              "#ed7953"
             ],
             [
              0.7777777777777778,
              "#fb9f3a"
             ],
             [
              0.8888888888888888,
              "#fdca26"
             ],
             [
              1,
              "#f0f921"
             ]
            ],
            "type": "histogram2dcontour"
           }
          ],
          "mesh3d": [
           {
            "colorbar": {
             "outlinewidth": 0,
             "ticks": ""
            },
            "type": "mesh3d"
           }
          ],
          "parcoords": [
           {
            "line": {
             "colorbar": {
              "outlinewidth": 0,
              "ticks": ""
             }
            },
            "type": "parcoords"
           }
          ],
          "pie": [
           {
            "automargin": true,
            "type": "pie"
           }
          ],
          "scatter": [
           {
            "fillpattern": {
             "fillmode": "overlay",
             "size": 10,
             "solidity": 0.2
            },
            "type": "scatter"
           }
          ],
          "scatter3d": [
           {
            "line": {
             "colorbar": {
              "outlinewidth": 0,
              "ticks": ""
             }
            },
            "marker": {
             "colorbar": {
              "outlinewidth": 0,
              "ticks": ""
             }
            },
            "type": "scatter3d"
           }
          ],
          "scattercarpet": [
           {
            "marker": {
             "colorbar": {
              "outlinewidth": 0,
              "ticks": ""
             }
            },
            "type": "scattercarpet"
           }
          ],
          "scattergeo": [
           {
            "marker": {
             "colorbar": {
              "outlinewidth": 0,
              "ticks": ""
             }
            },
            "type": "scattergeo"
           }
          ],
          "scattergl": [
           {
            "marker": {
             "colorbar": {
              "outlinewidth": 0,
              "ticks": ""
             }
            },
            "type": "scattergl"
           }
          ],
          "scattermapbox": [
           {
            "marker": {
             "colorbar": {
              "outlinewidth": 0,
              "ticks": ""
             }
            },
            "type": "scattermapbox"
           }
          ],
          "scatterpolar": [
           {
            "marker": {
             "colorbar": {
              "outlinewidth": 0,
              "ticks": ""
             }
            },
            "type": "scatterpolar"
           }
          ],
          "scatterpolargl": [
           {
            "marker": {
             "colorbar": {
              "outlinewidth": 0,
              "ticks": ""
             }
            },
            "type": "scatterpolargl"
           }
          ],
          "scatterternary": [
           {
            "marker": {
             "colorbar": {
              "outlinewidth": 0,
              "ticks": ""
             }
            },
            "type": "scatterternary"
           }
          ],
          "surface": [
           {
            "colorbar": {
             "outlinewidth": 0,
             "ticks": ""
            },
            "colorscale": [
             [
              0,
              "#0d0887"
             ],
             [
              0.1111111111111111,
              "#46039f"
             ],
             [
              0.2222222222222222,
              "#7201a8"
             ],
             [
              0.3333333333333333,
              "#9c179e"
             ],
             [
              0.4444444444444444,
              "#bd3786"
             ],
             [
              0.5555555555555556,
              "#d8576b"
             ],
             [
              0.6666666666666666,
              "#ed7953"
             ],
             [
              0.7777777777777778,
              "#fb9f3a"
             ],
             [
              0.8888888888888888,
              "#fdca26"
             ],
             [
              1,
              "#f0f921"
             ]
            ],
            "type": "surface"
           }
          ],
          "table": [
           {
            "cells": {
             "fill": {
              "color": "#EBF0F8"
             },
             "line": {
              "color": "white"
             }
            },
            "header": {
             "fill": {
              "color": "#C8D4E3"
             },
             "line": {
              "color": "white"
             }
            },
            "type": "table"
           }
          ]
         },
         "layout": {
          "annotationdefaults": {
           "arrowcolor": "#2a3f5f",
           "arrowhead": 0,
           "arrowwidth": 1
          },
          "autotypenumbers": "strict",
          "coloraxis": {
           "colorbar": {
            "outlinewidth": 0,
            "ticks": ""
           }
          },
          "colorscale": {
           "diverging": [
            [
             0,
             "#8e0152"
            ],
            [
             0.1,
             "#c51b7d"
            ],
            [
             0.2,
             "#de77ae"
            ],
            [
             0.3,
             "#f1b6da"
            ],
            [
             0.4,
             "#fde0ef"
            ],
            [
             0.5,
             "#f7f7f7"
            ],
            [
             0.6,
             "#e6f5d0"
            ],
            [
             0.7,
             "#b8e186"
            ],
            [
             0.8,
             "#7fbc41"
            ],
            [
             0.9,
             "#4d9221"
            ],
            [
             1,
             "#276419"
            ]
           ],
           "sequential": [
            [
             0,
             "#0d0887"
            ],
            [
             0.1111111111111111,
             "#46039f"
            ],
            [
             0.2222222222222222,
             "#7201a8"
            ],
            [
             0.3333333333333333,
             "#9c179e"
            ],
            [
             0.4444444444444444,
             "#bd3786"
            ],
            [
             0.5555555555555556,
             "#d8576b"
            ],
            [
             0.6666666666666666,
             "#ed7953"
            ],
            [
             0.7777777777777778,
             "#fb9f3a"
            ],
            [
             0.8888888888888888,
             "#fdca26"
            ],
            [
             1,
             "#f0f921"
            ]
           ],
           "sequentialminus": [
            [
             0,
             "#0d0887"
            ],
            [
             0.1111111111111111,
             "#46039f"
            ],
            [
             0.2222222222222222,
             "#7201a8"
            ],
            [
             0.3333333333333333,
             "#9c179e"
            ],
            [
             0.4444444444444444,
             "#bd3786"
            ],
            [
             0.5555555555555556,
             "#d8576b"
            ],
            [
             0.6666666666666666,
             "#ed7953"
            ],
            [
             0.7777777777777778,
             "#fb9f3a"
            ],
            [
             0.8888888888888888,
             "#fdca26"
            ],
            [
             1,
             "#f0f921"
            ]
           ]
          },
          "colorway": [
           "#636efa",
           "#EF553B",
           "#00cc96",
           "#ab63fa",
           "#FFA15A",
           "#19d3f3",
           "#FF6692",
           "#B6E880",
           "#FF97FF",
           "#FECB52"
          ],
          "font": {
           "color": "#2a3f5f"
          },
          "geo": {
           "bgcolor": "white",
           "lakecolor": "white",
           "landcolor": "#E5ECF6",
           "showlakes": true,
           "showland": true,
           "subunitcolor": "white"
          },
          "hoverlabel": {
           "align": "left"
          },
          "hovermode": "closest",
          "mapbox": {
           "style": "light"
          },
          "paper_bgcolor": "white",
          "plot_bgcolor": "#E5ECF6",
          "polar": {
           "angularaxis": {
            "gridcolor": "white",
            "linecolor": "white",
            "ticks": ""
           },
           "bgcolor": "#E5ECF6",
           "radialaxis": {
            "gridcolor": "white",
            "linecolor": "white",
            "ticks": ""
           }
          },
          "scene": {
           "xaxis": {
            "backgroundcolor": "#E5ECF6",
            "gridcolor": "white",
            "gridwidth": 2,
            "linecolor": "white",
            "showbackground": true,
            "ticks": "",
            "zerolinecolor": "white"
           },
           "yaxis": {
            "backgroundcolor": "#E5ECF6",
            "gridcolor": "white",
            "gridwidth": 2,
            "linecolor": "white",
            "showbackground": true,
            "ticks": "",
            "zerolinecolor": "white"
           },
           "zaxis": {
            "backgroundcolor": "#E5ECF6",
            "gridcolor": "white",
            "gridwidth": 2,
            "linecolor": "white",
            "showbackground": true,
            "ticks": "",
            "zerolinecolor": "white"
           }
          },
          "shapedefaults": {
           "line": {
            "color": "#2a3f5f"
           }
          },
          "ternary": {
           "aaxis": {
            "gridcolor": "white",
            "linecolor": "white",
            "ticks": ""
           },
           "baxis": {
            "gridcolor": "white",
            "linecolor": "white",
            "ticks": ""
           },
           "bgcolor": "#E5ECF6",
           "caxis": {
            "gridcolor": "white",
            "linecolor": "white",
            "ticks": ""
           }
          },
          "title": {
           "x": 0.05
          },
          "xaxis": {
           "automargin": true,
           "gridcolor": "white",
           "linecolor": "white",
           "ticks": "",
           "title": {
            "standoff": 15
           },
           "zerolinecolor": "white",
           "zerolinewidth": 2
          },
          "yaxis": {
           "automargin": true,
           "gridcolor": "white",
           "linecolor": "white",
           "ticks": "",
           "title": {
            "standoff": 15
           },
           "zerolinecolor": "white",
           "zerolinewidth": 2
          }
         }
        },
        "xaxis": {
         "anchor": "y",
         "categoryarray": [
          "Diagnostic and Statistical Manual of Mental Disorders, 5th Edition: DSM-5",
          "The World of Ice & Fire: The Untold History of Westeros and the Game of Thrones",
          "Harry Potter Paperback Box Set (Books 1-7)",
          "D&D Monster Manual (Dungeons & Dragons Core Rulebook)",
          "Sookie Stackhouse 8-copy Boxed Set (Sookie Stackhouse / Southern Vampire)",
          "The Social Animal: The Hidden Sources of Love, Character, and Achievement",
          "The Food Lab: Better Home Cooking Through Science",
          "D&D Dungeon Master’s Guide (Dungeons & Dragons Core Rulebook)",
          "D&D Player’s Handbook (Dungeons & Dragons Core Rulebook)",
          "Salt, Fat, Acid, Heat: Mastering the Elements of Good Cooking"
         ],
         "categoryorder": "array",
         "domain": [
          0,
          1
         ],
         "title": {
          "text": "title"
         }
        },
        "yaxis": {
         "anchor": "x",
         "domain": [
          0,
          1
         ],
         "title": {
          "text": "price"
         }
        }
       }
      },
      "text/html": [
       "<div>                            <div id=\"99016893-2a8e-4a97-8e70-0abc97c4fa3a\" class=\"plotly-graph-div\" style=\"height:400px; width:100%;\"></div>            <script type=\"text/javascript\">                require([\"plotly\"], function(Plotly) {                    window.PLOTLYENV=window.PLOTLYENV || {};                                    if (document.getElementById(\"99016893-2a8e-4a97-8e70-0abc97c4fa3a\")) {                    Plotly.newPlot(                        \"99016893-2a8e-4a97-8e70-0abc97c4fa3a\",                        [{\"alignmentgroup\":\"True\",\"hovertemplate\":\"title=%{x}<br>price=%{y}<extra></extra>\",\"legendgroup\":\"Diagnostic and Statistical Manual of Mental Disorders, 5th Edition: DSM-5\",\"marker\":{\"color\":\"#636efa\",\"pattern\":{\"shape\":\"\"}},\"name\":\"Diagnostic and Statistical Manual of Mental Disorders, 5th Edition: DSM-5\",\"offsetgroup\":\"Diagnostic and Statistical Manual of Mental Disorders, 5th Edition: DSM-5\",\"orientation\":\"v\",\"showlegend\":true,\"textposition\":\"auto\",\"x\":[\"Diagnostic and Statistical Manual of Mental Disorders, 5th Edition: DSM-5\"],\"xaxis\":\"x\",\"y\":[41.92],\"yaxis\":\"y\",\"type\":\"bar\"},{\"alignmentgroup\":\"True\",\"hovertemplate\":\"title=%{x}<br>price=%{y}<extra></extra>\",\"legendgroup\":\"The World of Ice & Fire: The Untold History of Westeros and the Game of Thrones\",\"marker\":{\"color\":\"#EF553B\",\"pattern\":{\"shape\":\"\"}},\"name\":\"The World of Ice & Fire: The Untold History of Westeros and the Game of Thrones\",\"offsetgroup\":\"The World of Ice & Fire: The Untold History of Westeros and the Game of Thrones\",\"orientation\":\"v\",\"showlegend\":true,\"textposition\":\"auto\",\"x\":[\"The World of Ice & Fire: The Untold History of Westeros and the Game of Thrones\"],\"xaxis\":\"x\",\"y\":[29.41],\"yaxis\":\"y\",\"type\":\"bar\"},{\"alignmentgroup\":\"True\",\"hovertemplate\":\"title=%{x}<br>price=%{y}<extra></extra>\",\"legendgroup\":\"Harry Potter Paperback Box Set (Books 1-7)\",\"marker\":{\"color\":\"#00cc96\",\"pattern\":{\"shape\":\"\"}},\"name\":\"Harry Potter Paperback Box Set (Books 1-7)\",\"offsetgroup\":\"Harry Potter Paperback Box Set (Books 1-7)\",\"orientation\":\"v\",\"showlegend\":true,\"textposition\":\"auto\",\"x\":[\"Harry Potter Paperback Box Set (Books 1-7)\"],\"xaxis\":\"x\",\"y\":[28.76],\"yaxis\":\"y\",\"type\":\"bar\"},{\"alignmentgroup\":\"True\",\"hovertemplate\":\"title=%{x}<br>price=%{y}<extra></extra>\",\"legendgroup\":\"D&D Monster Manual (Dungeons & Dragons Core Rulebook)\",\"marker\":{\"color\":\"#ab63fa\",\"pattern\":{\"shape\":\"\"}},\"name\":\"D&D Monster Manual (Dungeons & Dragons Core Rulebook)\",\"offsetgroup\":\"D&D Monster Manual (Dungeons & Dragons Core Rulebook)\",\"orientation\":\"v\",\"showlegend\":true,\"textposition\":\"auto\",\"x\":[\"D&D Monster Manual (Dungeons & Dragons Core Rulebook)\"],\"xaxis\":\"x\",\"y\":[24.98],\"yaxis\":\"y\",\"type\":\"bar\"},{\"alignmentgroup\":\"True\",\"hovertemplate\":\"title=%{x}<br>price=%{y}<extra></extra>\",\"legendgroup\":\"Sookie Stackhouse 8-copy Boxed Set (Sookie Stackhouse / Southern Vampire)\",\"marker\":{\"color\":\"#FFA15A\",\"pattern\":{\"shape\":\"\"}},\"name\":\"Sookie Stackhouse 8-copy Boxed Set (Sookie Stackhouse / Southern Vampire)\",\"offsetgroup\":\"Sookie Stackhouse 8-copy Boxed Set (Sookie Stackhouse / Southern Vampire)\",\"orientation\":\"v\",\"showlegend\":true,\"textposition\":\"auto\",\"x\":[\"Sookie Stackhouse 8-copy Boxed Set (Sookie Stackhouse / Southern Vampire)\"],\"xaxis\":\"x\",\"y\":[23.2],\"yaxis\":\"y\",\"type\":\"bar\"},{\"alignmentgroup\":\"True\",\"hovertemplate\":\"title=%{x}<br>price=%{y}<extra></extra>\",\"legendgroup\":\"The Social Animal: The Hidden Sources of Love, Character, and Achievement\",\"marker\":{\"color\":\"#19d3f3\",\"pattern\":{\"shape\":\"\"}},\"name\":\"The Social Animal: The Hidden Sources of Love, Character, and Achievement\",\"offsetgroup\":\"The Social Animal: The Hidden Sources of Love, Character, and Achievement\",\"orientation\":\"v\",\"showlegend\":true,\"textposition\":\"auto\",\"x\":[\"The Social Animal: The Hidden Sources of Love, Character, and Achievement\"],\"xaxis\":\"x\",\"y\":[19.99],\"yaxis\":\"y\",\"type\":\"bar\"},{\"alignmentgroup\":\"True\",\"hovertemplate\":\"title=%{x}<br>price=%{y}<extra></extra>\",\"legendgroup\":\"The Food Lab: Better Home Cooking Through Science\",\"marker\":{\"color\":\"#FF6692\",\"pattern\":{\"shape\":\"\"}},\"name\":\"The Food Lab: Better Home Cooking Through Science\",\"offsetgroup\":\"The Food Lab: Better Home Cooking Through Science\",\"orientation\":\"v\",\"showlegend\":true,\"textposition\":\"auto\",\"x\":[\"The Food Lab: Better Home Cooking Through Science\"],\"xaxis\":\"x\",\"y\":[19.79],\"yaxis\":\"y\",\"type\":\"bar\"},{\"alignmentgroup\":\"True\",\"hovertemplate\":\"title=%{x}<br>price=%{y}<extra></extra>\",\"legendgroup\":\"D&D Dungeon Master\\u2019s Guide (Dungeons & Dragons Core Rulebook)\",\"marker\":{\"color\":\"#B6E880\",\"pattern\":{\"shape\":\"\"}},\"name\":\"D&D Dungeon Master\\u2019s Guide (Dungeons & Dragons Core Rulebook)\",\"offsetgroup\":\"D&D Dungeon Master\\u2019s Guide (Dungeons & Dragons Core Rulebook)\",\"orientation\":\"v\",\"showlegend\":true,\"textposition\":\"auto\",\"x\":[\"D&D Dungeon Master\\u2019s Guide (Dungeons & Dragons Core Rulebook)\"],\"xaxis\":\"x\",\"y\":[18.0],\"yaxis\":\"y\",\"type\":\"bar\"},{\"alignmentgroup\":\"True\",\"hovertemplate\":\"title=%{x}<br>price=%{y}<extra></extra>\",\"legendgroup\":\"D&D Player\\u2019s Handbook (Dungeons & Dragons Core Rulebook)\",\"marker\":{\"color\":\"#FF97FF\",\"pattern\":{\"shape\":\"\"}},\"name\":\"D&D Player\\u2019s Handbook (Dungeons & Dragons Core Rulebook)\",\"offsetgroup\":\"D&D Player\\u2019s Handbook (Dungeons & Dragons Core Rulebook)\",\"orientation\":\"v\",\"showlegend\":true,\"textposition\":\"auto\",\"x\":[\"D&D Player\\u2019s Handbook (Dungeons & Dragons Core Rulebook)\"],\"xaxis\":\"x\",\"y\":[16.95],\"yaxis\":\"y\",\"type\":\"bar\"},{\"alignmentgroup\":\"True\",\"hovertemplate\":\"title=%{x}<br>price=%{y}<extra></extra>\",\"legendgroup\":\"Salt, Fat, Acid, Heat: Mastering the Elements of Good Cooking\",\"marker\":{\"color\":\"#FECB52\",\"pattern\":{\"shape\":\"\"}},\"name\":\"Salt, Fat, Acid, Heat: Mastering the Elements of Good Cooking\",\"offsetgroup\":\"Salt, Fat, Acid, Heat: Mastering the Elements of Good Cooking\",\"orientation\":\"v\",\"showlegend\":true,\"textposition\":\"auto\",\"x\":[\"Salt, Fat, Acid, Heat: Mastering the Elements of Good Cooking\"],\"xaxis\":\"x\",\"y\":[15.86],\"yaxis\":\"y\",\"type\":\"bar\"}],                        {\"template\":{\"data\":{\"histogram2dcontour\":[{\"type\":\"histogram2dcontour\",\"colorbar\":{\"outlinewidth\":0,\"ticks\":\"\"},\"colorscale\":[[0.0,\"#0d0887\"],[0.1111111111111111,\"#46039f\"],[0.2222222222222222,\"#7201a8\"],[0.3333333333333333,\"#9c179e\"],[0.4444444444444444,\"#bd3786\"],[0.5555555555555556,\"#d8576b\"],[0.6666666666666666,\"#ed7953\"],[0.7777777777777778,\"#fb9f3a\"],[0.8888888888888888,\"#fdca26\"],[1.0,\"#f0f921\"]]}],\"choropleth\":[{\"type\":\"choropleth\",\"colorbar\":{\"outlinewidth\":0,\"ticks\":\"\"}}],\"histogram2d\":[{\"type\":\"histogram2d\",\"colorbar\":{\"outlinewidth\":0,\"ticks\":\"\"},\"colorscale\":[[0.0,\"#0d0887\"],[0.1111111111111111,\"#46039f\"],[0.2222222222222222,\"#7201a8\"],[0.3333333333333333,\"#9c179e\"],[0.4444444444444444,\"#bd3786\"],[0.5555555555555556,\"#d8576b\"],[0.6666666666666666,\"#ed7953\"],[0.7777777777777778,\"#fb9f3a\"],[0.8888888888888888,\"#fdca26\"],[1.0,\"#f0f921\"]]}],\"heatmap\":[{\"type\":\"heatmap\",\"colorbar\":{\"outlinewidth\":0,\"ticks\":\"\"},\"colorscale\":[[0.0,\"#0d0887\"],[0.1111111111111111,\"#46039f\"],[0.2222222222222222,\"#7201a8\"],[0.3333333333333333,\"#9c179e\"],[0.4444444444444444,\"#bd3786\"],[0.5555555555555556,\"#d8576b\"],[0.6666666666666666,\"#ed7953\"],[0.7777777777777778,\"#fb9f3a\"],[0.8888888888888888,\"#fdca26\"],[1.0,\"#f0f921\"]]}],\"heatmapgl\":[{\"type\":\"heatmapgl\",\"colorbar\":{\"outlinewidth\":0,\"ticks\":\"\"},\"colorscale\":[[0.0,\"#0d0887\"],[0.1111111111111111,\"#46039f\"],[0.2222222222222222,\"#7201a8\"],[0.3333333333333333,\"#9c179e\"],[0.4444444444444444,\"#bd3786\"],[0.5555555555555556,\"#d8576b\"],[0.6666666666666666,\"#ed7953\"],[0.7777777777777778,\"#fb9f3a\"],[0.8888888888888888,\"#fdca26\"],[1.0,\"#f0f921\"]]}],\"contourcarpet\":[{\"type\":\"contourcarpet\",\"colorbar\":{\"outlinewidth\":0,\"ticks\":\"\"}}],\"contour\":[{\"type\":\"contour\",\"colorbar\":{\"outlinewidth\":0,\"ticks\":\"\"},\"colorscale\":[[0.0,\"#0d0887\"],[0.1111111111111111,\"#46039f\"],[0.2222222222222222,\"#7201a8\"],[0.3333333333333333,\"#9c179e\"],[0.4444444444444444,\"#bd3786\"],[0.5555555555555556,\"#d8576b\"],[0.6666666666666666,\"#ed7953\"],[0.7777777777777778,\"#fb9f3a\"],[0.8888888888888888,\"#fdca26\"],[1.0,\"#f0f921\"]]}],\"surface\":[{\"type\":\"surface\",\"colorbar\":{\"outlinewidth\":0,\"ticks\":\"\"},\"colorscale\":[[0.0,\"#0d0887\"],[0.1111111111111111,\"#46039f\"],[0.2222222222222222,\"#7201a8\"],[0.3333333333333333,\"#9c179e\"],[0.4444444444444444,\"#bd3786\"],[0.5555555555555556,\"#d8576b\"],[0.6666666666666666,\"#ed7953\"],[0.7777777777777778,\"#fb9f3a\"],[0.8888888888888888,\"#fdca26\"],[1.0,\"#f0f921\"]]}],\"mesh3d\":[{\"type\":\"mesh3d\",\"colorbar\":{\"outlinewidth\":0,\"ticks\":\"\"}}],\"scatter\":[{\"fillpattern\":{\"fillmode\":\"overlay\",\"size\":10,\"solidity\":0.2},\"type\":\"scatter\"}],\"parcoords\":[{\"type\":\"parcoords\",\"line\":{\"colorbar\":{\"outlinewidth\":0,\"ticks\":\"\"}}}],\"scatterpolargl\":[{\"type\":\"scatterpolargl\",\"marker\":{\"colorbar\":{\"outlinewidth\":0,\"ticks\":\"\"}}}],\"bar\":[{\"error_x\":{\"color\":\"#2a3f5f\"},\"error_y\":{\"color\":\"#2a3f5f\"},\"marker\":{\"line\":{\"color\":\"#E5ECF6\",\"width\":0.5},\"pattern\":{\"fillmode\":\"overlay\",\"size\":10,\"solidity\":0.2}},\"type\":\"bar\"}],\"scattergeo\":[{\"type\":\"scattergeo\",\"marker\":{\"colorbar\":{\"outlinewidth\":0,\"ticks\":\"\"}}}],\"scatterpolar\":[{\"type\":\"scatterpolar\",\"marker\":{\"colorbar\":{\"outlinewidth\":0,\"ticks\":\"\"}}}],\"histogram\":[{\"marker\":{\"pattern\":{\"fillmode\":\"overlay\",\"size\":10,\"solidity\":0.2}},\"type\":\"histogram\"}],\"scattergl\":[{\"type\":\"scattergl\",\"marker\":{\"colorbar\":{\"outlinewidth\":0,\"ticks\":\"\"}}}],\"scatter3d\":[{\"type\":\"scatter3d\",\"line\":{\"colorbar\":{\"outlinewidth\":0,\"ticks\":\"\"}},\"marker\":{\"colorbar\":{\"outlinewidth\":0,\"ticks\":\"\"}}}],\"scattermapbox\":[{\"type\":\"scattermapbox\",\"marker\":{\"colorbar\":{\"outlinewidth\":0,\"ticks\":\"\"}}}],\"scatterternary\":[{\"type\":\"scatterternary\",\"marker\":{\"colorbar\":{\"outlinewidth\":0,\"ticks\":\"\"}}}],\"scattercarpet\":[{\"type\":\"scattercarpet\",\"marker\":{\"colorbar\":{\"outlinewidth\":0,\"ticks\":\"\"}}}],\"carpet\":[{\"aaxis\":{\"endlinecolor\":\"#2a3f5f\",\"gridcolor\":\"white\",\"linecolor\":\"white\",\"minorgridcolor\":\"white\",\"startlinecolor\":\"#2a3f5f\"},\"baxis\":{\"endlinecolor\":\"#2a3f5f\",\"gridcolor\":\"white\",\"linecolor\":\"white\",\"minorgridcolor\":\"white\",\"startlinecolor\":\"#2a3f5f\"},\"type\":\"carpet\"}],\"table\":[{\"cells\":{\"fill\":{\"color\":\"#EBF0F8\"},\"line\":{\"color\":\"white\"}},\"header\":{\"fill\":{\"color\":\"#C8D4E3\"},\"line\":{\"color\":\"white\"}},\"type\":\"table\"}],\"barpolar\":[{\"marker\":{\"line\":{\"color\":\"#E5ECF6\",\"width\":0.5},\"pattern\":{\"fillmode\":\"overlay\",\"size\":10,\"solidity\":0.2}},\"type\":\"barpolar\"}],\"pie\":[{\"automargin\":true,\"type\":\"pie\"}]},\"layout\":{\"autotypenumbers\":\"strict\",\"colorway\":[\"#636efa\",\"#EF553B\",\"#00cc96\",\"#ab63fa\",\"#FFA15A\",\"#19d3f3\",\"#FF6692\",\"#B6E880\",\"#FF97FF\",\"#FECB52\"],\"font\":{\"color\":\"#2a3f5f\"},\"hovermode\":\"closest\",\"hoverlabel\":{\"align\":\"left\"},\"paper_bgcolor\":\"white\",\"plot_bgcolor\":\"#E5ECF6\",\"polar\":{\"bgcolor\":\"#E5ECF6\",\"angularaxis\":{\"gridcolor\":\"white\",\"linecolor\":\"white\",\"ticks\":\"\"},\"radialaxis\":{\"gridcolor\":\"white\",\"linecolor\":\"white\",\"ticks\":\"\"}},\"ternary\":{\"bgcolor\":\"#E5ECF6\",\"aaxis\":{\"gridcolor\":\"white\",\"linecolor\":\"white\",\"ticks\":\"\"},\"baxis\":{\"gridcolor\":\"white\",\"linecolor\":\"white\",\"ticks\":\"\"},\"caxis\":{\"gridcolor\":\"white\",\"linecolor\":\"white\",\"ticks\":\"\"}},\"coloraxis\":{\"colorbar\":{\"outlinewidth\":0,\"ticks\":\"\"}},\"colorscale\":{\"sequential\":[[0.0,\"#0d0887\"],[0.1111111111111111,\"#46039f\"],[0.2222222222222222,\"#7201a8\"],[0.3333333333333333,\"#9c179e\"],[0.4444444444444444,\"#bd3786\"],[0.5555555555555556,\"#d8576b\"],[0.6666666666666666,\"#ed7953\"],[0.7777777777777778,\"#fb9f3a\"],[0.8888888888888888,\"#fdca26\"],[1.0,\"#f0f921\"]],\"sequentialminus\":[[0.0,\"#0d0887\"],[0.1111111111111111,\"#46039f\"],[0.2222222222222222,\"#7201a8\"],[0.3333333333333333,\"#9c179e\"],[0.4444444444444444,\"#bd3786\"],[0.5555555555555556,\"#d8576b\"],[0.6666666666666666,\"#ed7953\"],[0.7777777777777778,\"#fb9f3a\"],[0.8888888888888888,\"#fdca26\"],[1.0,\"#f0f921\"]],\"diverging\":[[0,\"#8e0152\"],[0.1,\"#c51b7d\"],[0.2,\"#de77ae\"],[0.3,\"#f1b6da\"],[0.4,\"#fde0ef\"],[0.5,\"#f7f7f7\"],[0.6,\"#e6f5d0\"],[0.7,\"#b8e186\"],[0.8,\"#7fbc41\"],[0.9,\"#4d9221\"],[1,\"#276419\"]]},\"xaxis\":{\"gridcolor\":\"white\",\"linecolor\":\"white\",\"ticks\":\"\",\"title\":{\"standoff\":15},\"zerolinecolor\":\"white\",\"automargin\":true,\"zerolinewidth\":2},\"yaxis\":{\"gridcolor\":\"white\",\"linecolor\":\"white\",\"ticks\":\"\",\"title\":{\"standoff\":15},\"zerolinecolor\":\"white\",\"automargin\":true,\"zerolinewidth\":2},\"scene\":{\"xaxis\":{\"backgroundcolor\":\"#E5ECF6\",\"gridcolor\":\"white\",\"linecolor\":\"white\",\"showbackground\":true,\"ticks\":\"\",\"zerolinecolor\":\"white\",\"gridwidth\":2},\"yaxis\":{\"backgroundcolor\":\"#E5ECF6\",\"gridcolor\":\"white\",\"linecolor\":\"white\",\"showbackground\":true,\"ticks\":\"\",\"zerolinecolor\":\"white\",\"gridwidth\":2},\"zaxis\":{\"backgroundcolor\":\"#E5ECF6\",\"gridcolor\":\"white\",\"linecolor\":\"white\",\"showbackground\":true,\"ticks\":\"\",\"zerolinecolor\":\"white\",\"gridwidth\":2}},\"shapedefaults\":{\"line\":{\"color\":\"#2a3f5f\"}},\"annotationdefaults\":{\"arrowcolor\":\"#2a3f5f\",\"arrowhead\":0,\"arrowwidth\":1},\"geo\":{\"bgcolor\":\"white\",\"landcolor\":\"#E5ECF6\",\"subunitcolor\":\"white\",\"showland\":true,\"showlakes\":true,\"lakecolor\":\"white\"},\"title\":{\"x\":0.05},\"mapbox\":{\"style\":\"light\"}}},\"xaxis\":{\"anchor\":\"y\",\"domain\":[0.0,1.0],\"title\":{\"text\":\"title\"},\"categoryorder\":\"array\",\"categoryarray\":[\"Diagnostic and Statistical Manual of Mental Disorders, 5th Edition: DSM-5\",\"The World of Ice & Fire: The Untold History of Westeros and the Game of Thrones\",\"Harry Potter Paperback Box Set (Books 1-7)\",\"D&D Monster Manual (Dungeons & Dragons Core Rulebook)\",\"Sookie Stackhouse 8-copy Boxed Set (Sookie Stackhouse / Southern Vampire)\",\"The Social Animal: The Hidden Sources of Love, Character, and Achievement\",\"The Food Lab: Better Home Cooking Through Science\",\"D&D Dungeon Master\\u2019s Guide (Dungeons & Dragons Core Rulebook)\",\"D&D Player\\u2019s Handbook (Dungeons & Dragons Core Rulebook)\",\"Salt, Fat, Acid, Heat: Mastering the Elements of Good Cooking\"]},\"yaxis\":{\"anchor\":\"x\",\"domain\":[0.0,1.0],\"title\":{\"text\":\"price\"}},\"legend\":{\"title\":{\"text\":\"title\"},\"tracegroupgap\":0},\"margin\":{\"t\":60},\"barmode\":\"relative\",\"height\":400},                        {\"responsive\": true}                    ).then(function(){\n",
       "                            \n",
       "var gd = document.getElementById('99016893-2a8e-4a97-8e70-0abc97c4fa3a');\n",
       "var x = new MutationObserver(function (mutations, observer) {{\n",
       "        var display = window.getComputedStyle(gd).display;\n",
       "        if (!display || display === 'none') {{\n",
       "            console.log([gd, 'removed!']);\n",
       "            Plotly.purge(gd);\n",
       "            observer.disconnect();\n",
       "        }}\n",
       "}});\n",
       "\n",
       "// Listen for the removal of the full notebook cells\n",
       "var notebookContainer = gd.closest('#notebook-container');\n",
       "if (notebookContainer) {{\n",
       "    x.observe(notebookContainer, {childList: true});\n",
       "}}\n",
       "\n",
       "// Listen for the clearing of the current output cell\n",
       "var outputEl = gd.closest('.output');\n",
       "if (outputEl) {{\n",
       "    x.observe(outputEl, {childList: true});\n",
       "}}\n",
       "\n",
       "                        })                };                });            </script>        </div>"
      ]
     },
     "metadata": {},
     "output_type": "display_data"
    }
   ],
   "source": [
    "tipr = df.groupby('title').mean().reset_index().sort_values('price',ascending=False).head(10)\n",
    "fig = px.bar(tipr, x=tipr['title'], y=tipr['price'],\n",
    "              color='title',\n",
    "             labels={'title'}, height=400)\n",
    "fig.show()"
   ]
  },
  {
   "cell_type": "code",
   "execution_count": 39,
   "metadata": {},
   "outputs": [
    {
     "name": "stderr",
     "output_type": "stream",
     "text": [
      "/tmp/ipykernel_20237/1067109378.py:1: FutureWarning:\n",
      "\n",
      "The default value of numeric_only in DataFrameGroupBy.mean is deprecated. In a future version, numeric_only will default to False. Either specify numeric_only or select only columns which should be valid for the function.\n",
      "\n"
     ]
    },
    {
     "data": {
      "application/vnd.plotly.v1+json": {
       "config": {
        "plotlyServerURL": "https://plot.ly"
       },
       "data": [
        {
         "alignmentgroup": "True",
         "hovertemplate": "title=%{x}<br>review=%{y}<extra></extra>",
         "legendgroup": "Where the Crawdads Sing",
         "marker": {
          "color": "#636efa",
          "pattern": {
           "shape": ""
          }
         },
         "name": "Where the Crawdads Sing",
         "offsetgroup": "Where the Crawdads Sing",
         "orientation": "v",
         "showlegend": true,
         "textposition": "auto",
         "type": "bar",
         "x": [
          "Where the Crawdads Sing"
         ],
         "xaxis": "x",
         "y": [
          376112
         ],
         "yaxis": "y"
        },
        {
         "alignmentgroup": "True",
         "hovertemplate": "title=%{x}<br>review=%{y}<extra></extra>",
         "legendgroup": "The Silent Patient",
         "marker": {
          "color": "#EF553B",
          "pattern": {
           "shape": ""
          }
         },
         "name": "The Silent Patient",
         "offsetgroup": "The Silent Patient",
         "orientation": "v",
         "showlegend": true,
         "textposition": "auto",
         "type": "bar",
         "x": [
          "The Silent Patient"
         ],
         "xaxis": "x",
         "y": [
          147155
         ],
         "yaxis": "y"
        },
        {
         "alignmentgroup": "True",
         "hovertemplate": "title=%{x}<br>review=%{y}<extra></extra>",
         "legendgroup": "Becoming",
         "marker": {
          "color": "#00cc96",
          "pattern": {
           "shape": ""
          }
         },
         "name": "Becoming",
         "offsetgroup": "Becoming",
         "orientation": "v",
         "showlegend": true,
         "textposition": "auto",
         "type": "bar",
         "x": [
          "Becoming"
         ],
         "xaxis": "x",
         "y": [
          124513
         ],
         "yaxis": "y"
        },
        {
         "alignmentgroup": "True",
         "hovertemplate": "title=%{x}<br>review=%{y}<extra></extra>",
         "legendgroup": "The Alchemist, 25th Anniversary: A Fable About Following Your Dream",
         "marker": {
          "color": "#ab63fa",
          "pattern": {
           "shape": ""
          }
         },
         "name": "The Alchemist, 25th Anniversary: A Fable About Following Your Dream",
         "offsetgroup": "The Alchemist, 25th Anniversary: A Fable About Following Your Dream",
         "orientation": "v",
         "showlegend": true,
         "textposition": "auto",
         "type": "bar",
         "x": [
          "The Alchemist, 25th Anniversary: A Fable About Following Your Dream"
         ],
         "xaxis": "x",
         "y": [
          99533
         ],
         "yaxis": "y"
        },
        {
         "alignmentgroup": "True",
         "hovertemplate": "title=%{x}<br>review=%{y}<extra></extra>",
         "legendgroup": "Harry Potter Paperback Box Set (Books 1-7)",
         "marker": {
          "color": "#FFA15A",
          "pattern": {
           "shape": ""
          }
         },
         "name": "Harry Potter Paperback Box Set (Books 1-7)",
         "offsetgroup": "Harry Potter Paperback Box Set (Books 1-7)",
         "orientation": "v",
         "showlegend": true,
         "textposition": "auto",
         "type": "bar",
         "x": [
          "Harry Potter Paperback Box Set (Books 1-7)"
         ],
         "xaxis": "x",
         "y": [
          95850
         ],
         "yaxis": "y"
        },
        {
         "alignmentgroup": "True",
         "hovertemplate": "title=%{x}<br>review=%{y}<extra></extra>",
         "legendgroup": "Atomic Habits: An Easy & Proven Way to Build Good Habits & Break Bad Ones",
         "marker": {
          "color": "#19d3f3",
          "pattern": {
           "shape": ""
          }
         },
         "name": "Atomic Habits: An Easy & Proven Way to Build Good Habits & Break Bad Ones",
         "offsetgroup": "Atomic Habits: An Easy & Proven Way to Build Good Habits & Break Bad Ones",
         "orientation": "v",
         "showlegend": true,
         "textposition": "auto",
         "type": "bar",
         "x": [
          "Atomic Habits: An Easy & Proven Way to Build Good Habits & Break Bad Ones"
         ],
         "xaxis": "x",
         "y": [
          93032
         ],
         "yaxis": "y"
        },
        {
         "alignmentgroup": "True",
         "hovertemplate": "title=%{x}<br>review=%{y}<extra></extra>",
         "legendgroup": "The Girl on the Train",
         "marker": {
          "color": "#FF6692",
          "pattern": {
           "shape": ""
          }
         },
         "name": "The Girl on the Train",
         "offsetgroup": "The Girl on the Train",
         "orientation": "v",
         "showlegend": true,
         "textposition": "auto",
         "type": "bar",
         "x": [
          "The Girl on the Train"
         ],
         "xaxis": "x",
         "y": [
          92514
         ],
         "yaxis": "y"
        },
        {
         "alignmentgroup": "True",
         "hovertemplate": "title=%{x}<br>review=%{y}<extra></extra>",
         "legendgroup": "Milk and Honey",
         "marker": {
          "color": "#B6E880",
          "pattern": {
           "shape": ""
          }
         },
         "name": "Milk and Honey",
         "offsetgroup": "Milk and Honey",
         "orientation": "v",
         "showlegend": true,
         "textposition": "auto",
         "type": "bar",
         "x": [
          "Milk and Honey"
         ],
         "xaxis": "x",
         "y": [
          90035
         ],
         "yaxis": "y"
        },
        {
         "alignmentgroup": "True",
         "hovertemplate": "title=%{x}<br>review=%{y}<extra></extra>",
         "legendgroup": "The Four Agreements: A Practical Guide to Personal Freedom (A Toltec Wisdom Book)",
         "marker": {
          "color": "#FF97FF",
          "pattern": {
           "shape": ""
          }
         },
         "name": "The Four Agreements: A Practical Guide to Personal Freedom (A Toltec Wisdom Book)",
         "offsetgroup": "The Four Agreements: A Practical Guide to Personal Freedom (A Toltec Wisdom Book)",
         "orientation": "v",
         "showlegend": true,
         "textposition": "auto",
         "type": "bar",
         "x": [
          "The Four Agreements: A Practical Guide to Personal Freedom (A Toltec Wisdom Book)"
         ],
         "xaxis": "x",
         "y": [
          90035
         ],
         "yaxis": "y"
        },
        {
         "alignmentgroup": "True",
         "hovertemplate": "title=%{x}<br>review=%{y}<extra></extra>",
         "legendgroup": "The Subtle Art of Not Giving a F*ck: A Counterintuitive Approach to Living a Good Life",
         "marker": {
          "color": "#FECB52",
          "pattern": {
           "shape": ""
          }
         },
         "name": "The Subtle Art of Not Giving a F*ck: A Counterintuitive Approach to Living a Good Life",
         "offsetgroup": "The Subtle Art of Not Giving a F*ck: A Counterintuitive Approach to Living a Good Life",
         "orientation": "v",
         "showlegend": true,
         "textposition": "auto",
         "type": "bar",
         "x": [
          "The Subtle Art of Not Giving a F*ck: A Counterintuitive Approach to Living a Good Life"
         ],
         "xaxis": "x",
         "y": [
          85729
         ],
         "yaxis": "y"
        }
       ],
       "layout": {
        "barmode": "relative",
        "height": 400,
        "legend": {
         "title": {
          "text": "title"
         },
         "tracegroupgap": 0
        },
        "margin": {
         "t": 60
        },
        "template": {
         "data": {
          "bar": [
           {
            "error_x": {
             "color": "#2a3f5f"
            },
            "error_y": {
             "color": "#2a3f5f"
            },
            "marker": {
             "line": {
              "color": "#E5ECF6",
              "width": 0.5
             },
             "pattern": {
              "fillmode": "overlay",
              "size": 10,
              "solidity": 0.2
             }
            },
            "type": "bar"
           }
          ],
          "barpolar": [
           {
            "marker": {
             "line": {
              "color": "#E5ECF6",
              "width": 0.5
             },
             "pattern": {
              "fillmode": "overlay",
              "size": 10,
              "solidity": 0.2
             }
            },
            "type": "barpolar"
           }
          ],
          "carpet": [
           {
            "aaxis": {
             "endlinecolor": "#2a3f5f",
             "gridcolor": "white",
             "linecolor": "white",
             "minorgridcolor": "white",
             "startlinecolor": "#2a3f5f"
            },
            "baxis": {
             "endlinecolor": "#2a3f5f",
             "gridcolor": "white",
             "linecolor": "white",
             "minorgridcolor": "white",
             "startlinecolor": "#2a3f5f"
            },
            "type": "carpet"
           }
          ],
          "choropleth": [
           {
            "colorbar": {
             "outlinewidth": 0,
             "ticks": ""
            },
            "type": "choropleth"
           }
          ],
          "contour": [
           {
            "colorbar": {
             "outlinewidth": 0,
             "ticks": ""
            },
            "colorscale": [
             [
              0,
              "#0d0887"
             ],
             [
              0.1111111111111111,
              "#46039f"
             ],
             [
              0.2222222222222222,
              "#7201a8"
             ],
             [
              0.3333333333333333,
              "#9c179e"
             ],
             [
              0.4444444444444444,
              "#bd3786"
             ],
             [
              0.5555555555555556,
              "#d8576b"
             ],
             [
              0.6666666666666666,
              "#ed7953"
             ],
             [
              0.7777777777777778,
              "#fb9f3a"
             ],
             [
              0.8888888888888888,
              "#fdca26"
             ],
             [
              1,
              "#f0f921"
             ]
            ],
            "type": "contour"
           }
          ],
          "contourcarpet": [
           {
            "colorbar": {
             "outlinewidth": 0,
             "ticks": ""
            },
            "type": "contourcarpet"
           }
          ],
          "heatmap": [
           {
            "colorbar": {
             "outlinewidth": 0,
             "ticks": ""
            },
            "colorscale": [
             [
              0,
              "#0d0887"
             ],
             [
              0.1111111111111111,
              "#46039f"
             ],
             [
              0.2222222222222222,
              "#7201a8"
             ],
             [
              0.3333333333333333,
              "#9c179e"
             ],
             [
              0.4444444444444444,
              "#bd3786"
             ],
             [
              0.5555555555555556,
              "#d8576b"
             ],
             [
              0.6666666666666666,
              "#ed7953"
             ],
             [
              0.7777777777777778,
              "#fb9f3a"
             ],
             [
              0.8888888888888888,
              "#fdca26"
             ],
             [
              1,
              "#f0f921"
             ]
            ],
            "type": "heatmap"
           }
          ],
          "heatmapgl": [
           {
            "colorbar": {
             "outlinewidth": 0,
             "ticks": ""
            },
            "colorscale": [
             [
              0,
              "#0d0887"
             ],
             [
              0.1111111111111111,
              "#46039f"
             ],
             [
              0.2222222222222222,
              "#7201a8"
             ],
             [
              0.3333333333333333,
              "#9c179e"
             ],
             [
              0.4444444444444444,
              "#bd3786"
             ],
             [
              0.5555555555555556,
              "#d8576b"
             ],
             [
              0.6666666666666666,
              "#ed7953"
             ],
             [
              0.7777777777777778,
              "#fb9f3a"
             ],
             [
              0.8888888888888888,
              "#fdca26"
             ],
             [
              1,
              "#f0f921"
             ]
            ],
            "type": "heatmapgl"
           }
          ],
          "histogram": [
           {
            "marker": {
             "pattern": {
              "fillmode": "overlay",
              "size": 10,
              "solidity": 0.2
             }
            },
            "type": "histogram"
           }
          ],
          "histogram2d": [
           {
            "colorbar": {
             "outlinewidth": 0,
             "ticks": ""
            },
            "colorscale": [
             [
              0,
              "#0d0887"
             ],
             [
              0.1111111111111111,
              "#46039f"
             ],
             [
              0.2222222222222222,
              "#7201a8"
             ],
             [
              0.3333333333333333,
              "#9c179e"
             ],
             [
              0.4444444444444444,
              "#bd3786"
             ],
             [
              0.5555555555555556,
              "#d8576b"
             ],
             [
              0.6666666666666666,
              "#ed7953"
             ],
             [
              0.7777777777777778,
              "#fb9f3a"
             ],
             [
              0.8888888888888888,
              "#fdca26"
             ],
             [
              1,
              "#f0f921"
             ]
            ],
            "type": "histogram2d"
           }
          ],
          "histogram2dcontour": [
           {
            "colorbar": {
             "outlinewidth": 0,
             "ticks": ""
            },
            "colorscale": [
             [
              0,
              "#0d0887"
             ],
             [
              0.1111111111111111,
              "#46039f"
             ],
             [
              0.2222222222222222,
              "#7201a8"
             ],
             [
              0.3333333333333333,
              "#9c179e"
             ],
             [
              0.4444444444444444,
              "#bd3786"
             ],
             [
              0.5555555555555556,
              "#d8576b"
             ],
             [
              0.6666666666666666,
              "#ed7953"
             ],
             [
              0.7777777777777778,
              "#fb9f3a"
             ],
             [
              0.8888888888888888,
              "#fdca26"
             ],
             [
              1,
              "#f0f921"
             ]
            ],
            "type": "histogram2dcontour"
           }
          ],
          "mesh3d": [
           {
            "colorbar": {
             "outlinewidth": 0,
             "ticks": ""
            },
            "type": "mesh3d"
           }
          ],
          "parcoords": [
           {
            "line": {
             "colorbar": {
              "outlinewidth": 0,
              "ticks": ""
             }
            },
            "type": "parcoords"
           }
          ],
          "pie": [
           {
            "automargin": true,
            "type": "pie"
           }
          ],
          "scatter": [
           {
            "fillpattern": {
             "fillmode": "overlay",
             "size": 10,
             "solidity": 0.2
            },
            "type": "scatter"
           }
          ],
          "scatter3d": [
           {
            "line": {
             "colorbar": {
              "outlinewidth": 0,
              "ticks": ""
             }
            },
            "marker": {
             "colorbar": {
              "outlinewidth": 0,
              "ticks": ""
             }
            },
            "type": "scatter3d"
           }
          ],
          "scattercarpet": [
           {
            "marker": {
             "colorbar": {
              "outlinewidth": 0,
              "ticks": ""
             }
            },
            "type": "scattercarpet"
           }
          ],
          "scattergeo": [
           {
            "marker": {
             "colorbar": {
              "outlinewidth": 0,
              "ticks": ""
             }
            },
            "type": "scattergeo"
           }
          ],
          "scattergl": [
           {
            "marker": {
             "colorbar": {
              "outlinewidth": 0,
              "ticks": ""
             }
            },
            "type": "scattergl"
           }
          ],
          "scattermapbox": [
           {
            "marker": {
             "colorbar": {
              "outlinewidth": 0,
              "ticks": ""
             }
            },
            "type": "scattermapbox"
           }
          ],
          "scatterpolar": [
           {
            "marker": {
             "colorbar": {
              "outlinewidth": 0,
              "ticks": ""
             }
            },
            "type": "scatterpolar"
           }
          ],
          "scatterpolargl": [
           {
            "marker": {
             "colorbar": {
              "outlinewidth": 0,
              "ticks": ""
             }
            },
            "type": "scatterpolargl"
           }
          ],
          "scatterternary": [
           {
            "marker": {
             "colorbar": {
              "outlinewidth": 0,
              "ticks": ""
             }
            },
            "type": "scatterternary"
           }
          ],
          "surface": [
           {
            "colorbar": {
             "outlinewidth": 0,
             "ticks": ""
            },
            "colorscale": [
             [
              0,
              "#0d0887"
             ],
             [
              0.1111111111111111,
              "#46039f"
             ],
             [
              0.2222222222222222,
              "#7201a8"
             ],
             [
              0.3333333333333333,
              "#9c179e"
             ],
             [
              0.4444444444444444,
              "#bd3786"
             ],
             [
              0.5555555555555556,
              "#d8576b"
             ],
             [
              0.6666666666666666,
              "#ed7953"
             ],
             [
              0.7777777777777778,
              "#fb9f3a"
             ],
             [
              0.8888888888888888,
              "#fdca26"
             ],
             [
              1,
              "#f0f921"
             ]
            ],
            "type": "surface"
           }
          ],
          "table": [
           {
            "cells": {
             "fill": {
              "color": "#EBF0F8"
             },
             "line": {
              "color": "white"
             }
            },
            "header": {
             "fill": {
              "color": "#C8D4E3"
             },
             "line": {
              "color": "white"
             }
            },
            "type": "table"
           }
          ]
         },
         "layout": {
          "annotationdefaults": {
           "arrowcolor": "#2a3f5f",
           "arrowhead": 0,
           "arrowwidth": 1
          },
          "autotypenumbers": "strict",
          "coloraxis": {
           "colorbar": {
            "outlinewidth": 0,
            "ticks": ""
           }
          },
          "colorscale": {
           "diverging": [
            [
             0,
             "#8e0152"
            ],
            [
             0.1,
             "#c51b7d"
            ],
            [
             0.2,
             "#de77ae"
            ],
            [
             0.3,
             "#f1b6da"
            ],
            [
             0.4,
             "#fde0ef"
            ],
            [
             0.5,
             "#f7f7f7"
            ],
            [
             0.6,
             "#e6f5d0"
            ],
            [
             0.7,
             "#b8e186"
            ],
            [
             0.8,
             "#7fbc41"
            ],
            [
             0.9,
             "#4d9221"
            ],
            [
             1,
             "#276419"
            ]
           ],
           "sequential": [
            [
             0,
             "#0d0887"
            ],
            [
             0.1111111111111111,
             "#46039f"
            ],
            [
             0.2222222222222222,
             "#7201a8"
            ],
            [
             0.3333333333333333,
             "#9c179e"
            ],
            [
             0.4444444444444444,
             "#bd3786"
            ],
            [
             0.5555555555555556,
             "#d8576b"
            ],
            [
             0.6666666666666666,
             "#ed7953"
            ],
            [
             0.7777777777777778,
             "#fb9f3a"
            ],
            [
             0.8888888888888888,
             "#fdca26"
            ],
            [
             1,
             "#f0f921"
            ]
           ],
           "sequentialminus": [
            [
             0,
             "#0d0887"
            ],
            [
             0.1111111111111111,
             "#46039f"
            ],
            [
             0.2222222222222222,
             "#7201a8"
            ],
            [
             0.3333333333333333,
             "#9c179e"
            ],
            [
             0.4444444444444444,
             "#bd3786"
            ],
            [
             0.5555555555555556,
             "#d8576b"
            ],
            [
             0.6666666666666666,
             "#ed7953"
            ],
            [
             0.7777777777777778,
             "#fb9f3a"
            ],
            [
             0.8888888888888888,
             "#fdca26"
            ],
            [
             1,
             "#f0f921"
            ]
           ]
          },
          "colorway": [
           "#636efa",
           "#EF553B",
           "#00cc96",
           "#ab63fa",
           "#FFA15A",
           "#19d3f3",
           "#FF6692",
           "#B6E880",
           "#FF97FF",
           "#FECB52"
          ],
          "font": {
           "color": "#2a3f5f"
          },
          "geo": {
           "bgcolor": "white",
           "lakecolor": "white",
           "landcolor": "#E5ECF6",
           "showlakes": true,
           "showland": true,
           "subunitcolor": "white"
          },
          "hoverlabel": {
           "align": "left"
          },
          "hovermode": "closest",
          "mapbox": {
           "style": "light"
          },
          "paper_bgcolor": "white",
          "plot_bgcolor": "#E5ECF6",
          "polar": {
           "angularaxis": {
            "gridcolor": "white",
            "linecolor": "white",
            "ticks": ""
           },
           "bgcolor": "#E5ECF6",
           "radialaxis": {
            "gridcolor": "white",
            "linecolor": "white",
            "ticks": ""
           }
          },
          "scene": {
           "xaxis": {
            "backgroundcolor": "#E5ECF6",
            "gridcolor": "white",
            "gridwidth": 2,
            "linecolor": "white",
            "showbackground": true,
            "ticks": "",
            "zerolinecolor": "white"
           },
           "yaxis": {
            "backgroundcolor": "#E5ECF6",
            "gridcolor": "white",
            "gridwidth": 2,
            "linecolor": "white",
            "showbackground": true,
            "ticks": "",
            "zerolinecolor": "white"
           },
           "zaxis": {
            "backgroundcolor": "#E5ECF6",
            "gridcolor": "white",
            "gridwidth": 2,
            "linecolor": "white",
            "showbackground": true,
            "ticks": "",
            "zerolinecolor": "white"
           }
          },
          "shapedefaults": {
           "line": {
            "color": "#2a3f5f"
           }
          },
          "ternary": {
           "aaxis": {
            "gridcolor": "white",
            "linecolor": "white",
            "ticks": ""
           },
           "baxis": {
            "gridcolor": "white",
            "linecolor": "white",
            "ticks": ""
           },
           "bgcolor": "#E5ECF6",
           "caxis": {
            "gridcolor": "white",
            "linecolor": "white",
            "ticks": ""
           }
          },
          "title": {
           "x": 0.05
          },
          "xaxis": {
           "automargin": true,
           "gridcolor": "white",
           "linecolor": "white",
           "ticks": "",
           "title": {
            "standoff": 15
           },
           "zerolinecolor": "white",
           "zerolinewidth": 2
          },
          "yaxis": {
           "automargin": true,
           "gridcolor": "white",
           "linecolor": "white",
           "ticks": "",
           "title": {
            "standoff": 15
           },
           "zerolinecolor": "white",
           "zerolinewidth": 2
          }
         }
        },
        "xaxis": {
         "anchor": "y",
         "categoryarray": [
          "Where the Crawdads Sing",
          "The Silent Patient",
          "Becoming",
          "The Alchemist, 25th Anniversary: A Fable About Following Your Dream",
          "Harry Potter Paperback Box Set (Books 1-7)",
          "Atomic Habits: An Easy & Proven Way to Build Good Habits & Break Bad Ones",
          "The Girl on the Train",
          "Milk and Honey",
          "The Four Agreements: A Practical Guide to Personal Freedom (A Toltec Wisdom Book)",
          "The Subtle Art of Not Giving a F*ck: A Counterintuitive Approach to Living a Good Life"
         ],
         "categoryorder": "array",
         "domain": [
          0,
          1
         ],
         "title": {
          "text": "title"
         }
        },
        "yaxis": {
         "anchor": "x",
         "domain": [
          0,
          1
         ],
         "title": {
          "text": "review"
         }
        }
       }
      },
      "text/html": [
       "<div>                            <div id=\"96d46667-f58a-4ae6-b169-3e7165114b0f\" class=\"plotly-graph-div\" style=\"height:400px; width:100%;\"></div>            <script type=\"text/javascript\">                require([\"plotly\"], function(Plotly) {                    window.PLOTLYENV=window.PLOTLYENV || {};                                    if (document.getElementById(\"96d46667-f58a-4ae6-b169-3e7165114b0f\")) {                    Plotly.newPlot(                        \"96d46667-f58a-4ae6-b169-3e7165114b0f\",                        [{\"alignmentgroup\":\"True\",\"hovertemplate\":\"title=%{x}<br>review=%{y}<extra></extra>\",\"legendgroup\":\"Where the Crawdads Sing\",\"marker\":{\"color\":\"#636efa\",\"pattern\":{\"shape\":\"\"}},\"name\":\"Where the Crawdads Sing\",\"offsetgroup\":\"Where the Crawdads Sing\",\"orientation\":\"v\",\"showlegend\":true,\"textposition\":\"auto\",\"x\":[\"Where the Crawdads Sing\"],\"xaxis\":\"x\",\"y\":[376112.0],\"yaxis\":\"y\",\"type\":\"bar\"},{\"alignmentgroup\":\"True\",\"hovertemplate\":\"title=%{x}<br>review=%{y}<extra></extra>\",\"legendgroup\":\"The Silent Patient\",\"marker\":{\"color\":\"#EF553B\",\"pattern\":{\"shape\":\"\"}},\"name\":\"The Silent Patient\",\"offsetgroup\":\"The Silent Patient\",\"orientation\":\"v\",\"showlegend\":true,\"textposition\":\"auto\",\"x\":[\"The Silent Patient\"],\"xaxis\":\"x\",\"y\":[147155.0],\"yaxis\":\"y\",\"type\":\"bar\"},{\"alignmentgroup\":\"True\",\"hovertemplate\":\"title=%{x}<br>review=%{y}<extra></extra>\",\"legendgroup\":\"Becoming\",\"marker\":{\"color\":\"#00cc96\",\"pattern\":{\"shape\":\"\"}},\"name\":\"Becoming\",\"offsetgroup\":\"Becoming\",\"orientation\":\"v\",\"showlegend\":true,\"textposition\":\"auto\",\"x\":[\"Becoming\"],\"xaxis\":\"x\",\"y\":[124513.0],\"yaxis\":\"y\",\"type\":\"bar\"},{\"alignmentgroup\":\"True\",\"hovertemplate\":\"title=%{x}<br>review=%{y}<extra></extra>\",\"legendgroup\":\"The Alchemist, 25th Anniversary: A Fable About Following Your Dream\",\"marker\":{\"color\":\"#ab63fa\",\"pattern\":{\"shape\":\"\"}},\"name\":\"The Alchemist, 25th Anniversary: A Fable About Following Your Dream\",\"offsetgroup\":\"The Alchemist, 25th Anniversary: A Fable About Following Your Dream\",\"orientation\":\"v\",\"showlegend\":true,\"textposition\":\"auto\",\"x\":[\"The Alchemist, 25th Anniversary: A Fable About Following Your Dream\"],\"xaxis\":\"x\",\"y\":[99533.0],\"yaxis\":\"y\",\"type\":\"bar\"},{\"alignmentgroup\":\"True\",\"hovertemplate\":\"title=%{x}<br>review=%{y}<extra></extra>\",\"legendgroup\":\"Harry Potter Paperback Box Set (Books 1-7)\",\"marker\":{\"color\":\"#FFA15A\",\"pattern\":{\"shape\":\"\"}},\"name\":\"Harry Potter Paperback Box Set (Books 1-7)\",\"offsetgroup\":\"Harry Potter Paperback Box Set (Books 1-7)\",\"orientation\":\"v\",\"showlegend\":true,\"textposition\":\"auto\",\"x\":[\"Harry Potter Paperback Box Set (Books 1-7)\"],\"xaxis\":\"x\",\"y\":[95850.0],\"yaxis\":\"y\",\"type\":\"bar\"},{\"alignmentgroup\":\"True\",\"hovertemplate\":\"title=%{x}<br>review=%{y}<extra></extra>\",\"legendgroup\":\"Atomic Habits: An Easy & Proven Way to Build Good Habits & Break Bad Ones\",\"marker\":{\"color\":\"#19d3f3\",\"pattern\":{\"shape\":\"\"}},\"name\":\"Atomic Habits: An Easy & Proven Way to Build Good Habits & Break Bad Ones\",\"offsetgroup\":\"Atomic Habits: An Easy & Proven Way to Build Good Habits & Break Bad Ones\",\"orientation\":\"v\",\"showlegend\":true,\"textposition\":\"auto\",\"x\":[\"Atomic Habits: An Easy & Proven Way to Build Good Habits & Break Bad Ones\"],\"xaxis\":\"x\",\"y\":[93032.0],\"yaxis\":\"y\",\"type\":\"bar\"},{\"alignmentgroup\":\"True\",\"hovertemplate\":\"title=%{x}<br>review=%{y}<extra></extra>\",\"legendgroup\":\"The Girl on the Train\",\"marker\":{\"color\":\"#FF6692\",\"pattern\":{\"shape\":\"\"}},\"name\":\"The Girl on the Train\",\"offsetgroup\":\"The Girl on the Train\",\"orientation\":\"v\",\"showlegend\":true,\"textposition\":\"auto\",\"x\":[\"The Girl on the Train\"],\"xaxis\":\"x\",\"y\":[92514.0],\"yaxis\":\"y\",\"type\":\"bar\"},{\"alignmentgroup\":\"True\",\"hovertemplate\":\"title=%{x}<br>review=%{y}<extra></extra>\",\"legendgroup\":\"Milk and Honey\",\"marker\":{\"color\":\"#B6E880\",\"pattern\":{\"shape\":\"\"}},\"name\":\"Milk and Honey\",\"offsetgroup\":\"Milk and Honey\",\"orientation\":\"v\",\"showlegend\":true,\"textposition\":\"auto\",\"x\":[\"Milk and Honey\"],\"xaxis\":\"x\",\"y\":[90035.0],\"yaxis\":\"y\",\"type\":\"bar\"},{\"alignmentgroup\":\"True\",\"hovertemplate\":\"title=%{x}<br>review=%{y}<extra></extra>\",\"legendgroup\":\"The Four Agreements: A Practical Guide to Personal Freedom (A Toltec Wisdom Book)\",\"marker\":{\"color\":\"#FF97FF\",\"pattern\":{\"shape\":\"\"}},\"name\":\"The Four Agreements: A Practical Guide to Personal Freedom (A Toltec Wisdom Book)\",\"offsetgroup\":\"The Four Agreements: A Practical Guide to Personal Freedom (A Toltec Wisdom Book)\",\"orientation\":\"v\",\"showlegend\":true,\"textposition\":\"auto\",\"x\":[\"The Four Agreements: A Practical Guide to Personal Freedom (A Toltec Wisdom Book)\"],\"xaxis\":\"x\",\"y\":[90035.0],\"yaxis\":\"y\",\"type\":\"bar\"},{\"alignmentgroup\":\"True\",\"hovertemplate\":\"title=%{x}<br>review=%{y}<extra></extra>\",\"legendgroup\":\"The Subtle Art of Not Giving a F*ck: A Counterintuitive Approach to Living a Good Life\",\"marker\":{\"color\":\"#FECB52\",\"pattern\":{\"shape\":\"\"}},\"name\":\"The Subtle Art of Not Giving a F*ck: A Counterintuitive Approach to Living a Good Life\",\"offsetgroup\":\"The Subtle Art of Not Giving a F*ck: A Counterintuitive Approach to Living a Good Life\",\"orientation\":\"v\",\"showlegend\":true,\"textposition\":\"auto\",\"x\":[\"The Subtle Art of Not Giving a F*ck: A Counterintuitive Approach to Living a Good Life\"],\"xaxis\":\"x\",\"y\":[85729.0],\"yaxis\":\"y\",\"type\":\"bar\"}],                        {\"template\":{\"data\":{\"histogram2dcontour\":[{\"type\":\"histogram2dcontour\",\"colorbar\":{\"outlinewidth\":0,\"ticks\":\"\"},\"colorscale\":[[0.0,\"#0d0887\"],[0.1111111111111111,\"#46039f\"],[0.2222222222222222,\"#7201a8\"],[0.3333333333333333,\"#9c179e\"],[0.4444444444444444,\"#bd3786\"],[0.5555555555555556,\"#d8576b\"],[0.6666666666666666,\"#ed7953\"],[0.7777777777777778,\"#fb9f3a\"],[0.8888888888888888,\"#fdca26\"],[1.0,\"#f0f921\"]]}],\"choropleth\":[{\"type\":\"choropleth\",\"colorbar\":{\"outlinewidth\":0,\"ticks\":\"\"}}],\"histogram2d\":[{\"type\":\"histogram2d\",\"colorbar\":{\"outlinewidth\":0,\"ticks\":\"\"},\"colorscale\":[[0.0,\"#0d0887\"],[0.1111111111111111,\"#46039f\"],[0.2222222222222222,\"#7201a8\"],[0.3333333333333333,\"#9c179e\"],[0.4444444444444444,\"#bd3786\"],[0.5555555555555556,\"#d8576b\"],[0.6666666666666666,\"#ed7953\"],[0.7777777777777778,\"#fb9f3a\"],[0.8888888888888888,\"#fdca26\"],[1.0,\"#f0f921\"]]}],\"heatmap\":[{\"type\":\"heatmap\",\"colorbar\":{\"outlinewidth\":0,\"ticks\":\"\"},\"colorscale\":[[0.0,\"#0d0887\"],[0.1111111111111111,\"#46039f\"],[0.2222222222222222,\"#7201a8\"],[0.3333333333333333,\"#9c179e\"],[0.4444444444444444,\"#bd3786\"],[0.5555555555555556,\"#d8576b\"],[0.6666666666666666,\"#ed7953\"],[0.7777777777777778,\"#fb9f3a\"],[0.8888888888888888,\"#fdca26\"],[1.0,\"#f0f921\"]]}],\"heatmapgl\":[{\"type\":\"heatmapgl\",\"colorbar\":{\"outlinewidth\":0,\"ticks\":\"\"},\"colorscale\":[[0.0,\"#0d0887\"],[0.1111111111111111,\"#46039f\"],[0.2222222222222222,\"#7201a8\"],[0.3333333333333333,\"#9c179e\"],[0.4444444444444444,\"#bd3786\"],[0.5555555555555556,\"#d8576b\"],[0.6666666666666666,\"#ed7953\"],[0.7777777777777778,\"#fb9f3a\"],[0.8888888888888888,\"#fdca26\"],[1.0,\"#f0f921\"]]}],\"contourcarpet\":[{\"type\":\"contourcarpet\",\"colorbar\":{\"outlinewidth\":0,\"ticks\":\"\"}}],\"contour\":[{\"type\":\"contour\",\"colorbar\":{\"outlinewidth\":0,\"ticks\":\"\"},\"colorscale\":[[0.0,\"#0d0887\"],[0.1111111111111111,\"#46039f\"],[0.2222222222222222,\"#7201a8\"],[0.3333333333333333,\"#9c179e\"],[0.4444444444444444,\"#bd3786\"],[0.5555555555555556,\"#d8576b\"],[0.6666666666666666,\"#ed7953\"],[0.7777777777777778,\"#fb9f3a\"],[0.8888888888888888,\"#fdca26\"],[1.0,\"#f0f921\"]]}],\"surface\":[{\"type\":\"surface\",\"colorbar\":{\"outlinewidth\":0,\"ticks\":\"\"},\"colorscale\":[[0.0,\"#0d0887\"],[0.1111111111111111,\"#46039f\"],[0.2222222222222222,\"#7201a8\"],[0.3333333333333333,\"#9c179e\"],[0.4444444444444444,\"#bd3786\"],[0.5555555555555556,\"#d8576b\"],[0.6666666666666666,\"#ed7953\"],[0.7777777777777778,\"#fb9f3a\"],[0.8888888888888888,\"#fdca26\"],[1.0,\"#f0f921\"]]}],\"mesh3d\":[{\"type\":\"mesh3d\",\"colorbar\":{\"outlinewidth\":0,\"ticks\":\"\"}}],\"scatter\":[{\"fillpattern\":{\"fillmode\":\"overlay\",\"size\":10,\"solidity\":0.2},\"type\":\"scatter\"}],\"parcoords\":[{\"type\":\"parcoords\",\"line\":{\"colorbar\":{\"outlinewidth\":0,\"ticks\":\"\"}}}],\"scatterpolargl\":[{\"type\":\"scatterpolargl\",\"marker\":{\"colorbar\":{\"outlinewidth\":0,\"ticks\":\"\"}}}],\"bar\":[{\"error_x\":{\"color\":\"#2a3f5f\"},\"error_y\":{\"color\":\"#2a3f5f\"},\"marker\":{\"line\":{\"color\":\"#E5ECF6\",\"width\":0.5},\"pattern\":{\"fillmode\":\"overlay\",\"size\":10,\"solidity\":0.2}},\"type\":\"bar\"}],\"scattergeo\":[{\"type\":\"scattergeo\",\"marker\":{\"colorbar\":{\"outlinewidth\":0,\"ticks\":\"\"}}}],\"scatterpolar\":[{\"type\":\"scatterpolar\",\"marker\":{\"colorbar\":{\"outlinewidth\":0,\"ticks\":\"\"}}}],\"histogram\":[{\"marker\":{\"pattern\":{\"fillmode\":\"overlay\",\"size\":10,\"solidity\":0.2}},\"type\":\"histogram\"}],\"scattergl\":[{\"type\":\"scattergl\",\"marker\":{\"colorbar\":{\"outlinewidth\":0,\"ticks\":\"\"}}}],\"scatter3d\":[{\"type\":\"scatter3d\",\"line\":{\"colorbar\":{\"outlinewidth\":0,\"ticks\":\"\"}},\"marker\":{\"colorbar\":{\"outlinewidth\":0,\"ticks\":\"\"}}}],\"scattermapbox\":[{\"type\":\"scattermapbox\",\"marker\":{\"colorbar\":{\"outlinewidth\":0,\"ticks\":\"\"}}}],\"scatterternary\":[{\"type\":\"scatterternary\",\"marker\":{\"colorbar\":{\"outlinewidth\":0,\"ticks\":\"\"}}}],\"scattercarpet\":[{\"type\":\"scattercarpet\",\"marker\":{\"colorbar\":{\"outlinewidth\":0,\"ticks\":\"\"}}}],\"carpet\":[{\"aaxis\":{\"endlinecolor\":\"#2a3f5f\",\"gridcolor\":\"white\",\"linecolor\":\"white\",\"minorgridcolor\":\"white\",\"startlinecolor\":\"#2a3f5f\"},\"baxis\":{\"endlinecolor\":\"#2a3f5f\",\"gridcolor\":\"white\",\"linecolor\":\"white\",\"minorgridcolor\":\"white\",\"startlinecolor\":\"#2a3f5f\"},\"type\":\"carpet\"}],\"table\":[{\"cells\":{\"fill\":{\"color\":\"#EBF0F8\"},\"line\":{\"color\":\"white\"}},\"header\":{\"fill\":{\"color\":\"#C8D4E3\"},\"line\":{\"color\":\"white\"}},\"type\":\"table\"}],\"barpolar\":[{\"marker\":{\"line\":{\"color\":\"#E5ECF6\",\"width\":0.5},\"pattern\":{\"fillmode\":\"overlay\",\"size\":10,\"solidity\":0.2}},\"type\":\"barpolar\"}],\"pie\":[{\"automargin\":true,\"type\":\"pie\"}]},\"layout\":{\"autotypenumbers\":\"strict\",\"colorway\":[\"#636efa\",\"#EF553B\",\"#00cc96\",\"#ab63fa\",\"#FFA15A\",\"#19d3f3\",\"#FF6692\",\"#B6E880\",\"#FF97FF\",\"#FECB52\"],\"font\":{\"color\":\"#2a3f5f\"},\"hovermode\":\"closest\",\"hoverlabel\":{\"align\":\"left\"},\"paper_bgcolor\":\"white\",\"plot_bgcolor\":\"#E5ECF6\",\"polar\":{\"bgcolor\":\"#E5ECF6\",\"angularaxis\":{\"gridcolor\":\"white\",\"linecolor\":\"white\",\"ticks\":\"\"},\"radialaxis\":{\"gridcolor\":\"white\",\"linecolor\":\"white\",\"ticks\":\"\"}},\"ternary\":{\"bgcolor\":\"#E5ECF6\",\"aaxis\":{\"gridcolor\":\"white\",\"linecolor\":\"white\",\"ticks\":\"\"},\"baxis\":{\"gridcolor\":\"white\",\"linecolor\":\"white\",\"ticks\":\"\"},\"caxis\":{\"gridcolor\":\"white\",\"linecolor\":\"white\",\"ticks\":\"\"}},\"coloraxis\":{\"colorbar\":{\"outlinewidth\":0,\"ticks\":\"\"}},\"colorscale\":{\"sequential\":[[0.0,\"#0d0887\"],[0.1111111111111111,\"#46039f\"],[0.2222222222222222,\"#7201a8\"],[0.3333333333333333,\"#9c179e\"],[0.4444444444444444,\"#bd3786\"],[0.5555555555555556,\"#d8576b\"],[0.6666666666666666,\"#ed7953\"],[0.7777777777777778,\"#fb9f3a\"],[0.8888888888888888,\"#fdca26\"],[1.0,\"#f0f921\"]],\"sequentialminus\":[[0.0,\"#0d0887\"],[0.1111111111111111,\"#46039f\"],[0.2222222222222222,\"#7201a8\"],[0.3333333333333333,\"#9c179e\"],[0.4444444444444444,\"#bd3786\"],[0.5555555555555556,\"#d8576b\"],[0.6666666666666666,\"#ed7953\"],[0.7777777777777778,\"#fb9f3a\"],[0.8888888888888888,\"#fdca26\"],[1.0,\"#f0f921\"]],\"diverging\":[[0,\"#8e0152\"],[0.1,\"#c51b7d\"],[0.2,\"#de77ae\"],[0.3,\"#f1b6da\"],[0.4,\"#fde0ef\"],[0.5,\"#f7f7f7\"],[0.6,\"#e6f5d0\"],[0.7,\"#b8e186\"],[0.8,\"#7fbc41\"],[0.9,\"#4d9221\"],[1,\"#276419\"]]},\"xaxis\":{\"gridcolor\":\"white\",\"linecolor\":\"white\",\"ticks\":\"\",\"title\":{\"standoff\":15},\"zerolinecolor\":\"white\",\"automargin\":true,\"zerolinewidth\":2},\"yaxis\":{\"gridcolor\":\"white\",\"linecolor\":\"white\",\"ticks\":\"\",\"title\":{\"standoff\":15},\"zerolinecolor\":\"white\",\"automargin\":true,\"zerolinewidth\":2},\"scene\":{\"xaxis\":{\"backgroundcolor\":\"#E5ECF6\",\"gridcolor\":\"white\",\"linecolor\":\"white\",\"showbackground\":true,\"ticks\":\"\",\"zerolinecolor\":\"white\",\"gridwidth\":2},\"yaxis\":{\"backgroundcolor\":\"#E5ECF6\",\"gridcolor\":\"white\",\"linecolor\":\"white\",\"showbackground\":true,\"ticks\":\"\",\"zerolinecolor\":\"white\",\"gridwidth\":2},\"zaxis\":{\"backgroundcolor\":\"#E5ECF6\",\"gridcolor\":\"white\",\"linecolor\":\"white\",\"showbackground\":true,\"ticks\":\"\",\"zerolinecolor\":\"white\",\"gridwidth\":2}},\"shapedefaults\":{\"line\":{\"color\":\"#2a3f5f\"}},\"annotationdefaults\":{\"arrowcolor\":\"#2a3f5f\",\"arrowhead\":0,\"arrowwidth\":1},\"geo\":{\"bgcolor\":\"white\",\"landcolor\":\"#E5ECF6\",\"subunitcolor\":\"white\",\"showland\":true,\"showlakes\":true,\"lakecolor\":\"white\"},\"title\":{\"x\":0.05},\"mapbox\":{\"style\":\"light\"}}},\"xaxis\":{\"anchor\":\"y\",\"domain\":[0.0,1.0],\"title\":{\"text\":\"title\"},\"categoryorder\":\"array\",\"categoryarray\":[\"Where the Crawdads Sing\",\"The Silent Patient\",\"Becoming\",\"The Alchemist, 25th Anniversary: A Fable About Following Your Dream\",\"Harry Potter Paperback Box Set (Books 1-7)\",\"Atomic Habits: An Easy & Proven Way to Build Good Habits & Break Bad Ones\",\"The Girl on the Train\",\"Milk and Honey\",\"The Four Agreements: A Practical Guide to Personal Freedom (A Toltec Wisdom Book)\",\"The Subtle Art of Not Giving a F*ck: A Counterintuitive Approach to Living a Good Life\"]},\"yaxis\":{\"anchor\":\"x\",\"domain\":[0.0,1.0],\"title\":{\"text\":\"review\"}},\"legend\":{\"title\":{\"text\":\"title\"},\"tracegroupgap\":0},\"margin\":{\"t\":60},\"barmode\":\"relative\",\"height\":400},                        {\"responsive\": true}                    ).then(function(){\n",
       "                            \n",
       "var gd = document.getElementById('96d46667-f58a-4ae6-b169-3e7165114b0f');\n",
       "var x = new MutationObserver(function (mutations, observer) {{\n",
       "        var display = window.getComputedStyle(gd).display;\n",
       "        if (!display || display === 'none') {{\n",
       "            console.log([gd, 'removed!']);\n",
       "            Plotly.purge(gd);\n",
       "            observer.disconnect();\n",
       "        }}\n",
       "}});\n",
       "\n",
       "// Listen for the removal of the full notebook cells\n",
       "var notebookContainer = gd.closest('#notebook-container');\n",
       "if (notebookContainer) {{\n",
       "    x.observe(notebookContainer, {childList: true});\n",
       "}}\n",
       "\n",
       "// Listen for the clearing of the current output cell\n",
       "var outputEl = gd.closest('.output');\n",
       "if (outputEl) {{\n",
       "    x.observe(outputEl, {childList: true});\n",
       "}}\n",
       "\n",
       "                        })                };                });            </script>        </div>"
      ]
     },
     "metadata": {},
     "output_type": "display_data"
    }
   ],
   "source": [
    "tir = df.groupby('title').mean().reset_index().sort_values('review',ascending=False).head(10)\n",
    "fig = px.bar(tir, x=tir['title'], y=tir['review'],\n",
    "              color='title',\n",
    "             labels={'title'}, height=400)\n",
    "fig.show()"
   ]
  },
  {
   "cell_type": "code",
   "execution_count": 42,
   "metadata": {},
   "outputs": [
    {
     "data": {
      "application/vnd.plotly.v1+json": {
       "config": {
        "plotlyServerURL": "https://plot.ly"
       },
       "data": [
        {
         "alignmentgroup": "True",
         "hovertemplate": "year=%{marker.color}<br>price=%{y}<extra></extra>",
         "legendgroup": "",
         "marker": {
          "color": [
           2009,
           2010,
           2011,
           2012,
           2013,
           2014,
           2015,
           2016,
           2017,
           2018,
           2019
          ],
          "coloraxis": "coloraxis",
          "pattern": {
           "shape": ""
          }
         },
         "name": "",
         "offsetgroup": "",
         "orientation": "v",
         "showlegend": false,
         "textposition": "auto",
         "type": "bar",
         "x": [
          2009,
          2010,
          2011,
          2012,
          2013,
          2014,
          2015,
          2016,
          2017,
          2018,
          2019
         ],
         "xaxis": "x",
         "y": [
          1.377159090909091,
          1.6782352941176468,
          2.966415094339623,
          2.082222222222222,
          2.535744680851064,
          2.7256521739130433,
          1.4725000000000001,
          2.4583720930232555,
          2.8192857142857144,
          3.3513636363636365,
          2.628974358974359
         ],
         "yaxis": "y"
        }
       ],
       "layout": {
        "barmode": "relative",
        "coloraxis": {
         "colorbar": {
          "title": {
           "text": "year"
          }
         },
         "colorscale": [
          [
           0,
           "#0d0887"
          ],
          [
           0.1111111111111111,
           "#46039f"
          ],
          [
           0.2222222222222222,
           "#7201a8"
          ],
          [
           0.3333333333333333,
           "#9c179e"
          ],
          [
           0.4444444444444444,
           "#bd3786"
          ],
          [
           0.5555555555555556,
           "#d8576b"
          ],
          [
           0.6666666666666666,
           "#ed7953"
          ],
          [
           0.7777777777777778,
           "#fb9f3a"
          ],
          [
           0.8888888888888888,
           "#fdca26"
          ],
          [
           1,
           "#f0f921"
          ]
         ]
        },
        "height": 400,
        "legend": {
         "tracegroupgap": 0
        },
        "margin": {
         "t": 60
        },
        "template": {
         "data": {
          "bar": [
           {
            "error_x": {
             "color": "#2a3f5f"
            },
            "error_y": {
             "color": "#2a3f5f"
            },
            "marker": {
             "line": {
              "color": "#E5ECF6",
              "width": 0.5
             },
             "pattern": {
              "fillmode": "overlay",
              "size": 10,
              "solidity": 0.2
             }
            },
            "type": "bar"
           }
          ],
          "barpolar": [
           {
            "marker": {
             "line": {
              "color": "#E5ECF6",
              "width": 0.5
             },
             "pattern": {
              "fillmode": "overlay",
              "size": 10,
              "solidity": 0.2
             }
            },
            "type": "barpolar"
           }
          ],
          "carpet": [
           {
            "aaxis": {
             "endlinecolor": "#2a3f5f",
             "gridcolor": "white",
             "linecolor": "white",
             "minorgridcolor": "white",
             "startlinecolor": "#2a3f5f"
            },
            "baxis": {
             "endlinecolor": "#2a3f5f",
             "gridcolor": "white",
             "linecolor": "white",
             "minorgridcolor": "white",
             "startlinecolor": "#2a3f5f"
            },
            "type": "carpet"
           }
          ],
          "choropleth": [
           {
            "colorbar": {
             "outlinewidth": 0,
             "ticks": ""
            },
            "type": "choropleth"
           }
          ],
          "contour": [
           {
            "colorbar": {
             "outlinewidth": 0,
             "ticks": ""
            },
            "colorscale": [
             [
              0,
              "#0d0887"
             ],
             [
              0.1111111111111111,
              "#46039f"
             ],
             [
              0.2222222222222222,
              "#7201a8"
             ],
             [
              0.3333333333333333,
              "#9c179e"
             ],
             [
              0.4444444444444444,
              "#bd3786"
             ],
             [
              0.5555555555555556,
              "#d8576b"
             ],
             [
              0.6666666666666666,
              "#ed7953"
             ],
             [
              0.7777777777777778,
              "#fb9f3a"
             ],
             [
              0.8888888888888888,
              "#fdca26"
             ],
             [
              1,
              "#f0f921"
             ]
            ],
            "type": "contour"
           }
          ],
          "contourcarpet": [
           {
            "colorbar": {
             "outlinewidth": 0,
             "ticks": ""
            },
            "type": "contourcarpet"
           }
          ],
          "heatmap": [
           {
            "colorbar": {
             "outlinewidth": 0,
             "ticks": ""
            },
            "colorscale": [
             [
              0,
              "#0d0887"
             ],
             [
              0.1111111111111111,
              "#46039f"
             ],
             [
              0.2222222222222222,
              "#7201a8"
             ],
             [
              0.3333333333333333,
              "#9c179e"
             ],
             [
              0.4444444444444444,
              "#bd3786"
             ],
             [
              0.5555555555555556,
              "#d8576b"
             ],
             [
              0.6666666666666666,
              "#ed7953"
             ],
             [
              0.7777777777777778,
              "#fb9f3a"
             ],
             [
              0.8888888888888888,
              "#fdca26"
             ],
             [
              1,
              "#f0f921"
             ]
            ],
            "type": "heatmap"
           }
          ],
          "heatmapgl": [
           {
            "colorbar": {
             "outlinewidth": 0,
             "ticks": ""
            },
            "colorscale": [
             [
              0,
              "#0d0887"
             ],
             [
              0.1111111111111111,
              "#46039f"
             ],
             [
              0.2222222222222222,
              "#7201a8"
             ],
             [
              0.3333333333333333,
              "#9c179e"
             ],
             [
              0.4444444444444444,
              "#bd3786"
             ],
             [
              0.5555555555555556,
              "#d8576b"
             ],
             [
              0.6666666666666666,
              "#ed7953"
             ],
             [
              0.7777777777777778,
              "#fb9f3a"
             ],
             [
              0.8888888888888888,
              "#fdca26"
             ],
             [
              1,
              "#f0f921"
             ]
            ],
            "type": "heatmapgl"
           }
          ],
          "histogram": [
           {
            "marker": {
             "pattern": {
              "fillmode": "overlay",
              "size": 10,
              "solidity": 0.2
             }
            },
            "type": "histogram"
           }
          ],
          "histogram2d": [
           {
            "colorbar": {
             "outlinewidth": 0,
             "ticks": ""
            },
            "colorscale": [
             [
              0,
              "#0d0887"
             ],
             [
              0.1111111111111111,
              "#46039f"
             ],
             [
              0.2222222222222222,
              "#7201a8"
             ],
             [
              0.3333333333333333,
              "#9c179e"
             ],
             [
              0.4444444444444444,
              "#bd3786"
             ],
             [
              0.5555555555555556,
              "#d8576b"
             ],
             [
              0.6666666666666666,
              "#ed7953"
             ],
             [
              0.7777777777777778,
              "#fb9f3a"
             ],
             [
              0.8888888888888888,
              "#fdca26"
             ],
             [
              1,
              "#f0f921"
             ]
            ],
            "type": "histogram2d"
           }
          ],
          "histogram2dcontour": [
           {
            "colorbar": {
             "outlinewidth": 0,
             "ticks": ""
            },
            "colorscale": [
             [
              0,
              "#0d0887"
             ],
             [
              0.1111111111111111,
              "#46039f"
             ],
             [
              0.2222222222222222,
              "#7201a8"
             ],
             [
              0.3333333333333333,
              "#9c179e"
             ],
             [
              0.4444444444444444,
              "#bd3786"
             ],
             [
              0.5555555555555556,
              "#d8576b"
             ],
             [
              0.6666666666666666,
              "#ed7953"
             ],
             [
              0.7777777777777778,
              "#fb9f3a"
             ],
             [
              0.8888888888888888,
              "#fdca26"
             ],
             [
              1,
              "#f0f921"
             ]
            ],
            "type": "histogram2dcontour"
           }
          ],
          "mesh3d": [
           {
            "colorbar": {
             "outlinewidth": 0,
             "ticks": ""
            },
            "type": "mesh3d"
           }
          ],
          "parcoords": [
           {
            "line": {
             "colorbar": {
              "outlinewidth": 0,
              "ticks": ""
             }
            },
            "type": "parcoords"
           }
          ],
          "pie": [
           {
            "automargin": true,
            "type": "pie"
           }
          ],
          "scatter": [
           {
            "fillpattern": {
             "fillmode": "overlay",
             "size": 10,
             "solidity": 0.2
            },
            "type": "scatter"
           }
          ],
          "scatter3d": [
           {
            "line": {
             "colorbar": {
              "outlinewidth": 0,
              "ticks": ""
             }
            },
            "marker": {
             "colorbar": {
              "outlinewidth": 0,
              "ticks": ""
             }
            },
            "type": "scatter3d"
           }
          ],
          "scattercarpet": [
           {
            "marker": {
             "colorbar": {
              "outlinewidth": 0,
              "ticks": ""
             }
            },
            "type": "scattercarpet"
           }
          ],
          "scattergeo": [
           {
            "marker": {
             "colorbar": {
              "outlinewidth": 0,
              "ticks": ""
             }
            },
            "type": "scattergeo"
           }
          ],
          "scattergl": [
           {
            "marker": {
             "colorbar": {
              "outlinewidth": 0,
              "ticks": ""
             }
            },
            "type": "scattergl"
           }
          ],
          "scattermapbox": [
           {
            "marker": {
             "colorbar": {
              "outlinewidth": 0,
              "ticks": ""
             }
            },
            "type": "scattermapbox"
           }
          ],
          "scatterpolar": [
           {
            "marker": {
             "colorbar": {
              "outlinewidth": 0,
              "ticks": ""
             }
            },
            "type": "scatterpolar"
           }
          ],
          "scatterpolargl": [
           {
            "marker": {
             "colorbar": {
              "outlinewidth": 0,
              "ticks": ""
             }
            },
            "type": "scatterpolargl"
           }
          ],
          "scatterternary": [
           {
            "marker": {
             "colorbar": {
              "outlinewidth": 0,
              "ticks": ""
             }
            },
            "type": "scatterternary"
           }
          ],
          "surface": [
           {
            "colorbar": {
             "outlinewidth": 0,
             "ticks": ""
            },
            "colorscale": [
             [
              0,
              "#0d0887"
             ],
             [
              0.1111111111111111,
              "#46039f"
             ],
             [
              0.2222222222222222,
              "#7201a8"
             ],
             [
              0.3333333333333333,
              "#9c179e"
             ],
             [
              0.4444444444444444,
              "#bd3786"
             ],
             [
              0.5555555555555556,
              "#d8576b"
             ],
             [
              0.6666666666666666,
              "#ed7953"
             ],
             [
              0.7777777777777778,
              "#fb9f3a"
             ],
             [
              0.8888888888888888,
              "#fdca26"
             ],
             [
              1,
              "#f0f921"
             ]
            ],
            "type": "surface"
           }
          ],
          "table": [
           {
            "cells": {
             "fill": {
              "color": "#EBF0F8"
             },
             "line": {
              "color": "white"
             }
            },
            "header": {
             "fill": {
              "color": "#C8D4E3"
             },
             "line": {
              "color": "white"
             }
            },
            "type": "table"
           }
          ]
         },
         "layout": {
          "annotationdefaults": {
           "arrowcolor": "#2a3f5f",
           "arrowhead": 0,
           "arrowwidth": 1
          },
          "autotypenumbers": "strict",
          "coloraxis": {
           "colorbar": {
            "outlinewidth": 0,
            "ticks": ""
           }
          },
          "colorscale": {
           "diverging": [
            [
             0,
             "#8e0152"
            ],
            [
             0.1,
             "#c51b7d"
            ],
            [
             0.2,
             "#de77ae"
            ],
            [
             0.3,
             "#f1b6da"
            ],
            [
             0.4,
             "#fde0ef"
            ],
            [
             0.5,
             "#f7f7f7"
            ],
            [
             0.6,
             "#e6f5d0"
            ],
            [
             0.7,
             "#b8e186"
            ],
            [
             0.8,
             "#7fbc41"
            ],
            [
             0.9,
             "#4d9221"
            ],
            [
             1,
             "#276419"
            ]
           ],
           "sequential": [
            [
             0,
             "#0d0887"
            ],
            [
             0.1111111111111111,
             "#46039f"
            ],
            [
             0.2222222222222222,
             "#7201a8"
            ],
            [
             0.3333333333333333,
             "#9c179e"
            ],
            [
             0.4444444444444444,
             "#bd3786"
            ],
            [
             0.5555555555555556,
             "#d8576b"
            ],
            [
             0.6666666666666666,
             "#ed7953"
            ],
            [
             0.7777777777777778,
             "#fb9f3a"
            ],
            [
             0.8888888888888888,
             "#fdca26"
            ],
            [
             1,
             "#f0f921"
            ]
           ],
           "sequentialminus": [
            [
             0,
             "#0d0887"
            ],
            [
             0.1111111111111111,
             "#46039f"
            ],
            [
             0.2222222222222222,
             "#7201a8"
            ],
            [
             0.3333333333333333,
             "#9c179e"
            ],
            [
             0.4444444444444444,
             "#bd3786"
            ],
            [
             0.5555555555555556,
             "#d8576b"
            ],
            [
             0.6666666666666666,
             "#ed7953"
            ],
            [
             0.7777777777777778,
             "#fb9f3a"
            ],
            [
             0.8888888888888888,
             "#fdca26"
            ],
            [
             1,
             "#f0f921"
            ]
           ]
          },
          "colorway": [
           "#636efa",
           "#EF553B",
           "#00cc96",
           "#ab63fa",
           "#FFA15A",
           "#19d3f3",
           "#FF6692",
           "#B6E880",
           "#FF97FF",
           "#FECB52"
          ],
          "font": {
           "color": "#2a3f5f"
          },
          "geo": {
           "bgcolor": "white",
           "lakecolor": "white",
           "landcolor": "#E5ECF6",
           "showlakes": true,
           "showland": true,
           "subunitcolor": "white"
          },
          "hoverlabel": {
           "align": "left"
          },
          "hovermode": "closest",
          "mapbox": {
           "style": "light"
          },
          "paper_bgcolor": "white",
          "plot_bgcolor": "#E5ECF6",
          "polar": {
           "angularaxis": {
            "gridcolor": "white",
            "linecolor": "white",
            "ticks": ""
           },
           "bgcolor": "#E5ECF6",
           "radialaxis": {
            "gridcolor": "white",
            "linecolor": "white",
            "ticks": ""
           }
          },
          "scene": {
           "xaxis": {
            "backgroundcolor": "#E5ECF6",
            "gridcolor": "white",
            "gridwidth": 2,
            "linecolor": "white",
            "showbackground": true,
            "ticks": "",
            "zerolinecolor": "white"
           },
           "yaxis": {
            "backgroundcolor": "#E5ECF6",
            "gridcolor": "white",
            "gridwidth": 2,
            "linecolor": "white",
            "showbackground": true,
            "ticks": "",
            "zerolinecolor": "white"
           },
           "zaxis": {
            "backgroundcolor": "#E5ECF6",
            "gridcolor": "white",
            "gridwidth": 2,
            "linecolor": "white",
            "showbackground": true,
            "ticks": "",
            "zerolinecolor": "white"
           }
          },
          "shapedefaults": {
           "line": {
            "color": "#2a3f5f"
           }
          },
          "ternary": {
           "aaxis": {
            "gridcolor": "white",
            "linecolor": "white",
            "ticks": ""
           },
           "baxis": {
            "gridcolor": "white",
            "linecolor": "white",
            "ticks": ""
           },
           "bgcolor": "#E5ECF6",
           "caxis": {
            "gridcolor": "white",
            "linecolor": "white",
            "ticks": ""
           }
          },
          "title": {
           "x": 0.05
          },
          "xaxis": {
           "automargin": true,
           "gridcolor": "white",
           "linecolor": "white",
           "ticks": "",
           "title": {
            "standoff": 15
           },
           "zerolinecolor": "white",
           "zerolinewidth": 2
          },
          "yaxis": {
           "automargin": true,
           "gridcolor": "white",
           "linecolor": "white",
           "ticks": "",
           "title": {
            "standoff": 15
           },
           "zerolinecolor": "white",
           "zerolinewidth": 2
          }
         }
        },
        "xaxis": {
         "anchor": "y",
         "domain": [
          0,
          1
         ],
         "title": {
          "text": "year"
         }
        },
        "yaxis": {
         "anchor": "x",
         "domain": [
          0,
          1
         ],
         "title": {
          "text": "price"
         }
        }
       }
      },
      "text/html": [
       "<div>                            <div id=\"067ffe31-cb27-4a6b-b919-150f1101641e\" class=\"plotly-graph-div\" style=\"height:400px; width:100%;\"></div>            <script type=\"text/javascript\">                require([\"plotly\"], function(Plotly) {                    window.PLOTLYENV=window.PLOTLYENV || {};                                    if (document.getElementById(\"067ffe31-cb27-4a6b-b919-150f1101641e\")) {                    Plotly.newPlot(                        \"067ffe31-cb27-4a6b-b919-150f1101641e\",                        [{\"alignmentgroup\":\"True\",\"hovertemplate\":\"year=%{marker.color}<br>price=%{y}<extra></extra>\",\"legendgroup\":\"\",\"marker\":{\"color\":[2009,2010,2011,2012,2013,2014,2015,2016,2017,2018,2019],\"coloraxis\":\"coloraxis\",\"pattern\":{\"shape\":\"\"}},\"name\":\"\",\"offsetgroup\":\"\",\"orientation\":\"v\",\"showlegend\":false,\"textposition\":\"auto\",\"x\":[2009,2010,2011,2012,2013,2014,2015,2016,2017,2018,2019],\"xaxis\":\"x\",\"y\":[1.377159090909091,1.6782352941176468,2.966415094339623,2.082222222222222,2.535744680851064,2.7256521739130433,1.4725000000000001,2.4583720930232555,2.8192857142857144,3.3513636363636365,2.628974358974359],\"yaxis\":\"y\",\"type\":\"bar\"}],                        {\"template\":{\"data\":{\"histogram2dcontour\":[{\"type\":\"histogram2dcontour\",\"colorbar\":{\"outlinewidth\":0,\"ticks\":\"\"},\"colorscale\":[[0.0,\"#0d0887\"],[0.1111111111111111,\"#46039f\"],[0.2222222222222222,\"#7201a8\"],[0.3333333333333333,\"#9c179e\"],[0.4444444444444444,\"#bd3786\"],[0.5555555555555556,\"#d8576b\"],[0.6666666666666666,\"#ed7953\"],[0.7777777777777778,\"#fb9f3a\"],[0.8888888888888888,\"#fdca26\"],[1.0,\"#f0f921\"]]}],\"choropleth\":[{\"type\":\"choropleth\",\"colorbar\":{\"outlinewidth\":0,\"ticks\":\"\"}}],\"histogram2d\":[{\"type\":\"histogram2d\",\"colorbar\":{\"outlinewidth\":0,\"ticks\":\"\"},\"colorscale\":[[0.0,\"#0d0887\"],[0.1111111111111111,\"#46039f\"],[0.2222222222222222,\"#7201a8\"],[0.3333333333333333,\"#9c179e\"],[0.4444444444444444,\"#bd3786\"],[0.5555555555555556,\"#d8576b\"],[0.6666666666666666,\"#ed7953\"],[0.7777777777777778,\"#fb9f3a\"],[0.8888888888888888,\"#fdca26\"],[1.0,\"#f0f921\"]]}],\"heatmap\":[{\"type\":\"heatmap\",\"colorbar\":{\"outlinewidth\":0,\"ticks\":\"\"},\"colorscale\":[[0.0,\"#0d0887\"],[0.1111111111111111,\"#46039f\"],[0.2222222222222222,\"#7201a8\"],[0.3333333333333333,\"#9c179e\"],[0.4444444444444444,\"#bd3786\"],[0.5555555555555556,\"#d8576b\"],[0.6666666666666666,\"#ed7953\"],[0.7777777777777778,\"#fb9f3a\"],[0.8888888888888888,\"#fdca26\"],[1.0,\"#f0f921\"]]}],\"heatmapgl\":[{\"type\":\"heatmapgl\",\"colorbar\":{\"outlinewidth\":0,\"ticks\":\"\"},\"colorscale\":[[0.0,\"#0d0887\"],[0.1111111111111111,\"#46039f\"],[0.2222222222222222,\"#7201a8\"],[0.3333333333333333,\"#9c179e\"],[0.4444444444444444,\"#bd3786\"],[0.5555555555555556,\"#d8576b\"],[0.6666666666666666,\"#ed7953\"],[0.7777777777777778,\"#fb9f3a\"],[0.8888888888888888,\"#fdca26\"],[1.0,\"#f0f921\"]]}],\"contourcarpet\":[{\"type\":\"contourcarpet\",\"colorbar\":{\"outlinewidth\":0,\"ticks\":\"\"}}],\"contour\":[{\"type\":\"contour\",\"colorbar\":{\"outlinewidth\":0,\"ticks\":\"\"},\"colorscale\":[[0.0,\"#0d0887\"],[0.1111111111111111,\"#46039f\"],[0.2222222222222222,\"#7201a8\"],[0.3333333333333333,\"#9c179e\"],[0.4444444444444444,\"#bd3786\"],[0.5555555555555556,\"#d8576b\"],[0.6666666666666666,\"#ed7953\"],[0.7777777777777778,\"#fb9f3a\"],[0.8888888888888888,\"#fdca26\"],[1.0,\"#f0f921\"]]}],\"surface\":[{\"type\":\"surface\",\"colorbar\":{\"outlinewidth\":0,\"ticks\":\"\"},\"colorscale\":[[0.0,\"#0d0887\"],[0.1111111111111111,\"#46039f\"],[0.2222222222222222,\"#7201a8\"],[0.3333333333333333,\"#9c179e\"],[0.4444444444444444,\"#bd3786\"],[0.5555555555555556,\"#d8576b\"],[0.6666666666666666,\"#ed7953\"],[0.7777777777777778,\"#fb9f3a\"],[0.8888888888888888,\"#fdca26\"],[1.0,\"#f0f921\"]]}],\"mesh3d\":[{\"type\":\"mesh3d\",\"colorbar\":{\"outlinewidth\":0,\"ticks\":\"\"}}],\"scatter\":[{\"fillpattern\":{\"fillmode\":\"overlay\",\"size\":10,\"solidity\":0.2},\"type\":\"scatter\"}],\"parcoords\":[{\"type\":\"parcoords\",\"line\":{\"colorbar\":{\"outlinewidth\":0,\"ticks\":\"\"}}}],\"scatterpolargl\":[{\"type\":\"scatterpolargl\",\"marker\":{\"colorbar\":{\"outlinewidth\":0,\"ticks\":\"\"}}}],\"bar\":[{\"error_x\":{\"color\":\"#2a3f5f\"},\"error_y\":{\"color\":\"#2a3f5f\"},\"marker\":{\"line\":{\"color\":\"#E5ECF6\",\"width\":0.5},\"pattern\":{\"fillmode\":\"overlay\",\"size\":10,\"solidity\":0.2}},\"type\":\"bar\"}],\"scattergeo\":[{\"type\":\"scattergeo\",\"marker\":{\"colorbar\":{\"outlinewidth\":0,\"ticks\":\"\"}}}],\"scatterpolar\":[{\"type\":\"scatterpolar\",\"marker\":{\"colorbar\":{\"outlinewidth\":0,\"ticks\":\"\"}}}],\"histogram\":[{\"marker\":{\"pattern\":{\"fillmode\":\"overlay\",\"size\":10,\"solidity\":0.2}},\"type\":\"histogram\"}],\"scattergl\":[{\"type\":\"scattergl\",\"marker\":{\"colorbar\":{\"outlinewidth\":0,\"ticks\":\"\"}}}],\"scatter3d\":[{\"type\":\"scatter3d\",\"line\":{\"colorbar\":{\"outlinewidth\":0,\"ticks\":\"\"}},\"marker\":{\"colorbar\":{\"outlinewidth\":0,\"ticks\":\"\"}}}],\"scattermapbox\":[{\"type\":\"scattermapbox\",\"marker\":{\"colorbar\":{\"outlinewidth\":0,\"ticks\":\"\"}}}],\"scatterternary\":[{\"type\":\"scatterternary\",\"marker\":{\"colorbar\":{\"outlinewidth\":0,\"ticks\":\"\"}}}],\"scattercarpet\":[{\"type\":\"scattercarpet\",\"marker\":{\"colorbar\":{\"outlinewidth\":0,\"ticks\":\"\"}}}],\"carpet\":[{\"aaxis\":{\"endlinecolor\":\"#2a3f5f\",\"gridcolor\":\"white\",\"linecolor\":\"white\",\"minorgridcolor\":\"white\",\"startlinecolor\":\"#2a3f5f\"},\"baxis\":{\"endlinecolor\":\"#2a3f5f\",\"gridcolor\":\"white\",\"linecolor\":\"white\",\"minorgridcolor\":\"white\",\"startlinecolor\":\"#2a3f5f\"},\"type\":\"carpet\"}],\"table\":[{\"cells\":{\"fill\":{\"color\":\"#EBF0F8\"},\"line\":{\"color\":\"white\"}},\"header\":{\"fill\":{\"color\":\"#C8D4E3\"},\"line\":{\"color\":\"white\"}},\"type\":\"table\"}],\"barpolar\":[{\"marker\":{\"line\":{\"color\":\"#E5ECF6\",\"width\":0.5},\"pattern\":{\"fillmode\":\"overlay\",\"size\":10,\"solidity\":0.2}},\"type\":\"barpolar\"}],\"pie\":[{\"automargin\":true,\"type\":\"pie\"}]},\"layout\":{\"autotypenumbers\":\"strict\",\"colorway\":[\"#636efa\",\"#EF553B\",\"#00cc96\",\"#ab63fa\",\"#FFA15A\",\"#19d3f3\",\"#FF6692\",\"#B6E880\",\"#FF97FF\",\"#FECB52\"],\"font\":{\"color\":\"#2a3f5f\"},\"hovermode\":\"closest\",\"hoverlabel\":{\"align\":\"left\"},\"paper_bgcolor\":\"white\",\"plot_bgcolor\":\"#E5ECF6\",\"polar\":{\"bgcolor\":\"#E5ECF6\",\"angularaxis\":{\"gridcolor\":\"white\",\"linecolor\":\"white\",\"ticks\":\"\"},\"radialaxis\":{\"gridcolor\":\"white\",\"linecolor\":\"white\",\"ticks\":\"\"}},\"ternary\":{\"bgcolor\":\"#E5ECF6\",\"aaxis\":{\"gridcolor\":\"white\",\"linecolor\":\"white\",\"ticks\":\"\"},\"baxis\":{\"gridcolor\":\"white\",\"linecolor\":\"white\",\"ticks\":\"\"},\"caxis\":{\"gridcolor\":\"white\",\"linecolor\":\"white\",\"ticks\":\"\"}},\"coloraxis\":{\"colorbar\":{\"outlinewidth\":0,\"ticks\":\"\"}},\"colorscale\":{\"sequential\":[[0.0,\"#0d0887\"],[0.1111111111111111,\"#46039f\"],[0.2222222222222222,\"#7201a8\"],[0.3333333333333333,\"#9c179e\"],[0.4444444444444444,\"#bd3786\"],[0.5555555555555556,\"#d8576b\"],[0.6666666666666666,\"#ed7953\"],[0.7777777777777778,\"#fb9f3a\"],[0.8888888888888888,\"#fdca26\"],[1.0,\"#f0f921\"]],\"sequentialminus\":[[0.0,\"#0d0887\"],[0.1111111111111111,\"#46039f\"],[0.2222222222222222,\"#7201a8\"],[0.3333333333333333,\"#9c179e\"],[0.4444444444444444,\"#bd3786\"],[0.5555555555555556,\"#d8576b\"],[0.6666666666666666,\"#ed7953\"],[0.7777777777777778,\"#fb9f3a\"],[0.8888888888888888,\"#fdca26\"],[1.0,\"#f0f921\"]],\"diverging\":[[0,\"#8e0152\"],[0.1,\"#c51b7d\"],[0.2,\"#de77ae\"],[0.3,\"#f1b6da\"],[0.4,\"#fde0ef\"],[0.5,\"#f7f7f7\"],[0.6,\"#e6f5d0\"],[0.7,\"#b8e186\"],[0.8,\"#7fbc41\"],[0.9,\"#4d9221\"],[1,\"#276419\"]]},\"xaxis\":{\"gridcolor\":\"white\",\"linecolor\":\"white\",\"ticks\":\"\",\"title\":{\"standoff\":15},\"zerolinecolor\":\"white\",\"automargin\":true,\"zerolinewidth\":2},\"yaxis\":{\"gridcolor\":\"white\",\"linecolor\":\"white\",\"ticks\":\"\",\"title\":{\"standoff\":15},\"zerolinecolor\":\"white\",\"automargin\":true,\"zerolinewidth\":2},\"scene\":{\"xaxis\":{\"backgroundcolor\":\"#E5ECF6\",\"gridcolor\":\"white\",\"linecolor\":\"white\",\"showbackground\":true,\"ticks\":\"\",\"zerolinecolor\":\"white\",\"gridwidth\":2},\"yaxis\":{\"backgroundcolor\":\"#E5ECF6\",\"gridcolor\":\"white\",\"linecolor\":\"white\",\"showbackground\":true,\"ticks\":\"\",\"zerolinecolor\":\"white\",\"gridwidth\":2},\"zaxis\":{\"backgroundcolor\":\"#E5ECF6\",\"gridcolor\":\"white\",\"linecolor\":\"white\",\"showbackground\":true,\"ticks\":\"\",\"zerolinecolor\":\"white\",\"gridwidth\":2}},\"shapedefaults\":{\"line\":{\"color\":\"#2a3f5f\"}},\"annotationdefaults\":{\"arrowcolor\":\"#2a3f5f\",\"arrowhead\":0,\"arrowwidth\":1},\"geo\":{\"bgcolor\":\"white\",\"landcolor\":\"#E5ECF6\",\"subunitcolor\":\"white\",\"showland\":true,\"showlakes\":true,\"lakecolor\":\"white\"},\"title\":{\"x\":0.05},\"mapbox\":{\"style\":\"light\"}}},\"xaxis\":{\"anchor\":\"y\",\"domain\":[0.0,1.0],\"title\":{\"text\":\"year\"}},\"yaxis\":{\"anchor\":\"x\",\"domain\":[0.0,1.0],\"title\":{\"text\":\"price\"}},\"coloraxis\":{\"colorbar\":{\"title\":{\"text\":\"year\"}},\"colorscale\":[[0.0,\"#0d0887\"],[0.1111111111111111,\"#46039f\"],[0.2222222222222222,\"#7201a8\"],[0.3333333333333333,\"#9c179e\"],[0.4444444444444444,\"#bd3786\"],[0.5555555555555556,\"#d8576b\"],[0.6666666666666666,\"#ed7953\"],[0.7777777777777778,\"#fb9f3a\"],[0.8888888888888888,\"#fdca26\"],[1.0,\"#f0f921\"]]},\"legend\":{\"tracegroupgap\":0},\"margin\":{\"t\":60},\"barmode\":\"relative\",\"height\":400},                        {\"responsive\": true}                    ).then(function(){\n",
       "                            \n",
       "var gd = document.getElementById('067ffe31-cb27-4a6b-b919-150f1101641e');\n",
       "var x = new MutationObserver(function (mutations, observer) {{\n",
       "        var display = window.getComputedStyle(gd).display;\n",
       "        if (!display || display === 'none') {{\n",
       "            console.log([gd, 'removed!']);\n",
       "            Plotly.purge(gd);\n",
       "            observer.disconnect();\n",
       "        }}\n",
       "}});\n",
       "\n",
       "// Listen for the removal of the full notebook cells\n",
       "var notebookContainer = gd.closest('#notebook-container');\n",
       "if (notebookContainer) {{\n",
       "    x.observe(notebookContainer, {childList: true});\n",
       "}}\n",
       "\n",
       "// Listen for the clearing of the current output cell\n",
       "var outputEl = gd.closest('.output');\n",
       "if (outputEl) {{\n",
       "    x.observe(outputEl, {childList: true});\n",
       "}}\n",
       "\n",
       "                        })                };                });            </script>        </div>"
      ]
     },
     "metadata": {},
     "output_type": "display_data"
    }
   ],
   "source": [
    "years_price = df.groupby(['year'], as_index=False)['price'].mean()\n",
    "fig = px.bar(years_price, x=years_price['year'], y=years_price['price'],\n",
    "              color='year',\n",
    "             labels={''}, height=400)\n",
    "fig.show()\n"
   ]
  },
  {
   "cell_type": "code",
   "execution_count": 43,
   "metadata": {},
   "outputs": [
    {
     "data": {
      "text/html": [
       "<div>\n",
       "<style scoped>\n",
       "    .dataframe tbody tr th:only-of-type {\n",
       "        vertical-align: middle;\n",
       "    }\n",
       "\n",
       "    .dataframe tbody tr th {\n",
       "        vertical-align: top;\n",
       "    }\n",
       "\n",
       "    .dataframe thead th {\n",
       "        text-align: right;\n",
       "    }\n",
       "</style>\n",
       "<table border=\"1\" class=\"dataframe\">\n",
       "  <thead>\n",
       "    <tr style=\"text-align: right;\">\n",
       "      <th></th>\n",
       "      <th>year</th>\n",
       "      <th>price</th>\n",
       "    </tr>\n",
       "  </thead>\n",
       "  <tbody>\n",
       "    <tr>\n",
       "      <th>0</th>\n",
       "      <td>2009</td>\n",
       "      <td>1.377159</td>\n",
       "    </tr>\n",
       "    <tr>\n",
       "      <th>1</th>\n",
       "      <td>2010</td>\n",
       "      <td>1.678235</td>\n",
       "    </tr>\n",
       "    <tr>\n",
       "      <th>2</th>\n",
       "      <td>2011</td>\n",
       "      <td>2.966415</td>\n",
       "    </tr>\n",
       "    <tr>\n",
       "      <th>3</th>\n",
       "      <td>2012</td>\n",
       "      <td>2.082222</td>\n",
       "    </tr>\n",
       "    <tr>\n",
       "      <th>4</th>\n",
       "      <td>2013</td>\n",
       "      <td>2.535745</td>\n",
       "    </tr>\n",
       "  </tbody>\n",
       "</table>\n",
       "</div>"
      ],
      "text/plain": [
       "   year     price\n",
       "0  2009  1.377159\n",
       "1  2010  1.678235\n",
       "2  2011  2.966415\n",
       "3  2012  2.082222\n",
       "4  2013  2.535745"
      ]
     },
     "execution_count": 43,
     "metadata": {},
     "output_type": "execute_result"
    }
   ],
   "source": [
    "years_price.head()"
   ]
  },
  {
   "cell_type": "code",
   "execution_count": 48,
   "metadata": {},
   "outputs": [
    {
     "data": {
      "application/vnd.plotly.v1+json": {
       "config": {
        "plotlyServerURL": "https://plot.ly"
       },
       "data": [
        {
         "alignmentgroup": "True",
         "bingroup": "x",
         "histfunc": "avg",
         "hovertemplate": "year=%{x}<br>avg of price=%{y}<extra></extra>",
         "legendgroup": "",
         "marker": {
          "color": "#636efa",
          "pattern": {
           "shape": ""
          }
         },
         "name": "",
         "offsetgroup": "",
         "orientation": "v",
         "showlegend": false,
         "type": "histogram",
         "x": [
          2009,
          2010,
          2011,
          2012,
          2013,
          2014,
          2015,
          2016,
          2017,
          2018,
          2019
         ],
         "xaxis": "x",
         "xbins": {
          "size": "M1"
         },
         "y": [
          1.377159090909091,
          1.6782352941176468,
          2.966415094339623,
          2.082222222222222,
          2.535744680851064,
          2.7256521739130433,
          1.4725000000000001,
          2.4583720930232555,
          2.8192857142857144,
          3.3513636363636365,
          2.628974358974359
         ],
         "yaxis": "y"
        },
        {
         "mode": "markers+lines",
         "name": "Yearly",
         "type": "scatter",
         "x": [
          2009,
          2010,
          2011,
          2012,
          2013,
          2014,
          2015,
          2016,
          2017,
          2018,
          2019
         ],
         "xperiodalignment": "start",
         "y": [
          1.377159090909091,
          1.6782352941176468,
          2.966415094339623,
          2.082222222222222,
          2.535744680851064,
          2.7256521739130433,
          1.4725000000000001,
          2.4583720930232555,
          2.8192857142857144,
          3.3513636363636365,
          2.628974358974359
         ]
        }
       ],
       "layout": {
        "bargap": 0.1,
        "barmode": "relative",
        "legend": {
         "tracegroupgap": 0
        },
        "template": {
         "data": {
          "bar": [
           {
            "error_x": {
             "color": "#2a3f5f"
            },
            "error_y": {
             "color": "#2a3f5f"
            },
            "marker": {
             "line": {
              "color": "#E5ECF6",
              "width": 0.5
             },
             "pattern": {
              "fillmode": "overlay",
              "size": 10,
              "solidity": 0.2
             }
            },
            "type": "bar"
           }
          ],
          "barpolar": [
           {
            "marker": {
             "line": {
              "color": "#E5ECF6",
              "width": 0.5
             },
             "pattern": {
              "fillmode": "overlay",
              "size": 10,
              "solidity": 0.2
             }
            },
            "type": "barpolar"
           }
          ],
          "carpet": [
           {
            "aaxis": {
             "endlinecolor": "#2a3f5f",
             "gridcolor": "white",
             "linecolor": "white",
             "minorgridcolor": "white",
             "startlinecolor": "#2a3f5f"
            },
            "baxis": {
             "endlinecolor": "#2a3f5f",
             "gridcolor": "white",
             "linecolor": "white",
             "minorgridcolor": "white",
             "startlinecolor": "#2a3f5f"
            },
            "type": "carpet"
           }
          ],
          "choropleth": [
           {
            "colorbar": {
             "outlinewidth": 0,
             "ticks": ""
            },
            "type": "choropleth"
           }
          ],
          "contour": [
           {
            "colorbar": {
             "outlinewidth": 0,
             "ticks": ""
            },
            "colorscale": [
             [
              0,
              "#0d0887"
             ],
             [
              0.1111111111111111,
              "#46039f"
             ],
             [
              0.2222222222222222,
              "#7201a8"
             ],
             [
              0.3333333333333333,
              "#9c179e"
             ],
             [
              0.4444444444444444,
              "#bd3786"
             ],
             [
              0.5555555555555556,
              "#d8576b"
             ],
             [
              0.6666666666666666,
              "#ed7953"
             ],
             [
              0.7777777777777778,
              "#fb9f3a"
             ],
             [
              0.8888888888888888,
              "#fdca26"
             ],
             [
              1,
              "#f0f921"
             ]
            ],
            "type": "contour"
           }
          ],
          "contourcarpet": [
           {
            "colorbar": {
             "outlinewidth": 0,
             "ticks": ""
            },
            "type": "contourcarpet"
           }
          ],
          "heatmap": [
           {
            "colorbar": {
             "outlinewidth": 0,
             "ticks": ""
            },
            "colorscale": [
             [
              0,
              "#0d0887"
             ],
             [
              0.1111111111111111,
              "#46039f"
             ],
             [
              0.2222222222222222,
              "#7201a8"
             ],
             [
              0.3333333333333333,
              "#9c179e"
             ],
             [
              0.4444444444444444,
              "#bd3786"
             ],
             [
              0.5555555555555556,
              "#d8576b"
             ],
             [
              0.6666666666666666,
              "#ed7953"
             ],
             [
              0.7777777777777778,
              "#fb9f3a"
             ],
             [
              0.8888888888888888,
              "#fdca26"
             ],
             [
              1,
              "#f0f921"
             ]
            ],
            "type": "heatmap"
           }
          ],
          "heatmapgl": [
           {
            "colorbar": {
             "outlinewidth": 0,
             "ticks": ""
            },
            "colorscale": [
             [
              0,
              "#0d0887"
             ],
             [
              0.1111111111111111,
              "#46039f"
             ],
             [
              0.2222222222222222,
              "#7201a8"
             ],
             [
              0.3333333333333333,
              "#9c179e"
             ],
             [
              0.4444444444444444,
              "#bd3786"
             ],
             [
              0.5555555555555556,
              "#d8576b"
             ],
             [
              0.6666666666666666,
              "#ed7953"
             ],
             [
              0.7777777777777778,
              "#fb9f3a"
             ],
             [
              0.8888888888888888,
              "#fdca26"
             ],
             [
              1,
              "#f0f921"
             ]
            ],
            "type": "heatmapgl"
           }
          ],
          "histogram": [
           {
            "marker": {
             "pattern": {
              "fillmode": "overlay",
              "size": 10,
              "solidity": 0.2
             }
            },
            "type": "histogram"
           }
          ],
          "histogram2d": [
           {
            "colorbar": {
             "outlinewidth": 0,
             "ticks": ""
            },
            "colorscale": [
             [
              0,
              "#0d0887"
             ],
             [
              0.1111111111111111,
              "#46039f"
             ],
             [
              0.2222222222222222,
              "#7201a8"
             ],
             [
              0.3333333333333333,
              "#9c179e"
             ],
             [
              0.4444444444444444,
              "#bd3786"
             ],
             [
              0.5555555555555556,
              "#d8576b"
             ],
             [
              0.6666666666666666,
              "#ed7953"
             ],
             [
              0.7777777777777778,
              "#fb9f3a"
             ],
             [
              0.8888888888888888,
              "#fdca26"
             ],
             [
              1,
              "#f0f921"
             ]
            ],
            "type": "histogram2d"
           }
          ],
          "histogram2dcontour": [
           {
            "colorbar": {
             "outlinewidth": 0,
             "ticks": ""
            },
            "colorscale": [
             [
              0,
              "#0d0887"
             ],
             [
              0.1111111111111111,
              "#46039f"
             ],
             [
              0.2222222222222222,
              "#7201a8"
             ],
             [
              0.3333333333333333,
              "#9c179e"
             ],
             [
              0.4444444444444444,
              "#bd3786"
             ],
             [
              0.5555555555555556,
              "#d8576b"
             ],
             [
              0.6666666666666666,
              "#ed7953"
             ],
             [
              0.7777777777777778,
              "#fb9f3a"
             ],
             [
              0.8888888888888888,
              "#fdca26"
             ],
             [
              1,
              "#f0f921"
             ]
            ],
            "type": "histogram2dcontour"
           }
          ],
          "mesh3d": [
           {
            "colorbar": {
             "outlinewidth": 0,
             "ticks": ""
            },
            "type": "mesh3d"
           }
          ],
          "parcoords": [
           {
            "line": {
             "colorbar": {
              "outlinewidth": 0,
              "ticks": ""
             }
            },
            "type": "parcoords"
           }
          ],
          "pie": [
           {
            "automargin": true,
            "type": "pie"
           }
          ],
          "scatter": [
           {
            "fillpattern": {
             "fillmode": "overlay",
             "size": 10,
             "solidity": 0.2
            },
            "type": "scatter"
           }
          ],
          "scatter3d": [
           {
            "line": {
             "colorbar": {
              "outlinewidth": 0,
              "ticks": ""
             }
            },
            "marker": {
             "colorbar": {
              "outlinewidth": 0,
              "ticks": ""
             }
            },
            "type": "scatter3d"
           }
          ],
          "scattercarpet": [
           {
            "marker": {
             "colorbar": {
              "outlinewidth": 0,
              "ticks": ""
             }
            },
            "type": "scattercarpet"
           }
          ],
          "scattergeo": [
           {
            "marker": {
             "colorbar": {
              "outlinewidth": 0,
              "ticks": ""
             }
            },
            "type": "scattergeo"
           }
          ],
          "scattergl": [
           {
            "marker": {
             "colorbar": {
              "outlinewidth": 0,
              "ticks": ""
             }
            },
            "type": "scattergl"
           }
          ],
          "scattermapbox": [
           {
            "marker": {
             "colorbar": {
              "outlinewidth": 0,
              "ticks": ""
             }
            },
            "type": "scattermapbox"
           }
          ],
          "scatterpolar": [
           {
            "marker": {
             "colorbar": {
              "outlinewidth": 0,
              "ticks": ""
             }
            },
            "type": "scatterpolar"
           }
          ],
          "scatterpolargl": [
           {
            "marker": {
             "colorbar": {
              "outlinewidth": 0,
              "ticks": ""
             }
            },
            "type": "scatterpolargl"
           }
          ],
          "scatterternary": [
           {
            "marker": {
             "colorbar": {
              "outlinewidth": 0,
              "ticks": ""
             }
            },
            "type": "scatterternary"
           }
          ],
          "surface": [
           {
            "colorbar": {
             "outlinewidth": 0,
             "ticks": ""
            },
            "colorscale": [
             [
              0,
              "#0d0887"
             ],
             [
              0.1111111111111111,
              "#46039f"
             ],
             [
              0.2222222222222222,
              "#7201a8"
             ],
             [
              0.3333333333333333,
              "#9c179e"
             ],
             [
              0.4444444444444444,
              "#bd3786"
             ],
             [
              0.5555555555555556,
              "#d8576b"
             ],
             [
              0.6666666666666666,
              "#ed7953"
             ],
             [
              0.7777777777777778,
              "#fb9f3a"
             ],
             [
              0.8888888888888888,
              "#fdca26"
             ],
             [
              1,
              "#f0f921"
             ]
            ],
            "type": "surface"
           }
          ],
          "table": [
           {
            "cells": {
             "fill": {
              "color": "#EBF0F8"
             },
             "line": {
              "color": "white"
             }
            },
            "header": {
             "fill": {
              "color": "#C8D4E3"
             },
             "line": {
              "color": "white"
             }
            },
            "type": "table"
           }
          ]
         },
         "layout": {
          "annotationdefaults": {
           "arrowcolor": "#2a3f5f",
           "arrowhead": 0,
           "arrowwidth": 1
          },
          "autotypenumbers": "strict",
          "coloraxis": {
           "colorbar": {
            "outlinewidth": 0,
            "ticks": ""
           }
          },
          "colorscale": {
           "diverging": [
            [
             0,
             "#8e0152"
            ],
            [
             0.1,
             "#c51b7d"
            ],
            [
             0.2,
             "#de77ae"
            ],
            [
             0.3,
             "#f1b6da"
            ],
            [
             0.4,
             "#fde0ef"
            ],
            [
             0.5,
             "#f7f7f7"
            ],
            [
             0.6,
             "#e6f5d0"
            ],
            [
             0.7,
             "#b8e186"
            ],
            [
             0.8,
             "#7fbc41"
            ],
            [
             0.9,
             "#4d9221"
            ],
            [
             1,
             "#276419"
            ]
           ],
           "sequential": [
            [
             0,
             "#0d0887"
            ],
            [
             0.1111111111111111,
             "#46039f"
            ],
            [
             0.2222222222222222,
             "#7201a8"
            ],
            [
             0.3333333333333333,
             "#9c179e"
            ],
            [
             0.4444444444444444,
             "#bd3786"
            ],
            [
             0.5555555555555556,
             "#d8576b"
            ],
            [
             0.6666666666666666,
             "#ed7953"
            ],
            [
             0.7777777777777778,
             "#fb9f3a"
            ],
            [
             0.8888888888888888,
             "#fdca26"
            ],
            [
             1,
             "#f0f921"
            ]
           ],
           "sequentialminus": [
            [
             0,
             "#0d0887"
            ],
            [
             0.1111111111111111,
             "#46039f"
            ],
            [
             0.2222222222222222,
             "#7201a8"
            ],
            [
             0.3333333333333333,
             "#9c179e"
            ],
            [
             0.4444444444444444,
             "#bd3786"
            ],
            [
             0.5555555555555556,
             "#d8576b"
            ],
            [
             0.6666666666666666,
             "#ed7953"
            ],
            [
             0.7777777777777778,
             "#fb9f3a"
            ],
            [
             0.8888888888888888,
             "#fdca26"
            ],
            [
             1,
             "#f0f921"
            ]
           ]
          },
          "colorway": [
           "#636efa",
           "#EF553B",
           "#00cc96",
           "#ab63fa",
           "#FFA15A",
           "#19d3f3",
           "#FF6692",
           "#B6E880",
           "#FF97FF",
           "#FECB52"
          ],
          "font": {
           "color": "#2a3f5f"
          },
          "geo": {
           "bgcolor": "white",
           "lakecolor": "white",
           "landcolor": "#E5ECF6",
           "showlakes": true,
           "showland": true,
           "subunitcolor": "white"
          },
          "hoverlabel": {
           "align": "left"
          },
          "hovermode": "closest",
          "mapbox": {
           "style": "light"
          },
          "paper_bgcolor": "white",
          "plot_bgcolor": "#E5ECF6",
          "polar": {
           "angularaxis": {
            "gridcolor": "white",
            "linecolor": "white",
            "ticks": ""
           },
           "bgcolor": "#E5ECF6",
           "radialaxis": {
            "gridcolor": "white",
            "linecolor": "white",
            "ticks": ""
           }
          },
          "scene": {
           "xaxis": {
            "backgroundcolor": "#E5ECF6",
            "gridcolor": "white",
            "gridwidth": 2,
            "linecolor": "white",
            "showbackground": true,
            "ticks": "",
            "zerolinecolor": "white"
           },
           "yaxis": {
            "backgroundcolor": "#E5ECF6",
            "gridcolor": "white",
            "gridwidth": 2,
            "linecolor": "white",
            "showbackground": true,
            "ticks": "",
            "zerolinecolor": "white"
           },
           "zaxis": {
            "backgroundcolor": "#E5ECF6",
            "gridcolor": "white",
            "gridwidth": 2,
            "linecolor": "white",
            "showbackground": true,
            "ticks": "",
            "zerolinecolor": "white"
           }
          },
          "shapedefaults": {
           "line": {
            "color": "#2a3f5f"
           }
          },
          "ternary": {
           "aaxis": {
            "gridcolor": "white",
            "linecolor": "white",
            "ticks": ""
           },
           "baxis": {
            "gridcolor": "white",
            "linecolor": "white",
            "ticks": ""
           },
           "bgcolor": "#E5ECF6",
           "caxis": {
            "gridcolor": "white",
            "linecolor": "white",
            "ticks": ""
           }
          },
          "title": {
           "x": 0.05
          },
          "xaxis": {
           "automargin": true,
           "gridcolor": "white",
           "linecolor": "white",
           "ticks": "",
           "title": {
            "standoff": 15
           },
           "zerolinecolor": "white",
           "zerolinewidth": 2
          },
          "yaxis": {
           "automargin": true,
           "gridcolor": "white",
           "linecolor": "white",
           "ticks": "",
           "title": {
            "standoff": 15
           },
           "zerolinecolor": "white",
           "zerolinewidth": 2
          }
         }
        },
        "title": {
         "text": "Histogram on Date Axes"
        },
        "xaxis": {
         "anchor": "y",
         "domain": [
          0,
          1
         ],
         "dtick": "M1",
         "showgrid": true,
         "tickformat": "%b\n%Y",
         "ticklabelmode": "period",
         "title": {
          "text": "year"
         }
        },
        "yaxis": {
         "anchor": "x",
         "domain": [
          0,
          1
         ],
         "title": {
          "text": "avg of price"
         }
        }
       }
      },
      "text/html": [
       "<div>                            <div id=\"c5126833-0142-4c4b-bddf-378b964420f2\" class=\"plotly-graph-div\" style=\"height:525px; width:100%;\"></div>            <script type=\"text/javascript\">                require([\"plotly\"], function(Plotly) {                    window.PLOTLYENV=window.PLOTLYENV || {};                                    if (document.getElementById(\"c5126833-0142-4c4b-bddf-378b964420f2\")) {                    Plotly.newPlot(                        \"c5126833-0142-4c4b-bddf-378b964420f2\",                        [{\"alignmentgroup\":\"True\",\"bingroup\":\"x\",\"histfunc\":\"avg\",\"hovertemplate\":\"year=%{x}<br>avg of price=%{y}<extra></extra>\",\"legendgroup\":\"\",\"marker\":{\"color\":\"#636efa\",\"pattern\":{\"shape\":\"\"}},\"name\":\"\",\"offsetgroup\":\"\",\"orientation\":\"v\",\"showlegend\":false,\"x\":[2009,2010,2011,2012,2013,2014,2015,2016,2017,2018,2019],\"xaxis\":\"x\",\"y\":[1.377159090909091,1.6782352941176468,2.966415094339623,2.082222222222222,2.535744680851064,2.7256521739130433,1.4725000000000001,2.4583720930232555,2.8192857142857144,3.3513636363636365,2.628974358974359],\"yaxis\":\"y\",\"type\":\"histogram\",\"xbins\":{\"size\":\"M1\"}},{\"mode\":\"markers+lines\",\"name\":\"Yearly\",\"x\":[2009,2010,2011,2012,2013,2014,2015,2016,2017,2018,2019],\"xperiodalignment\":\"start\",\"y\":[1.377159090909091,1.6782352941176468,2.966415094339623,2.082222222222222,2.535744680851064,2.7256521739130433,1.4725000000000001,2.4583720930232555,2.8192857142857144,3.3513636363636365,2.628974358974359],\"type\":\"scatter\"}],                        {\"template\":{\"data\":{\"histogram2dcontour\":[{\"type\":\"histogram2dcontour\",\"colorbar\":{\"outlinewidth\":0,\"ticks\":\"\"},\"colorscale\":[[0.0,\"#0d0887\"],[0.1111111111111111,\"#46039f\"],[0.2222222222222222,\"#7201a8\"],[0.3333333333333333,\"#9c179e\"],[0.4444444444444444,\"#bd3786\"],[0.5555555555555556,\"#d8576b\"],[0.6666666666666666,\"#ed7953\"],[0.7777777777777778,\"#fb9f3a\"],[0.8888888888888888,\"#fdca26\"],[1.0,\"#f0f921\"]]}],\"choropleth\":[{\"type\":\"choropleth\",\"colorbar\":{\"outlinewidth\":0,\"ticks\":\"\"}}],\"histogram2d\":[{\"type\":\"histogram2d\",\"colorbar\":{\"outlinewidth\":0,\"ticks\":\"\"},\"colorscale\":[[0.0,\"#0d0887\"],[0.1111111111111111,\"#46039f\"],[0.2222222222222222,\"#7201a8\"],[0.3333333333333333,\"#9c179e\"],[0.4444444444444444,\"#bd3786\"],[0.5555555555555556,\"#d8576b\"],[0.6666666666666666,\"#ed7953\"],[0.7777777777777778,\"#fb9f3a\"],[0.8888888888888888,\"#fdca26\"],[1.0,\"#f0f921\"]]}],\"heatmap\":[{\"type\":\"heatmap\",\"colorbar\":{\"outlinewidth\":0,\"ticks\":\"\"},\"colorscale\":[[0.0,\"#0d0887\"],[0.1111111111111111,\"#46039f\"],[0.2222222222222222,\"#7201a8\"],[0.3333333333333333,\"#9c179e\"],[0.4444444444444444,\"#bd3786\"],[0.5555555555555556,\"#d8576b\"],[0.6666666666666666,\"#ed7953\"],[0.7777777777777778,\"#fb9f3a\"],[0.8888888888888888,\"#fdca26\"],[1.0,\"#f0f921\"]]}],\"heatmapgl\":[{\"type\":\"heatmapgl\",\"colorbar\":{\"outlinewidth\":0,\"ticks\":\"\"},\"colorscale\":[[0.0,\"#0d0887\"],[0.1111111111111111,\"#46039f\"],[0.2222222222222222,\"#7201a8\"],[0.3333333333333333,\"#9c179e\"],[0.4444444444444444,\"#bd3786\"],[0.5555555555555556,\"#d8576b\"],[0.6666666666666666,\"#ed7953\"],[0.7777777777777778,\"#fb9f3a\"],[0.8888888888888888,\"#fdca26\"],[1.0,\"#f0f921\"]]}],\"contourcarpet\":[{\"type\":\"contourcarpet\",\"colorbar\":{\"outlinewidth\":0,\"ticks\":\"\"}}],\"contour\":[{\"type\":\"contour\",\"colorbar\":{\"outlinewidth\":0,\"ticks\":\"\"},\"colorscale\":[[0.0,\"#0d0887\"],[0.1111111111111111,\"#46039f\"],[0.2222222222222222,\"#7201a8\"],[0.3333333333333333,\"#9c179e\"],[0.4444444444444444,\"#bd3786\"],[0.5555555555555556,\"#d8576b\"],[0.6666666666666666,\"#ed7953\"],[0.7777777777777778,\"#fb9f3a\"],[0.8888888888888888,\"#fdca26\"],[1.0,\"#f0f921\"]]}],\"surface\":[{\"type\":\"surface\",\"colorbar\":{\"outlinewidth\":0,\"ticks\":\"\"},\"colorscale\":[[0.0,\"#0d0887\"],[0.1111111111111111,\"#46039f\"],[0.2222222222222222,\"#7201a8\"],[0.3333333333333333,\"#9c179e\"],[0.4444444444444444,\"#bd3786\"],[0.5555555555555556,\"#d8576b\"],[0.6666666666666666,\"#ed7953\"],[0.7777777777777778,\"#fb9f3a\"],[0.8888888888888888,\"#fdca26\"],[1.0,\"#f0f921\"]]}],\"mesh3d\":[{\"type\":\"mesh3d\",\"colorbar\":{\"outlinewidth\":0,\"ticks\":\"\"}}],\"scatter\":[{\"fillpattern\":{\"fillmode\":\"overlay\",\"size\":10,\"solidity\":0.2},\"type\":\"scatter\"}],\"parcoords\":[{\"type\":\"parcoords\",\"line\":{\"colorbar\":{\"outlinewidth\":0,\"ticks\":\"\"}}}],\"scatterpolargl\":[{\"type\":\"scatterpolargl\",\"marker\":{\"colorbar\":{\"outlinewidth\":0,\"ticks\":\"\"}}}],\"bar\":[{\"error_x\":{\"color\":\"#2a3f5f\"},\"error_y\":{\"color\":\"#2a3f5f\"},\"marker\":{\"line\":{\"color\":\"#E5ECF6\",\"width\":0.5},\"pattern\":{\"fillmode\":\"overlay\",\"size\":10,\"solidity\":0.2}},\"type\":\"bar\"}],\"scattergeo\":[{\"type\":\"scattergeo\",\"marker\":{\"colorbar\":{\"outlinewidth\":0,\"ticks\":\"\"}}}],\"scatterpolar\":[{\"type\":\"scatterpolar\",\"marker\":{\"colorbar\":{\"outlinewidth\":0,\"ticks\":\"\"}}}],\"histogram\":[{\"marker\":{\"pattern\":{\"fillmode\":\"overlay\",\"size\":10,\"solidity\":0.2}},\"type\":\"histogram\"}],\"scattergl\":[{\"type\":\"scattergl\",\"marker\":{\"colorbar\":{\"outlinewidth\":0,\"ticks\":\"\"}}}],\"scatter3d\":[{\"type\":\"scatter3d\",\"line\":{\"colorbar\":{\"outlinewidth\":0,\"ticks\":\"\"}},\"marker\":{\"colorbar\":{\"outlinewidth\":0,\"ticks\":\"\"}}}],\"scattermapbox\":[{\"type\":\"scattermapbox\",\"marker\":{\"colorbar\":{\"outlinewidth\":0,\"ticks\":\"\"}}}],\"scatterternary\":[{\"type\":\"scatterternary\",\"marker\":{\"colorbar\":{\"outlinewidth\":0,\"ticks\":\"\"}}}],\"scattercarpet\":[{\"type\":\"scattercarpet\",\"marker\":{\"colorbar\":{\"outlinewidth\":0,\"ticks\":\"\"}}}],\"carpet\":[{\"aaxis\":{\"endlinecolor\":\"#2a3f5f\",\"gridcolor\":\"white\",\"linecolor\":\"white\",\"minorgridcolor\":\"white\",\"startlinecolor\":\"#2a3f5f\"},\"baxis\":{\"endlinecolor\":\"#2a3f5f\",\"gridcolor\":\"white\",\"linecolor\":\"white\",\"minorgridcolor\":\"white\",\"startlinecolor\":\"#2a3f5f\"},\"type\":\"carpet\"}],\"table\":[{\"cells\":{\"fill\":{\"color\":\"#EBF0F8\"},\"line\":{\"color\":\"white\"}},\"header\":{\"fill\":{\"color\":\"#C8D4E3\"},\"line\":{\"color\":\"white\"}},\"type\":\"table\"}],\"barpolar\":[{\"marker\":{\"line\":{\"color\":\"#E5ECF6\",\"width\":0.5},\"pattern\":{\"fillmode\":\"overlay\",\"size\":10,\"solidity\":0.2}},\"type\":\"barpolar\"}],\"pie\":[{\"automargin\":true,\"type\":\"pie\"}]},\"layout\":{\"autotypenumbers\":\"strict\",\"colorway\":[\"#636efa\",\"#EF553B\",\"#00cc96\",\"#ab63fa\",\"#FFA15A\",\"#19d3f3\",\"#FF6692\",\"#B6E880\",\"#FF97FF\",\"#FECB52\"],\"font\":{\"color\":\"#2a3f5f\"},\"hovermode\":\"closest\",\"hoverlabel\":{\"align\":\"left\"},\"paper_bgcolor\":\"white\",\"plot_bgcolor\":\"#E5ECF6\",\"polar\":{\"bgcolor\":\"#E5ECF6\",\"angularaxis\":{\"gridcolor\":\"white\",\"linecolor\":\"white\",\"ticks\":\"\"},\"radialaxis\":{\"gridcolor\":\"white\",\"linecolor\":\"white\",\"ticks\":\"\"}},\"ternary\":{\"bgcolor\":\"#E5ECF6\",\"aaxis\":{\"gridcolor\":\"white\",\"linecolor\":\"white\",\"ticks\":\"\"},\"baxis\":{\"gridcolor\":\"white\",\"linecolor\":\"white\",\"ticks\":\"\"},\"caxis\":{\"gridcolor\":\"white\",\"linecolor\":\"white\",\"ticks\":\"\"}},\"coloraxis\":{\"colorbar\":{\"outlinewidth\":0,\"ticks\":\"\"}},\"colorscale\":{\"sequential\":[[0.0,\"#0d0887\"],[0.1111111111111111,\"#46039f\"],[0.2222222222222222,\"#7201a8\"],[0.3333333333333333,\"#9c179e\"],[0.4444444444444444,\"#bd3786\"],[0.5555555555555556,\"#d8576b\"],[0.6666666666666666,\"#ed7953\"],[0.7777777777777778,\"#fb9f3a\"],[0.8888888888888888,\"#fdca26\"],[1.0,\"#f0f921\"]],\"sequentialminus\":[[0.0,\"#0d0887\"],[0.1111111111111111,\"#46039f\"],[0.2222222222222222,\"#7201a8\"],[0.3333333333333333,\"#9c179e\"],[0.4444444444444444,\"#bd3786\"],[0.5555555555555556,\"#d8576b\"],[0.6666666666666666,\"#ed7953\"],[0.7777777777777778,\"#fb9f3a\"],[0.8888888888888888,\"#fdca26\"],[1.0,\"#f0f921\"]],\"diverging\":[[0,\"#8e0152\"],[0.1,\"#c51b7d\"],[0.2,\"#de77ae\"],[0.3,\"#f1b6da\"],[0.4,\"#fde0ef\"],[0.5,\"#f7f7f7\"],[0.6,\"#e6f5d0\"],[0.7,\"#b8e186\"],[0.8,\"#7fbc41\"],[0.9,\"#4d9221\"],[1,\"#276419\"]]},\"xaxis\":{\"gridcolor\":\"white\",\"linecolor\":\"white\",\"ticks\":\"\",\"title\":{\"standoff\":15},\"zerolinecolor\":\"white\",\"automargin\":true,\"zerolinewidth\":2},\"yaxis\":{\"gridcolor\":\"white\",\"linecolor\":\"white\",\"ticks\":\"\",\"title\":{\"standoff\":15},\"zerolinecolor\":\"white\",\"automargin\":true,\"zerolinewidth\":2},\"scene\":{\"xaxis\":{\"backgroundcolor\":\"#E5ECF6\",\"gridcolor\":\"white\",\"linecolor\":\"white\",\"showbackground\":true,\"ticks\":\"\",\"zerolinecolor\":\"white\",\"gridwidth\":2},\"yaxis\":{\"backgroundcolor\":\"#E5ECF6\",\"gridcolor\":\"white\",\"linecolor\":\"white\",\"showbackground\":true,\"ticks\":\"\",\"zerolinecolor\":\"white\",\"gridwidth\":2},\"zaxis\":{\"backgroundcolor\":\"#E5ECF6\",\"gridcolor\":\"white\",\"linecolor\":\"white\",\"showbackground\":true,\"ticks\":\"\",\"zerolinecolor\":\"white\",\"gridwidth\":2}},\"shapedefaults\":{\"line\":{\"color\":\"#2a3f5f\"}},\"annotationdefaults\":{\"arrowcolor\":\"#2a3f5f\",\"arrowhead\":0,\"arrowwidth\":1},\"geo\":{\"bgcolor\":\"white\",\"landcolor\":\"#E5ECF6\",\"subunitcolor\":\"white\",\"showland\":true,\"showlakes\":true,\"lakecolor\":\"white\"},\"title\":{\"x\":0.05},\"mapbox\":{\"style\":\"light\"}}},\"xaxis\":{\"anchor\":\"y\",\"domain\":[0.0,1.0],\"title\":{\"text\":\"year\"},\"showgrid\":true,\"ticklabelmode\":\"period\",\"dtick\":\"M1\",\"tickformat\":\"%b\\n%Y\"},\"yaxis\":{\"anchor\":\"x\",\"domain\":[0.0,1.0],\"title\":{\"text\":\"avg of price\"}},\"legend\":{\"tracegroupgap\":0},\"title\":{\"text\":\"Histogram on Date Axes\"},\"barmode\":\"relative\",\"bargap\":0.1},                        {\"responsive\": true}                    ).then(function(){\n",
       "                            \n",
       "var gd = document.getElementById('c5126833-0142-4c4b-bddf-378b964420f2');\n",
       "var x = new MutationObserver(function (mutations, observer) {{\n",
       "        var display = window.getComputedStyle(gd).display;\n",
       "        if (!display || display === 'none') {{\n",
       "            console.log([gd, 'removed!']);\n",
       "            Plotly.purge(gd);\n",
       "            observer.disconnect();\n",
       "        }}\n",
       "}});\n",
       "\n",
       "// Listen for the removal of the full notebook cells\n",
       "var notebookContainer = gd.closest('#notebook-container');\n",
       "if (notebookContainer) {{\n",
       "    x.observe(notebookContainer, {childList: true});\n",
       "}}\n",
       "\n",
       "// Listen for the clearing of the current output cell\n",
       "var outputEl = gd.closest('.output');\n",
       "if (outputEl) {{\n",
       "    x.observe(outputEl, {childList: true});\n",
       "}}\n",
       "\n",
       "                        })                };                });            </script>        </div>"
      ]
     },
     "metadata": {},
     "output_type": "display_data"
    }
   ],
   "source": [
    "fig = px.histogram(years_price, x=\"year\", y=\"price\", histfunc=\"avg\", title=\"Year vs Price Average\")\n",
    "fig.update_traces(xbins_size=\"M1\")\n",
    "fig.update_xaxes(showgrid=True, ticklabelmode=\"period\", dtick=\"M1\", tickformat=\"%b\\n%Y\")\n",
    "fig.update_layout(bargap=0.1)\n",
    "fig.add_trace(go.Scatter(mode=\"markers+lines\", x=years_price[\"year\"], y=years_price[\"price\"], xperiodalignment=\"start\", name=\"Yearly\"))\n",
    "fig.show()"
   ]
  },
  {
   "cell_type": "code",
   "execution_count": 51,
   "metadata": {},
   "outputs": [
    {
     "data": {
      "application/vnd.plotly.v1+json": {
       "config": {
        "plotlyServerURL": "https://plot.ly"
       },
       "data": [
        {
         "alignmentgroup": "True",
         "bingroup": "x",
         "histfunc": "avg",
         "hovertemplate": "year=%{x}<br>avg of review=%{y}<extra></extra>",
         "legendgroup": "",
         "marker": {
          "color": "#636efa",
          "pattern": {
           "shape": ""
          }
         },
         "name": "",
         "offsetgroup": "",
         "orientation": "v",
         "showlegend": false,
         "type": "histogram",
         "x": [
          2009,
          2010,
          2011,
          2012,
          2013,
          2014,
          2015,
          2016,
          2017,
          2018,
          2019
         ],
         "xaxis": "x",
         "xbins": {
          "size": "M1"
         },
         "y": [
          8482.34090909091,
          7335.308823529412,
          10333.566037735849,
          17582.796296296296,
          15061.021276595744,
          17915.5,
          17866.090909090908,
          20064.511627906977,
          21913.54761904762,
          34557.5,
          31881.153846153848
         ],
         "yaxis": "y"
        },
        {
         "mode": "markers+lines",
         "name": "Yearly",
         "type": "scatter",
         "x": [
          2009,
          2010,
          2011,
          2012,
          2013,
          2014,
          2015,
          2016,
          2017,
          2018,
          2019
         ],
         "xperiodalignment": "start",
         "y": [
          8482.34090909091,
          7335.308823529412,
          10333.566037735849,
          17582.796296296296,
          15061.021276595744,
          17915.5,
          17866.090909090908,
          20064.511627906977,
          21913.54761904762,
          34557.5,
          31881.153846153848
         ]
        }
       ],
       "layout": {
        "bargap": 0.1,
        "barmode": "relative",
        "legend": {
         "tracegroupgap": 0
        },
        "template": {
         "data": {
          "bar": [
           {
            "error_x": {
             "color": "#2a3f5f"
            },
            "error_y": {
             "color": "#2a3f5f"
            },
            "marker": {
             "line": {
              "color": "#E5ECF6",
              "width": 0.5
             },
             "pattern": {
              "fillmode": "overlay",
              "size": 10,
              "solidity": 0.2
             }
            },
            "type": "bar"
           }
          ],
          "barpolar": [
           {
            "marker": {
             "line": {
              "color": "#E5ECF6",
              "width": 0.5
             },
             "pattern": {
              "fillmode": "overlay",
              "size": 10,
              "solidity": 0.2
             }
            },
            "type": "barpolar"
           }
          ],
          "carpet": [
           {
            "aaxis": {
             "endlinecolor": "#2a3f5f",
             "gridcolor": "white",
             "linecolor": "white",
             "minorgridcolor": "white",
             "startlinecolor": "#2a3f5f"
            },
            "baxis": {
             "endlinecolor": "#2a3f5f",
             "gridcolor": "white",
             "linecolor": "white",
             "minorgridcolor": "white",
             "startlinecolor": "#2a3f5f"
            },
            "type": "carpet"
           }
          ],
          "choropleth": [
           {
            "colorbar": {
             "outlinewidth": 0,
             "ticks": ""
            },
            "type": "choropleth"
           }
          ],
          "contour": [
           {
            "colorbar": {
             "outlinewidth": 0,
             "ticks": ""
            },
            "colorscale": [
             [
              0,
              "#0d0887"
             ],
             [
              0.1111111111111111,
              "#46039f"
             ],
             [
              0.2222222222222222,
              "#7201a8"
             ],
             [
              0.3333333333333333,
              "#9c179e"
             ],
             [
              0.4444444444444444,
              "#bd3786"
             ],
             [
              0.5555555555555556,
              "#d8576b"
             ],
             [
              0.6666666666666666,
              "#ed7953"
             ],
             [
              0.7777777777777778,
              "#fb9f3a"
             ],
             [
              0.8888888888888888,
              "#fdca26"
             ],
             [
              1,
              "#f0f921"
             ]
            ],
            "type": "contour"
           }
          ],
          "contourcarpet": [
           {
            "colorbar": {
             "outlinewidth": 0,
             "ticks": ""
            },
            "type": "contourcarpet"
           }
          ],
          "heatmap": [
           {
            "colorbar": {
             "outlinewidth": 0,
             "ticks": ""
            },
            "colorscale": [
             [
              0,
              "#0d0887"
             ],
             [
              0.1111111111111111,
              "#46039f"
             ],
             [
              0.2222222222222222,
              "#7201a8"
             ],
             [
              0.3333333333333333,
              "#9c179e"
             ],
             [
              0.4444444444444444,
              "#bd3786"
             ],
             [
              0.5555555555555556,
              "#d8576b"
             ],
             [
              0.6666666666666666,
              "#ed7953"
             ],
             [
              0.7777777777777778,
              "#fb9f3a"
             ],
             [
              0.8888888888888888,
              "#fdca26"
             ],
             [
              1,
              "#f0f921"
             ]
            ],
            "type": "heatmap"
           }
          ],
          "heatmapgl": [
           {
            "colorbar": {
             "outlinewidth": 0,
             "ticks": ""
            },
            "colorscale": [
             [
              0,
              "#0d0887"
             ],
             [
              0.1111111111111111,
              "#46039f"
             ],
             [
              0.2222222222222222,
              "#7201a8"
             ],
             [
              0.3333333333333333,
              "#9c179e"
             ],
             [
              0.4444444444444444,
              "#bd3786"
             ],
             [
              0.5555555555555556,
              "#d8576b"
             ],
             [
              0.6666666666666666,
              "#ed7953"
             ],
             [
              0.7777777777777778,
              "#fb9f3a"
             ],
             [
              0.8888888888888888,
              "#fdca26"
             ],
             [
              1,
              "#f0f921"
             ]
            ],
            "type": "heatmapgl"
           }
          ],
          "histogram": [
           {
            "marker": {
             "pattern": {
              "fillmode": "overlay",
              "size": 10,
              "solidity": 0.2
             }
            },
            "type": "histogram"
           }
          ],
          "histogram2d": [
           {
            "colorbar": {
             "outlinewidth": 0,
             "ticks": ""
            },
            "colorscale": [
             [
              0,
              "#0d0887"
             ],
             [
              0.1111111111111111,
              "#46039f"
             ],
             [
              0.2222222222222222,
              "#7201a8"
             ],
             [
              0.3333333333333333,
              "#9c179e"
             ],
             [
              0.4444444444444444,
              "#bd3786"
             ],
             [
              0.5555555555555556,
              "#d8576b"
             ],
             [
              0.6666666666666666,
              "#ed7953"
             ],
             [
              0.7777777777777778,
              "#fb9f3a"
             ],
             [
              0.8888888888888888,
              "#fdca26"
             ],
             [
              1,
              "#f0f921"
             ]
            ],
            "type": "histogram2d"
           }
          ],
          "histogram2dcontour": [
           {
            "colorbar": {
             "outlinewidth": 0,
             "ticks": ""
            },
            "colorscale": [
             [
              0,
              "#0d0887"
             ],
             [
              0.1111111111111111,
              "#46039f"
             ],
             [
              0.2222222222222222,
              "#7201a8"
             ],
             [
              0.3333333333333333,
              "#9c179e"
             ],
             [
              0.4444444444444444,
              "#bd3786"
             ],
             [
              0.5555555555555556,
              "#d8576b"
             ],
             [
              0.6666666666666666,
              "#ed7953"
             ],
             [
              0.7777777777777778,
              "#fb9f3a"
             ],
             [
              0.8888888888888888,
              "#fdca26"
             ],
             [
              1,
              "#f0f921"
             ]
            ],
            "type": "histogram2dcontour"
           }
          ],
          "mesh3d": [
           {
            "colorbar": {
             "outlinewidth": 0,
             "ticks": ""
            },
            "type": "mesh3d"
           }
          ],
          "parcoords": [
           {
            "line": {
             "colorbar": {
              "outlinewidth": 0,
              "ticks": ""
             }
            },
            "type": "parcoords"
           }
          ],
          "pie": [
           {
            "automargin": true,
            "type": "pie"
           }
          ],
          "scatter": [
           {
            "fillpattern": {
             "fillmode": "overlay",
             "size": 10,
             "solidity": 0.2
            },
            "type": "scatter"
           }
          ],
          "scatter3d": [
           {
            "line": {
             "colorbar": {
              "outlinewidth": 0,
              "ticks": ""
             }
            },
            "marker": {
             "colorbar": {
              "outlinewidth": 0,
              "ticks": ""
             }
            },
            "type": "scatter3d"
           }
          ],
          "scattercarpet": [
           {
            "marker": {
             "colorbar": {
              "outlinewidth": 0,
              "ticks": ""
             }
            },
            "type": "scattercarpet"
           }
          ],
          "scattergeo": [
           {
            "marker": {
             "colorbar": {
              "outlinewidth": 0,
              "ticks": ""
             }
            },
            "type": "scattergeo"
           }
          ],
          "scattergl": [
           {
            "marker": {
             "colorbar": {
              "outlinewidth": 0,
              "ticks": ""
             }
            },
            "type": "scattergl"
           }
          ],
          "scattermapbox": [
           {
            "marker": {
             "colorbar": {
              "outlinewidth": 0,
              "ticks": ""
             }
            },
            "type": "scattermapbox"
           }
          ],
          "scatterpolar": [
           {
            "marker": {
             "colorbar": {
              "outlinewidth": 0,
              "ticks": ""
             }
            },
            "type": "scatterpolar"
           }
          ],
          "scatterpolargl": [
           {
            "marker": {
             "colorbar": {
              "outlinewidth": 0,
              "ticks": ""
             }
            },
            "type": "scatterpolargl"
           }
          ],
          "scatterternary": [
           {
            "marker": {
             "colorbar": {
              "outlinewidth": 0,
              "ticks": ""
             }
            },
            "type": "scatterternary"
           }
          ],
          "surface": [
           {
            "colorbar": {
             "outlinewidth": 0,
             "ticks": ""
            },
            "colorscale": [
             [
              0,
              "#0d0887"
             ],
             [
              0.1111111111111111,
              "#46039f"
             ],
             [
              0.2222222222222222,
              "#7201a8"
             ],
             [
              0.3333333333333333,
              "#9c179e"
             ],
             [
              0.4444444444444444,
              "#bd3786"
             ],
             [
              0.5555555555555556,
              "#d8576b"
             ],
             [
              0.6666666666666666,
              "#ed7953"
             ],
             [
              0.7777777777777778,
              "#fb9f3a"
             ],
             [
              0.8888888888888888,
              "#fdca26"
             ],
             [
              1,
              "#f0f921"
             ]
            ],
            "type": "surface"
           }
          ],
          "table": [
           {
            "cells": {
             "fill": {
              "color": "#EBF0F8"
             },
             "line": {
              "color": "white"
             }
            },
            "header": {
             "fill": {
              "color": "#C8D4E3"
             },
             "line": {
              "color": "white"
             }
            },
            "type": "table"
           }
          ]
         },
         "layout": {
          "annotationdefaults": {
           "arrowcolor": "#2a3f5f",
           "arrowhead": 0,
           "arrowwidth": 1
          },
          "autotypenumbers": "strict",
          "coloraxis": {
           "colorbar": {
            "outlinewidth": 0,
            "ticks": ""
           }
          },
          "colorscale": {
           "diverging": [
            [
             0,
             "#8e0152"
            ],
            [
             0.1,
             "#c51b7d"
            ],
            [
             0.2,
             "#de77ae"
            ],
            [
             0.3,
             "#f1b6da"
            ],
            [
             0.4,
             "#fde0ef"
            ],
            [
             0.5,
             "#f7f7f7"
            ],
            [
             0.6,
             "#e6f5d0"
            ],
            [
             0.7,
             "#b8e186"
            ],
            [
             0.8,
             "#7fbc41"
            ],
            [
             0.9,
             "#4d9221"
            ],
            [
             1,
             "#276419"
            ]
           ],
           "sequential": [
            [
             0,
             "#0d0887"
            ],
            [
             0.1111111111111111,
             "#46039f"
            ],
            [
             0.2222222222222222,
             "#7201a8"
            ],
            [
             0.3333333333333333,
             "#9c179e"
            ],
            [
             0.4444444444444444,
             "#bd3786"
            ],
            [
             0.5555555555555556,
             "#d8576b"
            ],
            [
             0.6666666666666666,
             "#ed7953"
            ],
            [
             0.7777777777777778,
             "#fb9f3a"
            ],
            [
             0.8888888888888888,
             "#fdca26"
            ],
            [
             1,
             "#f0f921"
            ]
           ],
           "sequentialminus": [
            [
             0,
             "#0d0887"
            ],
            [
             0.1111111111111111,
             "#46039f"
            ],
            [
             0.2222222222222222,
             "#7201a8"
            ],
            [
             0.3333333333333333,
             "#9c179e"
            ],
            [
             0.4444444444444444,
             "#bd3786"
            ],
            [
             0.5555555555555556,
             "#d8576b"
            ],
            [
             0.6666666666666666,
             "#ed7953"
            ],
            [
             0.7777777777777778,
             "#fb9f3a"
            ],
            [
             0.8888888888888888,
             "#fdca26"
            ],
            [
             1,
             "#f0f921"
            ]
           ]
          },
          "colorway": [
           "#636efa",
           "#EF553B",
           "#00cc96",
           "#ab63fa",
           "#FFA15A",
           "#19d3f3",
           "#FF6692",
           "#B6E880",
           "#FF97FF",
           "#FECB52"
          ],
          "font": {
           "color": "#2a3f5f"
          },
          "geo": {
           "bgcolor": "white",
           "lakecolor": "white",
           "landcolor": "#E5ECF6",
           "showlakes": true,
           "showland": true,
           "subunitcolor": "white"
          },
          "hoverlabel": {
           "align": "left"
          },
          "hovermode": "closest",
          "mapbox": {
           "style": "light"
          },
          "paper_bgcolor": "white",
          "plot_bgcolor": "#E5ECF6",
          "polar": {
           "angularaxis": {
            "gridcolor": "white",
            "linecolor": "white",
            "ticks": ""
           },
           "bgcolor": "#E5ECF6",
           "radialaxis": {
            "gridcolor": "white",
            "linecolor": "white",
            "ticks": ""
           }
          },
          "scene": {
           "xaxis": {
            "backgroundcolor": "#E5ECF6",
            "gridcolor": "white",
            "gridwidth": 2,
            "linecolor": "white",
            "showbackground": true,
            "ticks": "",
            "zerolinecolor": "white"
           },
           "yaxis": {
            "backgroundcolor": "#E5ECF6",
            "gridcolor": "white",
            "gridwidth": 2,
            "linecolor": "white",
            "showbackground": true,
            "ticks": "",
            "zerolinecolor": "white"
           },
           "zaxis": {
            "backgroundcolor": "#E5ECF6",
            "gridcolor": "white",
            "gridwidth": 2,
            "linecolor": "white",
            "showbackground": true,
            "ticks": "",
            "zerolinecolor": "white"
           }
          },
          "shapedefaults": {
           "line": {
            "color": "#2a3f5f"
           }
          },
          "ternary": {
           "aaxis": {
            "gridcolor": "white",
            "linecolor": "white",
            "ticks": ""
           },
           "baxis": {
            "gridcolor": "white",
            "linecolor": "white",
            "ticks": ""
           },
           "bgcolor": "#E5ECF6",
           "caxis": {
            "gridcolor": "white",
            "linecolor": "white",
            "ticks": ""
           }
          },
          "title": {
           "x": 0.05
          },
          "xaxis": {
           "automargin": true,
           "gridcolor": "white",
           "linecolor": "white",
           "ticks": "",
           "title": {
            "standoff": 15
           },
           "zerolinecolor": "white",
           "zerolinewidth": 2
          },
          "yaxis": {
           "automargin": true,
           "gridcolor": "white",
           "linecolor": "white",
           "ticks": "",
           "title": {
            "standoff": 15
           },
           "zerolinecolor": "white",
           "zerolinewidth": 2
          }
         }
        },
        "title": {
         "text": "Year vs Price Average"
        },
        "xaxis": {
         "anchor": "y",
         "domain": [
          0,
          1
         ],
         "dtick": "M1",
         "showgrid": true,
         "tickformat": "%b\n%Y",
         "ticklabelmode": "period",
         "title": {
          "text": "year"
         }
        },
        "yaxis": {
         "anchor": "x",
         "domain": [
          0,
          1
         ],
         "title": {
          "text": "avg of review"
         }
        }
       }
      },
      "text/html": [
       "<div>                            <div id=\"0d6c4007-c2ab-488c-bcd0-3b7b473f4c9c\" class=\"plotly-graph-div\" style=\"height:525px; width:100%;\"></div>            <script type=\"text/javascript\">                require([\"plotly\"], function(Plotly) {                    window.PLOTLYENV=window.PLOTLYENV || {};                                    if (document.getElementById(\"0d6c4007-c2ab-488c-bcd0-3b7b473f4c9c\")) {                    Plotly.newPlot(                        \"0d6c4007-c2ab-488c-bcd0-3b7b473f4c9c\",                        [{\"alignmentgroup\":\"True\",\"bingroup\":\"x\",\"histfunc\":\"avg\",\"hovertemplate\":\"year=%{x}<br>avg of review=%{y}<extra></extra>\",\"legendgroup\":\"\",\"marker\":{\"color\":\"#636efa\",\"pattern\":{\"shape\":\"\"}},\"name\":\"\",\"offsetgroup\":\"\",\"orientation\":\"v\",\"showlegend\":false,\"x\":[2009,2010,2011,2012,2013,2014,2015,2016,2017,2018,2019],\"xaxis\":\"x\",\"y\":[8482.34090909091,7335.308823529412,10333.566037735849,17582.796296296296,15061.021276595744,17915.5,17866.090909090908,20064.511627906977,21913.54761904762,34557.5,31881.153846153848],\"yaxis\":\"y\",\"type\":\"histogram\",\"xbins\":{\"size\":\"M1\"}},{\"mode\":\"markers+lines\",\"name\":\"Yearly\",\"x\":[2009,2010,2011,2012,2013,2014,2015,2016,2017,2018,2019],\"xperiodalignment\":\"start\",\"y\":[8482.34090909091,7335.308823529412,10333.566037735849,17582.796296296296,15061.021276595744,17915.5,17866.090909090908,20064.511627906977,21913.54761904762,34557.5,31881.153846153848],\"type\":\"scatter\"}],                        {\"template\":{\"data\":{\"histogram2dcontour\":[{\"type\":\"histogram2dcontour\",\"colorbar\":{\"outlinewidth\":0,\"ticks\":\"\"},\"colorscale\":[[0.0,\"#0d0887\"],[0.1111111111111111,\"#46039f\"],[0.2222222222222222,\"#7201a8\"],[0.3333333333333333,\"#9c179e\"],[0.4444444444444444,\"#bd3786\"],[0.5555555555555556,\"#d8576b\"],[0.6666666666666666,\"#ed7953\"],[0.7777777777777778,\"#fb9f3a\"],[0.8888888888888888,\"#fdca26\"],[1.0,\"#f0f921\"]]}],\"choropleth\":[{\"type\":\"choropleth\",\"colorbar\":{\"outlinewidth\":0,\"ticks\":\"\"}}],\"histogram2d\":[{\"type\":\"histogram2d\",\"colorbar\":{\"outlinewidth\":0,\"ticks\":\"\"},\"colorscale\":[[0.0,\"#0d0887\"],[0.1111111111111111,\"#46039f\"],[0.2222222222222222,\"#7201a8\"],[0.3333333333333333,\"#9c179e\"],[0.4444444444444444,\"#bd3786\"],[0.5555555555555556,\"#d8576b\"],[0.6666666666666666,\"#ed7953\"],[0.7777777777777778,\"#fb9f3a\"],[0.8888888888888888,\"#fdca26\"],[1.0,\"#f0f921\"]]}],\"heatmap\":[{\"type\":\"heatmap\",\"colorbar\":{\"outlinewidth\":0,\"ticks\":\"\"},\"colorscale\":[[0.0,\"#0d0887\"],[0.1111111111111111,\"#46039f\"],[0.2222222222222222,\"#7201a8\"],[0.3333333333333333,\"#9c179e\"],[0.4444444444444444,\"#bd3786\"],[0.5555555555555556,\"#d8576b\"],[0.6666666666666666,\"#ed7953\"],[0.7777777777777778,\"#fb9f3a\"],[0.8888888888888888,\"#fdca26\"],[1.0,\"#f0f921\"]]}],\"heatmapgl\":[{\"type\":\"heatmapgl\",\"colorbar\":{\"outlinewidth\":0,\"ticks\":\"\"},\"colorscale\":[[0.0,\"#0d0887\"],[0.1111111111111111,\"#46039f\"],[0.2222222222222222,\"#7201a8\"],[0.3333333333333333,\"#9c179e\"],[0.4444444444444444,\"#bd3786\"],[0.5555555555555556,\"#d8576b\"],[0.6666666666666666,\"#ed7953\"],[0.7777777777777778,\"#fb9f3a\"],[0.8888888888888888,\"#fdca26\"],[1.0,\"#f0f921\"]]}],\"contourcarpet\":[{\"type\":\"contourcarpet\",\"colorbar\":{\"outlinewidth\":0,\"ticks\":\"\"}}],\"contour\":[{\"type\":\"contour\",\"colorbar\":{\"outlinewidth\":0,\"ticks\":\"\"},\"colorscale\":[[0.0,\"#0d0887\"],[0.1111111111111111,\"#46039f\"],[0.2222222222222222,\"#7201a8\"],[0.3333333333333333,\"#9c179e\"],[0.4444444444444444,\"#bd3786\"],[0.5555555555555556,\"#d8576b\"],[0.6666666666666666,\"#ed7953\"],[0.7777777777777778,\"#fb9f3a\"],[0.8888888888888888,\"#fdca26\"],[1.0,\"#f0f921\"]]}],\"surface\":[{\"type\":\"surface\",\"colorbar\":{\"outlinewidth\":0,\"ticks\":\"\"},\"colorscale\":[[0.0,\"#0d0887\"],[0.1111111111111111,\"#46039f\"],[0.2222222222222222,\"#7201a8\"],[0.3333333333333333,\"#9c179e\"],[0.4444444444444444,\"#bd3786\"],[0.5555555555555556,\"#d8576b\"],[0.6666666666666666,\"#ed7953\"],[0.7777777777777778,\"#fb9f3a\"],[0.8888888888888888,\"#fdca26\"],[1.0,\"#f0f921\"]]}],\"mesh3d\":[{\"type\":\"mesh3d\",\"colorbar\":{\"outlinewidth\":0,\"ticks\":\"\"}}],\"scatter\":[{\"fillpattern\":{\"fillmode\":\"overlay\",\"size\":10,\"solidity\":0.2},\"type\":\"scatter\"}],\"parcoords\":[{\"type\":\"parcoords\",\"line\":{\"colorbar\":{\"outlinewidth\":0,\"ticks\":\"\"}}}],\"scatterpolargl\":[{\"type\":\"scatterpolargl\",\"marker\":{\"colorbar\":{\"outlinewidth\":0,\"ticks\":\"\"}}}],\"bar\":[{\"error_x\":{\"color\":\"#2a3f5f\"},\"error_y\":{\"color\":\"#2a3f5f\"},\"marker\":{\"line\":{\"color\":\"#E5ECF6\",\"width\":0.5},\"pattern\":{\"fillmode\":\"overlay\",\"size\":10,\"solidity\":0.2}},\"type\":\"bar\"}],\"scattergeo\":[{\"type\":\"scattergeo\",\"marker\":{\"colorbar\":{\"outlinewidth\":0,\"ticks\":\"\"}}}],\"scatterpolar\":[{\"type\":\"scatterpolar\",\"marker\":{\"colorbar\":{\"outlinewidth\":0,\"ticks\":\"\"}}}],\"histogram\":[{\"marker\":{\"pattern\":{\"fillmode\":\"overlay\",\"size\":10,\"solidity\":0.2}},\"type\":\"histogram\"}],\"scattergl\":[{\"type\":\"scattergl\",\"marker\":{\"colorbar\":{\"outlinewidth\":0,\"ticks\":\"\"}}}],\"scatter3d\":[{\"type\":\"scatter3d\",\"line\":{\"colorbar\":{\"outlinewidth\":0,\"ticks\":\"\"}},\"marker\":{\"colorbar\":{\"outlinewidth\":0,\"ticks\":\"\"}}}],\"scattermapbox\":[{\"type\":\"scattermapbox\",\"marker\":{\"colorbar\":{\"outlinewidth\":0,\"ticks\":\"\"}}}],\"scatterternary\":[{\"type\":\"scatterternary\",\"marker\":{\"colorbar\":{\"outlinewidth\":0,\"ticks\":\"\"}}}],\"scattercarpet\":[{\"type\":\"scattercarpet\",\"marker\":{\"colorbar\":{\"outlinewidth\":0,\"ticks\":\"\"}}}],\"carpet\":[{\"aaxis\":{\"endlinecolor\":\"#2a3f5f\",\"gridcolor\":\"white\",\"linecolor\":\"white\",\"minorgridcolor\":\"white\",\"startlinecolor\":\"#2a3f5f\"},\"baxis\":{\"endlinecolor\":\"#2a3f5f\",\"gridcolor\":\"white\",\"linecolor\":\"white\",\"minorgridcolor\":\"white\",\"startlinecolor\":\"#2a3f5f\"},\"type\":\"carpet\"}],\"table\":[{\"cells\":{\"fill\":{\"color\":\"#EBF0F8\"},\"line\":{\"color\":\"white\"}},\"header\":{\"fill\":{\"color\":\"#C8D4E3\"},\"line\":{\"color\":\"white\"}},\"type\":\"table\"}],\"barpolar\":[{\"marker\":{\"line\":{\"color\":\"#E5ECF6\",\"width\":0.5},\"pattern\":{\"fillmode\":\"overlay\",\"size\":10,\"solidity\":0.2}},\"type\":\"barpolar\"}],\"pie\":[{\"automargin\":true,\"type\":\"pie\"}]},\"layout\":{\"autotypenumbers\":\"strict\",\"colorway\":[\"#636efa\",\"#EF553B\",\"#00cc96\",\"#ab63fa\",\"#FFA15A\",\"#19d3f3\",\"#FF6692\",\"#B6E880\",\"#FF97FF\",\"#FECB52\"],\"font\":{\"color\":\"#2a3f5f\"},\"hovermode\":\"closest\",\"hoverlabel\":{\"align\":\"left\"},\"paper_bgcolor\":\"white\",\"plot_bgcolor\":\"#E5ECF6\",\"polar\":{\"bgcolor\":\"#E5ECF6\",\"angularaxis\":{\"gridcolor\":\"white\",\"linecolor\":\"white\",\"ticks\":\"\"},\"radialaxis\":{\"gridcolor\":\"white\",\"linecolor\":\"white\",\"ticks\":\"\"}},\"ternary\":{\"bgcolor\":\"#E5ECF6\",\"aaxis\":{\"gridcolor\":\"white\",\"linecolor\":\"white\",\"ticks\":\"\"},\"baxis\":{\"gridcolor\":\"white\",\"linecolor\":\"white\",\"ticks\":\"\"},\"caxis\":{\"gridcolor\":\"white\",\"linecolor\":\"white\",\"ticks\":\"\"}},\"coloraxis\":{\"colorbar\":{\"outlinewidth\":0,\"ticks\":\"\"}},\"colorscale\":{\"sequential\":[[0.0,\"#0d0887\"],[0.1111111111111111,\"#46039f\"],[0.2222222222222222,\"#7201a8\"],[0.3333333333333333,\"#9c179e\"],[0.4444444444444444,\"#bd3786\"],[0.5555555555555556,\"#d8576b\"],[0.6666666666666666,\"#ed7953\"],[0.7777777777777778,\"#fb9f3a\"],[0.8888888888888888,\"#fdca26\"],[1.0,\"#f0f921\"]],\"sequentialminus\":[[0.0,\"#0d0887\"],[0.1111111111111111,\"#46039f\"],[0.2222222222222222,\"#7201a8\"],[0.3333333333333333,\"#9c179e\"],[0.4444444444444444,\"#bd3786\"],[0.5555555555555556,\"#d8576b\"],[0.6666666666666666,\"#ed7953\"],[0.7777777777777778,\"#fb9f3a\"],[0.8888888888888888,\"#fdca26\"],[1.0,\"#f0f921\"]],\"diverging\":[[0,\"#8e0152\"],[0.1,\"#c51b7d\"],[0.2,\"#de77ae\"],[0.3,\"#f1b6da\"],[0.4,\"#fde0ef\"],[0.5,\"#f7f7f7\"],[0.6,\"#e6f5d0\"],[0.7,\"#b8e186\"],[0.8,\"#7fbc41\"],[0.9,\"#4d9221\"],[1,\"#276419\"]]},\"xaxis\":{\"gridcolor\":\"white\",\"linecolor\":\"white\",\"ticks\":\"\",\"title\":{\"standoff\":15},\"zerolinecolor\":\"white\",\"automargin\":true,\"zerolinewidth\":2},\"yaxis\":{\"gridcolor\":\"white\",\"linecolor\":\"white\",\"ticks\":\"\",\"title\":{\"standoff\":15},\"zerolinecolor\":\"white\",\"automargin\":true,\"zerolinewidth\":2},\"scene\":{\"xaxis\":{\"backgroundcolor\":\"#E5ECF6\",\"gridcolor\":\"white\",\"linecolor\":\"white\",\"showbackground\":true,\"ticks\":\"\",\"zerolinecolor\":\"white\",\"gridwidth\":2},\"yaxis\":{\"backgroundcolor\":\"#E5ECF6\",\"gridcolor\":\"white\",\"linecolor\":\"white\",\"showbackground\":true,\"ticks\":\"\",\"zerolinecolor\":\"white\",\"gridwidth\":2},\"zaxis\":{\"backgroundcolor\":\"#E5ECF6\",\"gridcolor\":\"white\",\"linecolor\":\"white\",\"showbackground\":true,\"ticks\":\"\",\"zerolinecolor\":\"white\",\"gridwidth\":2}},\"shapedefaults\":{\"line\":{\"color\":\"#2a3f5f\"}},\"annotationdefaults\":{\"arrowcolor\":\"#2a3f5f\",\"arrowhead\":0,\"arrowwidth\":1},\"geo\":{\"bgcolor\":\"white\",\"landcolor\":\"#E5ECF6\",\"subunitcolor\":\"white\",\"showland\":true,\"showlakes\":true,\"lakecolor\":\"white\"},\"title\":{\"x\":0.05},\"mapbox\":{\"style\":\"light\"}}},\"xaxis\":{\"anchor\":\"y\",\"domain\":[0.0,1.0],\"title\":{\"text\":\"year\"},\"showgrid\":true,\"ticklabelmode\":\"period\",\"dtick\":\"M1\",\"tickformat\":\"%b\\n%Y\"},\"yaxis\":{\"anchor\":\"x\",\"domain\":[0.0,1.0],\"title\":{\"text\":\"avg of review\"}},\"legend\":{\"tracegroupgap\":0},\"title\":{\"text\":\"Year vs Price Average\"},\"barmode\":\"relative\",\"bargap\":0.1},                        {\"responsive\": true}                    ).then(function(){\n",
       "                            \n",
       "var gd = document.getElementById('0d6c4007-c2ab-488c-bcd0-3b7b473f4c9c');\n",
       "var x = new MutationObserver(function (mutations, observer) {{\n",
       "        var display = window.getComputedStyle(gd).display;\n",
       "        if (!display || display === 'none') {{\n",
       "            console.log([gd, 'removed!']);\n",
       "            Plotly.purge(gd);\n",
       "            observer.disconnect();\n",
       "        }}\n",
       "}});\n",
       "\n",
       "// Listen for the removal of the full notebook cells\n",
       "var notebookContainer = gd.closest('#notebook-container');\n",
       "if (notebookContainer) {{\n",
       "    x.observe(notebookContainer, {childList: true});\n",
       "}}\n",
       "\n",
       "// Listen for the clearing of the current output cell\n",
       "var outputEl = gd.closest('.output');\n",
       "if (outputEl) {{\n",
       "    x.observe(outputEl, {childList: true});\n",
       "}}\n",
       "\n",
       "                        })                };                });            </script>        </div>"
      ]
     },
     "metadata": {},
     "output_type": "display_data"
    }
   ],
   "source": [
    "years_review = df.groupby(['year'], as_index=False)['review'].mean()\n",
    "fig = px.histogram(years_review, x=\"year\", y=\"review\", histfunc=\"avg\", title=\"Year vs Price Average\")\n",
    "fig.update_traces(xbins_size=\"M1\")\n",
    "fig.update_xaxes(showgrid=True, ticklabelmode=\"period\", dtick=\"M1\", tickformat=\"%b\\n%Y\")\n",
    "fig.update_layout(bargap=0.1)\n",
    "fig.add_trace(go.Scatter(mode=\"markers+lines\", x=years_review[\"year\"], y=years_review[\"review\"], xperiodalignment=\"start\", name=\"Yearly\"))\n",
    "fig.show()"
   ]
  },
  {
   "cell_type": "code",
   "execution_count": 52,
   "metadata": {},
   "outputs": [
    {
     "data": {
      "application/vnd.plotly.v1+json": {
       "config": {
        "plotlyServerURL": "https://plot.ly"
       },
       "data": [
        {
         "alignmentgroup": "True",
         "bingroup": "x",
         "histfunc": "avg",
         "hovertemplate": "year=%{x}<br>avg of rating=%{y}<extra></extra>",
         "legendgroup": "",
         "marker": {
          "color": "#636efa",
          "pattern": {
           "shape": ""
          }
         },
         "name": "",
         "offsetgroup": "",
         "orientation": "v",
         "showlegend": false,
         "type": "histogram",
         "x": [
          2009,
          2010,
          2011,
          2012,
          2013,
          2014,
          2015,
          2016,
          2017,
          2018,
          2019
         ],
         "xaxis": "x",
         "xbins": {
          "size": "M1"
         },
         "y": [
          4.584090909090909,
          4.561764705882353,
          4.554716981132076,
          4.544444444444444,
          4.6,
          4.660869565217391,
          4.618181818181818,
          4.676744186046512,
          4.666666666666667,
          4.677272727272728,
          4.733333333333333
         ],
         "yaxis": "y"
        },
        {
         "mode": "markers+lines",
         "name": "Yearly",
         "type": "scatter",
         "x": [
          2009,
          2010,
          2011,
          2012,
          2013,
          2014,
          2015,
          2016,
          2017,
          2018,
          2019
         ],
         "xperiodalignment": "start",
         "y": [
          4.584090909090909,
          4.561764705882353,
          4.554716981132076,
          4.544444444444444,
          4.6,
          4.660869565217391,
          4.618181818181818,
          4.676744186046512,
          4.666666666666667,
          4.677272727272728,
          4.733333333333333
         ]
        }
       ],
       "layout": {
        "bargap": 0.1,
        "barmode": "relative",
        "legend": {
         "tracegroupgap": 0
        },
        "template": {
         "data": {
          "bar": [
           {
            "error_x": {
             "color": "#2a3f5f"
            },
            "error_y": {
             "color": "#2a3f5f"
            },
            "marker": {
             "line": {
              "color": "#E5ECF6",
              "width": 0.5
             },
             "pattern": {
              "fillmode": "overlay",
              "size": 10,
              "solidity": 0.2
             }
            },
            "type": "bar"
           }
          ],
          "barpolar": [
           {
            "marker": {
             "line": {
              "color": "#E5ECF6",
              "width": 0.5
             },
             "pattern": {
              "fillmode": "overlay",
              "size": 10,
              "solidity": 0.2
             }
            },
            "type": "barpolar"
           }
          ],
          "carpet": [
           {
            "aaxis": {
             "endlinecolor": "#2a3f5f",
             "gridcolor": "white",
             "linecolor": "white",
             "minorgridcolor": "white",
             "startlinecolor": "#2a3f5f"
            },
            "baxis": {
             "endlinecolor": "#2a3f5f",
             "gridcolor": "white",
             "linecolor": "white",
             "minorgridcolor": "white",
             "startlinecolor": "#2a3f5f"
            },
            "type": "carpet"
           }
          ],
          "choropleth": [
           {
            "colorbar": {
             "outlinewidth": 0,
             "ticks": ""
            },
            "type": "choropleth"
           }
          ],
          "contour": [
           {
            "colorbar": {
             "outlinewidth": 0,
             "ticks": ""
            },
            "colorscale": [
             [
              0,
              "#0d0887"
             ],
             [
              0.1111111111111111,
              "#46039f"
             ],
             [
              0.2222222222222222,
              "#7201a8"
             ],
             [
              0.3333333333333333,
              "#9c179e"
             ],
             [
              0.4444444444444444,
              "#bd3786"
             ],
             [
              0.5555555555555556,
              "#d8576b"
             ],
             [
              0.6666666666666666,
              "#ed7953"
             ],
             [
              0.7777777777777778,
              "#fb9f3a"
             ],
             [
              0.8888888888888888,
              "#fdca26"
             ],
             [
              1,
              "#f0f921"
             ]
            ],
            "type": "contour"
           }
          ],
          "contourcarpet": [
           {
            "colorbar": {
             "outlinewidth": 0,
             "ticks": ""
            },
            "type": "contourcarpet"
           }
          ],
          "heatmap": [
           {
            "colorbar": {
             "outlinewidth": 0,
             "ticks": ""
            },
            "colorscale": [
             [
              0,
              "#0d0887"
             ],
             [
              0.1111111111111111,
              "#46039f"
             ],
             [
              0.2222222222222222,
              "#7201a8"
             ],
             [
              0.3333333333333333,
              "#9c179e"
             ],
             [
              0.4444444444444444,
              "#bd3786"
             ],
             [
              0.5555555555555556,
              "#d8576b"
             ],
             [
              0.6666666666666666,
              "#ed7953"
             ],
             [
              0.7777777777777778,
              "#fb9f3a"
             ],
             [
              0.8888888888888888,
              "#fdca26"
             ],
             [
              1,
              "#f0f921"
             ]
            ],
            "type": "heatmap"
           }
          ],
          "heatmapgl": [
           {
            "colorbar": {
             "outlinewidth": 0,
             "ticks": ""
            },
            "colorscale": [
             [
              0,
              "#0d0887"
             ],
             [
              0.1111111111111111,
              "#46039f"
             ],
             [
              0.2222222222222222,
              "#7201a8"
             ],
             [
              0.3333333333333333,
              "#9c179e"
             ],
             [
              0.4444444444444444,
              "#bd3786"
             ],
             [
              0.5555555555555556,
              "#d8576b"
             ],
             [
              0.6666666666666666,
              "#ed7953"
             ],
             [
              0.7777777777777778,
              "#fb9f3a"
             ],
             [
              0.8888888888888888,
              "#fdca26"
             ],
             [
              1,
              "#f0f921"
             ]
            ],
            "type": "heatmapgl"
           }
          ],
          "histogram": [
           {
            "marker": {
             "pattern": {
              "fillmode": "overlay",
              "size": 10,
              "solidity": 0.2
             }
            },
            "type": "histogram"
           }
          ],
          "histogram2d": [
           {
            "colorbar": {
             "outlinewidth": 0,
             "ticks": ""
            },
            "colorscale": [
             [
              0,
              "#0d0887"
             ],
             [
              0.1111111111111111,
              "#46039f"
             ],
             [
              0.2222222222222222,
              "#7201a8"
             ],
             [
              0.3333333333333333,
              "#9c179e"
             ],
             [
              0.4444444444444444,
              "#bd3786"
             ],
             [
              0.5555555555555556,
              "#d8576b"
             ],
             [
              0.6666666666666666,
              "#ed7953"
             ],
             [
              0.7777777777777778,
              "#fb9f3a"
             ],
             [
              0.8888888888888888,
              "#fdca26"
             ],
             [
              1,
              "#f0f921"
             ]
            ],
            "type": "histogram2d"
           }
          ],
          "histogram2dcontour": [
           {
            "colorbar": {
             "outlinewidth": 0,
             "ticks": ""
            },
            "colorscale": [
             [
              0,
              "#0d0887"
             ],
             [
              0.1111111111111111,
              "#46039f"
             ],
             [
              0.2222222222222222,
              "#7201a8"
             ],
             [
              0.3333333333333333,
              "#9c179e"
             ],
             [
              0.4444444444444444,
              "#bd3786"
             ],
             [
              0.5555555555555556,
              "#d8576b"
             ],
             [
              0.6666666666666666,
              "#ed7953"
             ],
             [
              0.7777777777777778,
              "#fb9f3a"
             ],
             [
              0.8888888888888888,
              "#fdca26"
             ],
             [
              1,
              "#f0f921"
             ]
            ],
            "type": "histogram2dcontour"
           }
          ],
          "mesh3d": [
           {
            "colorbar": {
             "outlinewidth": 0,
             "ticks": ""
            },
            "type": "mesh3d"
           }
          ],
          "parcoords": [
           {
            "line": {
             "colorbar": {
              "outlinewidth": 0,
              "ticks": ""
             }
            },
            "type": "parcoords"
           }
          ],
          "pie": [
           {
            "automargin": true,
            "type": "pie"
           }
          ],
          "scatter": [
           {
            "fillpattern": {
             "fillmode": "overlay",
             "size": 10,
             "solidity": 0.2
            },
            "type": "scatter"
           }
          ],
          "scatter3d": [
           {
            "line": {
             "colorbar": {
              "outlinewidth": 0,
              "ticks": ""
             }
            },
            "marker": {
             "colorbar": {
              "outlinewidth": 0,
              "ticks": ""
             }
            },
            "type": "scatter3d"
           }
          ],
          "scattercarpet": [
           {
            "marker": {
             "colorbar": {
              "outlinewidth": 0,
              "ticks": ""
             }
            },
            "type": "scattercarpet"
           }
          ],
          "scattergeo": [
           {
            "marker": {
             "colorbar": {
              "outlinewidth": 0,
              "ticks": ""
             }
            },
            "type": "scattergeo"
           }
          ],
          "scattergl": [
           {
            "marker": {
             "colorbar": {
              "outlinewidth": 0,
              "ticks": ""
             }
            },
            "type": "scattergl"
           }
          ],
          "scattermapbox": [
           {
            "marker": {
             "colorbar": {
              "outlinewidth": 0,
              "ticks": ""
             }
            },
            "type": "scattermapbox"
           }
          ],
          "scatterpolar": [
           {
            "marker": {
             "colorbar": {
              "outlinewidth": 0,
              "ticks": ""
             }
            },
            "type": "scatterpolar"
           }
          ],
          "scatterpolargl": [
           {
            "marker": {
             "colorbar": {
              "outlinewidth": 0,
              "ticks": ""
             }
            },
            "type": "scatterpolargl"
           }
          ],
          "scatterternary": [
           {
            "marker": {
             "colorbar": {
              "outlinewidth": 0,
              "ticks": ""
             }
            },
            "type": "scatterternary"
           }
          ],
          "surface": [
           {
            "colorbar": {
             "outlinewidth": 0,
             "ticks": ""
            },
            "colorscale": [
             [
              0,
              "#0d0887"
             ],
             [
              0.1111111111111111,
              "#46039f"
             ],
             [
              0.2222222222222222,
              "#7201a8"
             ],
             [
              0.3333333333333333,
              "#9c179e"
             ],
             [
              0.4444444444444444,
              "#bd3786"
             ],
             [
              0.5555555555555556,
              "#d8576b"
             ],
             [
              0.6666666666666666,
              "#ed7953"
             ],
             [
              0.7777777777777778,
              "#fb9f3a"
             ],
             [
              0.8888888888888888,
              "#fdca26"
             ],
             [
              1,
              "#f0f921"
             ]
            ],
            "type": "surface"
           }
          ],
          "table": [
           {
            "cells": {
             "fill": {
              "color": "#EBF0F8"
             },
             "line": {
              "color": "white"
             }
            },
            "header": {
             "fill": {
              "color": "#C8D4E3"
             },
             "line": {
              "color": "white"
             }
            },
            "type": "table"
           }
          ]
         },
         "layout": {
          "annotationdefaults": {
           "arrowcolor": "#2a3f5f",
           "arrowhead": 0,
           "arrowwidth": 1
          },
          "autotypenumbers": "strict",
          "coloraxis": {
           "colorbar": {
            "outlinewidth": 0,
            "ticks": ""
           }
          },
          "colorscale": {
           "diverging": [
            [
             0,
             "#8e0152"
            ],
            [
             0.1,
             "#c51b7d"
            ],
            [
             0.2,
             "#de77ae"
            ],
            [
             0.3,
             "#f1b6da"
            ],
            [
             0.4,
             "#fde0ef"
            ],
            [
             0.5,
             "#f7f7f7"
            ],
            [
             0.6,
             "#e6f5d0"
            ],
            [
             0.7,
             "#b8e186"
            ],
            [
             0.8,
             "#7fbc41"
            ],
            [
             0.9,
             "#4d9221"
            ],
            [
             1,
             "#276419"
            ]
           ],
           "sequential": [
            [
             0,
             "#0d0887"
            ],
            [
             0.1111111111111111,
             "#46039f"
            ],
            [
             0.2222222222222222,
             "#7201a8"
            ],
            [
             0.3333333333333333,
             "#9c179e"
            ],
            [
             0.4444444444444444,
             "#bd3786"
            ],
            [
             0.5555555555555556,
             "#d8576b"
            ],
            [
             0.6666666666666666,
             "#ed7953"
            ],
            [
             0.7777777777777778,
             "#fb9f3a"
            ],
            [
             0.8888888888888888,
             "#fdca26"
            ],
            [
             1,
             "#f0f921"
            ]
           ],
           "sequentialminus": [
            [
             0,
             "#0d0887"
            ],
            [
             0.1111111111111111,
             "#46039f"
            ],
            [
             0.2222222222222222,
             "#7201a8"
            ],
            [
             0.3333333333333333,
             "#9c179e"
            ],
            [
             0.4444444444444444,
             "#bd3786"
            ],
            [
             0.5555555555555556,
             "#d8576b"
            ],
            [
             0.6666666666666666,
             "#ed7953"
            ],
            [
             0.7777777777777778,
             "#fb9f3a"
            ],
            [
             0.8888888888888888,
             "#fdca26"
            ],
            [
             1,
             "#f0f921"
            ]
           ]
          },
          "colorway": [
           "#636efa",
           "#EF553B",
           "#00cc96",
           "#ab63fa",
           "#FFA15A",
           "#19d3f3",
           "#FF6692",
           "#B6E880",
           "#FF97FF",
           "#FECB52"
          ],
          "font": {
           "color": "#2a3f5f"
          },
          "geo": {
           "bgcolor": "white",
           "lakecolor": "white",
           "landcolor": "#E5ECF6",
           "showlakes": true,
           "showland": true,
           "subunitcolor": "white"
          },
          "hoverlabel": {
           "align": "left"
          },
          "hovermode": "closest",
          "mapbox": {
           "style": "light"
          },
          "paper_bgcolor": "white",
          "plot_bgcolor": "#E5ECF6",
          "polar": {
           "angularaxis": {
            "gridcolor": "white",
            "linecolor": "white",
            "ticks": ""
           },
           "bgcolor": "#E5ECF6",
           "radialaxis": {
            "gridcolor": "white",
            "linecolor": "white",
            "ticks": ""
           }
          },
          "scene": {
           "xaxis": {
            "backgroundcolor": "#E5ECF6",
            "gridcolor": "white",
            "gridwidth": 2,
            "linecolor": "white",
            "showbackground": true,
            "ticks": "",
            "zerolinecolor": "white"
           },
           "yaxis": {
            "backgroundcolor": "#E5ECF6",
            "gridcolor": "white",
            "gridwidth": 2,
            "linecolor": "white",
            "showbackground": true,
            "ticks": "",
            "zerolinecolor": "white"
           },
           "zaxis": {
            "backgroundcolor": "#E5ECF6",
            "gridcolor": "white",
            "gridwidth": 2,
            "linecolor": "white",
            "showbackground": true,
            "ticks": "",
            "zerolinecolor": "white"
           }
          },
          "shapedefaults": {
           "line": {
            "color": "#2a3f5f"
           }
          },
          "ternary": {
           "aaxis": {
            "gridcolor": "white",
            "linecolor": "white",
            "ticks": ""
           },
           "baxis": {
            "gridcolor": "white",
            "linecolor": "white",
            "ticks": ""
           },
           "bgcolor": "#E5ECF6",
           "caxis": {
            "gridcolor": "white",
            "linecolor": "white",
            "ticks": ""
           }
          },
          "title": {
           "x": 0.05
          },
          "xaxis": {
           "automargin": true,
           "gridcolor": "white",
           "linecolor": "white",
           "ticks": "",
           "title": {
            "standoff": 15
           },
           "zerolinecolor": "white",
           "zerolinewidth": 2
          },
          "yaxis": {
           "automargin": true,
           "gridcolor": "white",
           "linecolor": "white",
           "ticks": "",
           "title": {
            "standoff": 15
           },
           "zerolinecolor": "white",
           "zerolinewidth": 2
          }
         }
        },
        "title": {
         "text": "Year vs Price Average"
        },
        "xaxis": {
         "anchor": "y",
         "domain": [
          0,
          1
         ],
         "dtick": "M1",
         "showgrid": true,
         "tickformat": "%b\n%Y",
         "ticklabelmode": "period",
         "title": {
          "text": "year"
         }
        },
        "yaxis": {
         "anchor": "x",
         "domain": [
          0,
          1
         ],
         "title": {
          "text": "avg of rating"
         }
        }
       }
      },
      "text/html": [
       "<div>                            <div id=\"770cbec4-520b-4a53-b158-9fff0c743d47\" class=\"plotly-graph-div\" style=\"height:525px; width:100%;\"></div>            <script type=\"text/javascript\">                require([\"plotly\"], function(Plotly) {                    window.PLOTLYENV=window.PLOTLYENV || {};                                    if (document.getElementById(\"770cbec4-520b-4a53-b158-9fff0c743d47\")) {                    Plotly.newPlot(                        \"770cbec4-520b-4a53-b158-9fff0c743d47\",                        [{\"alignmentgroup\":\"True\",\"bingroup\":\"x\",\"histfunc\":\"avg\",\"hovertemplate\":\"year=%{x}<br>avg of rating=%{y}<extra></extra>\",\"legendgroup\":\"\",\"marker\":{\"color\":\"#636efa\",\"pattern\":{\"shape\":\"\"}},\"name\":\"\",\"offsetgroup\":\"\",\"orientation\":\"v\",\"showlegend\":false,\"x\":[2009,2010,2011,2012,2013,2014,2015,2016,2017,2018,2019],\"xaxis\":\"x\",\"y\":[4.584090909090909,4.561764705882353,4.554716981132076,4.544444444444444,4.6,4.660869565217391,4.618181818181818,4.676744186046512,4.666666666666667,4.677272727272728,4.733333333333333],\"yaxis\":\"y\",\"type\":\"histogram\",\"xbins\":{\"size\":\"M1\"}},{\"mode\":\"markers+lines\",\"name\":\"Yearly\",\"x\":[2009,2010,2011,2012,2013,2014,2015,2016,2017,2018,2019],\"xperiodalignment\":\"start\",\"y\":[4.584090909090909,4.561764705882353,4.554716981132076,4.544444444444444,4.6,4.660869565217391,4.618181818181818,4.676744186046512,4.666666666666667,4.677272727272728,4.733333333333333],\"type\":\"scatter\"}],                        {\"template\":{\"data\":{\"histogram2dcontour\":[{\"type\":\"histogram2dcontour\",\"colorbar\":{\"outlinewidth\":0,\"ticks\":\"\"},\"colorscale\":[[0.0,\"#0d0887\"],[0.1111111111111111,\"#46039f\"],[0.2222222222222222,\"#7201a8\"],[0.3333333333333333,\"#9c179e\"],[0.4444444444444444,\"#bd3786\"],[0.5555555555555556,\"#d8576b\"],[0.6666666666666666,\"#ed7953\"],[0.7777777777777778,\"#fb9f3a\"],[0.8888888888888888,\"#fdca26\"],[1.0,\"#f0f921\"]]}],\"choropleth\":[{\"type\":\"choropleth\",\"colorbar\":{\"outlinewidth\":0,\"ticks\":\"\"}}],\"histogram2d\":[{\"type\":\"histogram2d\",\"colorbar\":{\"outlinewidth\":0,\"ticks\":\"\"},\"colorscale\":[[0.0,\"#0d0887\"],[0.1111111111111111,\"#46039f\"],[0.2222222222222222,\"#7201a8\"],[0.3333333333333333,\"#9c179e\"],[0.4444444444444444,\"#bd3786\"],[0.5555555555555556,\"#d8576b\"],[0.6666666666666666,\"#ed7953\"],[0.7777777777777778,\"#fb9f3a\"],[0.8888888888888888,\"#fdca26\"],[1.0,\"#f0f921\"]]}],\"heatmap\":[{\"type\":\"heatmap\",\"colorbar\":{\"outlinewidth\":0,\"ticks\":\"\"},\"colorscale\":[[0.0,\"#0d0887\"],[0.1111111111111111,\"#46039f\"],[0.2222222222222222,\"#7201a8\"],[0.3333333333333333,\"#9c179e\"],[0.4444444444444444,\"#bd3786\"],[0.5555555555555556,\"#d8576b\"],[0.6666666666666666,\"#ed7953\"],[0.7777777777777778,\"#fb9f3a\"],[0.8888888888888888,\"#fdca26\"],[1.0,\"#f0f921\"]]}],\"heatmapgl\":[{\"type\":\"heatmapgl\",\"colorbar\":{\"outlinewidth\":0,\"ticks\":\"\"},\"colorscale\":[[0.0,\"#0d0887\"],[0.1111111111111111,\"#46039f\"],[0.2222222222222222,\"#7201a8\"],[0.3333333333333333,\"#9c179e\"],[0.4444444444444444,\"#bd3786\"],[0.5555555555555556,\"#d8576b\"],[0.6666666666666666,\"#ed7953\"],[0.7777777777777778,\"#fb9f3a\"],[0.8888888888888888,\"#fdca26\"],[1.0,\"#f0f921\"]]}],\"contourcarpet\":[{\"type\":\"contourcarpet\",\"colorbar\":{\"outlinewidth\":0,\"ticks\":\"\"}}],\"contour\":[{\"type\":\"contour\",\"colorbar\":{\"outlinewidth\":0,\"ticks\":\"\"},\"colorscale\":[[0.0,\"#0d0887\"],[0.1111111111111111,\"#46039f\"],[0.2222222222222222,\"#7201a8\"],[0.3333333333333333,\"#9c179e\"],[0.4444444444444444,\"#bd3786\"],[0.5555555555555556,\"#d8576b\"],[0.6666666666666666,\"#ed7953\"],[0.7777777777777778,\"#fb9f3a\"],[0.8888888888888888,\"#fdca26\"],[1.0,\"#f0f921\"]]}],\"surface\":[{\"type\":\"surface\",\"colorbar\":{\"outlinewidth\":0,\"ticks\":\"\"},\"colorscale\":[[0.0,\"#0d0887\"],[0.1111111111111111,\"#46039f\"],[0.2222222222222222,\"#7201a8\"],[0.3333333333333333,\"#9c179e\"],[0.4444444444444444,\"#bd3786\"],[0.5555555555555556,\"#d8576b\"],[0.6666666666666666,\"#ed7953\"],[0.7777777777777778,\"#fb9f3a\"],[0.8888888888888888,\"#fdca26\"],[1.0,\"#f0f921\"]]}],\"mesh3d\":[{\"type\":\"mesh3d\",\"colorbar\":{\"outlinewidth\":0,\"ticks\":\"\"}}],\"scatter\":[{\"fillpattern\":{\"fillmode\":\"overlay\",\"size\":10,\"solidity\":0.2},\"type\":\"scatter\"}],\"parcoords\":[{\"type\":\"parcoords\",\"line\":{\"colorbar\":{\"outlinewidth\":0,\"ticks\":\"\"}}}],\"scatterpolargl\":[{\"type\":\"scatterpolargl\",\"marker\":{\"colorbar\":{\"outlinewidth\":0,\"ticks\":\"\"}}}],\"bar\":[{\"error_x\":{\"color\":\"#2a3f5f\"},\"error_y\":{\"color\":\"#2a3f5f\"},\"marker\":{\"line\":{\"color\":\"#E5ECF6\",\"width\":0.5},\"pattern\":{\"fillmode\":\"overlay\",\"size\":10,\"solidity\":0.2}},\"type\":\"bar\"}],\"scattergeo\":[{\"type\":\"scattergeo\",\"marker\":{\"colorbar\":{\"outlinewidth\":0,\"ticks\":\"\"}}}],\"scatterpolar\":[{\"type\":\"scatterpolar\",\"marker\":{\"colorbar\":{\"outlinewidth\":0,\"ticks\":\"\"}}}],\"histogram\":[{\"marker\":{\"pattern\":{\"fillmode\":\"overlay\",\"size\":10,\"solidity\":0.2}},\"type\":\"histogram\"}],\"scattergl\":[{\"type\":\"scattergl\",\"marker\":{\"colorbar\":{\"outlinewidth\":0,\"ticks\":\"\"}}}],\"scatter3d\":[{\"type\":\"scatter3d\",\"line\":{\"colorbar\":{\"outlinewidth\":0,\"ticks\":\"\"}},\"marker\":{\"colorbar\":{\"outlinewidth\":0,\"ticks\":\"\"}}}],\"scattermapbox\":[{\"type\":\"scattermapbox\",\"marker\":{\"colorbar\":{\"outlinewidth\":0,\"ticks\":\"\"}}}],\"scatterternary\":[{\"type\":\"scatterternary\",\"marker\":{\"colorbar\":{\"outlinewidth\":0,\"ticks\":\"\"}}}],\"scattercarpet\":[{\"type\":\"scattercarpet\",\"marker\":{\"colorbar\":{\"outlinewidth\":0,\"ticks\":\"\"}}}],\"carpet\":[{\"aaxis\":{\"endlinecolor\":\"#2a3f5f\",\"gridcolor\":\"white\",\"linecolor\":\"white\",\"minorgridcolor\":\"white\",\"startlinecolor\":\"#2a3f5f\"},\"baxis\":{\"endlinecolor\":\"#2a3f5f\",\"gridcolor\":\"white\",\"linecolor\":\"white\",\"minorgridcolor\":\"white\",\"startlinecolor\":\"#2a3f5f\"},\"type\":\"carpet\"}],\"table\":[{\"cells\":{\"fill\":{\"color\":\"#EBF0F8\"},\"line\":{\"color\":\"white\"}},\"header\":{\"fill\":{\"color\":\"#C8D4E3\"},\"line\":{\"color\":\"white\"}},\"type\":\"table\"}],\"barpolar\":[{\"marker\":{\"line\":{\"color\":\"#E5ECF6\",\"width\":0.5},\"pattern\":{\"fillmode\":\"overlay\",\"size\":10,\"solidity\":0.2}},\"type\":\"barpolar\"}],\"pie\":[{\"automargin\":true,\"type\":\"pie\"}]},\"layout\":{\"autotypenumbers\":\"strict\",\"colorway\":[\"#636efa\",\"#EF553B\",\"#00cc96\",\"#ab63fa\",\"#FFA15A\",\"#19d3f3\",\"#FF6692\",\"#B6E880\",\"#FF97FF\",\"#FECB52\"],\"font\":{\"color\":\"#2a3f5f\"},\"hovermode\":\"closest\",\"hoverlabel\":{\"align\":\"left\"},\"paper_bgcolor\":\"white\",\"plot_bgcolor\":\"#E5ECF6\",\"polar\":{\"bgcolor\":\"#E5ECF6\",\"angularaxis\":{\"gridcolor\":\"white\",\"linecolor\":\"white\",\"ticks\":\"\"},\"radialaxis\":{\"gridcolor\":\"white\",\"linecolor\":\"white\",\"ticks\":\"\"}},\"ternary\":{\"bgcolor\":\"#E5ECF6\",\"aaxis\":{\"gridcolor\":\"white\",\"linecolor\":\"white\",\"ticks\":\"\"},\"baxis\":{\"gridcolor\":\"white\",\"linecolor\":\"white\",\"ticks\":\"\"},\"caxis\":{\"gridcolor\":\"white\",\"linecolor\":\"white\",\"ticks\":\"\"}},\"coloraxis\":{\"colorbar\":{\"outlinewidth\":0,\"ticks\":\"\"}},\"colorscale\":{\"sequential\":[[0.0,\"#0d0887\"],[0.1111111111111111,\"#46039f\"],[0.2222222222222222,\"#7201a8\"],[0.3333333333333333,\"#9c179e\"],[0.4444444444444444,\"#bd3786\"],[0.5555555555555556,\"#d8576b\"],[0.6666666666666666,\"#ed7953\"],[0.7777777777777778,\"#fb9f3a\"],[0.8888888888888888,\"#fdca26\"],[1.0,\"#f0f921\"]],\"sequentialminus\":[[0.0,\"#0d0887\"],[0.1111111111111111,\"#46039f\"],[0.2222222222222222,\"#7201a8\"],[0.3333333333333333,\"#9c179e\"],[0.4444444444444444,\"#bd3786\"],[0.5555555555555556,\"#d8576b\"],[0.6666666666666666,\"#ed7953\"],[0.7777777777777778,\"#fb9f3a\"],[0.8888888888888888,\"#fdca26\"],[1.0,\"#f0f921\"]],\"diverging\":[[0,\"#8e0152\"],[0.1,\"#c51b7d\"],[0.2,\"#de77ae\"],[0.3,\"#f1b6da\"],[0.4,\"#fde0ef\"],[0.5,\"#f7f7f7\"],[0.6,\"#e6f5d0\"],[0.7,\"#b8e186\"],[0.8,\"#7fbc41\"],[0.9,\"#4d9221\"],[1,\"#276419\"]]},\"xaxis\":{\"gridcolor\":\"white\",\"linecolor\":\"white\",\"ticks\":\"\",\"title\":{\"standoff\":15},\"zerolinecolor\":\"white\",\"automargin\":true,\"zerolinewidth\":2},\"yaxis\":{\"gridcolor\":\"white\",\"linecolor\":\"white\",\"ticks\":\"\",\"title\":{\"standoff\":15},\"zerolinecolor\":\"white\",\"automargin\":true,\"zerolinewidth\":2},\"scene\":{\"xaxis\":{\"backgroundcolor\":\"#E5ECF6\",\"gridcolor\":\"white\",\"linecolor\":\"white\",\"showbackground\":true,\"ticks\":\"\",\"zerolinecolor\":\"white\",\"gridwidth\":2},\"yaxis\":{\"backgroundcolor\":\"#E5ECF6\",\"gridcolor\":\"white\",\"linecolor\":\"white\",\"showbackground\":true,\"ticks\":\"\",\"zerolinecolor\":\"white\",\"gridwidth\":2},\"zaxis\":{\"backgroundcolor\":\"#E5ECF6\",\"gridcolor\":\"white\",\"linecolor\":\"white\",\"showbackground\":true,\"ticks\":\"\",\"zerolinecolor\":\"white\",\"gridwidth\":2}},\"shapedefaults\":{\"line\":{\"color\":\"#2a3f5f\"}},\"annotationdefaults\":{\"arrowcolor\":\"#2a3f5f\",\"arrowhead\":0,\"arrowwidth\":1},\"geo\":{\"bgcolor\":\"white\",\"landcolor\":\"#E5ECF6\",\"subunitcolor\":\"white\",\"showland\":true,\"showlakes\":true,\"lakecolor\":\"white\"},\"title\":{\"x\":0.05},\"mapbox\":{\"style\":\"light\"}}},\"xaxis\":{\"anchor\":\"y\",\"domain\":[0.0,1.0],\"title\":{\"text\":\"year\"},\"showgrid\":true,\"ticklabelmode\":\"period\",\"dtick\":\"M1\",\"tickformat\":\"%b\\n%Y\"},\"yaxis\":{\"anchor\":\"x\",\"domain\":[0.0,1.0],\"title\":{\"text\":\"avg of rating\"}},\"legend\":{\"tracegroupgap\":0},\"title\":{\"text\":\"Year vs Price Average\"},\"barmode\":\"relative\",\"bargap\":0.1},                        {\"responsive\": true}                    ).then(function(){\n",
       "                            \n",
       "var gd = document.getElementById('770cbec4-520b-4a53-b158-9fff0c743d47');\n",
       "var x = new MutationObserver(function (mutations, observer) {{\n",
       "        var display = window.getComputedStyle(gd).display;\n",
       "        if (!display || display === 'none') {{\n",
       "            console.log([gd, 'removed!']);\n",
       "            Plotly.purge(gd);\n",
       "            observer.disconnect();\n",
       "        }}\n",
       "}});\n",
       "\n",
       "// Listen for the removal of the full notebook cells\n",
       "var notebookContainer = gd.closest('#notebook-container');\n",
       "if (notebookContainer) {{\n",
       "    x.observe(notebookContainer, {childList: true});\n",
       "}}\n",
       "\n",
       "// Listen for the clearing of the current output cell\n",
       "var outputEl = gd.closest('.output');\n",
       "if (outputEl) {{\n",
       "    x.observe(outputEl, {childList: true});\n",
       "}}\n",
       "\n",
       "                        })                };                });            </script>        </div>"
      ]
     },
     "metadata": {},
     "output_type": "display_data"
    }
   ],
   "source": [
    "years_rating = df.groupby(['year'], as_index=False)['rating'].mean()\n",
    "fig = px.histogram(years_rating, x=\"year\", y=\"rating\", histfunc=\"avg\", title=\"Year vs Price Average\")\n",
    "fig.update_traces(xbins_size=\"M1\")\n",
    "fig.update_xaxes(showgrid=True, ticklabelmode=\"period\", dtick=\"M1\", tickformat=\"%b\\n%Y\")\n",
    "fig.update_layout(bargap=0.1)\n",
    "fig.add_trace(go.Scatter(mode=\"markers+lines\", x=years_rating[\"year\"], y=years_rating[\"rating\"], xperiodalignment=\"start\", name=\"Yearly\"))\n",
    "fig.show()"
   ]
  },
  {
   "cell_type": "code",
   "execution_count": null,
   "metadata": {},
   "outputs": [],
   "source": []
  }
 ],
 "metadata": {
  "kernelspec": {
   "display_name": "Python 3.8.1 ('amazon': venv)",
   "language": "python",
   "name": "python3"
  },
  "language_info": {
   "codemirror_mode": {
    "name": "ipython",
    "version": 3
   },
   "file_extension": ".py",
   "mimetype": "text/x-python",
   "name": "python",
   "nbconvert_exporter": "python",
   "pygments_lexer": "ipython3",
   "version": "3.8.1"
  },
  "orig_nbformat": 4,
  "vscode": {
   "interpreter": {
    "hash": "068ca86f70c17df1f05f00018a7e7387a9394f71473b5c07cdbc37bd01ece31e"
   }
  }
 },
 "nbformat": 4,
 "nbformat_minor": 2
}
